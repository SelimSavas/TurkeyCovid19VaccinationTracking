{
 "cells": [
  {
   "cell_type": "markdown",
   "metadata": {},
   "source": [
    "# Türkiye'nin Covid-19 Aşılamalarına Python ile Farklı Bir Bakış"
   ]
  },
  {
   "cell_type": "markdown",
   "metadata": {},
   "source": [
    "### İçeriğin yayınlandığı platformlar\n",
    "\n",
    "Medium:\n",
    "\n",
    "GitHub:"
   ]
  },
  {
   "cell_type": "markdown",
   "metadata": {},
   "source": [
    "### İçerik\n",
    "\n",
    "1. Araştırma Hakkında\n",
    "2. Verilerin Kaynakları\n",
    "3. Verilerin İşlenmesi\n",
    "4. Görselleştirme\n",
    "5. Çıkarım"
   ]
  },
  {
   "cell_type": "markdown",
   "metadata": {},
   "source": [
    "## 1. Araştırma Hakkında"
   ]
  },
  {
   "cell_type": "markdown",
   "metadata": {},
   "source": [
    "Araştırma sorumuz: \"Yaşlı başına düşen vaka sayısı yüksek olduğu halde diğer illerimize göre aşılama oranı düşük ilimiz var mı?\" \n",
    "Araştırmanın yapıldığı tarih: 18.05.2021\n",
    "Türkiye'de COVID-19 aşılaması, Sağlık Bakanlığı tarafından CoronoVac aşısına acil kullanım onayı verilmesinin ardından 14 Ocak 2021'de başladı. Sürecin devamında Türkiye Biontech aşılarını da envanterine kattı ve iki çeşit aşı ile vatandaşlarına aşılama imkanı sundu.\n",
    "\n",
    "\n",
    "Süreç devam ederken, Sağlık Bakanlığının yayınladığı verileri analiz ederek, daha performanslı bir aşılama çalışması sürdürülebilmesi için \"Yaşlı başına düşen vaka sayısı yüksek olduğu halde diğer illerimize göre aşılama oranı düşük ilimiz var mı?\" sorusuna cevap aradım.\n",
    "Araştırma sürecinde veri paletimi 2 ana konuda çıkarım yapabilecek şekilde düzenledim. Bu ana konular; Aşılama Oranı ve Yaşlı Başına Düşen Vaka Sayısı. Bu iki ana konu ile birlikte aşılama oranı artmasının gerektiği şehirleri tespit ediyor olacağım.\n",
    "Yaşlı olarak tanımladığımız kişiler 50 yaş ve üstüdür.\n",
    "\n",
    "Bu süreçte belirtilen kaynaklardan verileri Excel yardımı ile elde ettim. Elde edilen verileri Python ve Python kütüphaneleri sayesinde kolayca düzenleyip görselleştirmiş oldum."
   ]
  },
  {
   "cell_type": "markdown",
   "metadata": {},
   "source": [
    "## 2. Verilerin kaynakları\n",
    "\n",
    "\n",
    "### Aşılama hakkında veri\n",
    "\n",
    "https://covid19asi.saglik.gov.tr/\n",
    "\n",
    "\n",
    "### Nüfus hakkında veri\n",
    "\n",
    "\n",
    "https://data.tuik.gov.tr/Bulten/Index?p=Adrese-Dayali-Nufus-Kayit-Sistemi-Sonuclari-2020-37210\n",
    "\n",
    "\n",
    "### Covid19 vaka sayıları hakkında veri\n",
    "\n",
    "https://covid19.saglik.gov.tr/\n"
   ]
  },
  {
   "cell_type": "markdown",
   "metadata": {},
   "source": [
    "## 3. Verilerin İşlenmesi"
   ]
  },
  {
   "cell_type": "code",
   "execution_count": 1,
   "metadata": {},
   "outputs": [],
   "source": [
    "# Python Kütüphaneleri"
   ]
  },
  {
   "cell_type": "code",
   "execution_count": 2,
   "metadata": {},
   "outputs": [],
   "source": [
    "import numpy as np\n",
    "import pandas as pd"
   ]
  },
  {
   "cell_type": "code",
   "execution_count": 3,
   "metadata": {},
   "outputs": [],
   "source": [
    "# Aşı verilerini barındıran DataFrame'miz: asi_veri"
   ]
  },
  {
   "cell_type": "code",
   "execution_count": 4,
   "metadata": {},
   "outputs": [],
   "source": [
    "asi_veri = pd.read_excel('data/illerinAsiMiktari.xlsx', index_col=0)  "
   ]
  },
  {
   "cell_type": "code",
   "execution_count": 5,
   "metadata": {},
   "outputs": [
    {
     "data": {
      "text/html": [
       "<div>\n",
       "<style scoped>\n",
       "    .dataframe tbody tr th:only-of-type {\n",
       "        vertical-align: middle;\n",
       "    }\n",
       "\n",
       "    .dataframe tbody tr th {\n",
       "        vertical-align: top;\n",
       "    }\n",
       "\n",
       "    .dataframe thead th {\n",
       "        text-align: right;\n",
       "    }\n",
       "</style>\n",
       "<table border=\"1\" class=\"dataframe\">\n",
       "  <thead>\n",
       "    <tr style=\"text-align: right;\">\n",
       "      <th></th>\n",
       "      <th>1. Doz Aşı</th>\n",
       "      <th>2. Doz Aşı</th>\n",
       "      <th>Toplam Aşı</th>\n",
       "    </tr>\n",
       "    <tr>\n",
       "      <th>İl</th>\n",
       "      <th></th>\n",
       "      <th></th>\n",
       "      <th></th>\n",
       "    </tr>\n",
       "  </thead>\n",
       "  <tbody>\n",
       "    <tr>\n",
       "      <th>Adana</th>\n",
       "      <td>364243</td>\n",
       "      <td>267080</td>\n",
       "      <td>631323</td>\n",
       "    </tr>\n",
       "    <tr>\n",
       "      <th>Adıyaman</th>\n",
       "      <td>80705</td>\n",
       "      <td>59970</td>\n",
       "      <td>140675</td>\n",
       "    </tr>\n",
       "    <tr>\n",
       "      <th>Afyonkarahisar</th>\n",
       "      <td>138617</td>\n",
       "      <td>108768</td>\n",
       "      <td>247385</td>\n",
       "    </tr>\n",
       "    <tr>\n",
       "      <th>Ağrı</th>\n",
       "      <td>45533</td>\n",
       "      <td>23414</td>\n",
       "      <td>68947</td>\n",
       "    </tr>\n",
       "    <tr>\n",
       "      <th>Amasya</th>\n",
       "      <td>87599</td>\n",
       "      <td>70007</td>\n",
       "      <td>157606</td>\n",
       "    </tr>\n",
       "    <tr>\n",
       "      <th>...</th>\n",
       "      <td>...</td>\n",
       "      <td>...</td>\n",
       "      <td>...</td>\n",
       "    </tr>\n",
       "    <tr>\n",
       "      <th>Karabük</th>\n",
       "      <td>57291</td>\n",
       "      <td>43403</td>\n",
       "      <td>100694</td>\n",
       "    </tr>\n",
       "    <tr>\n",
       "      <th>Kilis</th>\n",
       "      <td>18793</td>\n",
       "      <td>13078</td>\n",
       "      <td>31871</td>\n",
       "    </tr>\n",
       "    <tr>\n",
       "      <th>Osmaniye</th>\n",
       "      <td>96669</td>\n",
       "      <td>74676</td>\n",
       "      <td>171345</td>\n",
       "    </tr>\n",
       "    <tr>\n",
       "      <th>Düzce</th>\n",
       "      <td>74577</td>\n",
       "      <td>56623</td>\n",
       "      <td>131200</td>\n",
       "    </tr>\n",
       "    <tr>\n",
       "      <th>Türkiye</th>\n",
       "      <td>15045152</td>\n",
       "      <td>11188810</td>\n",
       "      <td>26233965</td>\n",
       "    </tr>\n",
       "  </tbody>\n",
       "</table>\n",
       "<p>82 rows × 3 columns</p>\n",
       "</div>"
      ],
      "text/plain": [
       "                1. Doz Aşı  2. Doz Aşı  Toplam Aşı\n",
       "İl                                                \n",
       "Adana               364243      267080      631323\n",
       "Adıyaman             80705       59970      140675\n",
       "Afyonkarahisar      138617      108768      247385\n",
       "Ağrı                 45533       23414       68947\n",
       "Amasya               87599       70007      157606\n",
       "...                    ...         ...         ...\n",
       "Karabük              57291       43403      100694\n",
       "Kilis                18793       13078       31871\n",
       "Osmaniye             96669       74676      171345\n",
       "Düzce                74577       56623      131200\n",
       "Türkiye           15045152    11188810    26233965\n",
       "\n",
       "[82 rows x 3 columns]"
      ]
     },
     "execution_count": 5,
     "metadata": {},
     "output_type": "execute_result"
    }
   ],
   "source": [
    "asi_veri"
   ]
  },
  {
   "cell_type": "code",
   "execution_count": 6,
   "metadata": {},
   "outputs": [],
   "source": [
    "# Nufus verilerini barındıran DataFrame'miz: nufus_veri"
   ]
  },
  {
   "cell_type": "code",
   "execution_count": 7,
   "metadata": {},
   "outputs": [],
   "source": [
    "nufus_veri = pd.read_excel('data/yasaGoreilNufusu.xlsx', index_col=0)  "
   ]
  },
  {
   "cell_type": "code",
   "execution_count": 8,
   "metadata": {},
   "outputs": [
    {
     "data": {
      "text/html": [
       "<div>\n",
       "<style scoped>\n",
       "    .dataframe tbody tr th:only-of-type {\n",
       "        vertical-align: middle;\n",
       "    }\n",
       "\n",
       "    .dataframe tbody tr th {\n",
       "        vertical-align: top;\n",
       "    }\n",
       "\n",
       "    .dataframe thead th {\n",
       "        text-align: right;\n",
       "    }\n",
       "</style>\n",
       "<table border=\"1\" class=\"dataframe\">\n",
       "  <thead>\n",
       "    <tr style=\"text-align: right;\">\n",
       "      <th></th>\n",
       "      <th>ToplamNufus</th>\n",
       "      <th>0</th>\n",
       "      <th>1</th>\n",
       "      <th>2</th>\n",
       "      <th>3</th>\n",
       "      <th>4</th>\n",
       "      <th>5</th>\n",
       "      <th>6</th>\n",
       "      <th>7</th>\n",
       "      <th>8</th>\n",
       "      <th>...</th>\n",
       "      <th>66</th>\n",
       "      <th>67</th>\n",
       "      <th>68</th>\n",
       "      <th>69</th>\n",
       "      <th>70</th>\n",
       "      <th>71</th>\n",
       "      <th>72</th>\n",
       "      <th>73</th>\n",
       "      <th>74</th>\n",
       "      <th>75+</th>\n",
       "    </tr>\n",
       "    <tr>\n",
       "      <th>İl</th>\n",
       "      <th></th>\n",
       "      <th></th>\n",
       "      <th></th>\n",
       "      <th></th>\n",
       "      <th></th>\n",
       "      <th></th>\n",
       "      <th></th>\n",
       "      <th></th>\n",
       "      <th></th>\n",
       "      <th></th>\n",
       "      <th></th>\n",
       "      <th></th>\n",
       "      <th></th>\n",
       "      <th></th>\n",
       "      <th></th>\n",
       "      <th></th>\n",
       "      <th></th>\n",
       "      <th></th>\n",
       "      <th></th>\n",
       "      <th></th>\n",
       "      <th></th>\n",
       "    </tr>\n",
       "  </thead>\n",
       "  <tbody>\n",
       "    <tr>\n",
       "      <th>Adana</th>\n",
       "      <td>2258718</td>\n",
       "      <td>29877</td>\n",
       "      <td>32998</td>\n",
       "      <td>35137</td>\n",
       "      <td>37131</td>\n",
       "      <td>37846</td>\n",
       "      <td>39282</td>\n",
       "      <td>39636</td>\n",
       "      <td>38391</td>\n",
       "      <td>38154</td>\n",
       "      <td>...</td>\n",
       "      <td>17968</td>\n",
       "      <td>15338</td>\n",
       "      <td>13958</td>\n",
       "      <td>11633</td>\n",
       "      <td>13000</td>\n",
       "      <td>13200</td>\n",
       "      <td>10619</td>\n",
       "      <td>9273</td>\n",
       "      <td>7907</td>\n",
       "      <td>62987</td>\n",
       "    </tr>\n",
       "    <tr>\n",
       "      <th>Adıyaman</th>\n",
       "      <td>632459</td>\n",
       "      <td>10385</td>\n",
       "      <td>11446</td>\n",
       "      <td>12169</td>\n",
       "      <td>12478</td>\n",
       "      <td>12564</td>\n",
       "      <td>12828</td>\n",
       "      <td>12923</td>\n",
       "      <td>12269</td>\n",
       "      <td>12225</td>\n",
       "      <td>...</td>\n",
       "      <td>3792</td>\n",
       "      <td>3419</td>\n",
       "      <td>3274</td>\n",
       "      <td>2765</td>\n",
       "      <td>3419</td>\n",
       "      <td>3294</td>\n",
       "      <td>2726</td>\n",
       "      <td>2417</td>\n",
       "      <td>2016</td>\n",
       "      <td>19184</td>\n",
       "    </tr>\n",
       "    <tr>\n",
       "      <th>Afyonkarahisar</th>\n",
       "      <td>736912</td>\n",
       "      <td>9041</td>\n",
       "      <td>9657</td>\n",
       "      <td>10026</td>\n",
       "      <td>10554</td>\n",
       "      <td>10780</td>\n",
       "      <td>11076</td>\n",
       "      <td>11274</td>\n",
       "      <td>10740</td>\n",
       "      <td>11004</td>\n",
       "      <td>...</td>\n",
       "      <td>6890</td>\n",
       "      <td>6102</td>\n",
       "      <td>5453</td>\n",
       "      <td>4209</td>\n",
       "      <td>5674</td>\n",
       "      <td>5461</td>\n",
       "      <td>4396</td>\n",
       "      <td>3720</td>\n",
       "      <td>3395</td>\n",
       "      <td>31379</td>\n",
       "    </tr>\n",
       "    <tr>\n",
       "      <th>Ağrı</th>\n",
       "      <td>535435</td>\n",
       "      <td>11359</td>\n",
       "      <td>12389</td>\n",
       "      <td>12347</td>\n",
       "      <td>13099</td>\n",
       "      <td>13012</td>\n",
       "      <td>12947</td>\n",
       "      <td>13056</td>\n",
       "      <td>12520</td>\n",
       "      <td>12534</td>\n",
       "      <td>...</td>\n",
       "      <td>2629</td>\n",
       "      <td>2150</td>\n",
       "      <td>1664</td>\n",
       "      <td>1209</td>\n",
       "      <td>1632</td>\n",
       "      <td>1773</td>\n",
       "      <td>1289</td>\n",
       "      <td>1287</td>\n",
       "      <td>1086</td>\n",
       "      <td>8990</td>\n",
       "    </tr>\n",
       "    <tr>\n",
       "      <th>Amasya</th>\n",
       "      <td>335494</td>\n",
       "      <td>3162</td>\n",
       "      <td>3563</td>\n",
       "      <td>3736</td>\n",
       "      <td>3895</td>\n",
       "      <td>3936</td>\n",
       "      <td>4151</td>\n",
       "      <td>4235</td>\n",
       "      <td>4262</td>\n",
       "      <td>4252</td>\n",
       "      <td>...</td>\n",
       "      <td>3706</td>\n",
       "      <td>3102</td>\n",
       "      <td>3111</td>\n",
       "      <td>2387</td>\n",
       "      <td>3484</td>\n",
       "      <td>3078</td>\n",
       "      <td>2700</td>\n",
       "      <td>2680</td>\n",
       "      <td>2149</td>\n",
       "      <td>20254</td>\n",
       "    </tr>\n",
       "    <tr>\n",
       "      <th>...</th>\n",
       "      <td>...</td>\n",
       "      <td>...</td>\n",
       "      <td>...</td>\n",
       "      <td>...</td>\n",
       "      <td>...</td>\n",
       "      <td>...</td>\n",
       "      <td>...</td>\n",
       "      <td>...</td>\n",
       "      <td>...</td>\n",
       "      <td>...</td>\n",
       "      <td>...</td>\n",
       "      <td>...</td>\n",
       "      <td>...</td>\n",
       "      <td>...</td>\n",
       "      <td>...</td>\n",
       "      <td>...</td>\n",
       "      <td>...</td>\n",
       "      <td>...</td>\n",
       "      <td>...</td>\n",
       "      <td>...</td>\n",
       "      <td>...</td>\n",
       "    </tr>\n",
       "    <tr>\n",
       "      <th>Karabük</th>\n",
       "      <td>243614</td>\n",
       "      <td>2183</td>\n",
       "      <td>2375</td>\n",
       "      <td>2546</td>\n",
       "      <td>2576</td>\n",
       "      <td>2530</td>\n",
       "      <td>2705</td>\n",
       "      <td>2640</td>\n",
       "      <td>2713</td>\n",
       "      <td>2632</td>\n",
       "      <td>...</td>\n",
       "      <td>2587</td>\n",
       "      <td>2264</td>\n",
       "      <td>2250</td>\n",
       "      <td>1662</td>\n",
       "      <td>2333</td>\n",
       "      <td>2140</td>\n",
       "      <td>1770</td>\n",
       "      <td>1432</td>\n",
       "      <td>1386</td>\n",
       "      <td>13146</td>\n",
       "    </tr>\n",
       "    <tr>\n",
       "      <th>Kilis</th>\n",
       "      <td>142792</td>\n",
       "      <td>2525</td>\n",
       "      <td>2627</td>\n",
       "      <td>2826</td>\n",
       "      <td>2899</td>\n",
       "      <td>2951</td>\n",
       "      <td>3026</td>\n",
       "      <td>2943</td>\n",
       "      <td>2713</td>\n",
       "      <td>2586</td>\n",
       "      <td>...</td>\n",
       "      <td>915</td>\n",
       "      <td>753</td>\n",
       "      <td>680</td>\n",
       "      <td>558</td>\n",
       "      <td>790</td>\n",
       "      <td>809</td>\n",
       "      <td>661</td>\n",
       "      <td>563</td>\n",
       "      <td>445</td>\n",
       "      <td>4574</td>\n",
       "    </tr>\n",
       "    <tr>\n",
       "      <th>Osmaniye</th>\n",
       "      <td>548556</td>\n",
       "      <td>7446</td>\n",
       "      <td>8203</td>\n",
       "      <td>8654</td>\n",
       "      <td>9180</td>\n",
       "      <td>9391</td>\n",
       "      <td>9584</td>\n",
       "      <td>10042</td>\n",
       "      <td>9822</td>\n",
       "      <td>9773</td>\n",
       "      <td>...</td>\n",
       "      <td>4378</td>\n",
       "      <td>3608</td>\n",
       "      <td>3305</td>\n",
       "      <td>2773</td>\n",
       "      <td>3344</td>\n",
       "      <td>3106</td>\n",
       "      <td>2574</td>\n",
       "      <td>2256</td>\n",
       "      <td>1990</td>\n",
       "      <td>16022</td>\n",
       "    </tr>\n",
       "    <tr>\n",
       "      <th>Düzce</th>\n",
       "      <td>395679</td>\n",
       "      <td>4726</td>\n",
       "      <td>5160</td>\n",
       "      <td>5308</td>\n",
       "      <td>5543</td>\n",
       "      <td>5620</td>\n",
       "      <td>5460</td>\n",
       "      <td>5643</td>\n",
       "      <td>5539</td>\n",
       "      <td>5260</td>\n",
       "      <td>...</td>\n",
       "      <td>3408</td>\n",
       "      <td>2760</td>\n",
       "      <td>2554</td>\n",
       "      <td>1840</td>\n",
       "      <td>3059</td>\n",
       "      <td>2761</td>\n",
       "      <td>2307</td>\n",
       "      <td>1825</td>\n",
       "      <td>1533</td>\n",
       "      <td>14769</td>\n",
       "    </tr>\n",
       "    <tr>\n",
       "      <th>Türkiye</th>\n",
       "      <td>83614362</td>\n",
       "      <td>1081967</td>\n",
       "      <td>1179294</td>\n",
       "      <td>1250730</td>\n",
       "      <td>1294378</td>\n",
       "      <td>1315338</td>\n",
       "      <td>1333047</td>\n",
       "      <td>1349141</td>\n",
       "      <td>1296952</td>\n",
       "      <td>1295131</td>\n",
       "      <td>...</td>\n",
       "      <td>647429</td>\n",
       "      <td>554197</td>\n",
       "      <td>513530</td>\n",
       "      <td>421810</td>\n",
       "      <td>528810</td>\n",
       "      <td>499685</td>\n",
       "      <td>416183</td>\n",
       "      <td>370612</td>\n",
       "      <td>316415</td>\n",
       "      <td>2883135</td>\n",
       "    </tr>\n",
       "  </tbody>\n",
       "</table>\n",
       "<p>82 rows × 77 columns</p>\n",
       "</div>"
      ],
      "text/plain": [
       "                ToplamNufus        0        1        2        3        4  \\\n",
       "İl                                                                         \n",
       "Adana               2258718    29877    32998    35137    37131    37846   \n",
       "Adıyaman             632459    10385    11446    12169    12478    12564   \n",
       "Afyonkarahisar       736912     9041     9657    10026    10554    10780   \n",
       "Ağrı                 535435    11359    12389    12347    13099    13012   \n",
       "Amasya               335494     3162     3563     3736     3895     3936   \n",
       "...                     ...      ...      ...      ...      ...      ...   \n",
       "Karabük              243614     2183     2375     2546     2576     2530   \n",
       "Kilis                142792     2525     2627     2826     2899     2951   \n",
       "Osmaniye             548556     7446     8203     8654     9180     9391   \n",
       "Düzce                395679     4726     5160     5308     5543     5620   \n",
       "Türkiye            83614362  1081967  1179294  1250730  1294378  1315338   \n",
       "\n",
       "                      5        6        7        8  ...      66      67  \\\n",
       "İl                                                  ...                   \n",
       "Adana             39282    39636    38391    38154  ...   17968   15338   \n",
       "Adıyaman          12828    12923    12269    12225  ...    3792    3419   \n",
       "Afyonkarahisar    11076    11274    10740    11004  ...    6890    6102   \n",
       "Ağrı              12947    13056    12520    12534  ...    2629    2150   \n",
       "Amasya             4151     4235     4262     4252  ...    3706    3102   \n",
       "...                 ...      ...      ...      ...  ...     ...     ...   \n",
       "Karabük            2705     2640     2713     2632  ...    2587    2264   \n",
       "Kilis              3026     2943     2713     2586  ...     915     753   \n",
       "Osmaniye           9584    10042     9822     9773  ...    4378    3608   \n",
       "Düzce              5460     5643     5539     5260  ...    3408    2760   \n",
       "Türkiye         1333047  1349141  1296952  1295131  ...  647429  554197   \n",
       "\n",
       "                    68      69      70      71      72      73      74  \\\n",
       "İl                                                                       \n",
       "Adana            13958   11633   13000   13200   10619    9273    7907   \n",
       "Adıyaman          3274    2765    3419    3294    2726    2417    2016   \n",
       "Afyonkarahisar    5453    4209    5674    5461    4396    3720    3395   \n",
       "Ağrı              1664    1209    1632    1773    1289    1287    1086   \n",
       "Amasya            3111    2387    3484    3078    2700    2680    2149   \n",
       "...                ...     ...     ...     ...     ...     ...     ...   \n",
       "Karabük           2250    1662    2333    2140    1770    1432    1386   \n",
       "Kilis              680     558     790     809     661     563     445   \n",
       "Osmaniye          3305    2773    3344    3106    2574    2256    1990   \n",
       "Düzce             2554    1840    3059    2761    2307    1825    1533   \n",
       "Türkiye         513530  421810  528810  499685  416183  370612  316415   \n",
       "\n",
       "                    75+  \n",
       "İl                       \n",
       "Adana             62987  \n",
       "Adıyaman          19184  \n",
       "Afyonkarahisar    31379  \n",
       "Ağrı               8990  \n",
       "Amasya            20254  \n",
       "...                 ...  \n",
       "Karabük           13146  \n",
       "Kilis              4574  \n",
       "Osmaniye          16022  \n",
       "Düzce             14769  \n",
       "Türkiye         2883135  \n",
       "\n",
       "[82 rows x 77 columns]"
      ]
     },
     "execution_count": 8,
     "metadata": {},
     "output_type": "execute_result"
    }
   ],
   "source": [
    "nufus_veri"
   ]
  },
  {
   "cell_type": "code",
   "execution_count": 9,
   "metadata": {},
   "outputs": [],
   "source": [
    "# Vaka verilerini barındıran DataFrame'miz: vaka_veri"
   ]
  },
  {
   "cell_type": "code",
   "execution_count": 10,
   "metadata": {},
   "outputs": [],
   "source": [
    "vaka_veri = pd.read_excel('data/vakaSayilari.xlsx', index_col=0)  # 100.000'de "
   ]
  },
  {
   "cell_type": "code",
   "execution_count": 11,
   "metadata": {},
   "outputs": [
    {
     "data": {
      "text/html": [
       "<div>\n",
       "<style scoped>\n",
       "    .dataframe tbody tr th:only-of-type {\n",
       "        vertical-align: middle;\n",
       "    }\n",
       "\n",
       "    .dataframe tbody tr th {\n",
       "        vertical-align: top;\n",
       "    }\n",
       "\n",
       "    .dataframe thead th {\n",
       "        text-align: right;\n",
       "    }\n",
       "</style>\n",
       "<table border=\"1\" class=\"dataframe\">\n",
       "  <thead>\n",
       "    <tr style=\"text-align: right;\">\n",
       "      <th></th>\n",
       "      <th>VakaSayisi1_7Mayıs</th>\n",
       "      <th>VakaSayisi8_14Mayis</th>\n",
       "    </tr>\n",
       "    <tr>\n",
       "      <th>İl</th>\n",
       "      <th></th>\n",
       "      <th></th>\n",
       "    </tr>\n",
       "  </thead>\n",
       "  <tbody>\n",
       "    <tr>\n",
       "      <th>Adana</th>\n",
       "      <td>61.41</td>\n",
       "      <td>28.69</td>\n",
       "    </tr>\n",
       "    <tr>\n",
       "      <th>Adıyaman</th>\n",
       "      <td>94.55</td>\n",
       "      <td>48.38</td>\n",
       "    </tr>\n",
       "    <tr>\n",
       "      <th>Afyonkarahisar</th>\n",
       "      <td>212.64</td>\n",
       "      <td>106.25</td>\n",
       "    </tr>\n",
       "    <tr>\n",
       "      <th>Ağrı</th>\n",
       "      <td>264.27</td>\n",
       "      <td>182.84</td>\n",
       "    </tr>\n",
       "    <tr>\n",
       "      <th>Amasya</th>\n",
       "      <td>216.70</td>\n",
       "      <td>125.19</td>\n",
       "    </tr>\n",
       "    <tr>\n",
       "      <th>...</th>\n",
       "      <td>...</td>\n",
       "      <td>...</td>\n",
       "    </tr>\n",
       "    <tr>\n",
       "      <th>Karabük</th>\n",
       "      <td>222.48</td>\n",
       "      <td>134.23</td>\n",
       "    </tr>\n",
       "    <tr>\n",
       "      <th>Kilis</th>\n",
       "      <td>132.36</td>\n",
       "      <td>73.53</td>\n",
       "    </tr>\n",
       "    <tr>\n",
       "      <th>Osmaniye</th>\n",
       "      <td>79.12</td>\n",
       "      <td>35.91</td>\n",
       "    </tr>\n",
       "    <tr>\n",
       "      <th>Düzce</th>\n",
       "      <td>222.66</td>\n",
       "      <td>127.88</td>\n",
       "    </tr>\n",
       "    <tr>\n",
       "      <th>Türkiye</th>\n",
       "      <td>15288.60</td>\n",
       "      <td>8601.32</td>\n",
       "    </tr>\n",
       "  </tbody>\n",
       "</table>\n",
       "<p>82 rows × 2 columns</p>\n",
       "</div>"
      ],
      "text/plain": [
       "                VakaSayisi1_7Mayıs  VakaSayisi8_14Mayis\n",
       "İl                                                     \n",
       "Adana                        61.41                28.69\n",
       "Adıyaman                     94.55                48.38\n",
       "Afyonkarahisar              212.64               106.25\n",
       "Ağrı                        264.27               182.84\n",
       "Amasya                      216.70               125.19\n",
       "...                            ...                  ...\n",
       "Karabük                     222.48               134.23\n",
       "Kilis                       132.36                73.53\n",
       "Osmaniye                     79.12                35.91\n",
       "Düzce                       222.66               127.88\n",
       "Türkiye                   15288.60              8601.32\n",
       "\n",
       "[82 rows x 2 columns]"
      ]
     },
     "execution_count": 11,
     "metadata": {},
     "output_type": "execute_result"
    }
   ],
   "source": [
    "vaka_veri"
   ]
  },
  {
   "cell_type": "markdown",
   "metadata": {},
   "source": [
    "### Yaşlı nüfus tespiti"
   ]
  },
  {
   "cell_type": "code",
   "execution_count": 12,
   "metadata": {},
   "outputs": [
    {
     "data": {
      "text/html": [
       "<div>\n",
       "<style scoped>\n",
       "    .dataframe tbody tr th:only-of-type {\n",
       "        vertical-align: middle;\n",
       "    }\n",
       "\n",
       "    .dataframe tbody tr th {\n",
       "        vertical-align: top;\n",
       "    }\n",
       "\n",
       "    .dataframe thead th {\n",
       "        text-align: right;\n",
       "    }\n",
       "</style>\n",
       "<table border=\"1\" class=\"dataframe\">\n",
       "  <thead>\n",
       "    <tr style=\"text-align: right;\">\n",
       "      <th></th>\n",
       "      <th>50</th>\n",
       "      <th>51</th>\n",
       "      <th>52</th>\n",
       "      <th>53</th>\n",
       "      <th>54</th>\n",
       "      <th>55</th>\n",
       "      <th>56</th>\n",
       "      <th>57</th>\n",
       "      <th>58</th>\n",
       "      <th>59</th>\n",
       "      <th>...</th>\n",
       "      <th>66</th>\n",
       "      <th>67</th>\n",
       "      <th>68</th>\n",
       "      <th>69</th>\n",
       "      <th>70</th>\n",
       "      <th>71</th>\n",
       "      <th>72</th>\n",
       "      <th>73</th>\n",
       "      <th>74</th>\n",
       "      <th>75+</th>\n",
       "    </tr>\n",
       "    <tr>\n",
       "      <th>İl</th>\n",
       "      <th></th>\n",
       "      <th></th>\n",
       "      <th></th>\n",
       "      <th></th>\n",
       "      <th></th>\n",
       "      <th></th>\n",
       "      <th></th>\n",
       "      <th></th>\n",
       "      <th></th>\n",
       "      <th></th>\n",
       "      <th></th>\n",
       "      <th></th>\n",
       "      <th></th>\n",
       "      <th></th>\n",
       "      <th></th>\n",
       "      <th></th>\n",
       "      <th></th>\n",
       "      <th></th>\n",
       "      <th></th>\n",
       "      <th></th>\n",
       "      <th></th>\n",
       "    </tr>\n",
       "  </thead>\n",
       "  <tbody>\n",
       "    <tr>\n",
       "      <th>Adana</th>\n",
       "      <td>27256</td>\n",
       "      <td>26477</td>\n",
       "      <td>23963</td>\n",
       "      <td>21435</td>\n",
       "      <td>23002</td>\n",
       "      <td>30353</td>\n",
       "      <td>27787</td>\n",
       "      <td>24011</td>\n",
       "      <td>22772</td>\n",
       "      <td>19912</td>\n",
       "      <td>...</td>\n",
       "      <td>17968</td>\n",
       "      <td>15338</td>\n",
       "      <td>13958</td>\n",
       "      <td>11633</td>\n",
       "      <td>13000</td>\n",
       "      <td>13200</td>\n",
       "      <td>10619</td>\n",
       "      <td>9273</td>\n",
       "      <td>7907</td>\n",
       "      <td>62987</td>\n",
       "    </tr>\n",
       "    <tr>\n",
       "      <th>Adıyaman</th>\n",
       "      <td>6480</td>\n",
       "      <td>6135</td>\n",
       "      <td>5184</td>\n",
       "      <td>4824</td>\n",
       "      <td>4632</td>\n",
       "      <td>7193</td>\n",
       "      <td>6034</td>\n",
       "      <td>5330</td>\n",
       "      <td>4872</td>\n",
       "      <td>4082</td>\n",
       "      <td>...</td>\n",
       "      <td>3792</td>\n",
       "      <td>3419</td>\n",
       "      <td>3274</td>\n",
       "      <td>2765</td>\n",
       "      <td>3419</td>\n",
       "      <td>3294</td>\n",
       "      <td>2726</td>\n",
       "      <td>2417</td>\n",
       "      <td>2016</td>\n",
       "      <td>19184</td>\n",
       "    </tr>\n",
       "    <tr>\n",
       "      <th>Afyonkarahisar</th>\n",
       "      <td>9086</td>\n",
       "      <td>9264</td>\n",
       "      <td>8764</td>\n",
       "      <td>7517</td>\n",
       "      <td>7993</td>\n",
       "      <td>9568</td>\n",
       "      <td>9243</td>\n",
       "      <td>8615</td>\n",
       "      <td>8720</td>\n",
       "      <td>7599</td>\n",
       "      <td>...</td>\n",
       "      <td>6890</td>\n",
       "      <td>6102</td>\n",
       "      <td>5453</td>\n",
       "      <td>4209</td>\n",
       "      <td>5674</td>\n",
       "      <td>5461</td>\n",
       "      <td>4396</td>\n",
       "      <td>3720</td>\n",
       "      <td>3395</td>\n",
       "      <td>31379</td>\n",
       "    </tr>\n",
       "    <tr>\n",
       "      <th>Ağrı</th>\n",
       "      <td>3366</td>\n",
       "      <td>3033</td>\n",
       "      <td>2691</td>\n",
       "      <td>2144</td>\n",
       "      <td>2765</td>\n",
       "      <td>4534</td>\n",
       "      <td>4491</td>\n",
       "      <td>3253</td>\n",
       "      <td>3504</td>\n",
       "      <td>2538</td>\n",
       "      <td>...</td>\n",
       "      <td>2629</td>\n",
       "      <td>2150</td>\n",
       "      <td>1664</td>\n",
       "      <td>1209</td>\n",
       "      <td>1632</td>\n",
       "      <td>1773</td>\n",
       "      <td>1289</td>\n",
       "      <td>1287</td>\n",
       "      <td>1086</td>\n",
       "      <td>8990</td>\n",
       "    </tr>\n",
       "    <tr>\n",
       "      <th>Amasya</th>\n",
       "      <td>4205</td>\n",
       "      <td>4195</td>\n",
       "      <td>4103</td>\n",
       "      <td>3495</td>\n",
       "      <td>4362</td>\n",
       "      <td>5134</td>\n",
       "      <td>4926</td>\n",
       "      <td>4411</td>\n",
       "      <td>4433</td>\n",
       "      <td>3969</td>\n",
       "      <td>...</td>\n",
       "      <td>3706</td>\n",
       "      <td>3102</td>\n",
       "      <td>3111</td>\n",
       "      <td>2387</td>\n",
       "      <td>3484</td>\n",
       "      <td>3078</td>\n",
       "      <td>2700</td>\n",
       "      <td>2680</td>\n",
       "      <td>2149</td>\n",
       "      <td>20254</td>\n",
       "    </tr>\n",
       "    <tr>\n",
       "      <th>...</th>\n",
       "      <td>...</td>\n",
       "      <td>...</td>\n",
       "      <td>...</td>\n",
       "      <td>...</td>\n",
       "      <td>...</td>\n",
       "      <td>...</td>\n",
       "      <td>...</td>\n",
       "      <td>...</td>\n",
       "      <td>...</td>\n",
       "      <td>...</td>\n",
       "      <td>...</td>\n",
       "      <td>...</td>\n",
       "      <td>...</td>\n",
       "      <td>...</td>\n",
       "      <td>...</td>\n",
       "      <td>...</td>\n",
       "      <td>...</td>\n",
       "      <td>...</td>\n",
       "      <td>...</td>\n",
       "      <td>...</td>\n",
       "      <td>...</td>\n",
       "    </tr>\n",
       "    <tr>\n",
       "      <th>Karabük</th>\n",
       "      <td>3115</td>\n",
       "      <td>3438</td>\n",
       "      <td>3134</td>\n",
       "      <td>2864</td>\n",
       "      <td>2969</td>\n",
       "      <td>3533</td>\n",
       "      <td>3252</td>\n",
       "      <td>3054</td>\n",
       "      <td>3117</td>\n",
       "      <td>2829</td>\n",
       "      <td>...</td>\n",
       "      <td>2587</td>\n",
       "      <td>2264</td>\n",
       "      <td>2250</td>\n",
       "      <td>1662</td>\n",
       "      <td>2333</td>\n",
       "      <td>2140</td>\n",
       "      <td>1770</td>\n",
       "      <td>1432</td>\n",
       "      <td>1386</td>\n",
       "      <td>13146</td>\n",
       "    </tr>\n",
       "    <tr>\n",
       "      <th>Kilis</th>\n",
       "      <td>1432</td>\n",
       "      <td>1328</td>\n",
       "      <td>1252</td>\n",
       "      <td>1060</td>\n",
       "      <td>1103</td>\n",
       "      <td>1856</td>\n",
       "      <td>1412</td>\n",
       "      <td>1309</td>\n",
       "      <td>1215</td>\n",
       "      <td>1023</td>\n",
       "      <td>...</td>\n",
       "      <td>915</td>\n",
       "      <td>753</td>\n",
       "      <td>680</td>\n",
       "      <td>558</td>\n",
       "      <td>790</td>\n",
       "      <td>809</td>\n",
       "      <td>661</td>\n",
       "      <td>563</td>\n",
       "      <td>445</td>\n",
       "      <td>4574</td>\n",
       "    </tr>\n",
       "    <tr>\n",
       "      <th>Osmaniye</th>\n",
       "      <td>6533</td>\n",
       "      <td>6473</td>\n",
       "      <td>5649</td>\n",
       "      <td>4904</td>\n",
       "      <td>4985</td>\n",
       "      <td>7813</td>\n",
       "      <td>6655</td>\n",
       "      <td>5879</td>\n",
       "      <td>5222</td>\n",
       "      <td>4467</td>\n",
       "      <td>...</td>\n",
       "      <td>4378</td>\n",
       "      <td>3608</td>\n",
       "      <td>3305</td>\n",
       "      <td>2773</td>\n",
       "      <td>3344</td>\n",
       "      <td>3106</td>\n",
       "      <td>2574</td>\n",
       "      <td>2256</td>\n",
       "      <td>1990</td>\n",
       "      <td>16022</td>\n",
       "    </tr>\n",
       "    <tr>\n",
       "      <th>Düzce</th>\n",
       "      <td>5095</td>\n",
       "      <td>4856</td>\n",
       "      <td>4350</td>\n",
       "      <td>3497</td>\n",
       "      <td>4596</td>\n",
       "      <td>5871</td>\n",
       "      <td>5107</td>\n",
       "      <td>4579</td>\n",
       "      <td>4250</td>\n",
       "      <td>3865</td>\n",
       "      <td>...</td>\n",
       "      <td>3408</td>\n",
       "      <td>2760</td>\n",
       "      <td>2554</td>\n",
       "      <td>1840</td>\n",
       "      <td>3059</td>\n",
       "      <td>2761</td>\n",
       "      <td>2307</td>\n",
       "      <td>1825</td>\n",
       "      <td>1533</td>\n",
       "      <td>14769</td>\n",
       "    </tr>\n",
       "    <tr>\n",
       "      <th>Türkiye</th>\n",
       "      <td>1015452</td>\n",
       "      <td>983070</td>\n",
       "      <td>909924</td>\n",
       "      <td>793081</td>\n",
       "      <td>883105</td>\n",
       "      <td>1084782</td>\n",
       "      <td>1011765</td>\n",
       "      <td>877959</td>\n",
       "      <td>856312</td>\n",
       "      <td>746769</td>\n",
       "      <td>...</td>\n",
       "      <td>647429</td>\n",
       "      <td>554197</td>\n",
       "      <td>513530</td>\n",
       "      <td>421810</td>\n",
       "      <td>528810</td>\n",
       "      <td>499685</td>\n",
       "      <td>416183</td>\n",
       "      <td>370612</td>\n",
       "      <td>316415</td>\n",
       "      <td>2883135</td>\n",
       "    </tr>\n",
       "  </tbody>\n",
       "</table>\n",
       "<p>82 rows × 26 columns</p>\n",
       "</div>"
      ],
      "text/plain": [
       "                     50      51      52      53      54       55       56  \\\n",
       "İl                                                                          \n",
       "Adana             27256   26477   23963   21435   23002    30353    27787   \n",
       "Adıyaman           6480    6135    5184    4824    4632     7193     6034   \n",
       "Afyonkarahisar     9086    9264    8764    7517    7993     9568     9243   \n",
       "Ağrı               3366    3033    2691    2144    2765     4534     4491   \n",
       "Amasya             4205    4195    4103    3495    4362     5134     4926   \n",
       "...                 ...     ...     ...     ...     ...      ...      ...   \n",
       "Karabük            3115    3438    3134    2864    2969     3533     3252   \n",
       "Kilis              1432    1328    1252    1060    1103     1856     1412   \n",
       "Osmaniye           6533    6473    5649    4904    4985     7813     6655   \n",
       "Düzce              5095    4856    4350    3497    4596     5871     5107   \n",
       "Türkiye         1015452  983070  909924  793081  883105  1084782  1011765   \n",
       "\n",
       "                    57      58      59  ...      66      67      68      69  \\\n",
       "İl                                      ...                                   \n",
       "Adana            24011   22772   19912  ...   17968   15338   13958   11633   \n",
       "Adıyaman          5330    4872    4082  ...    3792    3419    3274    2765   \n",
       "Afyonkarahisar    8615    8720    7599  ...    6890    6102    5453    4209   \n",
       "Ağrı              3253    3504    2538  ...    2629    2150    1664    1209   \n",
       "Amasya            4411    4433    3969  ...    3706    3102    3111    2387   \n",
       "...                ...     ...     ...  ...     ...     ...     ...     ...   \n",
       "Karabük           3054    3117    2829  ...    2587    2264    2250    1662   \n",
       "Kilis             1309    1215    1023  ...     915     753     680     558   \n",
       "Osmaniye          5879    5222    4467  ...    4378    3608    3305    2773   \n",
       "Düzce             4579    4250    3865  ...    3408    2760    2554    1840   \n",
       "Türkiye         877959  856312  746769  ...  647429  554197  513530  421810   \n",
       "\n",
       "                    70      71      72      73      74      75+  \n",
       "İl                                                               \n",
       "Adana            13000   13200   10619    9273    7907    62987  \n",
       "Adıyaman          3419    3294    2726    2417    2016    19184  \n",
       "Afyonkarahisar    5674    5461    4396    3720    3395    31379  \n",
       "Ağrı              1632    1773    1289    1287    1086     8990  \n",
       "Amasya            3484    3078    2700    2680    2149    20254  \n",
       "...                ...     ...     ...     ...     ...      ...  \n",
       "Karabük           2333    2140    1770    1432    1386    13146  \n",
       "Kilis              790     809     661     563     445     4574  \n",
       "Osmaniye          3344    3106    2574    2256    1990    16022  \n",
       "Düzce             3059    2761    2307    1825    1533    14769  \n",
       "Türkiye         528810  499685  416183  370612  316415  2883135  \n",
       "\n",
       "[82 rows x 26 columns]"
      ]
     },
     "execution_count": 12,
     "metadata": {},
     "output_type": "execute_result"
    }
   ],
   "source": [
    "# Analizime 50 yaş üstü ile devam edeceğim. 50 yaş kişileri bul.\n",
    "\n",
    "nufus_veri_V2 = nufus_veri.T.iloc[51:77].T\n",
    "nufus_veri_V2"
   ]
  },
  {
   "cell_type": "code",
   "execution_count": 13,
   "metadata": {},
   "outputs": [
    {
     "data": {
      "text/plain": [
       "İl\n",
       "Adana               540954\n",
       "Adıyaman            125313\n",
       "Afyonkarahisar      207563\n",
       "Ağrı                 70323\n",
       "Amasya              113547\n",
       "                    ...   \n",
       "Karabük              79143\n",
       "Kilis                29145\n",
       "Osmaniye            129343\n",
       "Düzce               107414\n",
       "Türkiye           20690168\n",
       "Length: 82, dtype: int64"
      ]
     },
     "execution_count": 13,
     "metadata": {},
     "output_type": "execute_result"
    }
   ],
   "source": [
    "yaslinufus = nufus_veri_V2.sum(axis=1)\n",
    "yaslinufus"
   ]
  },
  {
   "cell_type": "code",
   "execution_count": 14,
   "metadata": {},
   "outputs": [],
   "source": [
    "yasliNufusOrani = yaslinufus/nufus_veri['ToplamNufus']"
   ]
  },
  {
   "cell_type": "markdown",
   "metadata": {},
   "source": [
    "### Analiz yapacağımız veri paletimizi hazırlama"
   ]
  },
  {
   "cell_type": "code",
   "execution_count": 15,
   "metadata": {},
   "outputs": [],
   "source": [
    "veri_paleti = pd.DataFrame({'AsiDoz2': asi_veri['2. Doz Aşı'],\n",
    "                       'ToplamNufus': nufus_veri['ToplamNufus'],\n",
    "                           'YasliNufus': yaslinufus,\n",
    "                           'YasliNufusOrani': yasliNufusOrani})"
   ]
  },
  {
   "cell_type": "code",
   "execution_count": 16,
   "metadata": {},
   "outputs": [
    {
     "data": {
      "text/html": [
       "<div>\n",
       "<style scoped>\n",
       "    .dataframe tbody tr th:only-of-type {\n",
       "        vertical-align: middle;\n",
       "    }\n",
       "\n",
       "    .dataframe tbody tr th {\n",
       "        vertical-align: top;\n",
       "    }\n",
       "\n",
       "    .dataframe thead th {\n",
       "        text-align: right;\n",
       "    }\n",
       "</style>\n",
       "<table border=\"1\" class=\"dataframe\">\n",
       "  <thead>\n",
       "    <tr style=\"text-align: right;\">\n",
       "      <th></th>\n",
       "      <th>AsiDoz2</th>\n",
       "      <th>ToplamNufus</th>\n",
       "      <th>YasliNufus</th>\n",
       "      <th>YasliNufusOrani</th>\n",
       "    </tr>\n",
       "    <tr>\n",
       "      <th>İl</th>\n",
       "      <th></th>\n",
       "      <th></th>\n",
       "      <th></th>\n",
       "      <th></th>\n",
       "    </tr>\n",
       "  </thead>\n",
       "  <tbody>\n",
       "    <tr>\n",
       "      <th>Adana</th>\n",
       "      <td>267080</td>\n",
       "      <td>2258718</td>\n",
       "      <td>540954</td>\n",
       "      <td>0.239496</td>\n",
       "    </tr>\n",
       "    <tr>\n",
       "      <th>Adıyaman</th>\n",
       "      <td>59970</td>\n",
       "      <td>632459</td>\n",
       "      <td>125313</td>\n",
       "      <td>0.198136</td>\n",
       "    </tr>\n",
       "    <tr>\n",
       "      <th>Afyonkarahisar</th>\n",
       "      <td>108768</td>\n",
       "      <td>736912</td>\n",
       "      <td>207563</td>\n",
       "      <td>0.281666</td>\n",
       "    </tr>\n",
       "    <tr>\n",
       "      <th>Ağrı</th>\n",
       "      <td>23414</td>\n",
       "      <td>535435</td>\n",
       "      <td>70323</td>\n",
       "      <td>0.131338</td>\n",
       "    </tr>\n",
       "    <tr>\n",
       "      <th>Amasya</th>\n",
       "      <td>70007</td>\n",
       "      <td>335494</td>\n",
       "      <td>113547</td>\n",
       "      <td>0.338447</td>\n",
       "    </tr>\n",
       "    <tr>\n",
       "      <th>...</th>\n",
       "      <td>...</td>\n",
       "      <td>...</td>\n",
       "      <td>...</td>\n",
       "      <td>...</td>\n",
       "    </tr>\n",
       "    <tr>\n",
       "      <th>Karabük</th>\n",
       "      <td>43403</td>\n",
       "      <td>243614</td>\n",
       "      <td>79143</td>\n",
       "      <td>0.324870</td>\n",
       "    </tr>\n",
       "    <tr>\n",
       "      <th>Kilis</th>\n",
       "      <td>13078</td>\n",
       "      <td>142792</td>\n",
       "      <td>29145</td>\n",
       "      <td>0.204108</td>\n",
       "    </tr>\n",
       "    <tr>\n",
       "      <th>Osmaniye</th>\n",
       "      <td>74676</td>\n",
       "      <td>548556</td>\n",
       "      <td>129343</td>\n",
       "      <td>0.235788</td>\n",
       "    </tr>\n",
       "    <tr>\n",
       "      <th>Düzce</th>\n",
       "      <td>56623</td>\n",
       "      <td>395679</td>\n",
       "      <td>107414</td>\n",
       "      <td>0.271468</td>\n",
       "    </tr>\n",
       "    <tr>\n",
       "      <th>Türkiye</th>\n",
       "      <td>11188810</td>\n",
       "      <td>83614362</td>\n",
       "      <td>20690168</td>\n",
       "      <td>0.247448</td>\n",
       "    </tr>\n",
       "  </tbody>\n",
       "</table>\n",
       "<p>82 rows × 4 columns</p>\n",
       "</div>"
      ],
      "text/plain": [
       "                 AsiDoz2  ToplamNufus  YasliNufus  YasliNufusOrani\n",
       "İl                                                                \n",
       "Adana             267080      2258718      540954         0.239496\n",
       "Adıyaman           59970       632459      125313         0.198136\n",
       "Afyonkarahisar    108768       736912      207563         0.281666\n",
       "Ağrı               23414       535435       70323         0.131338\n",
       "Amasya             70007       335494      113547         0.338447\n",
       "...                  ...          ...         ...              ...\n",
       "Karabük            43403       243614       79143         0.324870\n",
       "Kilis              13078       142792       29145         0.204108\n",
       "Osmaniye           74676       548556      129343         0.235788\n",
       "Düzce              56623       395679      107414         0.271468\n",
       "Türkiye         11188810     83614362    20690168         0.247448\n",
       "\n",
       "[82 rows x 4 columns]"
      ]
     },
     "execution_count": 16,
     "metadata": {},
     "output_type": "execute_result"
    }
   ],
   "source": [
    "veri_paleti"
   ]
  },
  {
   "cell_type": "markdown",
   "metadata": {},
   "source": [
    "### Aşılanma Oranı Tespiti"
   ]
  },
  {
   "cell_type": "code",
   "execution_count": 17,
   "metadata": {
    "scrolled": false
   },
   "outputs": [
    {
     "data": {
      "text/html": [
       "<div>\n",
       "<style scoped>\n",
       "    .dataframe tbody tr th:only-of-type {\n",
       "        vertical-align: middle;\n",
       "    }\n",
       "\n",
       "    .dataframe tbody tr th {\n",
       "        vertical-align: top;\n",
       "    }\n",
       "\n",
       "    .dataframe thead th {\n",
       "        text-align: right;\n",
       "    }\n",
       "</style>\n",
       "<table border=\"1\" class=\"dataframe\">\n",
       "  <thead>\n",
       "    <tr style=\"text-align: right;\">\n",
       "      <th></th>\n",
       "      <th>AsiDoz2</th>\n",
       "      <th>ToplamNufus</th>\n",
       "      <th>YasliNufus</th>\n",
       "      <th>YasliNufusOrani</th>\n",
       "      <th>AsiOrani</th>\n",
       "    </tr>\n",
       "    <tr>\n",
       "      <th>İl</th>\n",
       "      <th></th>\n",
       "      <th></th>\n",
       "      <th></th>\n",
       "      <th></th>\n",
       "      <th></th>\n",
       "    </tr>\n",
       "  </thead>\n",
       "  <tbody>\n",
       "    <tr>\n",
       "      <th>Adana</th>\n",
       "      <td>267080</td>\n",
       "      <td>2258718</td>\n",
       "      <td>540954</td>\n",
       "      <td>0.239496</td>\n",
       "      <td>0.118244</td>\n",
       "    </tr>\n",
       "    <tr>\n",
       "      <th>Adıyaman</th>\n",
       "      <td>59970</td>\n",
       "      <td>632459</td>\n",
       "      <td>125313</td>\n",
       "      <td>0.198136</td>\n",
       "      <td>0.094820</td>\n",
       "    </tr>\n",
       "    <tr>\n",
       "      <th>Afyonkarahisar</th>\n",
       "      <td>108768</td>\n",
       "      <td>736912</td>\n",
       "      <td>207563</td>\n",
       "      <td>0.281666</td>\n",
       "      <td>0.147600</td>\n",
       "    </tr>\n",
       "    <tr>\n",
       "      <th>Ağrı</th>\n",
       "      <td>23414</td>\n",
       "      <td>535435</td>\n",
       "      <td>70323</td>\n",
       "      <td>0.131338</td>\n",
       "      <td>0.043729</td>\n",
       "    </tr>\n",
       "    <tr>\n",
       "      <th>Amasya</th>\n",
       "      <td>70007</td>\n",
       "      <td>335494</td>\n",
       "      <td>113547</td>\n",
       "      <td>0.338447</td>\n",
       "      <td>0.208668</td>\n",
       "    </tr>\n",
       "    <tr>\n",
       "      <th>...</th>\n",
       "      <td>...</td>\n",
       "      <td>...</td>\n",
       "      <td>...</td>\n",
       "      <td>...</td>\n",
       "      <td>...</td>\n",
       "    </tr>\n",
       "    <tr>\n",
       "      <th>Karabük</th>\n",
       "      <td>43403</td>\n",
       "      <td>243614</td>\n",
       "      <td>79143</td>\n",
       "      <td>0.324870</td>\n",
       "      <td>0.178163</td>\n",
       "    </tr>\n",
       "    <tr>\n",
       "      <th>Kilis</th>\n",
       "      <td>13078</td>\n",
       "      <td>142792</td>\n",
       "      <td>29145</td>\n",
       "      <td>0.204108</td>\n",
       "      <td>0.091588</td>\n",
       "    </tr>\n",
       "    <tr>\n",
       "      <th>Osmaniye</th>\n",
       "      <td>74676</td>\n",
       "      <td>548556</td>\n",
       "      <td>129343</td>\n",
       "      <td>0.235788</td>\n",
       "      <td>0.136132</td>\n",
       "    </tr>\n",
       "    <tr>\n",
       "      <th>Düzce</th>\n",
       "      <td>56623</td>\n",
       "      <td>395679</td>\n",
       "      <td>107414</td>\n",
       "      <td>0.271468</td>\n",
       "      <td>0.143103</td>\n",
       "    </tr>\n",
       "    <tr>\n",
       "      <th>Türkiye</th>\n",
       "      <td>11188810</td>\n",
       "      <td>83614362</td>\n",
       "      <td>20690168</td>\n",
       "      <td>0.247448</td>\n",
       "      <td>0.133814</td>\n",
       "    </tr>\n",
       "  </tbody>\n",
       "</table>\n",
       "<p>82 rows × 5 columns</p>\n",
       "</div>"
      ],
      "text/plain": [
       "                 AsiDoz2  ToplamNufus  YasliNufus  YasliNufusOrani  AsiOrani\n",
       "İl                                                                          \n",
       "Adana             267080      2258718      540954         0.239496  0.118244\n",
       "Adıyaman           59970       632459      125313         0.198136  0.094820\n",
       "Afyonkarahisar    108768       736912      207563         0.281666  0.147600\n",
       "Ağrı               23414       535435       70323         0.131338  0.043729\n",
       "Amasya             70007       335494      113547         0.338447  0.208668\n",
       "...                  ...          ...         ...              ...       ...\n",
       "Karabük            43403       243614       79143         0.324870  0.178163\n",
       "Kilis              13078       142792       29145         0.204108  0.091588\n",
       "Osmaniye           74676       548556      129343         0.235788  0.136132\n",
       "Düzce              56623       395679      107414         0.271468  0.143103\n",
       "Türkiye         11188810     83614362    20690168         0.247448  0.133814\n",
       "\n",
       "[82 rows x 5 columns]"
      ]
     },
     "execution_count": 17,
     "metadata": {},
     "output_type": "execute_result"
    }
   ],
   "source": [
    "veri_paleti['AsiOrani'] = veri_paleti['AsiDoz2'] / nufus_veri['ToplamNufus']\n",
    "veri_paleti"
   ]
  },
  {
   "cell_type": "markdown",
   "metadata": {},
   "source": [
    "### Vaka Sayisi ve Oranı Tespiti"
   ]
  },
  {
   "cell_type": "code",
   "execution_count": 18,
   "metadata": {},
   "outputs": [],
   "source": [
    "veri_paleti['VakaSayisi'] = vaka_veri['VakaSayisi8_14Mayis']"
   ]
  },
  {
   "cell_type": "code",
   "execution_count": 19,
   "metadata": {},
   "outputs": [
    {
     "data": {
      "text/html": [
       "<div>\n",
       "<style scoped>\n",
       "    .dataframe tbody tr th:only-of-type {\n",
       "        vertical-align: middle;\n",
       "    }\n",
       "\n",
       "    .dataframe tbody tr th {\n",
       "        vertical-align: top;\n",
       "    }\n",
       "\n",
       "    .dataframe thead th {\n",
       "        text-align: right;\n",
       "    }\n",
       "</style>\n",
       "<table border=\"1\" class=\"dataframe\">\n",
       "  <thead>\n",
       "    <tr style=\"text-align: right;\">\n",
       "      <th></th>\n",
       "      <th>AsiDoz2</th>\n",
       "      <th>ToplamNufus</th>\n",
       "      <th>YasliNufus</th>\n",
       "      <th>YasliNufusOrani</th>\n",
       "      <th>AsiOrani</th>\n",
       "      <th>VakaSayisi</th>\n",
       "      <th>ToplamVakaSayisi</th>\n",
       "    </tr>\n",
       "    <tr>\n",
       "      <th>İl</th>\n",
       "      <th></th>\n",
       "      <th></th>\n",
       "      <th></th>\n",
       "      <th></th>\n",
       "      <th></th>\n",
       "      <th></th>\n",
       "      <th></th>\n",
       "    </tr>\n",
       "  </thead>\n",
       "  <tbody>\n",
       "    <tr>\n",
       "      <th>Adana</th>\n",
       "      <td>267080</td>\n",
       "      <td>2258718</td>\n",
       "      <td>540954</td>\n",
       "      <td>0.239496</td>\n",
       "      <td>0.118244</td>\n",
       "      <td>28.69</td>\n",
       "      <td>6.480262e+02</td>\n",
       "    </tr>\n",
       "    <tr>\n",
       "      <th>Adıyaman</th>\n",
       "      <td>59970</td>\n",
       "      <td>632459</td>\n",
       "      <td>125313</td>\n",
       "      <td>0.198136</td>\n",
       "      <td>0.094820</td>\n",
       "      <td>48.38</td>\n",
       "      <td>3.059837e+02</td>\n",
       "    </tr>\n",
       "    <tr>\n",
       "      <th>Afyonkarahisar</th>\n",
       "      <td>108768</td>\n",
       "      <td>736912</td>\n",
       "      <td>207563</td>\n",
       "      <td>0.281666</td>\n",
       "      <td>0.147600</td>\n",
       "      <td>106.25</td>\n",
       "      <td>7.829690e+02</td>\n",
       "    </tr>\n",
       "    <tr>\n",
       "      <th>Ağrı</th>\n",
       "      <td>23414</td>\n",
       "      <td>535435</td>\n",
       "      <td>70323</td>\n",
       "      <td>0.131338</td>\n",
       "      <td>0.043729</td>\n",
       "      <td>182.84</td>\n",
       "      <td>9.789894e+02</td>\n",
       "    </tr>\n",
       "    <tr>\n",
       "      <th>Amasya</th>\n",
       "      <td>70007</td>\n",
       "      <td>335494</td>\n",
       "      <td>113547</td>\n",
       "      <td>0.338447</td>\n",
       "      <td>0.208668</td>\n",
       "      <td>125.19</td>\n",
       "      <td>4.200049e+02</td>\n",
       "    </tr>\n",
       "    <tr>\n",
       "      <th>...</th>\n",
       "      <td>...</td>\n",
       "      <td>...</td>\n",
       "      <td>...</td>\n",
       "      <td>...</td>\n",
       "      <td>...</td>\n",
       "      <td>...</td>\n",
       "      <td>...</td>\n",
       "    </tr>\n",
       "    <tr>\n",
       "      <th>Karabük</th>\n",
       "      <td>43403</td>\n",
       "      <td>243614</td>\n",
       "      <td>79143</td>\n",
       "      <td>0.324870</td>\n",
       "      <td>0.178163</td>\n",
       "      <td>134.23</td>\n",
       "      <td>3.270031e+02</td>\n",
       "    </tr>\n",
       "    <tr>\n",
       "      <th>Kilis</th>\n",
       "      <td>13078</td>\n",
       "      <td>142792</td>\n",
       "      <td>29145</td>\n",
       "      <td>0.204108</td>\n",
       "      <td>0.091588</td>\n",
       "      <td>73.53</td>\n",
       "      <td>1.049950e+02</td>\n",
       "    </tr>\n",
       "    <tr>\n",
       "      <th>Osmaniye</th>\n",
       "      <td>74676</td>\n",
       "      <td>548556</td>\n",
       "      <td>129343</td>\n",
       "      <td>0.235788</td>\n",
       "      <td>0.136132</td>\n",
       "      <td>35.91</td>\n",
       "      <td>1.969865e+02</td>\n",
       "    </tr>\n",
       "    <tr>\n",
       "      <th>Düzce</th>\n",
       "      <td>56623</td>\n",
       "      <td>395679</td>\n",
       "      <td>107414</td>\n",
       "      <td>0.271468</td>\n",
       "      <td>0.143103</td>\n",
       "      <td>127.88</td>\n",
       "      <td>5.059943e+02</td>\n",
       "    </tr>\n",
       "    <tr>\n",
       "      <th>Türkiye</th>\n",
       "      <td>11188810</td>\n",
       "      <td>83614362</td>\n",
       "      <td>20690168</td>\n",
       "      <td>0.247448</td>\n",
       "      <td>0.133814</td>\n",
       "      <td>8601.32</td>\n",
       "      <td>7.191939e+06</td>\n",
       "    </tr>\n",
       "  </tbody>\n",
       "</table>\n",
       "<p>82 rows × 7 columns</p>\n",
       "</div>"
      ],
      "text/plain": [
       "                 AsiDoz2  ToplamNufus  YasliNufus  YasliNufusOrani  AsiOrani  \\\n",
       "İl                                                                             \n",
       "Adana             267080      2258718      540954         0.239496  0.118244   \n",
       "Adıyaman           59970       632459      125313         0.198136  0.094820   \n",
       "Afyonkarahisar    108768       736912      207563         0.281666  0.147600   \n",
       "Ağrı               23414       535435       70323         0.131338  0.043729   \n",
       "Amasya             70007       335494      113547         0.338447  0.208668   \n",
       "...                  ...          ...         ...              ...       ...   \n",
       "Karabük            43403       243614       79143         0.324870  0.178163   \n",
       "Kilis              13078       142792       29145         0.204108  0.091588   \n",
       "Osmaniye           74676       548556      129343         0.235788  0.136132   \n",
       "Düzce              56623       395679      107414         0.271468  0.143103   \n",
       "Türkiye         11188810     83614362    20690168         0.247448  0.133814   \n",
       "\n",
       "                VakaSayisi  ToplamVakaSayisi  \n",
       "İl                                            \n",
       "Adana                28.69      6.480262e+02  \n",
       "Adıyaman             48.38      3.059837e+02  \n",
       "Afyonkarahisar      106.25      7.829690e+02  \n",
       "Ağrı                182.84      9.789894e+02  \n",
       "Amasya              125.19      4.200049e+02  \n",
       "...                    ...               ...  \n",
       "Karabük             134.23      3.270031e+02  \n",
       "Kilis                73.53      1.049950e+02  \n",
       "Osmaniye             35.91      1.969865e+02  \n",
       "Düzce               127.88      5.059943e+02  \n",
       "Türkiye            8601.32      7.191939e+06  \n",
       "\n",
       "[82 rows x 7 columns]"
      ]
     },
     "execution_count": 19,
     "metadata": {},
     "output_type": "execute_result"
    }
   ],
   "source": [
    "veri_paleti['ToplamVakaSayisi'] = veri_paleti['VakaSayisi'] * (veri_paleti['ToplamNufus'] / 100000)\n",
    "veri_paleti"
   ]
  },
  {
   "cell_type": "code",
   "execution_count": 20,
   "metadata": {},
   "outputs": [],
   "source": [
    "veri_paleti['YasliBasinaDusenVakaSayisi'] = veri_paleti['ToplamVakaSayisi'] / veri_paleti['YasliNufus']"
   ]
  },
  {
   "cell_type": "code",
   "execution_count": 21,
   "metadata": {},
   "outputs": [
    {
     "data": {
      "text/html": [
       "<div>\n",
       "<style scoped>\n",
       "    .dataframe tbody tr th:only-of-type {\n",
       "        vertical-align: middle;\n",
       "    }\n",
       "\n",
       "    .dataframe tbody tr th {\n",
       "        vertical-align: top;\n",
       "    }\n",
       "\n",
       "    .dataframe thead th {\n",
       "        text-align: right;\n",
       "    }\n",
       "</style>\n",
       "<table border=\"1\" class=\"dataframe\">\n",
       "  <thead>\n",
       "    <tr style=\"text-align: right;\">\n",
       "      <th></th>\n",
       "      <th>AsiDoz2</th>\n",
       "      <th>ToplamNufus</th>\n",
       "      <th>YasliNufus</th>\n",
       "      <th>YasliNufusOrani</th>\n",
       "      <th>AsiOrani</th>\n",
       "      <th>VakaSayisi</th>\n",
       "      <th>ToplamVakaSayisi</th>\n",
       "      <th>YasliBasinaDusenVakaSayisi</th>\n",
       "    </tr>\n",
       "    <tr>\n",
       "      <th>İl</th>\n",
       "      <th></th>\n",
       "      <th></th>\n",
       "      <th></th>\n",
       "      <th></th>\n",
       "      <th></th>\n",
       "      <th></th>\n",
       "      <th></th>\n",
       "      <th></th>\n",
       "    </tr>\n",
       "  </thead>\n",
       "  <tbody>\n",
       "    <tr>\n",
       "      <th>Adana</th>\n",
       "      <td>267080</td>\n",
       "      <td>2258718</td>\n",
       "      <td>540954</td>\n",
       "      <td>0.239496</td>\n",
       "      <td>0.118244</td>\n",
       "      <td>28.69</td>\n",
       "      <td>6.480262e+02</td>\n",
       "      <td>0.001198</td>\n",
       "    </tr>\n",
       "    <tr>\n",
       "      <th>Aydın</th>\n",
       "      <td>229723</td>\n",
       "      <td>1119084</td>\n",
       "      <td>369860</td>\n",
       "      <td>0.330502</td>\n",
       "      <td>0.205278</td>\n",
       "      <td>47.36</td>\n",
       "      <td>5.299982e+02</td>\n",
       "      <td>0.001433</td>\n",
       "    </tr>\n",
       "    <tr>\n",
       "      <th>Hatay</th>\n",
       "      <td>154987</td>\n",
       "      <td>1659320</td>\n",
       "      <td>365416</td>\n",
       "      <td>0.220220</td>\n",
       "      <td>0.093404</td>\n",
       "      <td>32.54</td>\n",
       "      <td>5.399427e+02</td>\n",
       "      <td>0.001478</td>\n",
       "    </tr>\n",
       "    <tr>\n",
       "      <th>Osmaniye</th>\n",
       "      <td>74676</td>\n",
       "      <td>548556</td>\n",
       "      <td>129343</td>\n",
       "      <td>0.235788</td>\n",
       "      <td>0.136132</td>\n",
       "      <td>35.91</td>\n",
       "      <td>1.969865e+02</td>\n",
       "      <td>0.001523</td>\n",
       "    </tr>\n",
       "    <tr>\n",
       "      <th>Mersin</th>\n",
       "      <td>268952</td>\n",
       "      <td>1868757</td>\n",
       "      <td>489360</td>\n",
       "      <td>0.261864</td>\n",
       "      <td>0.143920</td>\n",
       "      <td>47.04</td>\n",
       "      <td>8.790633e+02</td>\n",
       "      <td>0.001796</td>\n",
       "    </tr>\n",
       "    <tr>\n",
       "      <th>...</th>\n",
       "      <td>...</td>\n",
       "      <td>...</td>\n",
       "      <td>...</td>\n",
       "      <td>...</td>\n",
       "      <td>...</td>\n",
       "      <td>...</td>\n",
       "      <td>...</td>\n",
       "      <td>...</td>\n",
       "    </tr>\n",
       "    <tr>\n",
       "      <th>Hakkari</th>\n",
       "      <td>8330</td>\n",
       "      <td>280514</td>\n",
       "      <td>30833</td>\n",
       "      <td>0.109916</td>\n",
       "      <td>0.029695</td>\n",
       "      <td>78.43</td>\n",
       "      <td>2.200071e+02</td>\n",
       "      <td>0.007135</td>\n",
       "    </tr>\n",
       "    <tr>\n",
       "      <th>İstanbul</th>\n",
       "      <td>1776273</td>\n",
       "      <td>15462452</td>\n",
       "      <td>3394053</td>\n",
       "      <td>0.219503</td>\n",
       "      <td>0.114877</td>\n",
       "      <td>184.78</td>\n",
       "      <td>2.857152e+04</td>\n",
       "      <td>0.008418</td>\n",
       "    </tr>\n",
       "    <tr>\n",
       "      <th>Erzurum</th>\n",
       "      <td>83207</td>\n",
       "      <td>758279</td>\n",
       "      <td>165305</td>\n",
       "      <td>0.218000</td>\n",
       "      <td>0.109731</td>\n",
       "      <td>192.28</td>\n",
       "      <td>1.458019e+03</td>\n",
       "      <td>0.008820</td>\n",
       "    </tr>\n",
       "    <tr>\n",
       "      <th>Ağrı</th>\n",
       "      <td>23414</td>\n",
       "      <td>535435</td>\n",
       "      <td>70323</td>\n",
       "      <td>0.131338</td>\n",
       "      <td>0.043729</td>\n",
       "      <td>182.84</td>\n",
       "      <td>9.789894e+02</td>\n",
       "      <td>0.013921</td>\n",
       "    </tr>\n",
       "    <tr>\n",
       "      <th>Türkiye</th>\n",
       "      <td>11188810</td>\n",
       "      <td>83614362</td>\n",
       "      <td>20690168</td>\n",
       "      <td>0.247448</td>\n",
       "      <td>0.133814</td>\n",
       "      <td>8601.32</td>\n",
       "      <td>7.191939e+06</td>\n",
       "      <td>0.347602</td>\n",
       "    </tr>\n",
       "  </tbody>\n",
       "</table>\n",
       "<p>82 rows × 8 columns</p>\n",
       "</div>"
      ],
      "text/plain": [
       "           AsiDoz2  ToplamNufus  YasliNufus  YasliNufusOrani  AsiOrani  \\\n",
       "İl                                                                       \n",
       "Adana       267080      2258718      540954         0.239496  0.118244   \n",
       "Aydın       229723      1119084      369860         0.330502  0.205278   \n",
       "Hatay       154987      1659320      365416         0.220220  0.093404   \n",
       "Osmaniye     74676       548556      129343         0.235788  0.136132   \n",
       "Mersin      268952      1868757      489360         0.261864  0.143920   \n",
       "...            ...          ...         ...              ...       ...   \n",
       "Hakkari       8330       280514       30833         0.109916  0.029695   \n",
       "İstanbul   1776273     15462452     3394053         0.219503  0.114877   \n",
       "Erzurum      83207       758279      165305         0.218000  0.109731   \n",
       "Ağrı         23414       535435       70323         0.131338  0.043729   \n",
       "Türkiye   11188810     83614362    20690168         0.247448  0.133814   \n",
       "\n",
       "          VakaSayisi  ToplamVakaSayisi  YasliBasinaDusenVakaSayisi  \n",
       "İl                                                                  \n",
       "Adana          28.69      6.480262e+02                    0.001198  \n",
       "Aydın          47.36      5.299982e+02                    0.001433  \n",
       "Hatay          32.54      5.399427e+02                    0.001478  \n",
       "Osmaniye       35.91      1.969865e+02                    0.001523  \n",
       "Mersin         47.04      8.790633e+02                    0.001796  \n",
       "...              ...               ...                         ...  \n",
       "Hakkari        78.43      2.200071e+02                    0.007135  \n",
       "İstanbul      184.78      2.857152e+04                    0.008418  \n",
       "Erzurum       192.28      1.458019e+03                    0.008820  \n",
       "Ağrı          182.84      9.789894e+02                    0.013921  \n",
       "Türkiye      8601.32      7.191939e+06                    0.347602  \n",
       "\n",
       "[82 rows x 8 columns]"
      ]
     },
     "execution_count": 21,
     "metadata": {},
     "output_type": "execute_result"
    }
   ],
   "source": [
    "veri_paleti.sort_values('YasliBasinaDusenVakaSayisi')"
   ]
  },
  {
   "cell_type": "markdown",
   "metadata": {},
   "source": [
    "##  4. Görselleştirme"
   ]
  },
  {
   "cell_type": "code",
   "execution_count": 22,
   "metadata": {},
   "outputs": [
    {
     "name": "stderr",
     "output_type": "stream",
     "text": [
      "C:\\Users\\SLM\\Anaconda3\\lib\\site-packages\\dask\\config.py:161: YAMLLoadWarning:\n",
      "\n",
      "calling yaml.load() without Loader=... is deprecated, as the default Loader is unsafe. Please read https://msg.pyyaml.org/load for full details.\n",
      "\n"
     ]
    },
    {
     "data": {
      "text/html": [
       "        <script type=\"text/javascript\">\n",
       "        window.PlotlyConfig = {MathJaxConfig: 'local'};\n",
       "        if (window.MathJax) {MathJax.Hub.Config({SVG: {font: \"STIX-Web\"}});}\n",
       "        if (typeof require !== 'undefined') {\n",
       "        require.undef(\"plotly\");\n",
       "        requirejs.config({\n",
       "            paths: {\n",
       "                'plotly': ['https://cdn.plot.ly/plotly-latest.min']\n",
       "            }\n",
       "        });\n",
       "        require(['plotly'], function(Plotly) {\n",
       "            window._Plotly = Plotly;\n",
       "        });\n",
       "        }\n",
       "        </script>\n",
       "        "
      ]
     },
     "metadata": {},
     "output_type": "display_data"
    }
   ],
   "source": [
    "import matplotlib.pyplot as plt\n",
    "import seaborn as sns\n",
    "import plotly as p\n",
    "\n",
    "\n",
    "import plotly.figure_factory as ff \n",
    "from plotly.offline import init_notebook_mode, iplot, plot\n",
    "init_notebook_mode(connected=True)\n",
    "import plotly.graph_objs as go\n",
    "import plotly.express as px"
   ]
  },
  {
   "cell_type": "markdown",
   "metadata": {},
   "source": [
    "### Aşı oranı hakkında görselleştirme"
   ]
  },
  {
   "cell_type": "code",
   "execution_count": 25,
   "metadata": {},
   "outputs": [
    {
     "data": {
      "application/vnd.plotly.v1+json": {
       "config": {
        "plotlyServerURL": "https://plot.ly"
       },
       "data": [
        {
         "mode": "markers",
         "type": "scatter",
         "uid": "66eefd9d-a53e-4f94-9af2-b80d99b43bb9",
         "x": [
          "Şırnak",
          "Hakkari",
          "Şanlıurfa",
          "Siirt",
          "Ağrı",
          "Mardin",
          "Bitlis",
          "Van",
          "Muş",
          "Batman",
          "Diyarbakır",
          "Iğdır",
          "Gaziantep",
          "Bingöl",
          "Kilis"
         ],
         "y": [
          0.028269011198262427,
          0.02969548756924788,
          0.0379069956544267,
          0.04006705530552451,
          0.04372893068252916,
          0.04424744593525803,
          0.046579143803027974,
          0.051341550208728125,
          0.051902499775003226,
          0.05521556463392221,
          0.0556735864746099,
          0.0715350149517669,
          0.07237060343420315,
          0.07751767411487465,
          0.0915877640203933
         ]
        }
       ],
       "layout": {
        "template": {
         "data": {
          "bar": [
           {
            "error_x": {
             "color": "#2a3f5f"
            },
            "error_y": {
             "color": "#2a3f5f"
            },
            "marker": {
             "line": {
              "color": "#E5ECF6",
              "width": 0.5
             }
            },
            "type": "bar"
           }
          ],
          "barpolar": [
           {
            "marker": {
             "line": {
              "color": "#E5ECF6",
              "width": 0.5
             }
            },
            "type": "barpolar"
           }
          ],
          "carpet": [
           {
            "aaxis": {
             "endlinecolor": "#2a3f5f",
             "gridcolor": "white",
             "linecolor": "white",
             "minorgridcolor": "white",
             "startlinecolor": "#2a3f5f"
            },
            "baxis": {
             "endlinecolor": "#2a3f5f",
             "gridcolor": "white",
             "linecolor": "white",
             "minorgridcolor": "white",
             "startlinecolor": "#2a3f5f"
            },
            "type": "carpet"
           }
          ],
          "choropleth": [
           {
            "colorbar": {
             "outlinewidth": 0,
             "ticks": ""
            },
            "type": "choropleth"
           }
          ],
          "contour": [
           {
            "colorbar": {
             "outlinewidth": 0,
             "ticks": ""
            },
            "colorscale": [
             [
              0,
              "#0d0887"
             ],
             [
              0.1111111111111111,
              "#46039f"
             ],
             [
              0.2222222222222222,
              "#7201a8"
             ],
             [
              0.3333333333333333,
              "#9c179e"
             ],
             [
              0.4444444444444444,
              "#bd3786"
             ],
             [
              0.5555555555555556,
              "#d8576b"
             ],
             [
              0.6666666666666666,
              "#ed7953"
             ],
             [
              0.7777777777777778,
              "#fb9f3a"
             ],
             [
              0.8888888888888888,
              "#fdca26"
             ],
             [
              1,
              "#f0f921"
             ]
            ],
            "type": "contour"
           }
          ],
          "contourcarpet": [
           {
            "colorbar": {
             "outlinewidth": 0,
             "ticks": ""
            },
            "type": "contourcarpet"
           }
          ],
          "heatmap": [
           {
            "colorbar": {
             "outlinewidth": 0,
             "ticks": ""
            },
            "colorscale": [
             [
              0,
              "#0d0887"
             ],
             [
              0.1111111111111111,
              "#46039f"
             ],
             [
              0.2222222222222222,
              "#7201a8"
             ],
             [
              0.3333333333333333,
              "#9c179e"
             ],
             [
              0.4444444444444444,
              "#bd3786"
             ],
             [
              0.5555555555555556,
              "#d8576b"
             ],
             [
              0.6666666666666666,
              "#ed7953"
             ],
             [
              0.7777777777777778,
              "#fb9f3a"
             ],
             [
              0.8888888888888888,
              "#fdca26"
             ],
             [
              1,
              "#f0f921"
             ]
            ],
            "type": "heatmap"
           }
          ],
          "heatmapgl": [
           {
            "colorbar": {
             "outlinewidth": 0,
             "ticks": ""
            },
            "colorscale": [
             [
              0,
              "#0d0887"
             ],
             [
              0.1111111111111111,
              "#46039f"
             ],
             [
              0.2222222222222222,
              "#7201a8"
             ],
             [
              0.3333333333333333,
              "#9c179e"
             ],
             [
              0.4444444444444444,
              "#bd3786"
             ],
             [
              0.5555555555555556,
              "#d8576b"
             ],
             [
              0.6666666666666666,
              "#ed7953"
             ],
             [
              0.7777777777777778,
              "#fb9f3a"
             ],
             [
              0.8888888888888888,
              "#fdca26"
             ],
             [
              1,
              "#f0f921"
             ]
            ],
            "type": "heatmapgl"
           }
          ],
          "histogram": [
           {
            "marker": {
             "colorbar": {
              "outlinewidth": 0,
              "ticks": ""
             }
            },
            "type": "histogram"
           }
          ],
          "histogram2d": [
           {
            "colorbar": {
             "outlinewidth": 0,
             "ticks": ""
            },
            "colorscale": [
             [
              0,
              "#0d0887"
             ],
             [
              0.1111111111111111,
              "#46039f"
             ],
             [
              0.2222222222222222,
              "#7201a8"
             ],
             [
              0.3333333333333333,
              "#9c179e"
             ],
             [
              0.4444444444444444,
              "#bd3786"
             ],
             [
              0.5555555555555556,
              "#d8576b"
             ],
             [
              0.6666666666666666,
              "#ed7953"
             ],
             [
              0.7777777777777778,
              "#fb9f3a"
             ],
             [
              0.8888888888888888,
              "#fdca26"
             ],
             [
              1,
              "#f0f921"
             ]
            ],
            "type": "histogram2d"
           }
          ],
          "histogram2dcontour": [
           {
            "colorbar": {
             "outlinewidth": 0,
             "ticks": ""
            },
            "colorscale": [
             [
              0,
              "#0d0887"
             ],
             [
              0.1111111111111111,
              "#46039f"
             ],
             [
              0.2222222222222222,
              "#7201a8"
             ],
             [
              0.3333333333333333,
              "#9c179e"
             ],
             [
              0.4444444444444444,
              "#bd3786"
             ],
             [
              0.5555555555555556,
              "#d8576b"
             ],
             [
              0.6666666666666666,
              "#ed7953"
             ],
             [
              0.7777777777777778,
              "#fb9f3a"
             ],
             [
              0.8888888888888888,
              "#fdca26"
             ],
             [
              1,
              "#f0f921"
             ]
            ],
            "type": "histogram2dcontour"
           }
          ],
          "mesh3d": [
           {
            "colorbar": {
             "outlinewidth": 0,
             "ticks": ""
            },
            "type": "mesh3d"
           }
          ],
          "parcoords": [
           {
            "line": {
             "colorbar": {
              "outlinewidth": 0,
              "ticks": ""
             }
            },
            "type": "parcoords"
           }
          ],
          "pie": [
           {
            "automargin": true,
            "type": "pie"
           }
          ],
          "scatter": [
           {
            "marker": {
             "colorbar": {
              "outlinewidth": 0,
              "ticks": ""
             }
            },
            "type": "scatter"
           }
          ],
          "scatter3d": [
           {
            "line": {
             "colorbar": {
              "outlinewidth": 0,
              "ticks": ""
             }
            },
            "marker": {
             "colorbar": {
              "outlinewidth": 0,
              "ticks": ""
             }
            },
            "type": "scatter3d"
           }
          ],
          "scattercarpet": [
           {
            "marker": {
             "colorbar": {
              "outlinewidth": 0,
              "ticks": ""
             }
            },
            "type": "scattercarpet"
           }
          ],
          "scattergeo": [
           {
            "marker": {
             "colorbar": {
              "outlinewidth": 0,
              "ticks": ""
             }
            },
            "type": "scattergeo"
           }
          ],
          "scattergl": [
           {
            "marker": {
             "colorbar": {
              "outlinewidth": 0,
              "ticks": ""
             }
            },
            "type": "scattergl"
           }
          ],
          "scattermapbox": [
           {
            "marker": {
             "colorbar": {
              "outlinewidth": 0,
              "ticks": ""
             }
            },
            "type": "scattermapbox"
           }
          ],
          "scatterpolar": [
           {
            "marker": {
             "colorbar": {
              "outlinewidth": 0,
              "ticks": ""
             }
            },
            "type": "scatterpolar"
           }
          ],
          "scatterpolargl": [
           {
            "marker": {
             "colorbar": {
              "outlinewidth": 0,
              "ticks": ""
             }
            },
            "type": "scatterpolargl"
           }
          ],
          "scatterternary": [
           {
            "marker": {
             "colorbar": {
              "outlinewidth": 0,
              "ticks": ""
             }
            },
            "type": "scatterternary"
           }
          ],
          "surface": [
           {
            "colorbar": {
             "outlinewidth": 0,
             "ticks": ""
            },
            "colorscale": [
             [
              0,
              "#0d0887"
             ],
             [
              0.1111111111111111,
              "#46039f"
             ],
             [
              0.2222222222222222,
              "#7201a8"
             ],
             [
              0.3333333333333333,
              "#9c179e"
             ],
             [
              0.4444444444444444,
              "#bd3786"
             ],
             [
              0.5555555555555556,
              "#d8576b"
             ],
             [
              0.6666666666666666,
              "#ed7953"
             ],
             [
              0.7777777777777778,
              "#fb9f3a"
             ],
             [
              0.8888888888888888,
              "#fdca26"
             ],
             [
              1,
              "#f0f921"
             ]
            ],
            "type": "surface"
           }
          ],
          "table": [
           {
            "cells": {
             "fill": {
              "color": "#EBF0F8"
             },
             "line": {
              "color": "white"
             }
            },
            "header": {
             "fill": {
              "color": "#C8D4E3"
             },
             "line": {
              "color": "white"
             }
            },
            "type": "table"
           }
          ]
         },
         "layout": {
          "annotationdefaults": {
           "arrowcolor": "#2a3f5f",
           "arrowhead": 0,
           "arrowwidth": 1
          },
          "coloraxis": {
           "colorbar": {
            "outlinewidth": 0,
            "ticks": ""
           }
          },
          "colorscale": {
           "diverging": [
            [
             0,
             "#8e0152"
            ],
            [
             0.1,
             "#c51b7d"
            ],
            [
             0.2,
             "#de77ae"
            ],
            [
             0.3,
             "#f1b6da"
            ],
            [
             0.4,
             "#fde0ef"
            ],
            [
             0.5,
             "#f7f7f7"
            ],
            [
             0.6,
             "#e6f5d0"
            ],
            [
             0.7,
             "#b8e186"
            ],
            [
             0.8,
             "#7fbc41"
            ],
            [
             0.9,
             "#4d9221"
            ],
            [
             1,
             "#276419"
            ]
           ],
           "sequential": [
            [
             0,
             "#0d0887"
            ],
            [
             0.1111111111111111,
             "#46039f"
            ],
            [
             0.2222222222222222,
             "#7201a8"
            ],
            [
             0.3333333333333333,
             "#9c179e"
            ],
            [
             0.4444444444444444,
             "#bd3786"
            ],
            [
             0.5555555555555556,
             "#d8576b"
            ],
            [
             0.6666666666666666,
             "#ed7953"
            ],
            [
             0.7777777777777778,
             "#fb9f3a"
            ],
            [
             0.8888888888888888,
             "#fdca26"
            ],
            [
             1,
             "#f0f921"
            ]
           ],
           "sequentialminus": [
            [
             0,
             "#0d0887"
            ],
            [
             0.1111111111111111,
             "#46039f"
            ],
            [
             0.2222222222222222,
             "#7201a8"
            ],
            [
             0.3333333333333333,
             "#9c179e"
            ],
            [
             0.4444444444444444,
             "#bd3786"
            ],
            [
             0.5555555555555556,
             "#d8576b"
            ],
            [
             0.6666666666666666,
             "#ed7953"
            ],
            [
             0.7777777777777778,
             "#fb9f3a"
            ],
            [
             0.8888888888888888,
             "#fdca26"
            ],
            [
             1,
             "#f0f921"
            ]
           ]
          },
          "colorway": [
           "#636efa",
           "#EF553B",
           "#00cc96",
           "#ab63fa",
           "#FFA15A",
           "#19d3f3",
           "#FF6692",
           "#B6E880",
           "#FF97FF",
           "#FECB52"
          ],
          "font": {
           "color": "#2a3f5f"
          },
          "geo": {
           "bgcolor": "white",
           "lakecolor": "white",
           "landcolor": "#E5ECF6",
           "showlakes": true,
           "showland": true,
           "subunitcolor": "white"
          },
          "hoverlabel": {
           "align": "left"
          },
          "hovermode": "closest",
          "mapbox": {
           "style": "light"
          },
          "paper_bgcolor": "white",
          "plot_bgcolor": "#E5ECF6",
          "polar": {
           "angularaxis": {
            "gridcolor": "white",
            "linecolor": "white",
            "ticks": ""
           },
           "bgcolor": "#E5ECF6",
           "radialaxis": {
            "gridcolor": "white",
            "linecolor": "white",
            "ticks": ""
           }
          },
          "scene": {
           "xaxis": {
            "backgroundcolor": "#E5ECF6",
            "gridcolor": "white",
            "gridwidth": 2,
            "linecolor": "white",
            "showbackground": true,
            "ticks": "",
            "zerolinecolor": "white"
           },
           "yaxis": {
            "backgroundcolor": "#E5ECF6",
            "gridcolor": "white",
            "gridwidth": 2,
            "linecolor": "white",
            "showbackground": true,
            "ticks": "",
            "zerolinecolor": "white"
           },
           "zaxis": {
            "backgroundcolor": "#E5ECF6",
            "gridcolor": "white",
            "gridwidth": 2,
            "linecolor": "white",
            "showbackground": true,
            "ticks": "",
            "zerolinecolor": "white"
           }
          },
          "shapedefaults": {
           "line": {
            "color": "#2a3f5f"
           }
          },
          "ternary": {
           "aaxis": {
            "gridcolor": "white",
            "linecolor": "white",
            "ticks": ""
           },
           "baxis": {
            "gridcolor": "white",
            "linecolor": "white",
            "ticks": ""
           },
           "bgcolor": "#E5ECF6",
           "caxis": {
            "gridcolor": "white",
            "linecolor": "white",
            "ticks": ""
           }
          },
          "title": {
           "x": 0.05
          },
          "xaxis": {
           "automargin": true,
           "gridcolor": "white",
           "linecolor": "white",
           "ticks": "",
           "title": {
            "standoff": 15
           },
           "zerolinecolor": "white",
           "zerolinewidth": 2
          },
          "yaxis": {
           "automargin": true,
           "gridcolor": "white",
           "linecolor": "white",
           "ticks": "",
           "title": {
            "standoff": 15
           },
           "zerolinecolor": "white",
           "zerolinewidth": 2
          }
         }
        },
        "title": {
         "text": "Aşı Orani En düşük 15 İlimiz"
        },
        "yaxis": {
         "gridcolor": "white",
         "gridwidth": 2,
         "title": {
          "text": "2 Doz aşı vurulan kişi oranı (17 Mayıs)"
         }
        }
       }
      },
      "text/html": [
       "<div>\n",
       "        \n",
       "        \n",
       "            <div id=\"ed4254d1-13c3-4b10-a9df-e29986a9778d\" class=\"plotly-graph-div\" style=\"height:525px; width:100%;\"></div>\n",
       "            <script type=\"text/javascript\">\n",
       "                require([\"plotly\"], function(Plotly) {\n",
       "                    window.PLOTLYENV=window.PLOTLYENV || {};\n",
       "                    \n",
       "                if (document.getElementById(\"ed4254d1-13c3-4b10-a9df-e29986a9778d\")) {\n",
       "                    Plotly.newPlot(\n",
       "                        'ed4254d1-13c3-4b10-a9df-e29986a9778d',\n",
       "                        [{\"mode\": \"markers\", \"type\": \"scatter\", \"uid\": \"66eefd9d-a53e-4f94-9af2-b80d99b43bb9\", \"x\": [\"\\u015e\\u0131rnak\", \"Hakkari\", \"\\u015eanl\\u0131urfa\", \"Siirt\", \"A\\u011fr\\u0131\", \"Mardin\", \"Bitlis\", \"Van\", \"Mu\\u015f\", \"Batman\", \"Diyarbak\\u0131r\", \"I\\u011fd\\u0131r\", \"Gaziantep\", \"Bing\\u00f6l\", \"Kilis\"], \"y\": [0.028269011198262427, 0.02969548756924788, 0.0379069956544267, 0.04006705530552451, 0.04372893068252916, 0.04424744593525803, 0.046579143803027974, 0.051341550208728125, 0.051902499775003226, 0.05521556463392221, 0.0556735864746099, 0.0715350149517669, 0.07237060343420315, 0.07751767411487465, 0.0915877640203933]}],\n",
       "                        {\"template\": {\"data\": {\"bar\": [{\"error_x\": {\"color\": \"#2a3f5f\"}, \"error_y\": {\"color\": \"#2a3f5f\"}, \"marker\": {\"line\": {\"color\": \"#E5ECF6\", \"width\": 0.5}}, \"type\": \"bar\"}], \"barpolar\": [{\"marker\": {\"line\": {\"color\": \"#E5ECF6\", \"width\": 0.5}}, \"type\": \"barpolar\"}], \"carpet\": [{\"aaxis\": {\"endlinecolor\": \"#2a3f5f\", \"gridcolor\": \"white\", \"linecolor\": \"white\", \"minorgridcolor\": \"white\", \"startlinecolor\": \"#2a3f5f\"}, \"baxis\": {\"endlinecolor\": \"#2a3f5f\", \"gridcolor\": \"white\", \"linecolor\": \"white\", \"minorgridcolor\": \"white\", \"startlinecolor\": \"#2a3f5f\"}, \"type\": \"carpet\"}], \"choropleth\": [{\"colorbar\": {\"outlinewidth\": 0, \"ticks\": \"\"}, \"type\": \"choropleth\"}], \"contour\": [{\"colorbar\": {\"outlinewidth\": 0, \"ticks\": \"\"}, \"colorscale\": [[0.0, \"#0d0887\"], [0.1111111111111111, \"#46039f\"], [0.2222222222222222, \"#7201a8\"], [0.3333333333333333, \"#9c179e\"], [0.4444444444444444, \"#bd3786\"], [0.5555555555555556, \"#d8576b\"], [0.6666666666666666, \"#ed7953\"], [0.7777777777777778, \"#fb9f3a\"], [0.8888888888888888, \"#fdca26\"], [1.0, \"#f0f921\"]], \"type\": \"contour\"}], \"contourcarpet\": [{\"colorbar\": {\"outlinewidth\": 0, \"ticks\": \"\"}, \"type\": \"contourcarpet\"}], \"heatmap\": [{\"colorbar\": {\"outlinewidth\": 0, \"ticks\": \"\"}, \"colorscale\": [[0.0, \"#0d0887\"], [0.1111111111111111, \"#46039f\"], [0.2222222222222222, \"#7201a8\"], [0.3333333333333333, \"#9c179e\"], [0.4444444444444444, \"#bd3786\"], [0.5555555555555556, \"#d8576b\"], [0.6666666666666666, \"#ed7953\"], [0.7777777777777778, \"#fb9f3a\"], [0.8888888888888888, \"#fdca26\"], [1.0, \"#f0f921\"]], \"type\": \"heatmap\"}], \"heatmapgl\": [{\"colorbar\": {\"outlinewidth\": 0, \"ticks\": \"\"}, \"colorscale\": [[0.0, \"#0d0887\"], [0.1111111111111111, \"#46039f\"], [0.2222222222222222, \"#7201a8\"], [0.3333333333333333, \"#9c179e\"], [0.4444444444444444, \"#bd3786\"], [0.5555555555555556, \"#d8576b\"], [0.6666666666666666, \"#ed7953\"], [0.7777777777777778, \"#fb9f3a\"], [0.8888888888888888, \"#fdca26\"], [1.0, \"#f0f921\"]], \"type\": \"heatmapgl\"}], \"histogram\": [{\"marker\": {\"colorbar\": {\"outlinewidth\": 0, \"ticks\": \"\"}}, \"type\": \"histogram\"}], \"histogram2d\": [{\"colorbar\": {\"outlinewidth\": 0, \"ticks\": \"\"}, \"colorscale\": [[0.0, \"#0d0887\"], [0.1111111111111111, \"#46039f\"], [0.2222222222222222, \"#7201a8\"], [0.3333333333333333, \"#9c179e\"], [0.4444444444444444, \"#bd3786\"], [0.5555555555555556, \"#d8576b\"], [0.6666666666666666, \"#ed7953\"], [0.7777777777777778, \"#fb9f3a\"], [0.8888888888888888, \"#fdca26\"], [1.0, \"#f0f921\"]], \"type\": \"histogram2d\"}], \"histogram2dcontour\": [{\"colorbar\": {\"outlinewidth\": 0, \"ticks\": \"\"}, \"colorscale\": [[0.0, \"#0d0887\"], [0.1111111111111111, \"#46039f\"], [0.2222222222222222, \"#7201a8\"], [0.3333333333333333, \"#9c179e\"], [0.4444444444444444, \"#bd3786\"], [0.5555555555555556, \"#d8576b\"], [0.6666666666666666, \"#ed7953\"], [0.7777777777777778, \"#fb9f3a\"], [0.8888888888888888, \"#fdca26\"], [1.0, \"#f0f921\"]], \"type\": \"histogram2dcontour\"}], \"mesh3d\": [{\"colorbar\": {\"outlinewidth\": 0, \"ticks\": \"\"}, \"type\": \"mesh3d\"}], \"parcoords\": [{\"line\": {\"colorbar\": {\"outlinewidth\": 0, \"ticks\": \"\"}}, \"type\": \"parcoords\"}], \"pie\": [{\"automargin\": true, \"type\": \"pie\"}], \"scatter\": [{\"marker\": {\"colorbar\": {\"outlinewidth\": 0, \"ticks\": \"\"}}, \"type\": \"scatter\"}], \"scatter3d\": [{\"line\": {\"colorbar\": {\"outlinewidth\": 0, \"ticks\": \"\"}}, \"marker\": {\"colorbar\": {\"outlinewidth\": 0, \"ticks\": \"\"}}, \"type\": \"scatter3d\"}], \"scattercarpet\": [{\"marker\": {\"colorbar\": {\"outlinewidth\": 0, \"ticks\": \"\"}}, \"type\": \"scattercarpet\"}], \"scattergeo\": [{\"marker\": {\"colorbar\": {\"outlinewidth\": 0, \"ticks\": \"\"}}, \"type\": \"scattergeo\"}], \"scattergl\": [{\"marker\": {\"colorbar\": {\"outlinewidth\": 0, \"ticks\": \"\"}}, \"type\": \"scattergl\"}], \"scattermapbox\": [{\"marker\": {\"colorbar\": {\"outlinewidth\": 0, \"ticks\": \"\"}}, \"type\": \"scattermapbox\"}], \"scatterpolar\": [{\"marker\": {\"colorbar\": {\"outlinewidth\": 0, \"ticks\": \"\"}}, \"type\": \"scatterpolar\"}], \"scatterpolargl\": [{\"marker\": {\"colorbar\": {\"outlinewidth\": 0, \"ticks\": \"\"}}, \"type\": \"scatterpolargl\"}], \"scatterternary\": [{\"marker\": {\"colorbar\": {\"outlinewidth\": 0, \"ticks\": \"\"}}, \"type\": \"scatterternary\"}], \"surface\": [{\"colorbar\": {\"outlinewidth\": 0, \"ticks\": \"\"}, \"colorscale\": [[0.0, \"#0d0887\"], [0.1111111111111111, \"#46039f\"], [0.2222222222222222, \"#7201a8\"], [0.3333333333333333, \"#9c179e\"], [0.4444444444444444, \"#bd3786\"], [0.5555555555555556, \"#d8576b\"], [0.6666666666666666, \"#ed7953\"], [0.7777777777777778, \"#fb9f3a\"], [0.8888888888888888, \"#fdca26\"], [1.0, \"#f0f921\"]], \"type\": \"surface\"}], \"table\": [{\"cells\": {\"fill\": {\"color\": \"#EBF0F8\"}, \"line\": {\"color\": \"white\"}}, \"header\": {\"fill\": {\"color\": \"#C8D4E3\"}, \"line\": {\"color\": \"white\"}}, \"type\": \"table\"}]}, \"layout\": {\"annotationdefaults\": {\"arrowcolor\": \"#2a3f5f\", \"arrowhead\": 0, \"arrowwidth\": 1}, \"coloraxis\": {\"colorbar\": {\"outlinewidth\": 0, \"ticks\": \"\"}}, \"colorscale\": {\"diverging\": [[0, \"#8e0152\"], [0.1, \"#c51b7d\"], [0.2, \"#de77ae\"], [0.3, \"#f1b6da\"], [0.4, \"#fde0ef\"], [0.5, \"#f7f7f7\"], [0.6, \"#e6f5d0\"], [0.7, \"#b8e186\"], [0.8, \"#7fbc41\"], [0.9, \"#4d9221\"], [1, \"#276419\"]], \"sequential\": [[0.0, \"#0d0887\"], [0.1111111111111111, \"#46039f\"], [0.2222222222222222, \"#7201a8\"], [0.3333333333333333, \"#9c179e\"], [0.4444444444444444, \"#bd3786\"], [0.5555555555555556, \"#d8576b\"], [0.6666666666666666, \"#ed7953\"], [0.7777777777777778, \"#fb9f3a\"], [0.8888888888888888, \"#fdca26\"], [1.0, \"#f0f921\"]], \"sequentialminus\": [[0.0, \"#0d0887\"], [0.1111111111111111, \"#46039f\"], [0.2222222222222222, \"#7201a8\"], [0.3333333333333333, \"#9c179e\"], [0.4444444444444444, \"#bd3786\"], [0.5555555555555556, \"#d8576b\"], [0.6666666666666666, \"#ed7953\"], [0.7777777777777778, \"#fb9f3a\"], [0.8888888888888888, \"#fdca26\"], [1.0, \"#f0f921\"]]}, \"colorway\": [\"#636efa\", \"#EF553B\", \"#00cc96\", \"#ab63fa\", \"#FFA15A\", \"#19d3f3\", \"#FF6692\", \"#B6E880\", \"#FF97FF\", \"#FECB52\"], \"font\": {\"color\": \"#2a3f5f\"}, \"geo\": {\"bgcolor\": \"white\", \"lakecolor\": \"white\", \"landcolor\": \"#E5ECF6\", \"showlakes\": true, \"showland\": true, \"subunitcolor\": \"white\"}, \"hoverlabel\": {\"align\": \"left\"}, \"hovermode\": \"closest\", \"mapbox\": {\"style\": \"light\"}, \"paper_bgcolor\": \"white\", \"plot_bgcolor\": \"#E5ECF6\", \"polar\": {\"angularaxis\": {\"gridcolor\": \"white\", \"linecolor\": \"white\", \"ticks\": \"\"}, \"bgcolor\": \"#E5ECF6\", \"radialaxis\": {\"gridcolor\": \"white\", \"linecolor\": \"white\", \"ticks\": \"\"}}, \"scene\": {\"xaxis\": {\"backgroundcolor\": \"#E5ECF6\", \"gridcolor\": \"white\", \"gridwidth\": 2, \"linecolor\": \"white\", \"showbackground\": true, \"ticks\": \"\", \"zerolinecolor\": \"white\"}, \"yaxis\": {\"backgroundcolor\": \"#E5ECF6\", \"gridcolor\": \"white\", \"gridwidth\": 2, \"linecolor\": \"white\", \"showbackground\": true, \"ticks\": \"\", \"zerolinecolor\": \"white\"}, \"zaxis\": {\"backgroundcolor\": \"#E5ECF6\", \"gridcolor\": \"white\", \"gridwidth\": 2, \"linecolor\": \"white\", \"showbackground\": true, \"ticks\": \"\", \"zerolinecolor\": \"white\"}}, \"shapedefaults\": {\"line\": {\"color\": \"#2a3f5f\"}}, \"ternary\": {\"aaxis\": {\"gridcolor\": \"white\", \"linecolor\": \"white\", \"ticks\": \"\"}, \"baxis\": {\"gridcolor\": \"white\", \"linecolor\": \"white\", \"ticks\": \"\"}, \"bgcolor\": \"#E5ECF6\", \"caxis\": {\"gridcolor\": \"white\", \"linecolor\": \"white\", \"ticks\": \"\"}}, \"title\": {\"x\": 0.05}, \"xaxis\": {\"automargin\": true, \"gridcolor\": \"white\", \"linecolor\": \"white\", \"ticks\": \"\", \"title\": {\"standoff\": 15}, \"zerolinecolor\": \"white\", \"zerolinewidth\": 2}, \"yaxis\": {\"automargin\": true, \"gridcolor\": \"white\", \"linecolor\": \"white\", \"ticks\": \"\", \"title\": {\"standoff\": 15}, \"zerolinecolor\": \"white\", \"zerolinewidth\": 2}}}, \"title\": {\"text\": \"A\\u015f\\u0131 Orani En d\\u00fc\\u015f\\u00fck 15 \\u0130limiz\"}, \"yaxis\": {\"gridcolor\": \"white\", \"gridwidth\": 2, \"title\": {\"text\": \"2 Doz a\\u015f\\u0131 vurulan ki\\u015fi oran\\u0131 (17 May\\u0131s)\"}}},\n",
       "                        {\"responsive\": true}\n",
       "                    ).then(function(){\n",
       "                            \n",
       "var gd = document.getElementById('ed4254d1-13c3-4b10-a9df-e29986a9778d');\n",
       "var x = new MutationObserver(function (mutations, observer) {{\n",
       "        var display = window.getComputedStyle(gd).display;\n",
       "        if (!display || display === 'none') {{\n",
       "            console.log([gd, 'removed!']);\n",
       "            Plotly.purge(gd);\n",
       "            observer.disconnect();\n",
       "        }}\n",
       "}});\n",
       "\n",
       "// Listen for the removal of the full notebook cells\n",
       "var notebookContainer = gd.closest('#notebook-container');\n",
       "if (notebookContainer) {{\n",
       "    x.observe(notebookContainer, {childList: true});\n",
       "}}\n",
       "\n",
       "// Listen for the clearing of the current output cell\n",
       "var outputEl = gd.closest('.output');\n",
       "if (outputEl) {{\n",
       "    x.observe(outputEl, {childList: true});\n",
       "}}\n",
       "\n",
       "                        })\n",
       "                };\n",
       "                });\n",
       "            </script>\n",
       "        </div>"
      ]
     },
     "metadata": {},
     "output_type": "display_data"
    }
   ],
   "source": [
    "veri_paleti_v4 = veri_paleti.sort_values('AsiOrani')\n",
    "veri_paleti_v4 = veri_paleti_v4[0:15]\n",
    "\n",
    "fig = go.FigureWidget([go.Scatter(x=veri_paleti_v4.index, y=veri_paleti_v4['AsiOrani'], mode='markers')])\n",
    "\n",
    "fig.update_layout(\n",
    "    title='Aşı Orani En düşük 15 İlimiz',\n",
    "    yaxis=dict(\n",
    "        title='2 Doz aşı vurulan kişi oranı (17 Mayıs)',\n",
    "        gridcolor='white',\n",
    "        gridwidth=2,\n",
    "    ) \n",
    ")\n",
    "\n",
    "fig.show()"
   ]
  },
  {
   "cell_type": "markdown",
   "metadata": {},
   "source": [
    "### Yaşlı Nüfusu Başına Düşen Vaka Sayısı hakkında görselleştirme"
   ]
  },
  {
   "cell_type": "code",
   "execution_count": 24,
   "metadata": {},
   "outputs": [
    {
     "data": {
      "application/vnd.plotly.v1+json": {
       "config": {
        "plotlyServerURL": "https://plot.ly"
       },
       "data": [
        {
         "mode": "markers",
         "type": "scatter",
         "uid": "b93e0fcb-7b1c-494f-9d2e-3b3ae28913de",
         "x": [
          "Konya",
          "Bolu",
          "Rize",
          "Bilecik",
          "Kayseri",
          "Tekirdağ",
          "Erzincan",
          "Ankara",
          "Bitlis",
          "Kars",
          "Kocaeli",
          "Hakkari",
          "İstanbul",
          "Erzurum",
          "Ağrı"
         ],
         "y": [
          0.004889289552419772,
          0.004951837909672464,
          0.00515476852509777,
          0.0052876897479901055,
          0.005294541485444679,
          0.005316096385296852,
          0.005431587017806374,
          0.005983725549764532,
          0.006649610572635531,
          0.006945759510249607,
          0.007006649481365734,
          0.007135443524794864,
          0.008418112152520894,
          0.008820173988687577,
          0.013921325227877082
         ]
        }
       ],
       "layout": {
        "template": {
         "data": {
          "bar": [
           {
            "error_x": {
             "color": "#2a3f5f"
            },
            "error_y": {
             "color": "#2a3f5f"
            },
            "marker": {
             "line": {
              "color": "#E5ECF6",
              "width": 0.5
             }
            },
            "type": "bar"
           }
          ],
          "barpolar": [
           {
            "marker": {
             "line": {
              "color": "#E5ECF6",
              "width": 0.5
             }
            },
            "type": "barpolar"
           }
          ],
          "carpet": [
           {
            "aaxis": {
             "endlinecolor": "#2a3f5f",
             "gridcolor": "white",
             "linecolor": "white",
             "minorgridcolor": "white",
             "startlinecolor": "#2a3f5f"
            },
            "baxis": {
             "endlinecolor": "#2a3f5f",
             "gridcolor": "white",
             "linecolor": "white",
             "minorgridcolor": "white",
             "startlinecolor": "#2a3f5f"
            },
            "type": "carpet"
           }
          ],
          "choropleth": [
           {
            "colorbar": {
             "outlinewidth": 0,
             "ticks": ""
            },
            "type": "choropleth"
           }
          ],
          "contour": [
           {
            "colorbar": {
             "outlinewidth": 0,
             "ticks": ""
            },
            "colorscale": [
             [
              0,
              "#0d0887"
             ],
             [
              0.1111111111111111,
              "#46039f"
             ],
             [
              0.2222222222222222,
              "#7201a8"
             ],
             [
              0.3333333333333333,
              "#9c179e"
             ],
             [
              0.4444444444444444,
              "#bd3786"
             ],
             [
              0.5555555555555556,
              "#d8576b"
             ],
             [
              0.6666666666666666,
              "#ed7953"
             ],
             [
              0.7777777777777778,
              "#fb9f3a"
             ],
             [
              0.8888888888888888,
              "#fdca26"
             ],
             [
              1,
              "#f0f921"
             ]
            ],
            "type": "contour"
           }
          ],
          "contourcarpet": [
           {
            "colorbar": {
             "outlinewidth": 0,
             "ticks": ""
            },
            "type": "contourcarpet"
           }
          ],
          "heatmap": [
           {
            "colorbar": {
             "outlinewidth": 0,
             "ticks": ""
            },
            "colorscale": [
             [
              0,
              "#0d0887"
             ],
             [
              0.1111111111111111,
              "#46039f"
             ],
             [
              0.2222222222222222,
              "#7201a8"
             ],
             [
              0.3333333333333333,
              "#9c179e"
             ],
             [
              0.4444444444444444,
              "#bd3786"
             ],
             [
              0.5555555555555556,
              "#d8576b"
             ],
             [
              0.6666666666666666,
              "#ed7953"
             ],
             [
              0.7777777777777778,
              "#fb9f3a"
             ],
             [
              0.8888888888888888,
              "#fdca26"
             ],
             [
              1,
              "#f0f921"
             ]
            ],
            "type": "heatmap"
           }
          ],
          "heatmapgl": [
           {
            "colorbar": {
             "outlinewidth": 0,
             "ticks": ""
            },
            "colorscale": [
             [
              0,
              "#0d0887"
             ],
             [
              0.1111111111111111,
              "#46039f"
             ],
             [
              0.2222222222222222,
              "#7201a8"
             ],
             [
              0.3333333333333333,
              "#9c179e"
             ],
             [
              0.4444444444444444,
              "#bd3786"
             ],
             [
              0.5555555555555556,
              "#d8576b"
             ],
             [
              0.6666666666666666,
              "#ed7953"
             ],
             [
              0.7777777777777778,
              "#fb9f3a"
             ],
             [
              0.8888888888888888,
              "#fdca26"
             ],
             [
              1,
              "#f0f921"
             ]
            ],
            "type": "heatmapgl"
           }
          ],
          "histogram": [
           {
            "marker": {
             "colorbar": {
              "outlinewidth": 0,
              "ticks": ""
             }
            },
            "type": "histogram"
           }
          ],
          "histogram2d": [
           {
            "colorbar": {
             "outlinewidth": 0,
             "ticks": ""
            },
            "colorscale": [
             [
              0,
              "#0d0887"
             ],
             [
              0.1111111111111111,
              "#46039f"
             ],
             [
              0.2222222222222222,
              "#7201a8"
             ],
             [
              0.3333333333333333,
              "#9c179e"
             ],
             [
              0.4444444444444444,
              "#bd3786"
             ],
             [
              0.5555555555555556,
              "#d8576b"
             ],
             [
              0.6666666666666666,
              "#ed7953"
             ],
             [
              0.7777777777777778,
              "#fb9f3a"
             ],
             [
              0.8888888888888888,
              "#fdca26"
             ],
             [
              1,
              "#f0f921"
             ]
            ],
            "type": "histogram2d"
           }
          ],
          "histogram2dcontour": [
           {
            "colorbar": {
             "outlinewidth": 0,
             "ticks": ""
            },
            "colorscale": [
             [
              0,
              "#0d0887"
             ],
             [
              0.1111111111111111,
              "#46039f"
             ],
             [
              0.2222222222222222,
              "#7201a8"
             ],
             [
              0.3333333333333333,
              "#9c179e"
             ],
             [
              0.4444444444444444,
              "#bd3786"
             ],
             [
              0.5555555555555556,
              "#d8576b"
             ],
             [
              0.6666666666666666,
              "#ed7953"
             ],
             [
              0.7777777777777778,
              "#fb9f3a"
             ],
             [
              0.8888888888888888,
              "#fdca26"
             ],
             [
              1,
              "#f0f921"
             ]
            ],
            "type": "histogram2dcontour"
           }
          ],
          "mesh3d": [
           {
            "colorbar": {
             "outlinewidth": 0,
             "ticks": ""
            },
            "type": "mesh3d"
           }
          ],
          "parcoords": [
           {
            "line": {
             "colorbar": {
              "outlinewidth": 0,
              "ticks": ""
             }
            },
            "type": "parcoords"
           }
          ],
          "pie": [
           {
            "automargin": true,
            "type": "pie"
           }
          ],
          "scatter": [
           {
            "marker": {
             "colorbar": {
              "outlinewidth": 0,
              "ticks": ""
             }
            },
            "type": "scatter"
           }
          ],
          "scatter3d": [
           {
            "line": {
             "colorbar": {
              "outlinewidth": 0,
              "ticks": ""
             }
            },
            "marker": {
             "colorbar": {
              "outlinewidth": 0,
              "ticks": ""
             }
            },
            "type": "scatter3d"
           }
          ],
          "scattercarpet": [
           {
            "marker": {
             "colorbar": {
              "outlinewidth": 0,
              "ticks": ""
             }
            },
            "type": "scattercarpet"
           }
          ],
          "scattergeo": [
           {
            "marker": {
             "colorbar": {
              "outlinewidth": 0,
              "ticks": ""
             }
            },
            "type": "scattergeo"
           }
          ],
          "scattergl": [
           {
            "marker": {
             "colorbar": {
              "outlinewidth": 0,
              "ticks": ""
             }
            },
            "type": "scattergl"
           }
          ],
          "scattermapbox": [
           {
            "marker": {
             "colorbar": {
              "outlinewidth": 0,
              "ticks": ""
             }
            },
            "type": "scattermapbox"
           }
          ],
          "scatterpolar": [
           {
            "marker": {
             "colorbar": {
              "outlinewidth": 0,
              "ticks": ""
             }
            },
            "type": "scatterpolar"
           }
          ],
          "scatterpolargl": [
           {
            "marker": {
             "colorbar": {
              "outlinewidth": 0,
              "ticks": ""
             }
            },
            "type": "scatterpolargl"
           }
          ],
          "scatterternary": [
           {
            "marker": {
             "colorbar": {
              "outlinewidth": 0,
              "ticks": ""
             }
            },
            "type": "scatterternary"
           }
          ],
          "surface": [
           {
            "colorbar": {
             "outlinewidth": 0,
             "ticks": ""
            },
            "colorscale": [
             [
              0,
              "#0d0887"
             ],
             [
              0.1111111111111111,
              "#46039f"
             ],
             [
              0.2222222222222222,
              "#7201a8"
             ],
             [
              0.3333333333333333,
              "#9c179e"
             ],
             [
              0.4444444444444444,
              "#bd3786"
             ],
             [
              0.5555555555555556,
              "#d8576b"
             ],
             [
              0.6666666666666666,
              "#ed7953"
             ],
             [
              0.7777777777777778,
              "#fb9f3a"
             ],
             [
              0.8888888888888888,
              "#fdca26"
             ],
             [
              1,
              "#f0f921"
             ]
            ],
            "type": "surface"
           }
          ],
          "table": [
           {
            "cells": {
             "fill": {
              "color": "#EBF0F8"
             },
             "line": {
              "color": "white"
             }
            },
            "header": {
             "fill": {
              "color": "#C8D4E3"
             },
             "line": {
              "color": "white"
             }
            },
            "type": "table"
           }
          ]
         },
         "layout": {
          "annotationdefaults": {
           "arrowcolor": "#2a3f5f",
           "arrowhead": 0,
           "arrowwidth": 1
          },
          "coloraxis": {
           "colorbar": {
            "outlinewidth": 0,
            "ticks": ""
           }
          },
          "colorscale": {
           "diverging": [
            [
             0,
             "#8e0152"
            ],
            [
             0.1,
             "#c51b7d"
            ],
            [
             0.2,
             "#de77ae"
            ],
            [
             0.3,
             "#f1b6da"
            ],
            [
             0.4,
             "#fde0ef"
            ],
            [
             0.5,
             "#f7f7f7"
            ],
            [
             0.6,
             "#e6f5d0"
            ],
            [
             0.7,
             "#b8e186"
            ],
            [
             0.8,
             "#7fbc41"
            ],
            [
             0.9,
             "#4d9221"
            ],
            [
             1,
             "#276419"
            ]
           ],
           "sequential": [
            [
             0,
             "#0d0887"
            ],
            [
             0.1111111111111111,
             "#46039f"
            ],
            [
             0.2222222222222222,
             "#7201a8"
            ],
            [
             0.3333333333333333,
             "#9c179e"
            ],
            [
             0.4444444444444444,
             "#bd3786"
            ],
            [
             0.5555555555555556,
             "#d8576b"
            ],
            [
             0.6666666666666666,
             "#ed7953"
            ],
            [
             0.7777777777777778,
             "#fb9f3a"
            ],
            [
             0.8888888888888888,
             "#fdca26"
            ],
            [
             1,
             "#f0f921"
            ]
           ],
           "sequentialminus": [
            [
             0,
             "#0d0887"
            ],
            [
             0.1111111111111111,
             "#46039f"
            ],
            [
             0.2222222222222222,
             "#7201a8"
            ],
            [
             0.3333333333333333,
             "#9c179e"
            ],
            [
             0.4444444444444444,
             "#bd3786"
            ],
            [
             0.5555555555555556,
             "#d8576b"
            ],
            [
             0.6666666666666666,
             "#ed7953"
            ],
            [
             0.7777777777777778,
             "#fb9f3a"
            ],
            [
             0.8888888888888888,
             "#fdca26"
            ],
            [
             1,
             "#f0f921"
            ]
           ]
          },
          "colorway": [
           "#636efa",
           "#EF553B",
           "#00cc96",
           "#ab63fa",
           "#FFA15A",
           "#19d3f3",
           "#FF6692",
           "#B6E880",
           "#FF97FF",
           "#FECB52"
          ],
          "font": {
           "color": "#2a3f5f"
          },
          "geo": {
           "bgcolor": "white",
           "lakecolor": "white",
           "landcolor": "#E5ECF6",
           "showlakes": true,
           "showland": true,
           "subunitcolor": "white"
          },
          "hoverlabel": {
           "align": "left"
          },
          "hovermode": "closest",
          "mapbox": {
           "style": "light"
          },
          "paper_bgcolor": "white",
          "plot_bgcolor": "#E5ECF6",
          "polar": {
           "angularaxis": {
            "gridcolor": "white",
            "linecolor": "white",
            "ticks": ""
           },
           "bgcolor": "#E5ECF6",
           "radialaxis": {
            "gridcolor": "white",
            "linecolor": "white",
            "ticks": ""
           }
          },
          "scene": {
           "xaxis": {
            "backgroundcolor": "#E5ECF6",
            "gridcolor": "white",
            "gridwidth": 2,
            "linecolor": "white",
            "showbackground": true,
            "ticks": "",
            "zerolinecolor": "white"
           },
           "yaxis": {
            "backgroundcolor": "#E5ECF6",
            "gridcolor": "white",
            "gridwidth": 2,
            "linecolor": "white",
            "showbackground": true,
            "ticks": "",
            "zerolinecolor": "white"
           },
           "zaxis": {
            "backgroundcolor": "#E5ECF6",
            "gridcolor": "white",
            "gridwidth": 2,
            "linecolor": "white",
            "showbackground": true,
            "ticks": "",
            "zerolinecolor": "white"
           }
          },
          "shapedefaults": {
           "line": {
            "color": "#2a3f5f"
           }
          },
          "ternary": {
           "aaxis": {
            "gridcolor": "white",
            "linecolor": "white",
            "ticks": ""
           },
           "baxis": {
            "gridcolor": "white",
            "linecolor": "white",
            "ticks": ""
           },
           "bgcolor": "#E5ECF6",
           "caxis": {
            "gridcolor": "white",
            "linecolor": "white",
            "ticks": ""
           }
          },
          "title": {
           "x": 0.05
          },
          "xaxis": {
           "automargin": true,
           "gridcolor": "white",
           "linecolor": "white",
           "ticks": "",
           "title": {
            "standoff": 15
           },
           "zerolinecolor": "white",
           "zerolinewidth": 2
          },
          "yaxis": {
           "automargin": true,
           "gridcolor": "white",
           "linecolor": "white",
           "ticks": "",
           "title": {
            "standoff": 15
           },
           "zerolinecolor": "white",
           "zerolinewidth": 2
          }
         }
        },
        "title": {
         "text": "Yaşlı Nüfus Başına Düşen Vaka Sayısının En Yüksek Olduğu 15 İlimiz"
        },
        "yaxis": {
         "gridcolor": "white",
         "gridwidth": 2,
         "title": {
          "text": "Yaşlı başına düşen vaka sayısı (8-14 Mayıs)"
         }
        }
       }
      },
      "text/html": [
       "<div>\n",
       "        \n",
       "        \n",
       "            <div id=\"185b7214-a76c-423f-a339-239d95706c43\" class=\"plotly-graph-div\" style=\"height:525px; width:100%;\"></div>\n",
       "            <script type=\"text/javascript\">\n",
       "                require([\"plotly\"], function(Plotly) {\n",
       "                    window.PLOTLYENV=window.PLOTLYENV || {};\n",
       "                    \n",
       "                if (document.getElementById(\"185b7214-a76c-423f-a339-239d95706c43\")) {\n",
       "                    Plotly.newPlot(\n",
       "                        '185b7214-a76c-423f-a339-239d95706c43',\n",
       "                        [{\"mode\": \"markers\", \"type\": \"scatter\", \"uid\": \"b93e0fcb-7b1c-494f-9d2e-3b3ae28913de\", \"x\": [\"Konya\", \"Bolu\", \"Rize\", \"Bilecik\", \"Kayseri\", \"Tekirda\\u011f\", \"Erzincan\", \"Ankara\", \"Bitlis\", \"Kars\", \"Kocaeli\", \"Hakkari\", \"\\u0130stanbul\", \"Erzurum\", \"A\\u011fr\\u0131\"], \"y\": [0.004889289552419772, 0.004951837909672464, 0.00515476852509777, 0.0052876897479901055, 0.005294541485444679, 0.005316096385296852, 0.005431587017806374, 0.005983725549764532, 0.006649610572635531, 0.006945759510249607, 0.007006649481365734, 0.007135443524794864, 0.008418112152520894, 0.008820173988687577, 0.013921325227877082]}],\n",
       "                        {\"template\": {\"data\": {\"bar\": [{\"error_x\": {\"color\": \"#2a3f5f\"}, \"error_y\": {\"color\": \"#2a3f5f\"}, \"marker\": {\"line\": {\"color\": \"#E5ECF6\", \"width\": 0.5}}, \"type\": \"bar\"}], \"barpolar\": [{\"marker\": {\"line\": {\"color\": \"#E5ECF6\", \"width\": 0.5}}, \"type\": \"barpolar\"}], \"carpet\": [{\"aaxis\": {\"endlinecolor\": \"#2a3f5f\", \"gridcolor\": \"white\", \"linecolor\": \"white\", \"minorgridcolor\": \"white\", \"startlinecolor\": \"#2a3f5f\"}, \"baxis\": {\"endlinecolor\": \"#2a3f5f\", \"gridcolor\": \"white\", \"linecolor\": \"white\", \"minorgridcolor\": \"white\", \"startlinecolor\": \"#2a3f5f\"}, \"type\": \"carpet\"}], \"choropleth\": [{\"colorbar\": {\"outlinewidth\": 0, \"ticks\": \"\"}, \"type\": \"choropleth\"}], \"contour\": [{\"colorbar\": {\"outlinewidth\": 0, \"ticks\": \"\"}, \"colorscale\": [[0.0, \"#0d0887\"], [0.1111111111111111, \"#46039f\"], [0.2222222222222222, \"#7201a8\"], [0.3333333333333333, \"#9c179e\"], [0.4444444444444444, \"#bd3786\"], [0.5555555555555556, \"#d8576b\"], [0.6666666666666666, \"#ed7953\"], [0.7777777777777778, \"#fb9f3a\"], [0.8888888888888888, \"#fdca26\"], [1.0, \"#f0f921\"]], \"type\": \"contour\"}], \"contourcarpet\": [{\"colorbar\": {\"outlinewidth\": 0, \"ticks\": \"\"}, \"type\": \"contourcarpet\"}], \"heatmap\": [{\"colorbar\": {\"outlinewidth\": 0, \"ticks\": \"\"}, \"colorscale\": [[0.0, \"#0d0887\"], [0.1111111111111111, \"#46039f\"], [0.2222222222222222, \"#7201a8\"], [0.3333333333333333, \"#9c179e\"], [0.4444444444444444, \"#bd3786\"], [0.5555555555555556, \"#d8576b\"], [0.6666666666666666, \"#ed7953\"], [0.7777777777777778, \"#fb9f3a\"], [0.8888888888888888, \"#fdca26\"], [1.0, \"#f0f921\"]], \"type\": \"heatmap\"}], \"heatmapgl\": [{\"colorbar\": {\"outlinewidth\": 0, \"ticks\": \"\"}, \"colorscale\": [[0.0, \"#0d0887\"], [0.1111111111111111, \"#46039f\"], [0.2222222222222222, \"#7201a8\"], [0.3333333333333333, \"#9c179e\"], [0.4444444444444444, \"#bd3786\"], [0.5555555555555556, \"#d8576b\"], [0.6666666666666666, \"#ed7953\"], [0.7777777777777778, \"#fb9f3a\"], [0.8888888888888888, \"#fdca26\"], [1.0, \"#f0f921\"]], \"type\": \"heatmapgl\"}], \"histogram\": [{\"marker\": {\"colorbar\": {\"outlinewidth\": 0, \"ticks\": \"\"}}, \"type\": \"histogram\"}], \"histogram2d\": [{\"colorbar\": {\"outlinewidth\": 0, \"ticks\": \"\"}, \"colorscale\": [[0.0, \"#0d0887\"], [0.1111111111111111, \"#46039f\"], [0.2222222222222222, \"#7201a8\"], [0.3333333333333333, \"#9c179e\"], [0.4444444444444444, \"#bd3786\"], [0.5555555555555556, \"#d8576b\"], [0.6666666666666666, \"#ed7953\"], [0.7777777777777778, \"#fb9f3a\"], [0.8888888888888888, \"#fdca26\"], [1.0, \"#f0f921\"]], \"type\": \"histogram2d\"}], \"histogram2dcontour\": [{\"colorbar\": {\"outlinewidth\": 0, \"ticks\": \"\"}, \"colorscale\": [[0.0, \"#0d0887\"], [0.1111111111111111, \"#46039f\"], [0.2222222222222222, \"#7201a8\"], [0.3333333333333333, \"#9c179e\"], [0.4444444444444444, \"#bd3786\"], [0.5555555555555556, \"#d8576b\"], [0.6666666666666666, \"#ed7953\"], [0.7777777777777778, \"#fb9f3a\"], [0.8888888888888888, \"#fdca26\"], [1.0, \"#f0f921\"]], \"type\": \"histogram2dcontour\"}], \"mesh3d\": [{\"colorbar\": {\"outlinewidth\": 0, \"ticks\": \"\"}, \"type\": \"mesh3d\"}], \"parcoords\": [{\"line\": {\"colorbar\": {\"outlinewidth\": 0, \"ticks\": \"\"}}, \"type\": \"parcoords\"}], \"pie\": [{\"automargin\": true, \"type\": \"pie\"}], \"scatter\": [{\"marker\": {\"colorbar\": {\"outlinewidth\": 0, \"ticks\": \"\"}}, \"type\": \"scatter\"}], \"scatter3d\": [{\"line\": {\"colorbar\": {\"outlinewidth\": 0, \"ticks\": \"\"}}, \"marker\": {\"colorbar\": {\"outlinewidth\": 0, \"ticks\": \"\"}}, \"type\": \"scatter3d\"}], \"scattercarpet\": [{\"marker\": {\"colorbar\": {\"outlinewidth\": 0, \"ticks\": \"\"}}, \"type\": \"scattercarpet\"}], \"scattergeo\": [{\"marker\": {\"colorbar\": {\"outlinewidth\": 0, \"ticks\": \"\"}}, \"type\": \"scattergeo\"}], \"scattergl\": [{\"marker\": {\"colorbar\": {\"outlinewidth\": 0, \"ticks\": \"\"}}, \"type\": \"scattergl\"}], \"scattermapbox\": [{\"marker\": {\"colorbar\": {\"outlinewidth\": 0, \"ticks\": \"\"}}, \"type\": \"scattermapbox\"}], \"scatterpolar\": [{\"marker\": {\"colorbar\": {\"outlinewidth\": 0, \"ticks\": \"\"}}, \"type\": \"scatterpolar\"}], \"scatterpolargl\": [{\"marker\": {\"colorbar\": {\"outlinewidth\": 0, \"ticks\": \"\"}}, \"type\": \"scatterpolargl\"}], \"scatterternary\": [{\"marker\": {\"colorbar\": {\"outlinewidth\": 0, \"ticks\": \"\"}}, \"type\": \"scatterternary\"}], \"surface\": [{\"colorbar\": {\"outlinewidth\": 0, \"ticks\": \"\"}, \"colorscale\": [[0.0, \"#0d0887\"], [0.1111111111111111, \"#46039f\"], [0.2222222222222222, \"#7201a8\"], [0.3333333333333333, \"#9c179e\"], [0.4444444444444444, \"#bd3786\"], [0.5555555555555556, \"#d8576b\"], [0.6666666666666666, \"#ed7953\"], [0.7777777777777778, \"#fb9f3a\"], [0.8888888888888888, \"#fdca26\"], [1.0, \"#f0f921\"]], \"type\": \"surface\"}], \"table\": [{\"cells\": {\"fill\": {\"color\": \"#EBF0F8\"}, \"line\": {\"color\": \"white\"}}, \"header\": {\"fill\": {\"color\": \"#C8D4E3\"}, \"line\": {\"color\": \"white\"}}, \"type\": \"table\"}]}, \"layout\": {\"annotationdefaults\": {\"arrowcolor\": \"#2a3f5f\", \"arrowhead\": 0, \"arrowwidth\": 1}, \"coloraxis\": {\"colorbar\": {\"outlinewidth\": 0, \"ticks\": \"\"}}, \"colorscale\": {\"diverging\": [[0, \"#8e0152\"], [0.1, \"#c51b7d\"], [0.2, \"#de77ae\"], [0.3, \"#f1b6da\"], [0.4, \"#fde0ef\"], [0.5, \"#f7f7f7\"], [0.6, \"#e6f5d0\"], [0.7, \"#b8e186\"], [0.8, \"#7fbc41\"], [0.9, \"#4d9221\"], [1, \"#276419\"]], \"sequential\": [[0.0, \"#0d0887\"], [0.1111111111111111, \"#46039f\"], [0.2222222222222222, \"#7201a8\"], [0.3333333333333333, \"#9c179e\"], [0.4444444444444444, \"#bd3786\"], [0.5555555555555556, \"#d8576b\"], [0.6666666666666666, \"#ed7953\"], [0.7777777777777778, \"#fb9f3a\"], [0.8888888888888888, \"#fdca26\"], [1.0, \"#f0f921\"]], \"sequentialminus\": [[0.0, \"#0d0887\"], [0.1111111111111111, \"#46039f\"], [0.2222222222222222, \"#7201a8\"], [0.3333333333333333, \"#9c179e\"], [0.4444444444444444, \"#bd3786\"], [0.5555555555555556, \"#d8576b\"], [0.6666666666666666, \"#ed7953\"], [0.7777777777777778, \"#fb9f3a\"], [0.8888888888888888, \"#fdca26\"], [1.0, \"#f0f921\"]]}, \"colorway\": [\"#636efa\", \"#EF553B\", \"#00cc96\", \"#ab63fa\", \"#FFA15A\", \"#19d3f3\", \"#FF6692\", \"#B6E880\", \"#FF97FF\", \"#FECB52\"], \"font\": {\"color\": \"#2a3f5f\"}, \"geo\": {\"bgcolor\": \"white\", \"lakecolor\": \"white\", \"landcolor\": \"#E5ECF6\", \"showlakes\": true, \"showland\": true, \"subunitcolor\": \"white\"}, \"hoverlabel\": {\"align\": \"left\"}, \"hovermode\": \"closest\", \"mapbox\": {\"style\": \"light\"}, \"paper_bgcolor\": \"white\", \"plot_bgcolor\": \"#E5ECF6\", \"polar\": {\"angularaxis\": {\"gridcolor\": \"white\", \"linecolor\": \"white\", \"ticks\": \"\"}, \"bgcolor\": \"#E5ECF6\", \"radialaxis\": {\"gridcolor\": \"white\", \"linecolor\": \"white\", \"ticks\": \"\"}}, \"scene\": {\"xaxis\": {\"backgroundcolor\": \"#E5ECF6\", \"gridcolor\": \"white\", \"gridwidth\": 2, \"linecolor\": \"white\", \"showbackground\": true, \"ticks\": \"\", \"zerolinecolor\": \"white\"}, \"yaxis\": {\"backgroundcolor\": \"#E5ECF6\", \"gridcolor\": \"white\", \"gridwidth\": 2, \"linecolor\": \"white\", \"showbackground\": true, \"ticks\": \"\", \"zerolinecolor\": \"white\"}, \"zaxis\": {\"backgroundcolor\": \"#E5ECF6\", \"gridcolor\": \"white\", \"gridwidth\": 2, \"linecolor\": \"white\", \"showbackground\": true, \"ticks\": \"\", \"zerolinecolor\": \"white\"}}, \"shapedefaults\": {\"line\": {\"color\": \"#2a3f5f\"}}, \"ternary\": {\"aaxis\": {\"gridcolor\": \"white\", \"linecolor\": \"white\", \"ticks\": \"\"}, \"baxis\": {\"gridcolor\": \"white\", \"linecolor\": \"white\", \"ticks\": \"\"}, \"bgcolor\": \"#E5ECF6\", \"caxis\": {\"gridcolor\": \"white\", \"linecolor\": \"white\", \"ticks\": \"\"}}, \"title\": {\"x\": 0.05}, \"xaxis\": {\"automargin\": true, \"gridcolor\": \"white\", \"linecolor\": \"white\", \"ticks\": \"\", \"title\": {\"standoff\": 15}, \"zerolinecolor\": \"white\", \"zerolinewidth\": 2}, \"yaxis\": {\"automargin\": true, \"gridcolor\": \"white\", \"linecolor\": \"white\", \"ticks\": \"\", \"title\": {\"standoff\": 15}, \"zerolinecolor\": \"white\", \"zerolinewidth\": 2}}}, \"title\": {\"text\": \"Ya\\u015fl\\u0131 N\\u00fcfus Ba\\u015f\\u0131na D\\u00fc\\u015fen Vaka Say\\u0131s\\u0131n\\u0131n En Y\\u00fcksek Oldu\\u011fu 15 \\u0130limiz\"}, \"yaxis\": {\"gridcolor\": \"white\", \"gridwidth\": 2, \"title\": {\"text\": \"Ya\\u015fl\\u0131 ba\\u015f\\u0131na d\\u00fc\\u015fen vaka say\\u0131s\\u0131 (8-14 May\\u0131s)\"}}},\n",
       "                        {\"responsive\": true}\n",
       "                    ).then(function(){\n",
       "                            \n",
       "var gd = document.getElementById('185b7214-a76c-423f-a339-239d95706c43');\n",
       "var x = new MutationObserver(function (mutations, observer) {{\n",
       "        var display = window.getComputedStyle(gd).display;\n",
       "        if (!display || display === 'none') {{\n",
       "            console.log([gd, 'removed!']);\n",
       "            Plotly.purge(gd);\n",
       "            observer.disconnect();\n",
       "        }}\n",
       "}});\n",
       "\n",
       "// Listen for the removal of the full notebook cells\n",
       "var notebookContainer = gd.closest('#notebook-container');\n",
       "if (notebookContainer) {{\n",
       "    x.observe(notebookContainer, {childList: true});\n",
       "}}\n",
       "\n",
       "// Listen for the clearing of the current output cell\n",
       "var outputEl = gd.closest('.output');\n",
       "if (outputEl) {{\n",
       "    x.observe(outputEl, {childList: true});\n",
       "}}\n",
       "\n",
       "                        })\n",
       "                };\n",
       "                });\n",
       "            </script>\n",
       "        </div>"
      ]
     },
     "metadata": {},
     "output_type": "display_data"
    }
   ],
   "source": [
    "import plotly.graph_objects as go\n",
    "\n",
    "veri_paleti_v3 = veri_paleti.sort_values('YasliBasinaDusenVakaSayisi')\n",
    "veri_paleti_v3 = veri_paleti_v3[66:81]\n",
    "\n",
    "fig = go.FigureWidget([go.Scatter(x=veri_paleti_v3.index, y=veri_paleti_v3['YasliBasinaDusenVakaSayisi'], mode='markers')])\n",
    "\n",
    "fig.update_layout(\n",
    "    title='Yaşlı Nüfus Başına Düşen Vaka Sayısının En Yüksek Olduğu 15 İlimiz',\n",
    "    yaxis=dict(\n",
    "        title='Yaşlı başına düşen vaka sayısı (8-14 Mayıs)',\n",
    "        gridcolor='white',\n",
    "        gridwidth=2,\n",
    "    ) \n",
    ")\n",
    "\n",
    "fig.show()"
   ]
  },
  {
   "cell_type": "markdown",
   "metadata": {},
   "source": [
    "### Ortak Görselleştirme"
   ]
  },
  {
   "cell_type": "code",
   "execution_count": 26,
   "metadata": {},
   "outputs": [
    {
     "data": {
      "text/html": [
       "<div>\n",
       "<style scoped>\n",
       "    .dataframe tbody tr th:only-of-type {\n",
       "        vertical-align: middle;\n",
       "    }\n",
       "\n",
       "    .dataframe tbody tr th {\n",
       "        vertical-align: top;\n",
       "    }\n",
       "\n",
       "    .dataframe thead th {\n",
       "        text-align: right;\n",
       "    }\n",
       "</style>\n",
       "<table border=\"1\" class=\"dataframe\">\n",
       "  <thead>\n",
       "    <tr style=\"text-align: right;\">\n",
       "      <th></th>\n",
       "      <th>AsiDoz2_x</th>\n",
       "      <th>ToplamNufus_x</th>\n",
       "      <th>YasliNufus_x</th>\n",
       "      <th>YasliNufusOrani_x</th>\n",
       "      <th>AsiOrani_x</th>\n",
       "      <th>VakaSayisi_x</th>\n",
       "      <th>ToplamVakaSayisi_x</th>\n",
       "      <th>YasliBasinaDusenVakaSayisi_x</th>\n",
       "      <th>AsiDoz2_y</th>\n",
       "    </tr>\n",
       "    <tr>\n",
       "      <th>İl</th>\n",
       "      <th></th>\n",
       "      <th></th>\n",
       "      <th></th>\n",
       "      <th></th>\n",
       "      <th></th>\n",
       "      <th></th>\n",
       "      <th></th>\n",
       "      <th></th>\n",
       "      <th></th>\n",
       "    </tr>\n",
       "  </thead>\n",
       "  <tbody>\n",
       "    <tr>\n",
       "      <th>Hakkari</th>\n",
       "      <td>8330.0</td>\n",
       "      <td>280514.0</td>\n",
       "      <td>30833.0</td>\n",
       "      <td>0.109916</td>\n",
       "      <td>0.029695</td>\n",
       "      <td>78.43</td>\n",
       "      <td>220.007130</td>\n",
       "      <td>0.007135</td>\n",
       "      <td>8330.0</td>\n",
       "    </tr>\n",
       "    <tr>\n",
       "      <th>Ağrı</th>\n",
       "      <td>23414.0</td>\n",
       "      <td>535435.0</td>\n",
       "      <td>70323.0</td>\n",
       "      <td>0.131338</td>\n",
       "      <td>0.043729</td>\n",
       "      <td>182.84</td>\n",
       "      <td>978.989354</td>\n",
       "      <td>0.013921</td>\n",
       "      <td>23414.0</td>\n",
       "    </tr>\n",
       "    <tr>\n",
       "      <th>Bitlis</th>\n",
       "      <td>16349.0</td>\n",
       "      <td>350994.0</td>\n",
       "      <td>51132.0</td>\n",
       "      <td>0.145678</td>\n",
       "      <td>0.046579</td>\n",
       "      <td>96.87</td>\n",
       "      <td>340.007888</td>\n",
       "      <td>0.006650</td>\n",
       "      <td>16349.0</td>\n",
       "    </tr>\n",
       "    <tr>\n",
       "      <th>Batman</th>\n",
       "      <td>34249.0</td>\n",
       "      <td>620278.0</td>\n",
       "      <td>78660.0</td>\n",
       "      <td>0.126814</td>\n",
       "      <td>0.055216</td>\n",
       "      <td>56.91</td>\n",
       "      <td>353.000210</td>\n",
       "      <td>0.004488</td>\n",
       "      <td>34249.0</td>\n",
       "    </tr>\n",
       "    <tr>\n",
       "      <th>Diyarbakır</th>\n",
       "      <td>99290.0</td>\n",
       "      <td>1783431.0</td>\n",
       "      <td>248142.0</td>\n",
       "      <td>0.139137</td>\n",
       "      <td>0.055674</td>\n",
       "      <td>63.81</td>\n",
       "      <td>1138.007321</td>\n",
       "      <td>0.004586</td>\n",
       "      <td>99290.0</td>\n",
       "    </tr>\n",
       "    <tr>\n",
       "      <th>Iğdır</th>\n",
       "      <td>14401.0</td>\n",
       "      <td>201314.0</td>\n",
       "      <td>36085.0</td>\n",
       "      <td>0.179247</td>\n",
       "      <td>0.071535</td>\n",
       "      <td>78.48</td>\n",
       "      <td>157.991227</td>\n",
       "      <td>0.004378</td>\n",
       "      <td>14401.0</td>\n",
       "    </tr>\n",
       "    <tr>\n",
       "      <th>Gaziantep</th>\n",
       "      <td>152062.0</td>\n",
       "      <td>2101157.0</td>\n",
       "      <td>338023.0</td>\n",
       "      <td>0.160875</td>\n",
       "      <td>0.072371</td>\n",
       "      <td>76.53</td>\n",
       "      <td>1608.015452</td>\n",
       "      <td>0.004757</td>\n",
       "      <td>152062.0</td>\n",
       "    </tr>\n",
       "    <tr>\n",
       "      <th>Kars</th>\n",
       "      <td>28588.0</td>\n",
       "      <td>284923.0</td>\n",
       "      <td>59173.0</td>\n",
       "      <td>0.207681</td>\n",
       "      <td>0.100336</td>\n",
       "      <td>144.25</td>\n",
       "      <td>411.001427</td>\n",
       "      <td>0.006946</td>\n",
       "      <td>28588.0</td>\n",
       "    </tr>\n",
       "    <tr>\n",
       "      <th>Erzurum</th>\n",
       "      <td>83207.0</td>\n",
       "      <td>758279.0</td>\n",
       "      <td>165305.0</td>\n",
       "      <td>0.218000</td>\n",
       "      <td>0.109731</td>\n",
       "      <td>192.28</td>\n",
       "      <td>1458.018861</td>\n",
       "      <td>0.008820</td>\n",
       "      <td>83207.0</td>\n",
       "    </tr>\n",
       "    <tr>\n",
       "      <th>İstanbul</th>\n",
       "      <td>1776273.0</td>\n",
       "      <td>15462452.0</td>\n",
       "      <td>3394053.0</td>\n",
       "      <td>0.219503</td>\n",
       "      <td>0.114877</td>\n",
       "      <td>184.78</td>\n",
       "      <td>28571.518806</td>\n",
       "      <td>0.008418</td>\n",
       "      <td>1776273.0</td>\n",
       "    </tr>\n",
       "    <tr>\n",
       "      <th>Kocaeli</th>\n",
       "      <td>245065.0</td>\n",
       "      <td>1997258.0</td>\n",
       "      <td>440291.0</td>\n",
       "      <td>0.220448</td>\n",
       "      <td>0.122701</td>\n",
       "      <td>154.46</td>\n",
       "      <td>3084.964707</td>\n",
       "      <td>0.007007</td>\n",
       "      <td>245065.0</td>\n",
       "    </tr>\n",
       "    <tr>\n",
       "      <th>Niğde</th>\n",
       "      <td>45972.0</td>\n",
       "      <td>362071.0</td>\n",
       "      <td>93241.0</td>\n",
       "      <td>0.257521</td>\n",
       "      <td>0.126970</td>\n",
       "      <td>118.76</td>\n",
       "      <td>429.995520</td>\n",
       "      <td>0.004612</td>\n",
       "      <td>45972.0</td>\n",
       "    </tr>\n",
       "    <tr>\n",
       "      <th>Konya</th>\n",
       "      <td>298596.0</td>\n",
       "      <td>2250020.0</td>\n",
       "      <td>560838.0</td>\n",
       "      <td>0.249259</td>\n",
       "      <td>0.132708</td>\n",
       "      <td>121.87</td>\n",
       "      <td>2742.099374</td>\n",
       "      <td>0.004889</td>\n",
       "      <td>298596.0</td>\n",
       "    </tr>\n",
       "  </tbody>\n",
       "</table>\n",
       "</div>"
      ],
      "text/plain": [
       "            AsiDoz2_x  ToplamNufus_x  YasliNufus_x  YasliNufusOrani_x  \\\n",
       "İl                                                                      \n",
       "Hakkari        8330.0       280514.0       30833.0           0.109916   \n",
       "Ağrı          23414.0       535435.0       70323.0           0.131338   \n",
       "Bitlis        16349.0       350994.0       51132.0           0.145678   \n",
       "Batman        34249.0       620278.0       78660.0           0.126814   \n",
       "Diyarbakır    99290.0      1783431.0      248142.0           0.139137   \n",
       "Iğdır         14401.0       201314.0       36085.0           0.179247   \n",
       "Gaziantep    152062.0      2101157.0      338023.0           0.160875   \n",
       "Kars          28588.0       284923.0       59173.0           0.207681   \n",
       "Erzurum       83207.0       758279.0      165305.0           0.218000   \n",
       "İstanbul    1776273.0     15462452.0     3394053.0           0.219503   \n",
       "Kocaeli      245065.0      1997258.0      440291.0           0.220448   \n",
       "Niğde         45972.0       362071.0       93241.0           0.257521   \n",
       "Konya        298596.0      2250020.0      560838.0           0.249259   \n",
       "\n",
       "            AsiOrani_x  VakaSayisi_x  ToplamVakaSayisi_x  \\\n",
       "İl                                                         \n",
       "Hakkari       0.029695         78.43          220.007130   \n",
       "Ağrı          0.043729        182.84          978.989354   \n",
       "Bitlis        0.046579         96.87          340.007888   \n",
       "Batman        0.055216         56.91          353.000210   \n",
       "Diyarbakır    0.055674         63.81         1138.007321   \n",
       "Iğdır         0.071535         78.48          157.991227   \n",
       "Gaziantep     0.072371         76.53         1608.015452   \n",
       "Kars          0.100336        144.25          411.001427   \n",
       "Erzurum       0.109731        192.28         1458.018861   \n",
       "İstanbul      0.114877        184.78        28571.518806   \n",
       "Kocaeli       0.122701        154.46         3084.964707   \n",
       "Niğde         0.126970        118.76          429.995520   \n",
       "Konya         0.132708        121.87         2742.099374   \n",
       "\n",
       "            YasliBasinaDusenVakaSayisi_x  AsiDoz2_y  \n",
       "İl                                                   \n",
       "Hakkari                         0.007135     8330.0  \n",
       "Ağrı                            0.013921    23414.0  \n",
       "Bitlis                          0.006650    16349.0  \n",
       "Batman                          0.004488    34249.0  \n",
       "Diyarbakır                      0.004586    99290.0  \n",
       "Iğdır                           0.004378    14401.0  \n",
       "Gaziantep                       0.004757   152062.0  \n",
       "Kars                            0.006946    28588.0  \n",
       "Erzurum                         0.008820    83207.0  \n",
       "İstanbul                        0.008418  1776273.0  \n",
       "Kocaeli                         0.007007   245065.0  \n",
       "Niğde                           0.004612    45972.0  \n",
       "Konya                           0.004889   298596.0  "
      ]
     },
     "execution_count": 26,
     "metadata": {},
     "output_type": "execute_result"
    }
   ],
   "source": [
    "veri_paleti_v3 = veri_paleti.sort_values('YasliBasinaDusenVakaSayisi')[51:81]\n",
    "veri_paleti_v4 = veri_paleti.sort_values('AsiOrani')[0:30]\n",
    "\n",
    "veri_paleti_v5 = veri_paleti_v4.merge(veri_paleti_v3, how='inner', left_index=True, right_index=True).T.iloc[0:9].T\n",
    "veri_paleti_v5"
   ]
  },
  {
   "cell_type": "code",
   "execution_count": 27,
   "metadata": {},
   "outputs": [
    {
     "data": {
      "application/vnd.plotly.v1+json": {
       "config": {
        "plotlyServerURL": "https://plot.ly"
       },
       "data": [
        {
         "marker": {
          "color": "rgba(50, 171, 96, 0.6)",
          "line": {
           "color": "rgba(50, 171, 96, 1.0)",
           "width": 1
          }
         },
         "name": "2 Doz aşı vurulan kişi oranı -Toplam- (17 Mayıs)",
         "orientation": "h",
         "type": "bar",
         "x": [
          0.02969548756924788,
          0.04372893068252916,
          0.046579143803027974,
          0.05521556463392221,
          0.0556735864746099,
          0.0715350149517669,
          0.07237060343420315,
          0.10033588022027004,
          0.10973137855591411,
          0.11487654092636795,
          0.1227007226908091,
          0.12696957226621297,
          0.1327081537053004
         ],
         "xaxis": "x",
         "y": [
          "Hakkari",
          "Ağrı",
          "Bitlis",
          "Batman",
          "Diyarbakır",
          "Iğdır",
          "Gaziantep",
          "Kars",
          "Erzurum",
          "İstanbul",
          "Kocaeli",
          "Niğde",
          "Konya"
         ],
         "yaxis": "y"
        },
        {
         "line": {
          "color": "rgb(128, 0, 128)"
         },
         "mode": "lines+markers",
         "name": "Yaşlı(50 ve üstü yaş) vatandaşımız başına düşen vaka sayısı (8-14 Mayıs)",
         "type": "scatter",
         "x": [
          0.007135443524794864,
          0.013921325227877082,
          0.006649610572635531,
          0.004487671113653699,
          0.0045861132782842075,
          0.004378307529444367,
          0.004757118456732234,
          0.006945759510249607,
          0.008820173988687577,
          0.008418112152520894,
          0.007006649481365734,
          0.0046116570993447095,
          0.004889289552419772
         ],
         "xaxis": "x2",
         "y": [
          "Hakkari",
          "Ağrı",
          "Bitlis",
          "Batman",
          "Diyarbakır",
          "Iğdır",
          "Gaziantep",
          "Kars",
          "Erzurum",
          "İstanbul",
          "Kocaeli",
          "Niğde",
          "Konya"
         ],
         "yaxis": "y2"
        }
       ],
       "layout": {
        "annotations": [
         {
          "font": {
           "color": "rgb(128, 0, 128)",
           "family": "Arial",
           "size": 12
          },
          "showarrow": false,
          "text": "0.007",
          "x": 0.007,
          "xref": "x2",
          "y": "Hakkari",
          "yref": "y2"
         },
         {
          "font": {
           "color": "rgb(50, 171, 96)",
           "family": "Arial",
           "size": 12
          },
          "showarrow": false,
          "text": "0.03%",
          "x": 0.03,
          "xref": "x",
          "y": "Hakkari",
          "yref": "y"
         },
         {
          "font": {
           "color": "rgb(128, 0, 128)",
           "family": "Arial",
           "size": 12
          },
          "showarrow": false,
          "text": "0.014",
          "x": 0.014,
          "xref": "x2",
          "y": "Ağrı",
          "yref": "y2"
         },
         {
          "font": {
           "color": "rgb(50, 171, 96)",
           "family": "Arial",
           "size": 12
          },
          "showarrow": false,
          "text": "0.04%",
          "x": 0.04,
          "xref": "x",
          "y": "Ağrı",
          "yref": "y"
         },
         {
          "font": {
           "color": "rgb(128, 0, 128)",
           "family": "Arial",
           "size": 12
          },
          "showarrow": false,
          "text": "0.007",
          "x": 0.007,
          "xref": "x2",
          "y": "Bitlis",
          "yref": "y2"
         },
         {
          "font": {
           "color": "rgb(50, 171, 96)",
           "family": "Arial",
           "size": 12
          },
          "showarrow": false,
          "text": "0.05%",
          "x": 0.05,
          "xref": "x",
          "y": "Bitlis",
          "yref": "y"
         },
         {
          "font": {
           "color": "rgb(128, 0, 128)",
           "family": "Arial",
           "size": 12
          },
          "showarrow": false,
          "text": "0.004",
          "x": 0.004,
          "xref": "x2",
          "y": "Batman",
          "yref": "y2"
         },
         {
          "font": {
           "color": "rgb(50, 171, 96)",
           "family": "Arial",
           "size": 12
          },
          "showarrow": false,
          "text": "0.06%",
          "x": 0.06,
          "xref": "x",
          "y": "Batman",
          "yref": "y"
         },
         {
          "font": {
           "color": "rgb(128, 0, 128)",
           "family": "Arial",
           "size": 12
          },
          "showarrow": false,
          "text": "0.005",
          "x": 0.005,
          "xref": "x2",
          "y": "Diyarbakır",
          "yref": "y2"
         },
         {
          "font": {
           "color": "rgb(50, 171, 96)",
           "family": "Arial",
           "size": 12
          },
          "showarrow": false,
          "text": "0.06%",
          "x": 0.06,
          "xref": "x",
          "y": "Diyarbakır",
          "yref": "y"
         },
         {
          "font": {
           "color": "rgb(128, 0, 128)",
           "family": "Arial",
           "size": 12
          },
          "showarrow": false,
          "text": "0.004",
          "x": 0.004,
          "xref": "x2",
          "y": "Iğdır",
          "yref": "y2"
         },
         {
          "font": {
           "color": "rgb(50, 171, 96)",
           "family": "Arial",
           "size": 12
          },
          "showarrow": false,
          "text": "0.07%",
          "x": 0.07,
          "xref": "x",
          "y": "Iğdır",
          "yref": "y"
         },
         {
          "font": {
           "color": "rgb(128, 0, 128)",
           "family": "Arial",
           "size": 12
          },
          "showarrow": false,
          "text": "0.005",
          "x": 0.005,
          "xref": "x2",
          "y": "Gaziantep",
          "yref": "y2"
         },
         {
          "font": {
           "color": "rgb(50, 171, 96)",
           "family": "Arial",
           "size": 12
          },
          "showarrow": false,
          "text": "0.07%",
          "x": 0.07,
          "xref": "x",
          "y": "Gaziantep",
          "yref": "y"
         },
         {
          "font": {
           "color": "rgb(128, 0, 128)",
           "family": "Arial",
           "size": 12
          },
          "showarrow": false,
          "text": "0.007",
          "x": 0.007,
          "xref": "x2",
          "y": "Kars",
          "yref": "y2"
         },
         {
          "font": {
           "color": "rgb(50, 171, 96)",
           "family": "Arial",
           "size": 12
          },
          "showarrow": false,
          "text": "0.1%",
          "x": 0.1,
          "xref": "x",
          "y": "Kars",
          "yref": "y"
         },
         {
          "font": {
           "color": "rgb(128, 0, 128)",
           "family": "Arial",
           "size": 12
          },
          "showarrow": false,
          "text": "0.009",
          "x": 0.009,
          "xref": "x2",
          "y": "Erzurum",
          "yref": "y2"
         },
         {
          "font": {
           "color": "rgb(50, 171, 96)",
           "family": "Arial",
           "size": 12
          },
          "showarrow": false,
          "text": "0.11%",
          "x": 0.11,
          "xref": "x",
          "y": "Erzurum",
          "yref": "y"
         },
         {
          "font": {
           "color": "rgb(128, 0, 128)",
           "family": "Arial",
           "size": 12
          },
          "showarrow": false,
          "text": "0.008",
          "x": 0.008,
          "xref": "x2",
          "y": "İstanbul",
          "yref": "y2"
         },
         {
          "font": {
           "color": "rgb(50, 171, 96)",
           "family": "Arial",
           "size": 12
          },
          "showarrow": false,
          "text": "0.11%",
          "x": 0.11,
          "xref": "x",
          "y": "İstanbul",
          "yref": "y"
         },
         {
          "font": {
           "color": "rgb(128, 0, 128)",
           "family": "Arial",
           "size": 12
          },
          "showarrow": false,
          "text": "0.007",
          "x": 0.007,
          "xref": "x2",
          "y": "Kocaeli",
          "yref": "y2"
         },
         {
          "font": {
           "color": "rgb(50, 171, 96)",
           "family": "Arial",
           "size": 12
          },
          "showarrow": false,
          "text": "0.12%",
          "x": 0.12,
          "xref": "x",
          "y": "Kocaeli",
          "yref": "y"
         },
         {
          "font": {
           "color": "rgb(128, 0, 128)",
           "family": "Arial",
           "size": 12
          },
          "showarrow": false,
          "text": "0.005",
          "x": 0.005,
          "xref": "x2",
          "y": "Niğde",
          "yref": "y2"
         },
         {
          "font": {
           "color": "rgb(50, 171, 96)",
           "family": "Arial",
           "size": 12
          },
          "showarrow": false,
          "text": "0.13%",
          "x": 0.13,
          "xref": "x",
          "y": "Niğde",
          "yref": "y"
         },
         {
          "font": {
           "color": "rgb(128, 0, 128)",
           "family": "Arial",
           "size": 12
          },
          "showarrow": false,
          "text": "0.005",
          "x": 0.005,
          "xref": "x2",
          "y": "Konya",
          "yref": "y2"
         },
         {
          "font": {
           "color": "rgb(50, 171, 96)",
           "family": "Arial",
           "size": 12
          },
          "showarrow": false,
          "text": "0.13%",
          "x": 0.13,
          "xref": "x",
          "y": "Konya",
          "yref": "y"
         },
         {
          "font": {
           "color": "rgb(150,150,150)",
           "family": "Arial",
           "size": 10
          },
          "showarrow": false,
          "text": "Hazırlayan: Selim Savaş Kaynak: TÜİK, T.C. Sağlık Bakanlığı",
          "x": 0,
          "xref": "paper",
          "y": -0.109,
          "yref": "paper"
         }
        ],
        "legend": {
         "font": {
          "size": 10
         },
         "x": 0.029,
         "y": 1.038
        },
        "margin": {
         "b": 70,
         "l": 100,
         "r": 20,
         "t": 70
        },
        "paper_bgcolor": "rgb(248, 248, 255)",
        "plot_bgcolor": "rgb(248, 248, 255)",
        "template": {
         "data": {
          "bar": [
           {
            "error_x": {
             "color": "#2a3f5f"
            },
            "error_y": {
             "color": "#2a3f5f"
            },
            "marker": {
             "line": {
              "color": "#E5ECF6",
              "width": 0.5
             }
            },
            "type": "bar"
           }
          ],
          "barpolar": [
           {
            "marker": {
             "line": {
              "color": "#E5ECF6",
              "width": 0.5
             }
            },
            "type": "barpolar"
           }
          ],
          "carpet": [
           {
            "aaxis": {
             "endlinecolor": "#2a3f5f",
             "gridcolor": "white",
             "linecolor": "white",
             "minorgridcolor": "white",
             "startlinecolor": "#2a3f5f"
            },
            "baxis": {
             "endlinecolor": "#2a3f5f",
             "gridcolor": "white",
             "linecolor": "white",
             "minorgridcolor": "white",
             "startlinecolor": "#2a3f5f"
            },
            "type": "carpet"
           }
          ],
          "choropleth": [
           {
            "colorbar": {
             "outlinewidth": 0,
             "ticks": ""
            },
            "type": "choropleth"
           }
          ],
          "contour": [
           {
            "colorbar": {
             "outlinewidth": 0,
             "ticks": ""
            },
            "colorscale": [
             [
              0,
              "#0d0887"
             ],
             [
              0.1111111111111111,
              "#46039f"
             ],
             [
              0.2222222222222222,
              "#7201a8"
             ],
             [
              0.3333333333333333,
              "#9c179e"
             ],
             [
              0.4444444444444444,
              "#bd3786"
             ],
             [
              0.5555555555555556,
              "#d8576b"
             ],
             [
              0.6666666666666666,
              "#ed7953"
             ],
             [
              0.7777777777777778,
              "#fb9f3a"
             ],
             [
              0.8888888888888888,
              "#fdca26"
             ],
             [
              1,
              "#f0f921"
             ]
            ],
            "type": "contour"
           }
          ],
          "contourcarpet": [
           {
            "colorbar": {
             "outlinewidth": 0,
             "ticks": ""
            },
            "type": "contourcarpet"
           }
          ],
          "heatmap": [
           {
            "colorbar": {
             "outlinewidth": 0,
             "ticks": ""
            },
            "colorscale": [
             [
              0,
              "#0d0887"
             ],
             [
              0.1111111111111111,
              "#46039f"
             ],
             [
              0.2222222222222222,
              "#7201a8"
             ],
             [
              0.3333333333333333,
              "#9c179e"
             ],
             [
              0.4444444444444444,
              "#bd3786"
             ],
             [
              0.5555555555555556,
              "#d8576b"
             ],
             [
              0.6666666666666666,
              "#ed7953"
             ],
             [
              0.7777777777777778,
              "#fb9f3a"
             ],
             [
              0.8888888888888888,
              "#fdca26"
             ],
             [
              1,
              "#f0f921"
             ]
            ],
            "type": "heatmap"
           }
          ],
          "heatmapgl": [
           {
            "colorbar": {
             "outlinewidth": 0,
             "ticks": ""
            },
            "colorscale": [
             [
              0,
              "#0d0887"
             ],
             [
              0.1111111111111111,
              "#46039f"
             ],
             [
              0.2222222222222222,
              "#7201a8"
             ],
             [
              0.3333333333333333,
              "#9c179e"
             ],
             [
              0.4444444444444444,
              "#bd3786"
             ],
             [
              0.5555555555555556,
              "#d8576b"
             ],
             [
              0.6666666666666666,
              "#ed7953"
             ],
             [
              0.7777777777777778,
              "#fb9f3a"
             ],
             [
              0.8888888888888888,
              "#fdca26"
             ],
             [
              1,
              "#f0f921"
             ]
            ],
            "type": "heatmapgl"
           }
          ],
          "histogram": [
           {
            "marker": {
             "colorbar": {
              "outlinewidth": 0,
              "ticks": ""
             }
            },
            "type": "histogram"
           }
          ],
          "histogram2d": [
           {
            "colorbar": {
             "outlinewidth": 0,
             "ticks": ""
            },
            "colorscale": [
             [
              0,
              "#0d0887"
             ],
             [
              0.1111111111111111,
              "#46039f"
             ],
             [
              0.2222222222222222,
              "#7201a8"
             ],
             [
              0.3333333333333333,
              "#9c179e"
             ],
             [
              0.4444444444444444,
              "#bd3786"
             ],
             [
              0.5555555555555556,
              "#d8576b"
             ],
             [
              0.6666666666666666,
              "#ed7953"
             ],
             [
              0.7777777777777778,
              "#fb9f3a"
             ],
             [
              0.8888888888888888,
              "#fdca26"
             ],
             [
              1,
              "#f0f921"
             ]
            ],
            "type": "histogram2d"
           }
          ],
          "histogram2dcontour": [
           {
            "colorbar": {
             "outlinewidth": 0,
             "ticks": ""
            },
            "colorscale": [
             [
              0,
              "#0d0887"
             ],
             [
              0.1111111111111111,
              "#46039f"
             ],
             [
              0.2222222222222222,
              "#7201a8"
             ],
             [
              0.3333333333333333,
              "#9c179e"
             ],
             [
              0.4444444444444444,
              "#bd3786"
             ],
             [
              0.5555555555555556,
              "#d8576b"
             ],
             [
              0.6666666666666666,
              "#ed7953"
             ],
             [
              0.7777777777777778,
              "#fb9f3a"
             ],
             [
              0.8888888888888888,
              "#fdca26"
             ],
             [
              1,
              "#f0f921"
             ]
            ],
            "type": "histogram2dcontour"
           }
          ],
          "mesh3d": [
           {
            "colorbar": {
             "outlinewidth": 0,
             "ticks": ""
            },
            "type": "mesh3d"
           }
          ],
          "parcoords": [
           {
            "line": {
             "colorbar": {
              "outlinewidth": 0,
              "ticks": ""
             }
            },
            "type": "parcoords"
           }
          ],
          "pie": [
           {
            "automargin": true,
            "type": "pie"
           }
          ],
          "scatter": [
           {
            "marker": {
             "colorbar": {
              "outlinewidth": 0,
              "ticks": ""
             }
            },
            "type": "scatter"
           }
          ],
          "scatter3d": [
           {
            "line": {
             "colorbar": {
              "outlinewidth": 0,
              "ticks": ""
             }
            },
            "marker": {
             "colorbar": {
              "outlinewidth": 0,
              "ticks": ""
             }
            },
            "type": "scatter3d"
           }
          ],
          "scattercarpet": [
           {
            "marker": {
             "colorbar": {
              "outlinewidth": 0,
              "ticks": ""
             }
            },
            "type": "scattercarpet"
           }
          ],
          "scattergeo": [
           {
            "marker": {
             "colorbar": {
              "outlinewidth": 0,
              "ticks": ""
             }
            },
            "type": "scattergeo"
           }
          ],
          "scattergl": [
           {
            "marker": {
             "colorbar": {
              "outlinewidth": 0,
              "ticks": ""
             }
            },
            "type": "scattergl"
           }
          ],
          "scattermapbox": [
           {
            "marker": {
             "colorbar": {
              "outlinewidth": 0,
              "ticks": ""
             }
            },
            "type": "scattermapbox"
           }
          ],
          "scatterpolar": [
           {
            "marker": {
             "colorbar": {
              "outlinewidth": 0,
              "ticks": ""
             }
            },
            "type": "scatterpolar"
           }
          ],
          "scatterpolargl": [
           {
            "marker": {
             "colorbar": {
              "outlinewidth": 0,
              "ticks": ""
             }
            },
            "type": "scatterpolargl"
           }
          ],
          "scatterternary": [
           {
            "marker": {
             "colorbar": {
              "outlinewidth": 0,
              "ticks": ""
             }
            },
            "type": "scatterternary"
           }
          ],
          "surface": [
           {
            "colorbar": {
             "outlinewidth": 0,
             "ticks": ""
            },
            "colorscale": [
             [
              0,
              "#0d0887"
             ],
             [
              0.1111111111111111,
              "#46039f"
             ],
             [
              0.2222222222222222,
              "#7201a8"
             ],
             [
              0.3333333333333333,
              "#9c179e"
             ],
             [
              0.4444444444444444,
              "#bd3786"
             ],
             [
              0.5555555555555556,
              "#d8576b"
             ],
             [
              0.6666666666666666,
              "#ed7953"
             ],
             [
              0.7777777777777778,
              "#fb9f3a"
             ],
             [
              0.8888888888888888,
              "#fdca26"
             ],
             [
              1,
              "#f0f921"
             ]
            ],
            "type": "surface"
           }
          ],
          "table": [
           {
            "cells": {
             "fill": {
              "color": "#EBF0F8"
             },
             "line": {
              "color": "white"
             }
            },
            "header": {
             "fill": {
              "color": "#C8D4E3"
             },
             "line": {
              "color": "white"
             }
            },
            "type": "table"
           }
          ]
         },
         "layout": {
          "annotationdefaults": {
           "arrowcolor": "#2a3f5f",
           "arrowhead": 0,
           "arrowwidth": 1
          },
          "coloraxis": {
           "colorbar": {
            "outlinewidth": 0,
            "ticks": ""
           }
          },
          "colorscale": {
           "diverging": [
            [
             0,
             "#8e0152"
            ],
            [
             0.1,
             "#c51b7d"
            ],
            [
             0.2,
             "#de77ae"
            ],
            [
             0.3,
             "#f1b6da"
            ],
            [
             0.4,
             "#fde0ef"
            ],
            [
             0.5,
             "#f7f7f7"
            ],
            [
             0.6,
             "#e6f5d0"
            ],
            [
             0.7,
             "#b8e186"
            ],
            [
             0.8,
             "#7fbc41"
            ],
            [
             0.9,
             "#4d9221"
            ],
            [
             1,
             "#276419"
            ]
           ],
           "sequential": [
            [
             0,
             "#0d0887"
            ],
            [
             0.1111111111111111,
             "#46039f"
            ],
            [
             0.2222222222222222,
             "#7201a8"
            ],
            [
             0.3333333333333333,
             "#9c179e"
            ],
            [
             0.4444444444444444,
             "#bd3786"
            ],
            [
             0.5555555555555556,
             "#d8576b"
            ],
            [
             0.6666666666666666,
             "#ed7953"
            ],
            [
             0.7777777777777778,
             "#fb9f3a"
            ],
            [
             0.8888888888888888,
             "#fdca26"
            ],
            [
             1,
             "#f0f921"
            ]
           ],
           "sequentialminus": [
            [
             0,
             "#0d0887"
            ],
            [
             0.1111111111111111,
             "#46039f"
            ],
            [
             0.2222222222222222,
             "#7201a8"
            ],
            [
             0.3333333333333333,
             "#9c179e"
            ],
            [
             0.4444444444444444,
             "#bd3786"
            ],
            [
             0.5555555555555556,
             "#d8576b"
            ],
            [
             0.6666666666666666,
             "#ed7953"
            ],
            [
             0.7777777777777778,
             "#fb9f3a"
            ],
            [
             0.8888888888888888,
             "#fdca26"
            ],
            [
             1,
             "#f0f921"
            ]
           ]
          },
          "colorway": [
           "#636efa",
           "#EF553B",
           "#00cc96",
           "#ab63fa",
           "#FFA15A",
           "#19d3f3",
           "#FF6692",
           "#B6E880",
           "#FF97FF",
           "#FECB52"
          ],
          "font": {
           "color": "#2a3f5f"
          },
          "geo": {
           "bgcolor": "white",
           "lakecolor": "white",
           "landcolor": "#E5ECF6",
           "showlakes": true,
           "showland": true,
           "subunitcolor": "white"
          },
          "hoverlabel": {
           "align": "left"
          },
          "hovermode": "closest",
          "mapbox": {
           "style": "light"
          },
          "paper_bgcolor": "white",
          "plot_bgcolor": "#E5ECF6",
          "polar": {
           "angularaxis": {
            "gridcolor": "white",
            "linecolor": "white",
            "ticks": ""
           },
           "bgcolor": "#E5ECF6",
           "radialaxis": {
            "gridcolor": "white",
            "linecolor": "white",
            "ticks": ""
           }
          },
          "scene": {
           "xaxis": {
            "backgroundcolor": "#E5ECF6",
            "gridcolor": "white",
            "gridwidth": 2,
            "linecolor": "white",
            "showbackground": true,
            "ticks": "",
            "zerolinecolor": "white"
           },
           "yaxis": {
            "backgroundcolor": "#E5ECF6",
            "gridcolor": "white",
            "gridwidth": 2,
            "linecolor": "white",
            "showbackground": true,
            "ticks": "",
            "zerolinecolor": "white"
           },
           "zaxis": {
            "backgroundcolor": "#E5ECF6",
            "gridcolor": "white",
            "gridwidth": 2,
            "linecolor": "white",
            "showbackground": true,
            "ticks": "",
            "zerolinecolor": "white"
           }
          },
          "shapedefaults": {
           "line": {
            "color": "#2a3f5f"
           }
          },
          "ternary": {
           "aaxis": {
            "gridcolor": "white",
            "linecolor": "white",
            "ticks": ""
           },
           "baxis": {
            "gridcolor": "white",
            "linecolor": "white",
            "ticks": ""
           },
           "bgcolor": "#E5ECF6",
           "caxis": {
            "gridcolor": "white",
            "linecolor": "white",
            "ticks": ""
           }
          },
          "title": {
           "x": 0.05
          },
          "xaxis": {
           "automargin": true,
           "gridcolor": "white",
           "linecolor": "white",
           "ticks": "",
           "title": {
            "standoff": 15
           },
           "zerolinecolor": "white",
           "zerolinewidth": 2
          },
          "yaxis": {
           "automargin": true,
           "gridcolor": "white",
           "linecolor": "white",
           "ticks": "",
           "title": {
            "standoff": 15
           },
           "zerolinecolor": "white",
           "zerolinewidth": 2
          }
         }
        },
        "title": {
         "text": "Yaşlı başına düşen vaka sayısı yüksek olduğu halde diğer illerimize göre aşılama oranı düşük ilimiz var mı?"
        },
        "xaxis": {
         "anchor": "y",
         "domain": [
          0,
          0.42
         ],
         "showgrid": true,
         "showline": false,
         "showticklabels": true,
         "zeroline": false
        },
        "xaxis2": {
         "anchor": "y2",
         "domain": [
          0.47,
          1
         ],
         "dtick": 25000,
         "showgrid": true,
         "showline": false,
         "showticklabels": true,
         "side": "top",
         "zeroline": false
        },
        "yaxis": {
         "anchor": "x",
         "domain": [
          0,
          0.85
         ],
         "showgrid": false,
         "showline": false,
         "showticklabels": true
        },
        "yaxis2": {
         "anchor": "x2",
         "domain": [
          0,
          0.85
         ],
         "linecolor": "rgba(102, 102, 102, 0.8)",
         "linewidth": 2,
         "showgrid": false,
         "showline": true,
         "showticklabels": false
        }
       }
      },
      "text/html": [
       "<div>\n",
       "        \n",
       "        \n",
       "            <div id=\"4ba0d272-906a-43c4-9cb8-8c0d64e69761\" class=\"plotly-graph-div\" style=\"height:525px; width:100%;\"></div>\n",
       "            <script type=\"text/javascript\">\n",
       "                require([\"plotly\"], function(Plotly) {\n",
       "                    window.PLOTLYENV=window.PLOTLYENV || {};\n",
       "                    \n",
       "                if (document.getElementById(\"4ba0d272-906a-43c4-9cb8-8c0d64e69761\")) {\n",
       "                    Plotly.newPlot(\n",
       "                        '4ba0d272-906a-43c4-9cb8-8c0d64e69761',\n",
       "                        [{\"marker\": {\"color\": \"rgba(50, 171, 96, 0.6)\", \"line\": {\"color\": \"rgba(50, 171, 96, 1.0)\", \"width\": 1}}, \"name\": \"2 Doz a\\u015f\\u0131 vurulan ki\\u015fi oran\\u0131 -Toplam- (17 May\\u0131s)\", \"orientation\": \"h\", \"type\": \"bar\", \"x\": [0.02969548756924788, 0.04372893068252916, 0.046579143803027974, 0.05521556463392221, 0.0556735864746099, 0.0715350149517669, 0.07237060343420315, 0.10033588022027004, 0.10973137855591411, 0.11487654092636795, 0.1227007226908091, 0.12696957226621297, 0.1327081537053004], \"xaxis\": \"x\", \"y\": [\"Hakkari\", \"A\\u011fr\\u0131\", \"Bitlis\", \"Batman\", \"Diyarbak\\u0131r\", \"I\\u011fd\\u0131r\", \"Gaziantep\", \"Kars\", \"Erzurum\", \"\\u0130stanbul\", \"Kocaeli\", \"Ni\\u011fde\", \"Konya\"], \"yaxis\": \"y\"}, {\"line\": {\"color\": \"rgb(128, 0, 128)\"}, \"mode\": \"lines+markers\", \"name\": \"Ya\\u015fl\\u0131(50 ve \\u00fcst\\u00fc ya\\u015f) vatanda\\u015f\\u0131m\\u0131z ba\\u015f\\u0131na d\\u00fc\\u015fen vaka say\\u0131s\\u0131 (8-14 May\\u0131s)\", \"type\": \"scatter\", \"x\": [0.007135443524794864, 0.013921325227877082, 0.006649610572635531, 0.004487671113653699, 0.0045861132782842075, 0.004378307529444367, 0.004757118456732234, 0.006945759510249607, 0.008820173988687577, 0.008418112152520894, 0.007006649481365734, 0.0046116570993447095, 0.004889289552419772], \"xaxis\": \"x2\", \"y\": [\"Hakkari\", \"A\\u011fr\\u0131\", \"Bitlis\", \"Batman\", \"Diyarbak\\u0131r\", \"I\\u011fd\\u0131r\", \"Gaziantep\", \"Kars\", \"Erzurum\", \"\\u0130stanbul\", \"Kocaeli\", \"Ni\\u011fde\", \"Konya\"], \"yaxis\": \"y2\"}],\n",
       "                        {\"annotations\": [{\"font\": {\"color\": \"rgb(128, 0, 128)\", \"family\": \"Arial\", \"size\": 12}, \"showarrow\": false, \"text\": \"0.007\", \"x\": 0.007, \"xref\": \"x2\", \"y\": \"Hakkari\", \"yref\": \"y2\"}, {\"font\": {\"color\": \"rgb(50, 171, 96)\", \"family\": \"Arial\", \"size\": 12}, \"showarrow\": false, \"text\": \"0.03%\", \"x\": 0.03, \"xref\": \"x\", \"y\": \"Hakkari\", \"yref\": \"y\"}, {\"font\": {\"color\": \"rgb(128, 0, 128)\", \"family\": \"Arial\", \"size\": 12}, \"showarrow\": false, \"text\": \"0.014\", \"x\": 0.014, \"xref\": \"x2\", \"y\": \"A\\u011fr\\u0131\", \"yref\": \"y2\"}, {\"font\": {\"color\": \"rgb(50, 171, 96)\", \"family\": \"Arial\", \"size\": 12}, \"showarrow\": false, \"text\": \"0.04%\", \"x\": 0.04, \"xref\": \"x\", \"y\": \"A\\u011fr\\u0131\", \"yref\": \"y\"}, {\"font\": {\"color\": \"rgb(128, 0, 128)\", \"family\": \"Arial\", \"size\": 12}, \"showarrow\": false, \"text\": \"0.007\", \"x\": 0.007, \"xref\": \"x2\", \"y\": \"Bitlis\", \"yref\": \"y2\"}, {\"font\": {\"color\": \"rgb(50, 171, 96)\", \"family\": \"Arial\", \"size\": 12}, \"showarrow\": false, \"text\": \"0.05%\", \"x\": 0.05, \"xref\": \"x\", \"y\": \"Bitlis\", \"yref\": \"y\"}, {\"font\": {\"color\": \"rgb(128, 0, 128)\", \"family\": \"Arial\", \"size\": 12}, \"showarrow\": false, \"text\": \"0.004\", \"x\": 0.004, \"xref\": \"x2\", \"y\": \"Batman\", \"yref\": \"y2\"}, {\"font\": {\"color\": \"rgb(50, 171, 96)\", \"family\": \"Arial\", \"size\": 12}, \"showarrow\": false, \"text\": \"0.06%\", \"x\": 0.06, \"xref\": \"x\", \"y\": \"Batman\", \"yref\": \"y\"}, {\"font\": {\"color\": \"rgb(128, 0, 128)\", \"family\": \"Arial\", \"size\": 12}, \"showarrow\": false, \"text\": \"0.005\", \"x\": 0.005, \"xref\": \"x2\", \"y\": \"Diyarbak\\u0131r\", \"yref\": \"y2\"}, {\"font\": {\"color\": \"rgb(50, 171, 96)\", \"family\": \"Arial\", \"size\": 12}, \"showarrow\": false, \"text\": \"0.06%\", \"x\": 0.06, \"xref\": \"x\", \"y\": \"Diyarbak\\u0131r\", \"yref\": \"y\"}, {\"font\": {\"color\": \"rgb(128, 0, 128)\", \"family\": \"Arial\", \"size\": 12}, \"showarrow\": false, \"text\": \"0.004\", \"x\": 0.004, \"xref\": \"x2\", \"y\": \"I\\u011fd\\u0131r\", \"yref\": \"y2\"}, {\"font\": {\"color\": \"rgb(50, 171, 96)\", \"family\": \"Arial\", \"size\": 12}, \"showarrow\": false, \"text\": \"0.07%\", \"x\": 0.07, \"xref\": \"x\", \"y\": \"I\\u011fd\\u0131r\", \"yref\": \"y\"}, {\"font\": {\"color\": \"rgb(128, 0, 128)\", \"family\": \"Arial\", \"size\": 12}, \"showarrow\": false, \"text\": \"0.005\", \"x\": 0.005, \"xref\": \"x2\", \"y\": \"Gaziantep\", \"yref\": \"y2\"}, {\"font\": {\"color\": \"rgb(50, 171, 96)\", \"family\": \"Arial\", \"size\": 12}, \"showarrow\": false, \"text\": \"0.07%\", \"x\": 0.07, \"xref\": \"x\", \"y\": \"Gaziantep\", \"yref\": \"y\"}, {\"font\": {\"color\": \"rgb(128, 0, 128)\", \"family\": \"Arial\", \"size\": 12}, \"showarrow\": false, \"text\": \"0.007\", \"x\": 0.007, \"xref\": \"x2\", \"y\": \"Kars\", \"yref\": \"y2\"}, {\"font\": {\"color\": \"rgb(50, 171, 96)\", \"family\": \"Arial\", \"size\": 12}, \"showarrow\": false, \"text\": \"0.1%\", \"x\": 0.1, \"xref\": \"x\", \"y\": \"Kars\", \"yref\": \"y\"}, {\"font\": {\"color\": \"rgb(128, 0, 128)\", \"family\": \"Arial\", \"size\": 12}, \"showarrow\": false, \"text\": \"0.009\", \"x\": 0.009, \"xref\": \"x2\", \"y\": \"Erzurum\", \"yref\": \"y2\"}, {\"font\": {\"color\": \"rgb(50, 171, 96)\", \"family\": \"Arial\", \"size\": 12}, \"showarrow\": false, \"text\": \"0.11%\", \"x\": 0.11, \"xref\": \"x\", \"y\": \"Erzurum\", \"yref\": \"y\"}, {\"font\": {\"color\": \"rgb(128, 0, 128)\", \"family\": \"Arial\", \"size\": 12}, \"showarrow\": false, \"text\": \"0.008\", \"x\": 0.008, \"xref\": \"x2\", \"y\": \"\\u0130stanbul\", \"yref\": \"y2\"}, {\"font\": {\"color\": \"rgb(50, 171, 96)\", \"family\": \"Arial\", \"size\": 12}, \"showarrow\": false, \"text\": \"0.11%\", \"x\": 0.11, \"xref\": \"x\", \"y\": \"\\u0130stanbul\", \"yref\": \"y\"}, {\"font\": {\"color\": \"rgb(128, 0, 128)\", \"family\": \"Arial\", \"size\": 12}, \"showarrow\": false, \"text\": \"0.007\", \"x\": 0.007, \"xref\": \"x2\", \"y\": \"Kocaeli\", \"yref\": \"y2\"}, {\"font\": {\"color\": \"rgb(50, 171, 96)\", \"family\": \"Arial\", \"size\": 12}, \"showarrow\": false, \"text\": \"0.12%\", \"x\": 0.12, \"xref\": \"x\", \"y\": \"Kocaeli\", \"yref\": \"y\"}, {\"font\": {\"color\": \"rgb(128, 0, 128)\", \"family\": \"Arial\", \"size\": 12}, \"showarrow\": false, \"text\": \"0.005\", \"x\": 0.005, \"xref\": \"x2\", \"y\": \"Ni\\u011fde\", \"yref\": \"y2\"}, {\"font\": {\"color\": \"rgb(50, 171, 96)\", \"family\": \"Arial\", \"size\": 12}, \"showarrow\": false, \"text\": \"0.13%\", \"x\": 0.13, \"xref\": \"x\", \"y\": \"Ni\\u011fde\", \"yref\": \"y\"}, {\"font\": {\"color\": \"rgb(128, 0, 128)\", \"family\": \"Arial\", \"size\": 12}, \"showarrow\": false, \"text\": \"0.005\", \"x\": 0.005, \"xref\": \"x2\", \"y\": \"Konya\", \"yref\": \"y2\"}, {\"font\": {\"color\": \"rgb(50, 171, 96)\", \"family\": \"Arial\", \"size\": 12}, \"showarrow\": false, \"text\": \"0.13%\", \"x\": 0.13, \"xref\": \"x\", \"y\": \"Konya\", \"yref\": \"y\"}, {\"font\": {\"color\": \"rgb(150,150,150)\", \"family\": \"Arial\", \"size\": 10}, \"showarrow\": false, \"text\": \"Haz\\u0131rlayan: Selim Sava\\u015f Kaynak: T\\u00dc\\u0130K, T.C. Sa\\u011fl\\u0131k Bakanl\\u0131\\u011f\\u0131\", \"x\": 0, \"xref\": \"paper\", \"y\": -0.109, \"yref\": \"paper\"}], \"legend\": {\"font\": {\"size\": 10}, \"x\": 0.029, \"y\": 1.038}, \"margin\": {\"b\": 70, \"l\": 100, \"r\": 20, \"t\": 70}, \"paper_bgcolor\": \"rgb(248, 248, 255)\", \"plot_bgcolor\": \"rgb(248, 248, 255)\", \"template\": {\"data\": {\"bar\": [{\"error_x\": {\"color\": \"#2a3f5f\"}, \"error_y\": {\"color\": \"#2a3f5f\"}, \"marker\": {\"line\": {\"color\": \"#E5ECF6\", \"width\": 0.5}}, \"type\": \"bar\"}], \"barpolar\": [{\"marker\": {\"line\": {\"color\": \"#E5ECF6\", \"width\": 0.5}}, \"type\": \"barpolar\"}], \"carpet\": [{\"aaxis\": {\"endlinecolor\": \"#2a3f5f\", \"gridcolor\": \"white\", \"linecolor\": \"white\", \"minorgridcolor\": \"white\", \"startlinecolor\": \"#2a3f5f\"}, \"baxis\": {\"endlinecolor\": \"#2a3f5f\", \"gridcolor\": \"white\", \"linecolor\": \"white\", \"minorgridcolor\": \"white\", \"startlinecolor\": \"#2a3f5f\"}, \"type\": \"carpet\"}], \"choropleth\": [{\"colorbar\": {\"outlinewidth\": 0, \"ticks\": \"\"}, \"type\": \"choropleth\"}], \"contour\": [{\"colorbar\": {\"outlinewidth\": 0, \"ticks\": \"\"}, \"colorscale\": [[0.0, \"#0d0887\"], [0.1111111111111111, \"#46039f\"], [0.2222222222222222, \"#7201a8\"], [0.3333333333333333, \"#9c179e\"], [0.4444444444444444, \"#bd3786\"], [0.5555555555555556, \"#d8576b\"], [0.6666666666666666, \"#ed7953\"], [0.7777777777777778, \"#fb9f3a\"], [0.8888888888888888, \"#fdca26\"], [1.0, \"#f0f921\"]], \"type\": \"contour\"}], \"contourcarpet\": [{\"colorbar\": {\"outlinewidth\": 0, \"ticks\": \"\"}, \"type\": \"contourcarpet\"}], \"heatmap\": [{\"colorbar\": {\"outlinewidth\": 0, \"ticks\": \"\"}, \"colorscale\": [[0.0, \"#0d0887\"], [0.1111111111111111, \"#46039f\"], [0.2222222222222222, \"#7201a8\"], [0.3333333333333333, \"#9c179e\"], [0.4444444444444444, \"#bd3786\"], [0.5555555555555556, \"#d8576b\"], [0.6666666666666666, \"#ed7953\"], [0.7777777777777778, \"#fb9f3a\"], [0.8888888888888888, \"#fdca26\"], [1.0, \"#f0f921\"]], \"type\": \"heatmap\"}], \"heatmapgl\": [{\"colorbar\": {\"outlinewidth\": 0, \"ticks\": \"\"}, \"colorscale\": [[0.0, \"#0d0887\"], [0.1111111111111111, \"#46039f\"], [0.2222222222222222, \"#7201a8\"], [0.3333333333333333, \"#9c179e\"], [0.4444444444444444, \"#bd3786\"], [0.5555555555555556, \"#d8576b\"], [0.6666666666666666, \"#ed7953\"], [0.7777777777777778, \"#fb9f3a\"], [0.8888888888888888, \"#fdca26\"], [1.0, \"#f0f921\"]], \"type\": \"heatmapgl\"}], \"histogram\": [{\"marker\": {\"colorbar\": {\"outlinewidth\": 0, \"ticks\": \"\"}}, \"type\": \"histogram\"}], \"histogram2d\": [{\"colorbar\": {\"outlinewidth\": 0, \"ticks\": \"\"}, \"colorscale\": [[0.0, \"#0d0887\"], [0.1111111111111111, \"#46039f\"], [0.2222222222222222, \"#7201a8\"], [0.3333333333333333, \"#9c179e\"], [0.4444444444444444, \"#bd3786\"], [0.5555555555555556, \"#d8576b\"], [0.6666666666666666, \"#ed7953\"], [0.7777777777777778, \"#fb9f3a\"], [0.8888888888888888, \"#fdca26\"], [1.0, \"#f0f921\"]], \"type\": \"histogram2d\"}], \"histogram2dcontour\": [{\"colorbar\": {\"outlinewidth\": 0, \"ticks\": \"\"}, \"colorscale\": [[0.0, \"#0d0887\"], [0.1111111111111111, \"#46039f\"], [0.2222222222222222, \"#7201a8\"], [0.3333333333333333, \"#9c179e\"], [0.4444444444444444, \"#bd3786\"], [0.5555555555555556, \"#d8576b\"], [0.6666666666666666, \"#ed7953\"], [0.7777777777777778, \"#fb9f3a\"], [0.8888888888888888, \"#fdca26\"], [1.0, \"#f0f921\"]], \"type\": \"histogram2dcontour\"}], \"mesh3d\": [{\"colorbar\": {\"outlinewidth\": 0, \"ticks\": \"\"}, \"type\": \"mesh3d\"}], \"parcoords\": [{\"line\": {\"colorbar\": {\"outlinewidth\": 0, \"ticks\": \"\"}}, \"type\": \"parcoords\"}], \"pie\": [{\"automargin\": true, \"type\": \"pie\"}], \"scatter\": [{\"marker\": {\"colorbar\": {\"outlinewidth\": 0, \"ticks\": \"\"}}, \"type\": \"scatter\"}], \"scatter3d\": [{\"line\": {\"colorbar\": {\"outlinewidth\": 0, \"ticks\": \"\"}}, \"marker\": {\"colorbar\": {\"outlinewidth\": 0, \"ticks\": \"\"}}, \"type\": \"scatter3d\"}], \"scattercarpet\": [{\"marker\": {\"colorbar\": {\"outlinewidth\": 0, \"ticks\": \"\"}}, \"type\": \"scattercarpet\"}], \"scattergeo\": [{\"marker\": {\"colorbar\": {\"outlinewidth\": 0, \"ticks\": \"\"}}, \"type\": \"scattergeo\"}], \"scattergl\": [{\"marker\": {\"colorbar\": {\"outlinewidth\": 0, \"ticks\": \"\"}}, \"type\": \"scattergl\"}], \"scattermapbox\": [{\"marker\": {\"colorbar\": {\"outlinewidth\": 0, \"ticks\": \"\"}}, \"type\": \"scattermapbox\"}], \"scatterpolar\": [{\"marker\": {\"colorbar\": {\"outlinewidth\": 0, \"ticks\": \"\"}}, \"type\": \"scatterpolar\"}], \"scatterpolargl\": [{\"marker\": {\"colorbar\": {\"outlinewidth\": 0, \"ticks\": \"\"}}, \"type\": \"scatterpolargl\"}], \"scatterternary\": [{\"marker\": {\"colorbar\": {\"outlinewidth\": 0, \"ticks\": \"\"}}, \"type\": \"scatterternary\"}], \"surface\": [{\"colorbar\": {\"outlinewidth\": 0, \"ticks\": \"\"}, \"colorscale\": [[0.0, \"#0d0887\"], [0.1111111111111111, \"#46039f\"], [0.2222222222222222, \"#7201a8\"], [0.3333333333333333, \"#9c179e\"], [0.4444444444444444, \"#bd3786\"], [0.5555555555555556, \"#d8576b\"], [0.6666666666666666, \"#ed7953\"], [0.7777777777777778, \"#fb9f3a\"], [0.8888888888888888, \"#fdca26\"], [1.0, \"#f0f921\"]], \"type\": \"surface\"}], \"table\": [{\"cells\": {\"fill\": {\"color\": \"#EBF0F8\"}, \"line\": {\"color\": \"white\"}}, \"header\": {\"fill\": {\"color\": \"#C8D4E3\"}, \"line\": {\"color\": \"white\"}}, \"type\": \"table\"}]}, \"layout\": {\"annotationdefaults\": {\"arrowcolor\": \"#2a3f5f\", \"arrowhead\": 0, \"arrowwidth\": 1}, \"coloraxis\": {\"colorbar\": {\"outlinewidth\": 0, \"ticks\": \"\"}}, \"colorscale\": {\"diverging\": [[0, \"#8e0152\"], [0.1, \"#c51b7d\"], [0.2, \"#de77ae\"], [0.3, \"#f1b6da\"], [0.4, \"#fde0ef\"], [0.5, \"#f7f7f7\"], [0.6, \"#e6f5d0\"], [0.7, \"#b8e186\"], [0.8, \"#7fbc41\"], [0.9, \"#4d9221\"], [1, \"#276419\"]], \"sequential\": [[0.0, \"#0d0887\"], [0.1111111111111111, \"#46039f\"], [0.2222222222222222, \"#7201a8\"], [0.3333333333333333, \"#9c179e\"], [0.4444444444444444, \"#bd3786\"], [0.5555555555555556, \"#d8576b\"], [0.6666666666666666, \"#ed7953\"], [0.7777777777777778, \"#fb9f3a\"], [0.8888888888888888, \"#fdca26\"], [1.0, \"#f0f921\"]], \"sequentialminus\": [[0.0, \"#0d0887\"], [0.1111111111111111, \"#46039f\"], [0.2222222222222222, \"#7201a8\"], [0.3333333333333333, \"#9c179e\"], [0.4444444444444444, \"#bd3786\"], [0.5555555555555556, \"#d8576b\"], [0.6666666666666666, \"#ed7953\"], [0.7777777777777778, \"#fb9f3a\"], [0.8888888888888888, \"#fdca26\"], [1.0, \"#f0f921\"]]}, \"colorway\": [\"#636efa\", \"#EF553B\", \"#00cc96\", \"#ab63fa\", \"#FFA15A\", \"#19d3f3\", \"#FF6692\", \"#B6E880\", \"#FF97FF\", \"#FECB52\"], \"font\": {\"color\": \"#2a3f5f\"}, \"geo\": {\"bgcolor\": \"white\", \"lakecolor\": \"white\", \"landcolor\": \"#E5ECF6\", \"showlakes\": true, \"showland\": true, \"subunitcolor\": \"white\"}, \"hoverlabel\": {\"align\": \"left\"}, \"hovermode\": \"closest\", \"mapbox\": {\"style\": \"light\"}, \"paper_bgcolor\": \"white\", \"plot_bgcolor\": \"#E5ECF6\", \"polar\": {\"angularaxis\": {\"gridcolor\": \"white\", \"linecolor\": \"white\", \"ticks\": \"\"}, \"bgcolor\": \"#E5ECF6\", \"radialaxis\": {\"gridcolor\": \"white\", \"linecolor\": \"white\", \"ticks\": \"\"}}, \"scene\": {\"xaxis\": {\"backgroundcolor\": \"#E5ECF6\", \"gridcolor\": \"white\", \"gridwidth\": 2, \"linecolor\": \"white\", \"showbackground\": true, \"ticks\": \"\", \"zerolinecolor\": \"white\"}, \"yaxis\": {\"backgroundcolor\": \"#E5ECF6\", \"gridcolor\": \"white\", \"gridwidth\": 2, \"linecolor\": \"white\", \"showbackground\": true, \"ticks\": \"\", \"zerolinecolor\": \"white\"}, \"zaxis\": {\"backgroundcolor\": \"#E5ECF6\", \"gridcolor\": \"white\", \"gridwidth\": 2, \"linecolor\": \"white\", \"showbackground\": true, \"ticks\": \"\", \"zerolinecolor\": \"white\"}}, \"shapedefaults\": {\"line\": {\"color\": \"#2a3f5f\"}}, \"ternary\": {\"aaxis\": {\"gridcolor\": \"white\", \"linecolor\": \"white\", \"ticks\": \"\"}, \"baxis\": {\"gridcolor\": \"white\", \"linecolor\": \"white\", \"ticks\": \"\"}, \"bgcolor\": \"#E5ECF6\", \"caxis\": {\"gridcolor\": \"white\", \"linecolor\": \"white\", \"ticks\": \"\"}}, \"title\": {\"x\": 0.05}, \"xaxis\": {\"automargin\": true, \"gridcolor\": \"white\", \"linecolor\": \"white\", \"ticks\": \"\", \"title\": {\"standoff\": 15}, \"zerolinecolor\": \"white\", \"zerolinewidth\": 2}, \"yaxis\": {\"automargin\": true, \"gridcolor\": \"white\", \"linecolor\": \"white\", \"ticks\": \"\", \"title\": {\"standoff\": 15}, \"zerolinecolor\": \"white\", \"zerolinewidth\": 2}}}, \"title\": {\"text\": \"Ya\\u015fl\\u0131 ba\\u015f\\u0131na d\\u00fc\\u015fen vaka say\\u0131s\\u0131 y\\u00fcksek oldu\\u011fu halde di\\u011fer illerimize g\\u00f6re a\\u015f\\u0131lama oran\\u0131 d\\u00fc\\u015f\\u00fck ilimiz var m\\u0131?\"}, \"xaxis\": {\"anchor\": \"y\", \"domain\": [0, 0.42], \"showgrid\": true, \"showline\": false, \"showticklabels\": true, \"zeroline\": false}, \"xaxis2\": {\"anchor\": \"y2\", \"domain\": [0.47, 1], \"dtick\": 25000, \"showgrid\": true, \"showline\": false, \"showticklabels\": true, \"side\": \"top\", \"zeroline\": false}, \"yaxis\": {\"anchor\": \"x\", \"domain\": [0, 0.85], \"showgrid\": false, \"showline\": false, \"showticklabels\": true}, \"yaxis2\": {\"anchor\": \"x2\", \"domain\": [0, 0.85], \"linecolor\": \"rgba(102, 102, 102, 0.8)\", \"linewidth\": 2, \"showgrid\": false, \"showline\": true, \"showticklabels\": false}},\n",
       "                        {\"responsive\": true}\n",
       "                    ).then(function(){\n",
       "                            \n",
       "var gd = document.getElementById('4ba0d272-906a-43c4-9cb8-8c0d64e69761');\n",
       "var x = new MutationObserver(function (mutations, observer) {{\n",
       "        var display = window.getComputedStyle(gd).display;\n",
       "        if (!display || display === 'none') {{\n",
       "            console.log([gd, 'removed!']);\n",
       "            Plotly.purge(gd);\n",
       "            observer.disconnect();\n",
       "        }}\n",
       "}});\n",
       "\n",
       "// Listen for the removal of the full notebook cells\n",
       "var notebookContainer = gd.closest('#notebook-container');\n",
       "if (notebookContainer) {{\n",
       "    x.observe(notebookContainer, {childList: true});\n",
       "}}\n",
       "\n",
       "// Listen for the clearing of the current output cell\n",
       "var outputEl = gd.closest('.output');\n",
       "if (outputEl) {{\n",
       "    x.observe(outputEl, {childList: true});\n",
       "}}\n",
       "\n",
       "                        })\n",
       "                };\n",
       "                });\n",
       "            </script>\n",
       "        </div>"
      ]
     },
     "metadata": {},
     "output_type": "display_data"
    }
   ],
   "source": [
    "import plotly.graph_objects as go\n",
    "from plotly.subplots import make_subplots\n",
    "\n",
    "import numpy as np\n",
    "\n",
    "y_saving = veri_paleti_v5['AsiOrani_x']\n",
    "y_net_worth = veri_paleti_v5['YasliBasinaDusenVakaSayisi_x']\n",
    "x = veri_paleti_v5.index\n",
    "\n",
    "\n",
    "# Creating two subplots\n",
    "fig = make_subplots(rows=1, cols=2, specs=[[{}, {}]], shared_xaxes=True,\n",
    "                    shared_yaxes=False, vertical_spacing=0.001)\n",
    "\n",
    "fig.append_trace(go.Bar(\n",
    "    x=y_saving,\n",
    "    y=x,\n",
    "    marker=dict(\n",
    "        color='rgba(50, 171, 96, 0.6)',\n",
    "        line=dict(\n",
    "            color='rgba(50, 171, 96, 1.0)',\n",
    "            width=1),\n",
    "    ),\n",
    "    name='2 Doz aşı vurulan kişi oranı -Toplam- (17 Mayıs)',\n",
    "    orientation='h',\n",
    "), 1, 1)\n",
    "\n",
    "fig.append_trace(go.Scatter(\n",
    "    x=y_net_worth, y=x,\n",
    "    mode='lines+markers',\n",
    "    line_color='rgb(128, 0, 128)',\n",
    "    name='Yaşlı(50 ve üstü yaş) vatandaşımız başına düşen vaka sayısı (8-14 Mayıs)',\n",
    "), 1, 2)\n",
    "\n",
    "fig.update_layout(\n",
    "    title='Yaşlı başına düşen vaka sayısı yüksek olduğu halde diğer illerimize göre aşılama oranı düşük ilimiz var mı?',\n",
    "    yaxis=dict(\n",
    "        showgrid=False,\n",
    "        showline=False,\n",
    "        showticklabels=True,\n",
    "        domain=[0, 0.85],\n",
    "    ),\n",
    "    yaxis2=dict(\n",
    "        showgrid=False,\n",
    "        showline=True,\n",
    "        showticklabels=False,\n",
    "        linecolor='rgba(102, 102, 102, 0.8)',\n",
    "        linewidth=2,\n",
    "        domain=[0, 0.85],\n",
    "    ),\n",
    "    xaxis=dict(\n",
    "        zeroline=False,\n",
    "        showline=False,\n",
    "        showticklabels=True,\n",
    "        showgrid=True,\n",
    "        domain=[0, 0.42],\n",
    "    ),\n",
    "    xaxis2=dict(\n",
    "        zeroline=False,\n",
    "        showline=False,\n",
    "        showticklabels=True,\n",
    "        showgrid=True,\n",
    "        domain=[0.47, 1],\n",
    "        side='top',\n",
    "        dtick=25000,\n",
    "    ),\n",
    "    legend=dict(x=0.029, y=1.038, font_size=10),\n",
    "    margin=dict(l=100, r=20, t=70, b=70),\n",
    "    paper_bgcolor='rgb(248, 248, 255)',\n",
    "    plot_bgcolor='rgb(248, 248, 255)',\n",
    ")\n",
    "\n",
    "annotations = []\n",
    "\n",
    "y_s = np.round(y_saving, decimals=2)\n",
    "y_nw = np.round(y_net_worth, decimals=3)\n",
    "\n",
    "# Adding labels\n",
    "for ydn, yd, xd in zip(y_nw, y_s, x):\n",
    "    # labeling the scatter savings\n",
    "    annotations.append(dict(xref='x2', yref='y2',\n",
    "                            y=xd, x=ydn,\n",
    "                            text=ydn,\n",
    "                            font=dict(family='Arial', size=12,\n",
    "                                      color='rgb(128, 0, 128)'),\n",
    "                            showarrow=False))\n",
    "    # labeling the bar net worth\n",
    "    annotations.append(dict(xref='x1', yref='y1',\n",
    "                            y=xd, x=yd,\n",
    "                            text=str(yd) + '%',\n",
    "                            font=dict(family='Arial', size=12,\n",
    "                                      color='rgb(50, 171, 96)'),\n",
    "                            showarrow=False))\n",
    "# Source\n",
    "annotations.append(dict(xref='paper', yref='paper',\n",
    "                        x=0, y=-0.109,\n",
    "                        text='Hazırlayan: Selim Savaş'+ ' Kaynak: TÜİK, T.C. Sağlık Bakanlığı',\n",
    "                        font=dict(family='Arial', size=10, color='rgb(150,150,150)'),\n",
    "                        showarrow=False))\n",
    "\n",
    "fig.update_layout(annotations=annotations)\n",
    "\n",
    "fig.show()"
   ]
  },
  {
   "cell_type": "markdown",
   "metadata": {},
   "source": [
    "### Ana Görselleştirme"
   ]
  },
  {
   "cell_type": "code",
   "execution_count": 28,
   "metadata": {},
   "outputs": [
    {
     "data": {
      "application/vnd.plotly.v1+json": {
       "config": {
        "plotlyServerURL": "https://plot.ly"
       },
       "data": [
        {
         "hovertemplate": "<b>%{hovertext}</b><br><br>YasliBasinaDusenVakaSayisi=%{x}<br>AsiOrani=%{y}<br>ToplamNufus=%{marker.color}<br>text=%{text}<extra></extra>",
         "hovertext": [
          "Adana",
          "Adıyaman",
          "Afyonkarahisar",
          "Ağrı",
          "Amasya",
          "Ankara",
          "Antalya",
          "Artvin",
          "Aydın",
          "Balıkesir",
          "Bilecik",
          "Bingöl",
          "Bitlis",
          "Bolu",
          "Burdur",
          "Bursa",
          "Çanakkale",
          "Çankırı",
          "Çorum",
          "Denizli",
          "Diyarbakır",
          "Edirne",
          "Elazığ",
          "Erzincan",
          "Erzurum",
          "Eskişehir",
          "Gaziantep",
          "Giresun",
          "Gümüşhane",
          "Hakkari",
          "Hatay",
          "Isparta",
          "Mersin",
          "İstanbul",
          "İzmir",
          "Kars",
          "Kastamonu",
          "Kayseri",
          "Kırklareli",
          "Kırşehir",
          "Kocaeli",
          "Konya",
          "Kütahya",
          "Malatya",
          "Manisa",
          "Kahramanmaraş",
          "Mardin",
          "Muğla",
          "Muş",
          "Nevşehir",
          "Niğde",
          "Ordu",
          "Rize",
          "Sakarya",
          "Samsun",
          "Siirt",
          "Sinop",
          "Sivas",
          "Tekirdağ",
          "Tokat",
          "Trabzon",
          "Tunceli",
          "Şanlıurfa",
          "Uşak",
          "Van",
          "Yozgat",
          "Zonguldak",
          "Aksaray",
          "Bayburt",
          "Karaman",
          "Kırıkkale",
          "Batman",
          "Şırnak",
          "Bartın",
          "Ardahan",
          "Iğdır",
          "Yalova",
          "Karabük",
          "Kilis",
          "Osmaniye",
          "Düzce"
         ],
         "legendgroup": "",
         "marker": {
          "color": [
           2258718,
           632459,
           736912,
           535435,
           335494,
           5663322,
           2548308,
           169501,
           1119084,
           1240285,
           218717,
           281768,
           350994,
           314802,
           267092,
           3101833,
           541548,
           192428,
           530126,
           1040915,
           1783431,
           407763,
           587960,
           234431,
           758279,
           888828,
           2101157,
           448721,
           141702,
           280514,
           1659320,
           440304,
           1868757,
           15462452,
           4394694,
           284923,
           376377,
           1421455,
           361737,
           243042,
           1997258,
           2250020,
           576688,
           806156,
           1450616,
           1168163,
           854716,
           1000773,
           411117,
           304962,
           362071,
           761400,
           344359,
           1042649,
           1356079,
           331070,
           216460,
           635889,
           1081065,
           597861,
           811901,
           83443,
           2115256,
           369433,
           1149342,
           419095,
           591204,
           423011,
           81910,
           254919,
           278703,
           620278,
           537762,
           198979,
           96161,
           201314,
           276050,
           243614,
           142792,
           548556,
           395679
          ],
          "coloraxis": "coloraxis",
          "size": [
           2258718,
           632459,
           736912,
           535435,
           335494,
           5663322,
           2548308,
           169501,
           1119084,
           1240285,
           218717,
           281768,
           350994,
           314802,
           267092,
           3101833,
           541548,
           192428,
           530126,
           1040915,
           1783431,
           407763,
           587960,
           234431,
           758279,
           888828,
           2101157,
           448721,
           141702,
           280514,
           1659320,
           440304,
           1868757,
           15462452,
           4394694,
           284923,
           376377,
           1421455,
           361737,
           243042,
           1997258,
           2250020,
           576688,
           806156,
           1450616,
           1168163,
           854716,
           1000773,
           411117,
           304962,
           362071,
           761400,
           344359,
           1042649,
           1356079,
           331070,
           216460,
           635889,
           1081065,
           597861,
           811901,
           83443,
           2115256,
           369433,
           1149342,
           419095,
           591204,
           423011,
           81910,
           254919,
           278703,
           620278,
           537762,
           198979,
           96161,
           201314,
           276050,
           243614,
           142792,
           548556,
           395679
          ],
          "sizemode": "area",
          "sizeref": 4295.125555555555,
          "symbol": "circle"
         },
         "mode": "markers+text",
         "name": "",
         "showlegend": false,
         "text": [
          "Adana",
          "Adıyaman",
          "Afyonkarahisar",
          "Ağrı",
          "Amasya",
          "Ankara",
          "Antalya",
          "Artvin",
          "Aydın",
          "Balıkesir",
          "Bilecik",
          "Bingöl",
          "Bitlis",
          "Bolu",
          "Burdur",
          "Bursa",
          "Çanakkale",
          "Çankırı",
          "Çorum",
          "Denizli",
          "Diyarbakır",
          "Edirne",
          "Elazığ",
          "Erzincan",
          "Erzurum",
          "Eskişehir",
          "Gaziantep",
          "Giresun",
          "Gümüşhane",
          "Hakkari",
          "Hatay",
          "Isparta",
          "Mersin",
          "İstanbul",
          "İzmir",
          "Kars",
          "Kastamonu",
          "Kayseri",
          "Kırklareli",
          "Kırşehir",
          "Kocaeli",
          "Konya",
          "Kütahya",
          "Malatya",
          "Manisa",
          "Kahramanmaraş",
          "Mardin",
          "Muğla",
          "Muş",
          "Nevşehir",
          "Niğde",
          "Ordu",
          "Rize",
          "Sakarya",
          "Samsun",
          "Siirt",
          "Sinop",
          "Sivas",
          "Tekirdağ",
          "Tokat",
          "Trabzon",
          "Tunceli",
          "Şanlıurfa",
          "Uşak",
          "Van",
          "Yozgat",
          "Zonguldak",
          "Aksaray",
          "Bayburt",
          "Karaman",
          "Kırıkkale",
          "Batman",
          "Şırnak",
          "Bartın",
          "Ardahan",
          "Iğdır",
          "Yalova",
          "Karabük",
          "Kilis",
          "Osmaniye",
          "Düzce"
         ],
         "textposition": "top center",
         "type": "scatter",
         "x": [
          0.0011979321609600817,
          0.002441755158682659,
          0.0037721992840727874,
          0.013921325227877082,
          0.00369895231578113,
          0.005983725549764532,
          0.0024163661758666672,
          0.0021229220420410835,
          0.0014329697247607203,
          0.0031353044038229237,
          0.0052876897479901055,
          0.0034830711603605676,
          0.006649610572635531,
          0.004951837909672464,
          0.002883964707025976,
          0.0042254192745785225,
          0.003369838793653407,
          0.004268196371212779,
          0.0038519109735068195,
          0.0032089159651038164,
          0.0045861132782842075,
          0.0022387372920091415,
          0.003545709427396393,
          0.005431587017806374,
          0.008820173988687577,
          0.0048409553544696915,
          0.004757118456732234,
          0.00357381135507118,
          0.003557756171238379,
          0.007135443524794864,
          0.0014776110734067472,
          0.0044235162561792815,
          0.001796352976949485,
          0.008418112152520894,
          0.003146787793557601,
          0.006945759510249607,
          0.0038347279789886918,
          0.005294541485444679,
          0.004392072923310675,
          0.0037590330081651354,
          0.007006649481365734,
          0.004889289552419772,
          0.0047175075461650595,
          0.004051083900641319,
          0.0025219081734978487,
          0.0020341017505833255,
          0.003300941593955805,
          0.002259581905559308,
          0.0034443913365690727,
          0.004282904836651935,
          0.0046116570993447095,
          0.004401200248636168,
          0.00515476852509777,
          0.004097440053311595,
          0.003172687325698674,
          0.0037416859380052666,
          0.0024512628335317597,
          0.004677279022403258,
          0.005316096385296852,
          0.004302911348322722,
          0.004027961114018395,
          0.003849124914877868,
          0.0041978038283552385,
          0.0029664884430318284,
          0.003931397568867024,
          0.003991812406380777,
          0.004400503207984676,
          0.003978963996615428,
          0.003628547843885194,
          0.004822721625677487,
          0.004375705420513644,
          0.004487671113653699,
          0.002863249436160759,
          0.003630516252495154,
          0.0042605128213460425,
          0.004378307529444367,
          0.002596287537986648,
          0.004131800313356835,
          0.003602503262995368,
          0.0015229773516927858,
          0.004710692323160854
         ],
         "xaxis": "x",
         "y": [
          0.11824406588161958,
          0.09482037570814868,
          0.14759971339861477,
          0.04372893068252916,
          0.20866841135758016,
          0.15967253848536248,
          0.14676836551939562,
          0.20958578415466575,
          0.20527770926936673,
          0.23190879515595206,
          0.17464120301576924,
          0.07751767411487465,
          0.046579143803027974,
          0.1907580002668344,
          0.20024935228310844,
          0.13294300499091988,
          0.2378902701145605,
          0.18795081796827903,
          0.18031750942228827,
          0.16054913225383435,
          0.0556735864746099,
          0.2351169674541339,
          0.13015341179672085,
          0.15642982370079042,
          0.10973137855591411,
          0.18833227576088962,
          0.07237060343420315,
          0.2214605512111089,
          0.12939125770984178,
          0.02969548756924788,
          0.09340392449919244,
          0.19537410516370507,
          0.14392026357627022,
          0.11487654092636795,
          0.1758081450039525,
          0.10033588022027004,
          0.21446847177165448,
          0.13445026399006652,
          0.21141879321164272,
          0.17487923897927107,
          0.1227007226908091,
          0.1327081537053004,
          0.16994978220458895,
          0.1427081110851994,
          0.1481929056345718,
          0.09780313192593842,
          0.04424744593525803,
          0.21131165608984256,
          0.051902499775003226,
          0.1424964421796814,
          0.12696957226621297,
          0.18998161281849224,
          0.17502083581378736,
          0.1395819686203123,
          0.16886700553581319,
          0.04006705530552451,
          0.2268040284579137,
          0.1538224438541947,
          0.14230134173245826,
          0.18293717101466728,
          0.18260231235089008,
          0.1993935980249991,
          0.0379069956544267,
          0.16543730527592285,
          0.051341550208728125,
          0.15401281332394803,
          0.18510023612830764,
          0.11256917668807667,
          0.1173483091197656,
          0.15012219567784277,
          0.1598439916326699,
          0.05521556463392221,
          0.028269011198262427,
          0.19155790309530152,
          0.14310375308077078,
          0.0715350149517669,
          0.18660387610940046,
          0.17816299555854753,
          0.0915877640203933,
          0.13613195371119813,
          0.14310337419979327
         ],
         "yaxis": "y"
        }
       ],
       "layout": {
        "annotations": [
         {
          "font": {
           "color": "rgb(150,150,150)",
           "family": "Arial",
           "size": 12
          },
          "showarrow": false,
          "text": "Hazırlayan: Selim Savaş  Kaynak: TÜİK, T.C. Sağlık Bakanlığı",
          "x": -0.05,
          "xref": "paper",
          "y": -0.1,
          "yref": "paper"
         }
        ],
        "coloraxis": {
         "colorbar": {
          "title": {
           "text": "ToplamNufus"
          }
         },
         "colorscale": [
          [
           0,
           "rgb(224, 253, 74)"
          ],
          [
           0.09090909090909091,
           "rgb(222, 222, 59)"
          ],
          [
           0.18181818181818182,
           "rgb(217, 192, 44)"
          ],
          [
           0.2727272727272727,
           "rgb(209, 164, 32)"
          ],
          [
           0.36363636363636365,
           "rgb(199, 137, 22)"
          ],
          [
           0.45454545454545453,
           "rgb(188, 111, 19)"
          ],
          [
           0.5454545454545454,
           "rgb(174, 88, 20)"
          ],
          [
           0.6363636363636364,
           "rgb(157, 66, 25)"
          ],
          [
           0.7272727272727273,
           "rgb(135, 47, 32)"
          ],
          [
           0.8181818181818182,
           "rgb(108, 36, 36)"
          ],
          [
           0.9090909090909091,
           "rgb(79, 28, 33)"
          ],
          [
           1,
           "rgb(51, 19, 23)"
          ]
         ]
        },
        "height": 800,
        "legend": {
         "itemsizing": "constant",
         "tracegroupgap": 0
        },
        "margin": {
         "t": 60
        },
        "paper_bgcolor": "rgb(243, 243, 243)",
        "plot_bgcolor": "rgb(243, 243, 243)",
        "template": {
         "data": {
          "bar": [
           {
            "error_x": {
             "color": "#2a3f5f"
            },
            "error_y": {
             "color": "#2a3f5f"
            },
            "marker": {
             "line": {
              "color": "#E5ECF6",
              "width": 0.5
             }
            },
            "type": "bar"
           }
          ],
          "barpolar": [
           {
            "marker": {
             "line": {
              "color": "#E5ECF6",
              "width": 0.5
             }
            },
            "type": "barpolar"
           }
          ],
          "carpet": [
           {
            "aaxis": {
             "endlinecolor": "#2a3f5f",
             "gridcolor": "white",
             "linecolor": "white",
             "minorgridcolor": "white",
             "startlinecolor": "#2a3f5f"
            },
            "baxis": {
             "endlinecolor": "#2a3f5f",
             "gridcolor": "white",
             "linecolor": "white",
             "minorgridcolor": "white",
             "startlinecolor": "#2a3f5f"
            },
            "type": "carpet"
           }
          ],
          "choropleth": [
           {
            "colorbar": {
             "outlinewidth": 0,
             "ticks": ""
            },
            "type": "choropleth"
           }
          ],
          "contour": [
           {
            "colorbar": {
             "outlinewidth": 0,
             "ticks": ""
            },
            "colorscale": [
             [
              0,
              "#0d0887"
             ],
             [
              0.1111111111111111,
              "#46039f"
             ],
             [
              0.2222222222222222,
              "#7201a8"
             ],
             [
              0.3333333333333333,
              "#9c179e"
             ],
             [
              0.4444444444444444,
              "#bd3786"
             ],
             [
              0.5555555555555556,
              "#d8576b"
             ],
             [
              0.6666666666666666,
              "#ed7953"
             ],
             [
              0.7777777777777778,
              "#fb9f3a"
             ],
             [
              0.8888888888888888,
              "#fdca26"
             ],
             [
              1,
              "#f0f921"
             ]
            ],
            "type": "contour"
           }
          ],
          "contourcarpet": [
           {
            "colorbar": {
             "outlinewidth": 0,
             "ticks": ""
            },
            "type": "contourcarpet"
           }
          ],
          "heatmap": [
           {
            "colorbar": {
             "outlinewidth": 0,
             "ticks": ""
            },
            "colorscale": [
             [
              0,
              "#0d0887"
             ],
             [
              0.1111111111111111,
              "#46039f"
             ],
             [
              0.2222222222222222,
              "#7201a8"
             ],
             [
              0.3333333333333333,
              "#9c179e"
             ],
             [
              0.4444444444444444,
              "#bd3786"
             ],
             [
              0.5555555555555556,
              "#d8576b"
             ],
             [
              0.6666666666666666,
              "#ed7953"
             ],
             [
              0.7777777777777778,
              "#fb9f3a"
             ],
             [
              0.8888888888888888,
              "#fdca26"
             ],
             [
              1,
              "#f0f921"
             ]
            ],
            "type": "heatmap"
           }
          ],
          "heatmapgl": [
           {
            "colorbar": {
             "outlinewidth": 0,
             "ticks": ""
            },
            "colorscale": [
             [
              0,
              "#0d0887"
             ],
             [
              0.1111111111111111,
              "#46039f"
             ],
             [
              0.2222222222222222,
              "#7201a8"
             ],
             [
              0.3333333333333333,
              "#9c179e"
             ],
             [
              0.4444444444444444,
              "#bd3786"
             ],
             [
              0.5555555555555556,
              "#d8576b"
             ],
             [
              0.6666666666666666,
              "#ed7953"
             ],
             [
              0.7777777777777778,
              "#fb9f3a"
             ],
             [
              0.8888888888888888,
              "#fdca26"
             ],
             [
              1,
              "#f0f921"
             ]
            ],
            "type": "heatmapgl"
           }
          ],
          "histogram": [
           {
            "marker": {
             "colorbar": {
              "outlinewidth": 0,
              "ticks": ""
             }
            },
            "type": "histogram"
           }
          ],
          "histogram2d": [
           {
            "colorbar": {
             "outlinewidth": 0,
             "ticks": ""
            },
            "colorscale": [
             [
              0,
              "#0d0887"
             ],
             [
              0.1111111111111111,
              "#46039f"
             ],
             [
              0.2222222222222222,
              "#7201a8"
             ],
             [
              0.3333333333333333,
              "#9c179e"
             ],
             [
              0.4444444444444444,
              "#bd3786"
             ],
             [
              0.5555555555555556,
              "#d8576b"
             ],
             [
              0.6666666666666666,
              "#ed7953"
             ],
             [
              0.7777777777777778,
              "#fb9f3a"
             ],
             [
              0.8888888888888888,
              "#fdca26"
             ],
             [
              1,
              "#f0f921"
             ]
            ],
            "type": "histogram2d"
           }
          ],
          "histogram2dcontour": [
           {
            "colorbar": {
             "outlinewidth": 0,
             "ticks": ""
            },
            "colorscale": [
             [
              0,
              "#0d0887"
             ],
             [
              0.1111111111111111,
              "#46039f"
             ],
             [
              0.2222222222222222,
              "#7201a8"
             ],
             [
              0.3333333333333333,
              "#9c179e"
             ],
             [
              0.4444444444444444,
              "#bd3786"
             ],
             [
              0.5555555555555556,
              "#d8576b"
             ],
             [
              0.6666666666666666,
              "#ed7953"
             ],
             [
              0.7777777777777778,
              "#fb9f3a"
             ],
             [
              0.8888888888888888,
              "#fdca26"
             ],
             [
              1,
              "#f0f921"
             ]
            ],
            "type": "histogram2dcontour"
           }
          ],
          "mesh3d": [
           {
            "colorbar": {
             "outlinewidth": 0,
             "ticks": ""
            },
            "type": "mesh3d"
           }
          ],
          "parcoords": [
           {
            "line": {
             "colorbar": {
              "outlinewidth": 0,
              "ticks": ""
             }
            },
            "type": "parcoords"
           }
          ],
          "pie": [
           {
            "automargin": true,
            "type": "pie"
           }
          ],
          "scatter": [
           {
            "marker": {
             "colorbar": {
              "outlinewidth": 0,
              "ticks": ""
             }
            },
            "type": "scatter"
           }
          ],
          "scatter3d": [
           {
            "line": {
             "colorbar": {
              "outlinewidth": 0,
              "ticks": ""
             }
            },
            "marker": {
             "colorbar": {
              "outlinewidth": 0,
              "ticks": ""
             }
            },
            "type": "scatter3d"
           }
          ],
          "scattercarpet": [
           {
            "marker": {
             "colorbar": {
              "outlinewidth": 0,
              "ticks": ""
             }
            },
            "type": "scattercarpet"
           }
          ],
          "scattergeo": [
           {
            "marker": {
             "colorbar": {
              "outlinewidth": 0,
              "ticks": ""
             }
            },
            "type": "scattergeo"
           }
          ],
          "scattergl": [
           {
            "marker": {
             "colorbar": {
              "outlinewidth": 0,
              "ticks": ""
             }
            },
            "type": "scattergl"
           }
          ],
          "scattermapbox": [
           {
            "marker": {
             "colorbar": {
              "outlinewidth": 0,
              "ticks": ""
             }
            },
            "type": "scattermapbox"
           }
          ],
          "scatterpolar": [
           {
            "marker": {
             "colorbar": {
              "outlinewidth": 0,
              "ticks": ""
             }
            },
            "type": "scatterpolar"
           }
          ],
          "scatterpolargl": [
           {
            "marker": {
             "colorbar": {
              "outlinewidth": 0,
              "ticks": ""
             }
            },
            "type": "scatterpolargl"
           }
          ],
          "scatterternary": [
           {
            "marker": {
             "colorbar": {
              "outlinewidth": 0,
              "ticks": ""
             }
            },
            "type": "scatterternary"
           }
          ],
          "surface": [
           {
            "colorbar": {
             "outlinewidth": 0,
             "ticks": ""
            },
            "colorscale": [
             [
              0,
              "#0d0887"
             ],
             [
              0.1111111111111111,
              "#46039f"
             ],
             [
              0.2222222222222222,
              "#7201a8"
             ],
             [
              0.3333333333333333,
              "#9c179e"
             ],
             [
              0.4444444444444444,
              "#bd3786"
             ],
             [
              0.5555555555555556,
              "#d8576b"
             ],
             [
              0.6666666666666666,
              "#ed7953"
             ],
             [
              0.7777777777777778,
              "#fb9f3a"
             ],
             [
              0.8888888888888888,
              "#fdca26"
             ],
             [
              1,
              "#f0f921"
             ]
            ],
            "type": "surface"
           }
          ],
          "table": [
           {
            "cells": {
             "fill": {
              "color": "#EBF0F8"
             },
             "line": {
              "color": "white"
             }
            },
            "header": {
             "fill": {
              "color": "#C8D4E3"
             },
             "line": {
              "color": "white"
             }
            },
            "type": "table"
           }
          ]
         },
         "layout": {
          "annotationdefaults": {
           "arrowcolor": "#2a3f5f",
           "arrowhead": 0,
           "arrowwidth": 1
          },
          "coloraxis": {
           "colorbar": {
            "outlinewidth": 0,
            "ticks": ""
           }
          },
          "colorscale": {
           "diverging": [
            [
             0,
             "#8e0152"
            ],
            [
             0.1,
             "#c51b7d"
            ],
            [
             0.2,
             "#de77ae"
            ],
            [
             0.3,
             "#f1b6da"
            ],
            [
             0.4,
             "#fde0ef"
            ],
            [
             0.5,
             "#f7f7f7"
            ],
            [
             0.6,
             "#e6f5d0"
            ],
            [
             0.7,
             "#b8e186"
            ],
            [
             0.8,
             "#7fbc41"
            ],
            [
             0.9,
             "#4d9221"
            ],
            [
             1,
             "#276419"
            ]
           ],
           "sequential": [
            [
             0,
             "#0d0887"
            ],
            [
             0.1111111111111111,
             "#46039f"
            ],
            [
             0.2222222222222222,
             "#7201a8"
            ],
            [
             0.3333333333333333,
             "#9c179e"
            ],
            [
             0.4444444444444444,
             "#bd3786"
            ],
            [
             0.5555555555555556,
             "#d8576b"
            ],
            [
             0.6666666666666666,
             "#ed7953"
            ],
            [
             0.7777777777777778,
             "#fb9f3a"
            ],
            [
             0.8888888888888888,
             "#fdca26"
            ],
            [
             1,
             "#f0f921"
            ]
           ],
           "sequentialminus": [
            [
             0,
             "#0d0887"
            ],
            [
             0.1111111111111111,
             "#46039f"
            ],
            [
             0.2222222222222222,
             "#7201a8"
            ],
            [
             0.3333333333333333,
             "#9c179e"
            ],
            [
             0.4444444444444444,
             "#bd3786"
            ],
            [
             0.5555555555555556,
             "#d8576b"
            ],
            [
             0.6666666666666666,
             "#ed7953"
            ],
            [
             0.7777777777777778,
             "#fb9f3a"
            ],
            [
             0.8888888888888888,
             "#fdca26"
            ],
            [
             1,
             "#f0f921"
            ]
           ]
          },
          "colorway": [
           "#636efa",
           "#EF553B",
           "#00cc96",
           "#ab63fa",
           "#FFA15A",
           "#19d3f3",
           "#FF6692",
           "#B6E880",
           "#FF97FF",
           "#FECB52"
          ],
          "font": {
           "color": "#2a3f5f"
          },
          "geo": {
           "bgcolor": "white",
           "lakecolor": "white",
           "landcolor": "#E5ECF6",
           "showlakes": true,
           "showland": true,
           "subunitcolor": "white"
          },
          "hoverlabel": {
           "align": "left"
          },
          "hovermode": "closest",
          "mapbox": {
           "style": "light"
          },
          "paper_bgcolor": "white",
          "plot_bgcolor": "#E5ECF6",
          "polar": {
           "angularaxis": {
            "gridcolor": "white",
            "linecolor": "white",
            "ticks": ""
           },
           "bgcolor": "#E5ECF6",
           "radialaxis": {
            "gridcolor": "white",
            "linecolor": "white",
            "ticks": ""
           }
          },
          "scene": {
           "xaxis": {
            "backgroundcolor": "#E5ECF6",
            "gridcolor": "white",
            "gridwidth": 2,
            "linecolor": "white",
            "showbackground": true,
            "ticks": "",
            "zerolinecolor": "white"
           },
           "yaxis": {
            "backgroundcolor": "#E5ECF6",
            "gridcolor": "white",
            "gridwidth": 2,
            "linecolor": "white",
            "showbackground": true,
            "ticks": "",
            "zerolinecolor": "white"
           },
           "zaxis": {
            "backgroundcolor": "#E5ECF6",
            "gridcolor": "white",
            "gridwidth": 2,
            "linecolor": "white",
            "showbackground": true,
            "ticks": "",
            "zerolinecolor": "white"
           }
          },
          "shapedefaults": {
           "line": {
            "color": "#2a3f5f"
           }
          },
          "ternary": {
           "aaxis": {
            "gridcolor": "white",
            "linecolor": "white",
            "ticks": ""
           },
           "baxis": {
            "gridcolor": "white",
            "linecolor": "white",
            "ticks": ""
           },
           "bgcolor": "#E5ECF6",
           "caxis": {
            "gridcolor": "white",
            "linecolor": "white",
            "ticks": ""
           }
          },
          "title": {
           "x": 0.05
          },
          "xaxis": {
           "automargin": true,
           "gridcolor": "white",
           "linecolor": "white",
           "ticks": "",
           "title": {
            "standoff": 15
           },
           "zerolinecolor": "white",
           "zerolinewidth": 2
          },
          "yaxis": {
           "automargin": true,
           "gridcolor": "white",
           "linecolor": "white",
           "ticks": "",
           "title": {
            "standoff": 15
           },
           "zerolinecolor": "white",
           "zerolinewidth": 2
          }
         }
        },
        "title": {
         "text": "Yaşlı başına düşen vaka sayısı yüksek olduğu halde diğer illerimize göre aşılama oranı düşük ilimiz var mı?"
        },
        "width": 1200,
        "xaxis": {
         "anchor": "y",
         "domain": [
          0,
          1
         ],
         "gridcolor": "white",
         "gridwidth": 2,
         "title": {
          "text": "Yaşlı(50 ve üstü yaş) vatandaşımız başına düşen vaka sayısı (8-14 Mayıs)"
         }
        },
        "yaxis": {
         "anchor": "x",
         "domain": [
          0,
          1
         ],
         "gridcolor": "white",
         "gridwidth": 2,
         "title": {
          "text": "2 Doz aşı vurulan kişi oranı -Toplam- (17 Mayıs)"
         }
        }
       }
      },
      "text/html": [
       "<div>\n",
       "        \n",
       "        \n",
       "            <div id=\"de70df6e-9f9c-44b4-97ed-6351871b935f\" class=\"plotly-graph-div\" style=\"height:800px; width:1200px;\"></div>\n",
       "            <script type=\"text/javascript\">\n",
       "                require([\"plotly\"], function(Plotly) {\n",
       "                    window.PLOTLYENV=window.PLOTLYENV || {};\n",
       "                    \n",
       "                if (document.getElementById(\"de70df6e-9f9c-44b4-97ed-6351871b935f\")) {\n",
       "                    Plotly.newPlot(\n",
       "                        'de70df6e-9f9c-44b4-97ed-6351871b935f',\n",
       "                        [{\"hovertemplate\": \"<b>%{hovertext}</b><br><br>YasliBasinaDusenVakaSayisi=%{x}<br>AsiOrani=%{y}<br>ToplamNufus=%{marker.color}<br>text=%{text}<extra></extra>\", \"hovertext\": [\"Adana\", \"Ad\\u0131yaman\", \"Afyonkarahisar\", \"A\\u011fr\\u0131\", \"Amasya\", \"Ankara\", \"Antalya\", \"Artvin\", \"Ayd\\u0131n\", \"Bal\\u0131kesir\", \"Bilecik\", \"Bing\\u00f6l\", \"Bitlis\", \"Bolu\", \"Burdur\", \"Bursa\", \"\\u00c7anakkale\", \"\\u00c7ank\\u0131r\\u0131\", \"\\u00c7orum\", \"Denizli\", \"Diyarbak\\u0131r\", \"Edirne\", \"Elaz\\u0131\\u011f\", \"Erzincan\", \"Erzurum\", \"Eski\\u015fehir\", \"Gaziantep\", \"Giresun\", \"G\\u00fcm\\u00fc\\u015fhane\", \"Hakkari\", \"Hatay\", \"Isparta\", \"Mersin\", \"\\u0130stanbul\", \"\\u0130zmir\", \"Kars\", \"Kastamonu\", \"Kayseri\", \"K\\u0131rklareli\", \"K\\u0131r\\u015fehir\", \"Kocaeli\", \"Konya\", \"K\\u00fctahya\", \"Malatya\", \"Manisa\", \"Kahramanmara\\u015f\", \"Mardin\", \"Mu\\u011fla\", \"Mu\\u015f\", \"Nev\\u015fehir\", \"Ni\\u011fde\", \"Ordu\", \"Rize\", \"Sakarya\", \"Samsun\", \"Siirt\", \"Sinop\", \"Sivas\", \"Tekirda\\u011f\", \"Tokat\", \"Trabzon\", \"Tunceli\", \"\\u015eanl\\u0131urfa\", \"U\\u015fak\", \"Van\", \"Yozgat\", \"Zonguldak\", \"Aksaray\", \"Bayburt\", \"Karaman\", \"K\\u0131r\\u0131kkale\", \"Batman\", \"\\u015e\\u0131rnak\", \"Bart\\u0131n\", \"Ardahan\", \"I\\u011fd\\u0131r\", \"Yalova\", \"Karab\\u00fck\", \"Kilis\", \"Osmaniye\", \"D\\u00fczce\"], \"legendgroup\": \"\", \"marker\": {\"color\": [2258718, 632459, 736912, 535435, 335494, 5663322, 2548308, 169501, 1119084, 1240285, 218717, 281768, 350994, 314802, 267092, 3101833, 541548, 192428, 530126, 1040915, 1783431, 407763, 587960, 234431, 758279, 888828, 2101157, 448721, 141702, 280514, 1659320, 440304, 1868757, 15462452, 4394694, 284923, 376377, 1421455, 361737, 243042, 1997258, 2250020, 576688, 806156, 1450616, 1168163, 854716, 1000773, 411117, 304962, 362071, 761400, 344359, 1042649, 1356079, 331070, 216460, 635889, 1081065, 597861, 811901, 83443, 2115256, 369433, 1149342, 419095, 591204, 423011, 81910, 254919, 278703, 620278, 537762, 198979, 96161, 201314, 276050, 243614, 142792, 548556, 395679], \"coloraxis\": \"coloraxis\", \"size\": [2258718, 632459, 736912, 535435, 335494, 5663322, 2548308, 169501, 1119084, 1240285, 218717, 281768, 350994, 314802, 267092, 3101833, 541548, 192428, 530126, 1040915, 1783431, 407763, 587960, 234431, 758279, 888828, 2101157, 448721, 141702, 280514, 1659320, 440304, 1868757, 15462452, 4394694, 284923, 376377, 1421455, 361737, 243042, 1997258, 2250020, 576688, 806156, 1450616, 1168163, 854716, 1000773, 411117, 304962, 362071, 761400, 344359, 1042649, 1356079, 331070, 216460, 635889, 1081065, 597861, 811901, 83443, 2115256, 369433, 1149342, 419095, 591204, 423011, 81910, 254919, 278703, 620278, 537762, 198979, 96161, 201314, 276050, 243614, 142792, 548556, 395679], \"sizemode\": \"area\", \"sizeref\": 4295.125555555555, \"symbol\": \"circle\"}, \"mode\": \"markers+text\", \"name\": \"\", \"showlegend\": false, \"text\": [\"Adana\", \"Ad\\u0131yaman\", \"Afyonkarahisar\", \"A\\u011fr\\u0131\", \"Amasya\", \"Ankara\", \"Antalya\", \"Artvin\", \"Ayd\\u0131n\", \"Bal\\u0131kesir\", \"Bilecik\", \"Bing\\u00f6l\", \"Bitlis\", \"Bolu\", \"Burdur\", \"Bursa\", \"\\u00c7anakkale\", \"\\u00c7ank\\u0131r\\u0131\", \"\\u00c7orum\", \"Denizli\", \"Diyarbak\\u0131r\", \"Edirne\", \"Elaz\\u0131\\u011f\", \"Erzincan\", \"Erzurum\", \"Eski\\u015fehir\", \"Gaziantep\", \"Giresun\", \"G\\u00fcm\\u00fc\\u015fhane\", \"Hakkari\", \"Hatay\", \"Isparta\", \"Mersin\", \"\\u0130stanbul\", \"\\u0130zmir\", \"Kars\", \"Kastamonu\", \"Kayseri\", \"K\\u0131rklareli\", \"K\\u0131r\\u015fehir\", \"Kocaeli\", \"Konya\", \"K\\u00fctahya\", \"Malatya\", \"Manisa\", \"Kahramanmara\\u015f\", \"Mardin\", \"Mu\\u011fla\", \"Mu\\u015f\", \"Nev\\u015fehir\", \"Ni\\u011fde\", \"Ordu\", \"Rize\", \"Sakarya\", \"Samsun\", \"Siirt\", \"Sinop\", \"Sivas\", \"Tekirda\\u011f\", \"Tokat\", \"Trabzon\", \"Tunceli\", \"\\u015eanl\\u0131urfa\", \"U\\u015fak\", \"Van\", \"Yozgat\", \"Zonguldak\", \"Aksaray\", \"Bayburt\", \"Karaman\", \"K\\u0131r\\u0131kkale\", \"Batman\", \"\\u015e\\u0131rnak\", \"Bart\\u0131n\", \"Ardahan\", \"I\\u011fd\\u0131r\", \"Yalova\", \"Karab\\u00fck\", \"Kilis\", \"Osmaniye\", \"D\\u00fczce\"], \"textposition\": \"top center\", \"type\": \"scatter\", \"x\": [0.0011979321609600817, 0.002441755158682659, 0.0037721992840727874, 0.013921325227877082, 0.00369895231578113, 0.005983725549764532, 0.0024163661758666672, 0.0021229220420410835, 0.0014329697247607203, 0.0031353044038229237, 0.0052876897479901055, 0.0034830711603605676, 0.006649610572635531, 0.004951837909672464, 0.002883964707025976, 0.0042254192745785225, 0.003369838793653407, 0.004268196371212779, 0.0038519109735068195, 0.0032089159651038164, 0.0045861132782842075, 0.0022387372920091415, 0.003545709427396393, 0.005431587017806374, 0.008820173988687577, 0.0048409553544696915, 0.004757118456732234, 0.00357381135507118, 0.003557756171238379, 0.007135443524794864, 0.0014776110734067472, 0.0044235162561792815, 0.001796352976949485, 0.008418112152520894, 0.003146787793557601, 0.006945759510249607, 0.0038347279789886918, 0.005294541485444679, 0.004392072923310675, 0.0037590330081651354, 0.007006649481365734, 0.004889289552419772, 0.0047175075461650595, 0.004051083900641319, 0.0025219081734978487, 0.0020341017505833255, 0.003300941593955805, 0.002259581905559308, 0.0034443913365690727, 0.004282904836651935, 0.0046116570993447095, 0.004401200248636168, 0.00515476852509777, 0.004097440053311595, 0.003172687325698674, 0.0037416859380052666, 0.0024512628335317597, 0.004677279022403258, 0.005316096385296852, 0.004302911348322722, 0.004027961114018395, 0.003849124914877868, 0.0041978038283552385, 0.0029664884430318284, 0.003931397568867024, 0.003991812406380777, 0.004400503207984676, 0.003978963996615428, 0.003628547843885194, 0.004822721625677487, 0.004375705420513644, 0.004487671113653699, 0.002863249436160759, 0.003630516252495154, 0.0042605128213460425, 0.004378307529444367, 0.002596287537986648, 0.004131800313356835, 0.003602503262995368, 0.0015229773516927858, 0.004710692323160854], \"xaxis\": \"x\", \"y\": [0.11824406588161958, 0.09482037570814868, 0.14759971339861477, 0.04372893068252916, 0.20866841135758016, 0.15967253848536248, 0.14676836551939562, 0.20958578415466575, 0.20527770926936673, 0.23190879515595206, 0.17464120301576924, 0.07751767411487465, 0.046579143803027974, 0.1907580002668344, 0.20024935228310844, 0.13294300499091988, 0.2378902701145605, 0.18795081796827903, 0.18031750942228827, 0.16054913225383435, 0.0556735864746099, 0.2351169674541339, 0.13015341179672085, 0.15642982370079042, 0.10973137855591411, 0.18833227576088962, 0.07237060343420315, 0.2214605512111089, 0.12939125770984178, 0.02969548756924788, 0.09340392449919244, 0.19537410516370507, 0.14392026357627022, 0.11487654092636795, 0.1758081450039525, 0.10033588022027004, 0.21446847177165448, 0.13445026399006652, 0.21141879321164272, 0.17487923897927107, 0.1227007226908091, 0.1327081537053004, 0.16994978220458895, 0.1427081110851994, 0.1481929056345718, 0.09780313192593842, 0.04424744593525803, 0.21131165608984256, 0.051902499775003226, 0.1424964421796814, 0.12696957226621297, 0.18998161281849224, 0.17502083581378736, 0.1395819686203123, 0.16886700553581319, 0.04006705530552451, 0.2268040284579137, 0.1538224438541947, 0.14230134173245826, 0.18293717101466728, 0.18260231235089008, 0.1993935980249991, 0.0379069956544267, 0.16543730527592285, 0.051341550208728125, 0.15401281332394803, 0.18510023612830764, 0.11256917668807667, 0.1173483091197656, 0.15012219567784277, 0.1598439916326699, 0.05521556463392221, 0.028269011198262427, 0.19155790309530152, 0.14310375308077078, 0.0715350149517669, 0.18660387610940046, 0.17816299555854753, 0.0915877640203933, 0.13613195371119813, 0.14310337419979327], \"yaxis\": \"y\"}],\n",
       "                        {\"annotations\": [{\"font\": {\"color\": \"rgb(150,150,150)\", \"family\": \"Arial\", \"size\": 12}, \"showarrow\": false, \"text\": \"Haz\\u0131rlayan: Selim Sava\\u015f  Kaynak: T\\u00dc\\u0130K, T.C. Sa\\u011fl\\u0131k Bakanl\\u0131\\u011f\\u0131\", \"x\": -0.05, \"xref\": \"paper\", \"y\": -0.1, \"yref\": \"paper\"}], \"coloraxis\": {\"colorbar\": {\"title\": {\"text\": \"ToplamNufus\"}}, \"colorscale\": [[0.0, \"rgb(224, 253, 74)\"], [0.09090909090909091, \"rgb(222, 222, 59)\"], [0.18181818181818182, \"rgb(217, 192, 44)\"], [0.2727272727272727, \"rgb(209, 164, 32)\"], [0.36363636363636365, \"rgb(199, 137, 22)\"], [0.45454545454545453, \"rgb(188, 111, 19)\"], [0.5454545454545454, \"rgb(174, 88, 20)\"], [0.6363636363636364, \"rgb(157, 66, 25)\"], [0.7272727272727273, \"rgb(135, 47, 32)\"], [0.8181818181818182, \"rgb(108, 36, 36)\"], [0.9090909090909091, \"rgb(79, 28, 33)\"], [1.0, \"rgb(51, 19, 23)\"]]}, \"height\": 800, \"legend\": {\"itemsizing\": \"constant\", \"tracegroupgap\": 0}, \"margin\": {\"t\": 60}, \"paper_bgcolor\": \"rgb(243, 243, 243)\", \"plot_bgcolor\": \"rgb(243, 243, 243)\", \"template\": {\"data\": {\"bar\": [{\"error_x\": {\"color\": \"#2a3f5f\"}, \"error_y\": {\"color\": \"#2a3f5f\"}, \"marker\": {\"line\": {\"color\": \"#E5ECF6\", \"width\": 0.5}}, \"type\": \"bar\"}], \"barpolar\": [{\"marker\": {\"line\": {\"color\": \"#E5ECF6\", \"width\": 0.5}}, \"type\": \"barpolar\"}], \"carpet\": [{\"aaxis\": {\"endlinecolor\": \"#2a3f5f\", \"gridcolor\": \"white\", \"linecolor\": \"white\", \"minorgridcolor\": \"white\", \"startlinecolor\": \"#2a3f5f\"}, \"baxis\": {\"endlinecolor\": \"#2a3f5f\", \"gridcolor\": \"white\", \"linecolor\": \"white\", \"minorgridcolor\": \"white\", \"startlinecolor\": \"#2a3f5f\"}, \"type\": \"carpet\"}], \"choropleth\": [{\"colorbar\": {\"outlinewidth\": 0, \"ticks\": \"\"}, \"type\": \"choropleth\"}], \"contour\": [{\"colorbar\": {\"outlinewidth\": 0, \"ticks\": \"\"}, \"colorscale\": [[0.0, \"#0d0887\"], [0.1111111111111111, \"#46039f\"], [0.2222222222222222, \"#7201a8\"], [0.3333333333333333, \"#9c179e\"], [0.4444444444444444, \"#bd3786\"], [0.5555555555555556, \"#d8576b\"], [0.6666666666666666, \"#ed7953\"], [0.7777777777777778, \"#fb9f3a\"], [0.8888888888888888, \"#fdca26\"], [1.0, \"#f0f921\"]], \"type\": \"contour\"}], \"contourcarpet\": [{\"colorbar\": {\"outlinewidth\": 0, \"ticks\": \"\"}, \"type\": \"contourcarpet\"}], \"heatmap\": [{\"colorbar\": {\"outlinewidth\": 0, \"ticks\": \"\"}, \"colorscale\": [[0.0, \"#0d0887\"], [0.1111111111111111, \"#46039f\"], [0.2222222222222222, \"#7201a8\"], [0.3333333333333333, \"#9c179e\"], [0.4444444444444444, \"#bd3786\"], [0.5555555555555556, \"#d8576b\"], [0.6666666666666666, \"#ed7953\"], [0.7777777777777778, \"#fb9f3a\"], [0.8888888888888888, \"#fdca26\"], [1.0, \"#f0f921\"]], \"type\": \"heatmap\"}], \"heatmapgl\": [{\"colorbar\": {\"outlinewidth\": 0, \"ticks\": \"\"}, \"colorscale\": [[0.0, \"#0d0887\"], [0.1111111111111111, \"#46039f\"], [0.2222222222222222, \"#7201a8\"], [0.3333333333333333, \"#9c179e\"], [0.4444444444444444, \"#bd3786\"], [0.5555555555555556, \"#d8576b\"], [0.6666666666666666, \"#ed7953\"], [0.7777777777777778, \"#fb9f3a\"], [0.8888888888888888, \"#fdca26\"], [1.0, \"#f0f921\"]], \"type\": \"heatmapgl\"}], \"histogram\": [{\"marker\": {\"colorbar\": {\"outlinewidth\": 0, \"ticks\": \"\"}}, \"type\": \"histogram\"}], \"histogram2d\": [{\"colorbar\": {\"outlinewidth\": 0, \"ticks\": \"\"}, \"colorscale\": [[0.0, \"#0d0887\"], [0.1111111111111111, \"#46039f\"], [0.2222222222222222, \"#7201a8\"], [0.3333333333333333, \"#9c179e\"], [0.4444444444444444, \"#bd3786\"], [0.5555555555555556, \"#d8576b\"], [0.6666666666666666, \"#ed7953\"], [0.7777777777777778, \"#fb9f3a\"], [0.8888888888888888, \"#fdca26\"], [1.0, \"#f0f921\"]], \"type\": \"histogram2d\"}], \"histogram2dcontour\": [{\"colorbar\": {\"outlinewidth\": 0, \"ticks\": \"\"}, \"colorscale\": [[0.0, \"#0d0887\"], [0.1111111111111111, \"#46039f\"], [0.2222222222222222, \"#7201a8\"], [0.3333333333333333, \"#9c179e\"], [0.4444444444444444, \"#bd3786\"], [0.5555555555555556, \"#d8576b\"], [0.6666666666666666, \"#ed7953\"], [0.7777777777777778, \"#fb9f3a\"], [0.8888888888888888, \"#fdca26\"], [1.0, \"#f0f921\"]], \"type\": \"histogram2dcontour\"}], \"mesh3d\": [{\"colorbar\": {\"outlinewidth\": 0, \"ticks\": \"\"}, \"type\": \"mesh3d\"}], \"parcoords\": [{\"line\": {\"colorbar\": {\"outlinewidth\": 0, \"ticks\": \"\"}}, \"type\": \"parcoords\"}], \"pie\": [{\"automargin\": true, \"type\": \"pie\"}], \"scatter\": [{\"marker\": {\"colorbar\": {\"outlinewidth\": 0, \"ticks\": \"\"}}, \"type\": \"scatter\"}], \"scatter3d\": [{\"line\": {\"colorbar\": {\"outlinewidth\": 0, \"ticks\": \"\"}}, \"marker\": {\"colorbar\": {\"outlinewidth\": 0, \"ticks\": \"\"}}, \"type\": \"scatter3d\"}], \"scattercarpet\": [{\"marker\": {\"colorbar\": {\"outlinewidth\": 0, \"ticks\": \"\"}}, \"type\": \"scattercarpet\"}], \"scattergeo\": [{\"marker\": {\"colorbar\": {\"outlinewidth\": 0, \"ticks\": \"\"}}, \"type\": \"scattergeo\"}], \"scattergl\": [{\"marker\": {\"colorbar\": {\"outlinewidth\": 0, \"ticks\": \"\"}}, \"type\": \"scattergl\"}], \"scattermapbox\": [{\"marker\": {\"colorbar\": {\"outlinewidth\": 0, \"ticks\": \"\"}}, \"type\": \"scattermapbox\"}], \"scatterpolar\": [{\"marker\": {\"colorbar\": {\"outlinewidth\": 0, \"ticks\": \"\"}}, \"type\": \"scatterpolar\"}], \"scatterpolargl\": [{\"marker\": {\"colorbar\": {\"outlinewidth\": 0, \"ticks\": \"\"}}, \"type\": \"scatterpolargl\"}], \"scatterternary\": [{\"marker\": {\"colorbar\": {\"outlinewidth\": 0, \"ticks\": \"\"}}, \"type\": \"scatterternary\"}], \"surface\": [{\"colorbar\": {\"outlinewidth\": 0, \"ticks\": \"\"}, \"colorscale\": [[0.0, \"#0d0887\"], [0.1111111111111111, \"#46039f\"], [0.2222222222222222, \"#7201a8\"], [0.3333333333333333, \"#9c179e\"], [0.4444444444444444, \"#bd3786\"], [0.5555555555555556, \"#d8576b\"], [0.6666666666666666, \"#ed7953\"], [0.7777777777777778, \"#fb9f3a\"], [0.8888888888888888, \"#fdca26\"], [1.0, \"#f0f921\"]], \"type\": \"surface\"}], \"table\": [{\"cells\": {\"fill\": {\"color\": \"#EBF0F8\"}, \"line\": {\"color\": \"white\"}}, \"header\": {\"fill\": {\"color\": \"#C8D4E3\"}, \"line\": {\"color\": \"white\"}}, \"type\": \"table\"}]}, \"layout\": {\"annotationdefaults\": {\"arrowcolor\": \"#2a3f5f\", \"arrowhead\": 0, \"arrowwidth\": 1}, \"coloraxis\": {\"colorbar\": {\"outlinewidth\": 0, \"ticks\": \"\"}}, \"colorscale\": {\"diverging\": [[0, \"#8e0152\"], [0.1, \"#c51b7d\"], [0.2, \"#de77ae\"], [0.3, \"#f1b6da\"], [0.4, \"#fde0ef\"], [0.5, \"#f7f7f7\"], [0.6, \"#e6f5d0\"], [0.7, \"#b8e186\"], [0.8, \"#7fbc41\"], [0.9, \"#4d9221\"], [1, \"#276419\"]], \"sequential\": [[0.0, \"#0d0887\"], [0.1111111111111111, \"#46039f\"], [0.2222222222222222, \"#7201a8\"], [0.3333333333333333, \"#9c179e\"], [0.4444444444444444, \"#bd3786\"], [0.5555555555555556, \"#d8576b\"], [0.6666666666666666, \"#ed7953\"], [0.7777777777777778, \"#fb9f3a\"], [0.8888888888888888, \"#fdca26\"], [1.0, \"#f0f921\"]], \"sequentialminus\": [[0.0, \"#0d0887\"], [0.1111111111111111, \"#46039f\"], [0.2222222222222222, \"#7201a8\"], [0.3333333333333333, \"#9c179e\"], [0.4444444444444444, \"#bd3786\"], [0.5555555555555556, \"#d8576b\"], [0.6666666666666666, \"#ed7953\"], [0.7777777777777778, \"#fb9f3a\"], [0.8888888888888888, \"#fdca26\"], [1.0, \"#f0f921\"]]}, \"colorway\": [\"#636efa\", \"#EF553B\", \"#00cc96\", \"#ab63fa\", \"#FFA15A\", \"#19d3f3\", \"#FF6692\", \"#B6E880\", \"#FF97FF\", \"#FECB52\"], \"font\": {\"color\": \"#2a3f5f\"}, \"geo\": {\"bgcolor\": \"white\", \"lakecolor\": \"white\", \"landcolor\": \"#E5ECF6\", \"showlakes\": true, \"showland\": true, \"subunitcolor\": \"white\"}, \"hoverlabel\": {\"align\": \"left\"}, \"hovermode\": \"closest\", \"mapbox\": {\"style\": \"light\"}, \"paper_bgcolor\": \"white\", \"plot_bgcolor\": \"#E5ECF6\", \"polar\": {\"angularaxis\": {\"gridcolor\": \"white\", \"linecolor\": \"white\", \"ticks\": \"\"}, \"bgcolor\": \"#E5ECF6\", \"radialaxis\": {\"gridcolor\": \"white\", \"linecolor\": \"white\", \"ticks\": \"\"}}, \"scene\": {\"xaxis\": {\"backgroundcolor\": \"#E5ECF6\", \"gridcolor\": \"white\", \"gridwidth\": 2, \"linecolor\": \"white\", \"showbackground\": true, \"ticks\": \"\", \"zerolinecolor\": \"white\"}, \"yaxis\": {\"backgroundcolor\": \"#E5ECF6\", \"gridcolor\": \"white\", \"gridwidth\": 2, \"linecolor\": \"white\", \"showbackground\": true, \"ticks\": \"\", \"zerolinecolor\": \"white\"}, \"zaxis\": {\"backgroundcolor\": \"#E5ECF6\", \"gridcolor\": \"white\", \"gridwidth\": 2, \"linecolor\": \"white\", \"showbackground\": true, \"ticks\": \"\", \"zerolinecolor\": \"white\"}}, \"shapedefaults\": {\"line\": {\"color\": \"#2a3f5f\"}}, \"ternary\": {\"aaxis\": {\"gridcolor\": \"white\", \"linecolor\": \"white\", \"ticks\": \"\"}, \"baxis\": {\"gridcolor\": \"white\", \"linecolor\": \"white\", \"ticks\": \"\"}, \"bgcolor\": \"#E5ECF6\", \"caxis\": {\"gridcolor\": \"white\", \"linecolor\": \"white\", \"ticks\": \"\"}}, \"title\": {\"x\": 0.05}, \"xaxis\": {\"automargin\": true, \"gridcolor\": \"white\", \"linecolor\": \"white\", \"ticks\": \"\", \"title\": {\"standoff\": 15}, \"zerolinecolor\": \"white\", \"zerolinewidth\": 2}, \"yaxis\": {\"automargin\": true, \"gridcolor\": \"white\", \"linecolor\": \"white\", \"ticks\": \"\", \"title\": {\"standoff\": 15}, \"zerolinecolor\": \"white\", \"zerolinewidth\": 2}}}, \"title\": {\"text\": \"Ya\\u015fl\\u0131 ba\\u015f\\u0131na d\\u00fc\\u015fen vaka say\\u0131s\\u0131 y\\u00fcksek oldu\\u011fu halde di\\u011fer illerimize g\\u00f6re a\\u015f\\u0131lama oran\\u0131 d\\u00fc\\u015f\\u00fck ilimiz var m\\u0131?\"}, \"width\": 1200, \"xaxis\": {\"anchor\": \"y\", \"domain\": [0.0, 1.0], \"gridcolor\": \"white\", \"gridwidth\": 2, \"title\": {\"text\": \"Ya\\u015fl\\u0131(50 ve \\u00fcst\\u00fc ya\\u015f) vatanda\\u015f\\u0131m\\u0131z ba\\u015f\\u0131na d\\u00fc\\u015fen vaka say\\u0131s\\u0131 (8-14 May\\u0131s)\"}}, \"yaxis\": {\"anchor\": \"x\", \"domain\": [0.0, 1.0], \"gridcolor\": \"white\", \"gridwidth\": 2, \"title\": {\"text\": \"2 Doz a\\u015f\\u0131 vurulan ki\\u015fi oran\\u0131 -Toplam- (17 May\\u0131s)\"}}},\n",
       "                        {\"responsive\": true}\n",
       "                    ).then(function(){\n",
       "                            \n",
       "var gd = document.getElementById('de70df6e-9f9c-44b4-97ed-6351871b935f');\n",
       "var x = new MutationObserver(function (mutations, observer) {{\n",
       "        var display = window.getComputedStyle(gd).display;\n",
       "        if (!display || display === 'none') {{\n",
       "            console.log([gd, 'removed!']);\n",
       "            Plotly.purge(gd);\n",
       "            observer.disconnect();\n",
       "        }}\n",
       "}});\n",
       "\n",
       "// Listen for the removal of the full notebook cells\n",
       "var notebookContainer = gd.closest('#notebook-container');\n",
       "if (notebookContainer) {{\n",
       "    x.observe(notebookContainer, {childList: true});\n",
       "}}\n",
       "\n",
       "// Listen for the clearing of the current output cell\n",
       "var outputEl = gd.closest('.output');\n",
       "if (outputEl) {{\n",
       "    x.observe(outputEl, {childList: true});\n",
       "}}\n",
       "\n",
       "                        })\n",
       "                };\n",
       "                });\n",
       "            </script>\n",
       "        </div>"
      ]
     },
     "metadata": {},
     "output_type": "display_data"
    }
   ],
   "source": [
    "veri_paleti = veri_paleti[0:81]\n",
    "\n",
    "\n",
    "fig = px.scatter(veri_paleti, x=\"YasliBasinaDusenVakaSayisi\", y=\"AsiOrani\",\n",
    "           size=\"ToplamNufus\", color=veri_paleti[\"ToplamNufus\"],\n",
    "                 hover_name=veri_paleti.index,\n",
    "                 color_continuous_scale='Solar_r', size_max=60,text=veri_paleti.index)\n",
    "\n",
    "fig.update_traces(textposition='top center')\n",
    "\n",
    "fig.update_layout(\n",
    "    height=800,\n",
    "    width=1200,\n",
    "    title='Yaşlı başına düşen vaka sayısı yüksek olduğu halde diğer illerimize göre aşılama oranı düşük ilimiz var mı?',\n",
    "    xaxis=dict(\n",
    "        title='Yaşlı(50 ve üstü yaş) vatandaşımız başına düşen vaka sayısı (8-14 Mayıs)',\n",
    "        gridcolor='white',\n",
    "        gridwidth=2,\n",
    "    ),\n",
    "    yaxis=dict(\n",
    "        title='2 Doz aşı vurulan kişi oranı -Toplam- (17 Mayıs)',\n",
    "        gridcolor='white',\n",
    "        gridwidth=2,\n",
    "    ),\n",
    "    paper_bgcolor='rgb(243, 243, 243)',\n",
    "    plot_bgcolor='rgb(243, 243, 243)',\n",
    "\n",
    ")\n",
    "fig.add_annotation(text=\"Hazırlayan: Selim Savaş  \"+ \"Kaynak: TÜİK, T.C. Sağlık Bakanlığı\",\n",
    "                  xref=\"paper\", yref=\"paper\",\n",
    "                  x=-0.050, y=-0.100, showarrow=False,\n",
    "                  font=dict(family='Arial', size=12, color='rgb(150,150,150)'))\n",
    "\n",
    "fig.show()"
   ]
  },
  {
   "cell_type": "markdown",
   "metadata": {},
   "source": [
    "### Şehirleri 7 adet kategoriye alalım ve görselleştirelim."
   ]
  },
  {
   "cell_type": "code",
   "execution_count": 29,
   "metadata": {},
   "outputs": [],
   "source": [
    "veri_paleti = veri_paleti[0:81]\n",
    "veri_paleti['NufusStatu'] = 0\n",
    "\n",
    "\n",
    "# Kategori oluşturma\n",
    "\n",
    "index = 0\n",
    "for i in veri_paleti['ToplamNufus']:\n",
    "    \n",
    "    if(i< 100000):\n",
    "        veri_paleti['NufusStatu'][index] = 1\n",
    "    elif(i< 250000):\n",
    "        veri_paleti['NufusStatu'][index] = 2\n",
    "    elif(i< 500000):\n",
    "        veri_paleti['NufusStatu'][index] = 3\n",
    "    elif(i< 1000000):\n",
    "        veri_paleti['NufusStatu'][index] = 4\n",
    "    elif(i< 3000000):\n",
    "        veri_paleti['NufusStatu'][index] = 5\n",
    "    elif(i< 1000000):\n",
    "        veri_paleti['NufusStatu'][index] = 6\n",
    "    else:\n",
    "        veri_paleti['NufusStatu'][index] = 7\n",
    "    index += 1"
   ]
  },
  {
   "cell_type": "code",
   "execution_count": 30,
   "metadata": {},
   "outputs": [
    {
     "data": {
      "application/vnd.plotly.v1+json": {
       "config": {
        "plotlyServerURL": "https://plot.ly"
       },
       "data": [
        {
         "hovertemplate": "<b>%{hovertext}</b><br><br>YasliBasinaDusenVakaSayisi=%{x}<br>AsiOrani=%{y}<br>ToplamNufus=%{marker.size}<br>text=%{text}<br>NufusStatu=%{marker.color}<extra></extra>",
         "hovertext": [
          "Adana",
          "Adıyaman",
          "Afyonkarahisar",
          "Ağrı",
          "Amasya",
          "Ankara",
          "Antalya",
          "Artvin",
          "Aydın",
          "Balıkesir",
          "Bilecik",
          "Bingöl",
          "Bitlis",
          "Bolu",
          "Burdur",
          "Bursa",
          "Çanakkale",
          "Çankırı",
          "Çorum",
          "Denizli",
          "Diyarbakır",
          "Edirne",
          "Elazığ",
          "Erzincan",
          "Erzurum",
          "Eskişehir",
          "Gaziantep",
          "Giresun",
          "Gümüşhane",
          "Hakkari",
          "Hatay",
          "Isparta",
          "Mersin",
          "İstanbul",
          "İzmir",
          "Kars",
          "Kastamonu",
          "Kayseri",
          "Kırklareli",
          "Kırşehir",
          "Kocaeli",
          "Konya",
          "Kütahya",
          "Malatya",
          "Manisa",
          "Kahramanmaraş",
          "Mardin",
          "Muğla",
          "Muş",
          "Nevşehir",
          "Niğde",
          "Ordu",
          "Rize",
          "Sakarya",
          "Samsun",
          "Siirt",
          "Sinop",
          "Sivas",
          "Tekirdağ",
          "Tokat",
          "Trabzon",
          "Tunceli",
          "Şanlıurfa",
          "Uşak",
          "Van",
          "Yozgat",
          "Zonguldak",
          "Aksaray",
          "Bayburt",
          "Karaman",
          "Kırıkkale",
          "Batman",
          "Şırnak",
          "Bartın",
          "Ardahan",
          "Iğdır",
          "Yalova",
          "Karabük",
          "Kilis",
          "Osmaniye",
          "Düzce"
         ],
         "legendgroup": "",
         "marker": {
          "color": [
           5,
           4,
           4,
           4,
           3,
           7,
           5,
           2,
           5,
           5,
           2,
           3,
           3,
           3,
           3,
           7,
           4,
           2,
           4,
           5,
           5,
           3,
           4,
           2,
           4,
           4,
           5,
           3,
           2,
           3,
           5,
           3,
           5,
           7,
           7,
           3,
           3,
           5,
           3,
           2,
           5,
           5,
           4,
           4,
           5,
           5,
           4,
           5,
           3,
           3,
           3,
           4,
           3,
           5,
           5,
           3,
           2,
           4,
           5,
           4,
           4,
           1,
           5,
           3,
           5,
           3,
           4,
           3,
           1,
           3,
           3,
           4,
           4,
           2,
           1,
           2,
           3,
           2,
           2,
           4,
           3
          ],
          "coloraxis": "coloraxis",
          "size": [
           2258718,
           632459,
           736912,
           535435,
           335494,
           5663322,
           2548308,
           169501,
           1119084,
           1240285,
           218717,
           281768,
           350994,
           314802,
           267092,
           3101833,
           541548,
           192428,
           530126,
           1040915,
           1783431,
           407763,
           587960,
           234431,
           758279,
           888828,
           2101157,
           448721,
           141702,
           280514,
           1659320,
           440304,
           1868757,
           15462452,
           4394694,
           284923,
           376377,
           1421455,
           361737,
           243042,
           1997258,
           2250020,
           576688,
           806156,
           1450616,
           1168163,
           854716,
           1000773,
           411117,
           304962,
           362071,
           761400,
           344359,
           1042649,
           1356079,
           331070,
           216460,
           635889,
           1081065,
           597861,
           811901,
           83443,
           2115256,
           369433,
           1149342,
           419095,
           591204,
           423011,
           81910,
           254919,
           278703,
           620278,
           537762,
           198979,
           96161,
           201314,
           276050,
           243614,
           142792,
           548556,
           395679
          ],
          "sizemode": "area",
          "sizeref": 2748.8803555555555,
          "symbol": "circle"
         },
         "mode": "markers+text",
         "name": "",
         "showlegend": false,
         "text": [
          "Adana",
          "Adıyaman",
          "Afyonkarahisar",
          "Ağrı",
          "Amasya",
          "Ankara",
          "Antalya",
          "Artvin",
          "Aydın",
          "Balıkesir",
          "Bilecik",
          "Bingöl",
          "Bitlis",
          "Bolu",
          "Burdur",
          "Bursa",
          "Çanakkale",
          "Çankırı",
          "Çorum",
          "Denizli",
          "Diyarbakır",
          "Edirne",
          "Elazığ",
          "Erzincan",
          "Erzurum",
          "Eskişehir",
          "Gaziantep",
          "Giresun",
          "Gümüşhane",
          "Hakkari",
          "Hatay",
          "Isparta",
          "Mersin",
          "İstanbul",
          "İzmir",
          "Kars",
          "Kastamonu",
          "Kayseri",
          "Kırklareli",
          "Kırşehir",
          "Kocaeli",
          "Konya",
          "Kütahya",
          "Malatya",
          "Manisa",
          "Kahramanmaraş",
          "Mardin",
          "Muğla",
          "Muş",
          "Nevşehir",
          "Niğde",
          "Ordu",
          "Rize",
          "Sakarya",
          "Samsun",
          "Siirt",
          "Sinop",
          "Sivas",
          "Tekirdağ",
          "Tokat",
          "Trabzon",
          "Tunceli",
          "Şanlıurfa",
          "Uşak",
          "Van",
          "Yozgat",
          "Zonguldak",
          "Aksaray",
          "Bayburt",
          "Karaman",
          "Kırıkkale",
          "Batman",
          "Şırnak",
          "Bartın",
          "Ardahan",
          "Iğdır",
          "Yalova",
          "Karabük",
          "Kilis",
          "Osmaniye",
          "Düzce"
         ],
         "textposition": "top center",
         "type": "scatter",
         "x": [
          0.0011979321609600817,
          0.002441755158682659,
          0.0037721992840727874,
          0.013921325227877082,
          0.00369895231578113,
          0.005983725549764532,
          0.0024163661758666672,
          0.0021229220420410835,
          0.0014329697247607203,
          0.0031353044038229237,
          0.0052876897479901055,
          0.0034830711603605676,
          0.006649610572635531,
          0.004951837909672464,
          0.002883964707025976,
          0.0042254192745785225,
          0.003369838793653407,
          0.004268196371212779,
          0.0038519109735068195,
          0.0032089159651038164,
          0.0045861132782842075,
          0.0022387372920091415,
          0.003545709427396393,
          0.005431587017806374,
          0.008820173988687577,
          0.0048409553544696915,
          0.004757118456732234,
          0.00357381135507118,
          0.003557756171238379,
          0.007135443524794864,
          0.0014776110734067472,
          0.0044235162561792815,
          0.001796352976949485,
          0.008418112152520894,
          0.003146787793557601,
          0.006945759510249607,
          0.0038347279789886918,
          0.005294541485444679,
          0.004392072923310675,
          0.0037590330081651354,
          0.007006649481365734,
          0.004889289552419772,
          0.0047175075461650595,
          0.004051083900641319,
          0.0025219081734978487,
          0.0020341017505833255,
          0.003300941593955805,
          0.002259581905559308,
          0.0034443913365690727,
          0.004282904836651935,
          0.0046116570993447095,
          0.004401200248636168,
          0.00515476852509777,
          0.004097440053311595,
          0.003172687325698674,
          0.0037416859380052666,
          0.0024512628335317597,
          0.004677279022403258,
          0.005316096385296852,
          0.004302911348322722,
          0.004027961114018395,
          0.003849124914877868,
          0.0041978038283552385,
          0.0029664884430318284,
          0.003931397568867024,
          0.003991812406380777,
          0.004400503207984676,
          0.003978963996615428,
          0.003628547843885194,
          0.004822721625677487,
          0.004375705420513644,
          0.004487671113653699,
          0.002863249436160759,
          0.003630516252495154,
          0.0042605128213460425,
          0.004378307529444367,
          0.002596287537986648,
          0.004131800313356835,
          0.003602503262995368,
          0.0015229773516927858,
          0.004710692323160854
         ],
         "xaxis": "x",
         "y": [
          0.11824406588161958,
          0.09482037570814868,
          0.14759971339861477,
          0.04372893068252916,
          0.20866841135758016,
          0.15967253848536248,
          0.14676836551939562,
          0.20958578415466575,
          0.20527770926936673,
          0.23190879515595206,
          0.17464120301576924,
          0.07751767411487465,
          0.046579143803027974,
          0.1907580002668344,
          0.20024935228310844,
          0.13294300499091988,
          0.2378902701145605,
          0.18795081796827903,
          0.18031750942228827,
          0.16054913225383435,
          0.0556735864746099,
          0.2351169674541339,
          0.13015341179672085,
          0.15642982370079042,
          0.10973137855591411,
          0.18833227576088962,
          0.07237060343420315,
          0.2214605512111089,
          0.12939125770984178,
          0.02969548756924788,
          0.09340392449919244,
          0.19537410516370507,
          0.14392026357627022,
          0.11487654092636795,
          0.1758081450039525,
          0.10033588022027004,
          0.21446847177165448,
          0.13445026399006652,
          0.21141879321164272,
          0.17487923897927107,
          0.1227007226908091,
          0.1327081537053004,
          0.16994978220458895,
          0.1427081110851994,
          0.1481929056345718,
          0.09780313192593842,
          0.04424744593525803,
          0.21131165608984256,
          0.051902499775003226,
          0.1424964421796814,
          0.12696957226621297,
          0.18998161281849224,
          0.17502083581378736,
          0.1395819686203123,
          0.16886700553581319,
          0.04006705530552451,
          0.2268040284579137,
          0.1538224438541947,
          0.14230134173245826,
          0.18293717101466728,
          0.18260231235089008,
          0.1993935980249991,
          0.0379069956544267,
          0.16543730527592285,
          0.051341550208728125,
          0.15401281332394803,
          0.18510023612830764,
          0.11256917668807667,
          0.1173483091197656,
          0.15012219567784277,
          0.1598439916326699,
          0.05521556463392221,
          0.028269011198262427,
          0.19155790309530152,
          0.14310375308077078,
          0.0715350149517669,
          0.18660387610940046,
          0.17816299555854753,
          0.0915877640203933,
          0.13613195371119813,
          0.14310337419979327
         ],
         "yaxis": "y"
        }
       ],
       "layout": {
        "annotations": [
         {
          "font": {
           "color": "rgb(150,150,150)",
           "family": "Arial",
           "size": 12
          },
          "showarrow": false,
          "text": "Hazırlayan: Selim Savaş  Kaynak: TÜİK, T.C. Sağlık Bakanlığı",
          "x": -0.05,
          "xref": "paper",
          "y": -0.1,
          "yref": "paper"
         }
        ],
        "coloraxis": {
         "colorbar": {
          "title": {
           "text": "NufusStatu"
          }
         },
         "colorscale": [
          [
           0,
           "rgb(224, 253, 74)"
          ],
          [
           0.09090909090909091,
           "rgb(222, 222, 59)"
          ],
          [
           0.18181818181818182,
           "rgb(217, 192, 44)"
          ],
          [
           0.2727272727272727,
           "rgb(209, 164, 32)"
          ],
          [
           0.36363636363636365,
           "rgb(199, 137, 22)"
          ],
          [
           0.45454545454545453,
           "rgb(188, 111, 19)"
          ],
          [
           0.5454545454545454,
           "rgb(174, 88, 20)"
          ],
          [
           0.6363636363636364,
           "rgb(157, 66, 25)"
          ],
          [
           0.7272727272727273,
           "rgb(135, 47, 32)"
          ],
          [
           0.8181818181818182,
           "rgb(108, 36, 36)"
          ],
          [
           0.9090909090909091,
           "rgb(79, 28, 33)"
          ],
          [
           1,
           "rgb(51, 19, 23)"
          ]
         ]
        },
        "height": 800,
        "legend": {
         "itemsizing": "constant",
         "tracegroupgap": 0
        },
        "margin": {
         "t": 60
        },
        "paper_bgcolor": "rgb(243, 243, 243)",
        "plot_bgcolor": "rgb(243, 243, 243)",
        "template": {
         "data": {
          "bar": [
           {
            "error_x": {
             "color": "#2a3f5f"
            },
            "error_y": {
             "color": "#2a3f5f"
            },
            "marker": {
             "line": {
              "color": "#E5ECF6",
              "width": 0.5
             }
            },
            "type": "bar"
           }
          ],
          "barpolar": [
           {
            "marker": {
             "line": {
              "color": "#E5ECF6",
              "width": 0.5
             }
            },
            "type": "barpolar"
           }
          ],
          "carpet": [
           {
            "aaxis": {
             "endlinecolor": "#2a3f5f",
             "gridcolor": "white",
             "linecolor": "white",
             "minorgridcolor": "white",
             "startlinecolor": "#2a3f5f"
            },
            "baxis": {
             "endlinecolor": "#2a3f5f",
             "gridcolor": "white",
             "linecolor": "white",
             "minorgridcolor": "white",
             "startlinecolor": "#2a3f5f"
            },
            "type": "carpet"
           }
          ],
          "choropleth": [
           {
            "colorbar": {
             "outlinewidth": 0,
             "ticks": ""
            },
            "type": "choropleth"
           }
          ],
          "contour": [
           {
            "colorbar": {
             "outlinewidth": 0,
             "ticks": ""
            },
            "colorscale": [
             [
              0,
              "#0d0887"
             ],
             [
              0.1111111111111111,
              "#46039f"
             ],
             [
              0.2222222222222222,
              "#7201a8"
             ],
             [
              0.3333333333333333,
              "#9c179e"
             ],
             [
              0.4444444444444444,
              "#bd3786"
             ],
             [
              0.5555555555555556,
              "#d8576b"
             ],
             [
              0.6666666666666666,
              "#ed7953"
             ],
             [
              0.7777777777777778,
              "#fb9f3a"
             ],
             [
              0.8888888888888888,
              "#fdca26"
             ],
             [
              1,
              "#f0f921"
             ]
            ],
            "type": "contour"
           }
          ],
          "contourcarpet": [
           {
            "colorbar": {
             "outlinewidth": 0,
             "ticks": ""
            },
            "type": "contourcarpet"
           }
          ],
          "heatmap": [
           {
            "colorbar": {
             "outlinewidth": 0,
             "ticks": ""
            },
            "colorscale": [
             [
              0,
              "#0d0887"
             ],
             [
              0.1111111111111111,
              "#46039f"
             ],
             [
              0.2222222222222222,
              "#7201a8"
             ],
             [
              0.3333333333333333,
              "#9c179e"
             ],
             [
              0.4444444444444444,
              "#bd3786"
             ],
             [
              0.5555555555555556,
              "#d8576b"
             ],
             [
              0.6666666666666666,
              "#ed7953"
             ],
             [
              0.7777777777777778,
              "#fb9f3a"
             ],
             [
              0.8888888888888888,
              "#fdca26"
             ],
             [
              1,
              "#f0f921"
             ]
            ],
            "type": "heatmap"
           }
          ],
          "heatmapgl": [
           {
            "colorbar": {
             "outlinewidth": 0,
             "ticks": ""
            },
            "colorscale": [
             [
              0,
              "#0d0887"
             ],
             [
              0.1111111111111111,
              "#46039f"
             ],
             [
              0.2222222222222222,
              "#7201a8"
             ],
             [
              0.3333333333333333,
              "#9c179e"
             ],
             [
              0.4444444444444444,
              "#bd3786"
             ],
             [
              0.5555555555555556,
              "#d8576b"
             ],
             [
              0.6666666666666666,
              "#ed7953"
             ],
             [
              0.7777777777777778,
              "#fb9f3a"
             ],
             [
              0.8888888888888888,
              "#fdca26"
             ],
             [
              1,
              "#f0f921"
             ]
            ],
            "type": "heatmapgl"
           }
          ],
          "histogram": [
           {
            "marker": {
             "colorbar": {
              "outlinewidth": 0,
              "ticks": ""
             }
            },
            "type": "histogram"
           }
          ],
          "histogram2d": [
           {
            "colorbar": {
             "outlinewidth": 0,
             "ticks": ""
            },
            "colorscale": [
             [
              0,
              "#0d0887"
             ],
             [
              0.1111111111111111,
              "#46039f"
             ],
             [
              0.2222222222222222,
              "#7201a8"
             ],
             [
              0.3333333333333333,
              "#9c179e"
             ],
             [
              0.4444444444444444,
              "#bd3786"
             ],
             [
              0.5555555555555556,
              "#d8576b"
             ],
             [
              0.6666666666666666,
              "#ed7953"
             ],
             [
              0.7777777777777778,
              "#fb9f3a"
             ],
             [
              0.8888888888888888,
              "#fdca26"
             ],
             [
              1,
              "#f0f921"
             ]
            ],
            "type": "histogram2d"
           }
          ],
          "histogram2dcontour": [
           {
            "colorbar": {
             "outlinewidth": 0,
             "ticks": ""
            },
            "colorscale": [
             [
              0,
              "#0d0887"
             ],
             [
              0.1111111111111111,
              "#46039f"
             ],
             [
              0.2222222222222222,
              "#7201a8"
             ],
             [
              0.3333333333333333,
              "#9c179e"
             ],
             [
              0.4444444444444444,
              "#bd3786"
             ],
             [
              0.5555555555555556,
              "#d8576b"
             ],
             [
              0.6666666666666666,
              "#ed7953"
             ],
             [
              0.7777777777777778,
              "#fb9f3a"
             ],
             [
              0.8888888888888888,
              "#fdca26"
             ],
             [
              1,
              "#f0f921"
             ]
            ],
            "type": "histogram2dcontour"
           }
          ],
          "mesh3d": [
           {
            "colorbar": {
             "outlinewidth": 0,
             "ticks": ""
            },
            "type": "mesh3d"
           }
          ],
          "parcoords": [
           {
            "line": {
             "colorbar": {
              "outlinewidth": 0,
              "ticks": ""
             }
            },
            "type": "parcoords"
           }
          ],
          "pie": [
           {
            "automargin": true,
            "type": "pie"
           }
          ],
          "scatter": [
           {
            "marker": {
             "colorbar": {
              "outlinewidth": 0,
              "ticks": ""
             }
            },
            "type": "scatter"
           }
          ],
          "scatter3d": [
           {
            "line": {
             "colorbar": {
              "outlinewidth": 0,
              "ticks": ""
             }
            },
            "marker": {
             "colorbar": {
              "outlinewidth": 0,
              "ticks": ""
             }
            },
            "type": "scatter3d"
           }
          ],
          "scattercarpet": [
           {
            "marker": {
             "colorbar": {
              "outlinewidth": 0,
              "ticks": ""
             }
            },
            "type": "scattercarpet"
           }
          ],
          "scattergeo": [
           {
            "marker": {
             "colorbar": {
              "outlinewidth": 0,
              "ticks": ""
             }
            },
            "type": "scattergeo"
           }
          ],
          "scattergl": [
           {
            "marker": {
             "colorbar": {
              "outlinewidth": 0,
              "ticks": ""
             }
            },
            "type": "scattergl"
           }
          ],
          "scattermapbox": [
           {
            "marker": {
             "colorbar": {
              "outlinewidth": 0,
              "ticks": ""
             }
            },
            "type": "scattermapbox"
           }
          ],
          "scatterpolar": [
           {
            "marker": {
             "colorbar": {
              "outlinewidth": 0,
              "ticks": ""
             }
            },
            "type": "scatterpolar"
           }
          ],
          "scatterpolargl": [
           {
            "marker": {
             "colorbar": {
              "outlinewidth": 0,
              "ticks": ""
             }
            },
            "type": "scatterpolargl"
           }
          ],
          "scatterternary": [
           {
            "marker": {
             "colorbar": {
              "outlinewidth": 0,
              "ticks": ""
             }
            },
            "type": "scatterternary"
           }
          ],
          "surface": [
           {
            "colorbar": {
             "outlinewidth": 0,
             "ticks": ""
            },
            "colorscale": [
             [
              0,
              "#0d0887"
             ],
             [
              0.1111111111111111,
              "#46039f"
             ],
             [
              0.2222222222222222,
              "#7201a8"
             ],
             [
              0.3333333333333333,
              "#9c179e"
             ],
             [
              0.4444444444444444,
              "#bd3786"
             ],
             [
              0.5555555555555556,
              "#d8576b"
             ],
             [
              0.6666666666666666,
              "#ed7953"
             ],
             [
              0.7777777777777778,
              "#fb9f3a"
             ],
             [
              0.8888888888888888,
              "#fdca26"
             ],
             [
              1,
              "#f0f921"
             ]
            ],
            "type": "surface"
           }
          ],
          "table": [
           {
            "cells": {
             "fill": {
              "color": "#EBF0F8"
             },
             "line": {
              "color": "white"
             }
            },
            "header": {
             "fill": {
              "color": "#C8D4E3"
             },
             "line": {
              "color": "white"
             }
            },
            "type": "table"
           }
          ]
         },
         "layout": {
          "annotationdefaults": {
           "arrowcolor": "#2a3f5f",
           "arrowhead": 0,
           "arrowwidth": 1
          },
          "coloraxis": {
           "colorbar": {
            "outlinewidth": 0,
            "ticks": ""
           }
          },
          "colorscale": {
           "diverging": [
            [
             0,
             "#8e0152"
            ],
            [
             0.1,
             "#c51b7d"
            ],
            [
             0.2,
             "#de77ae"
            ],
            [
             0.3,
             "#f1b6da"
            ],
            [
             0.4,
             "#fde0ef"
            ],
            [
             0.5,
             "#f7f7f7"
            ],
            [
             0.6,
             "#e6f5d0"
            ],
            [
             0.7,
             "#b8e186"
            ],
            [
             0.8,
             "#7fbc41"
            ],
            [
             0.9,
             "#4d9221"
            ],
            [
             1,
             "#276419"
            ]
           ],
           "sequential": [
            [
             0,
             "#0d0887"
            ],
            [
             0.1111111111111111,
             "#46039f"
            ],
            [
             0.2222222222222222,
             "#7201a8"
            ],
            [
             0.3333333333333333,
             "#9c179e"
            ],
            [
             0.4444444444444444,
             "#bd3786"
            ],
            [
             0.5555555555555556,
             "#d8576b"
            ],
            [
             0.6666666666666666,
             "#ed7953"
            ],
            [
             0.7777777777777778,
             "#fb9f3a"
            ],
            [
             0.8888888888888888,
             "#fdca26"
            ],
            [
             1,
             "#f0f921"
            ]
           ],
           "sequentialminus": [
            [
             0,
             "#0d0887"
            ],
            [
             0.1111111111111111,
             "#46039f"
            ],
            [
             0.2222222222222222,
             "#7201a8"
            ],
            [
             0.3333333333333333,
             "#9c179e"
            ],
            [
             0.4444444444444444,
             "#bd3786"
            ],
            [
             0.5555555555555556,
             "#d8576b"
            ],
            [
             0.6666666666666666,
             "#ed7953"
            ],
            [
             0.7777777777777778,
             "#fb9f3a"
            ],
            [
             0.8888888888888888,
             "#fdca26"
            ],
            [
             1,
             "#f0f921"
            ]
           ]
          },
          "colorway": [
           "#636efa",
           "#EF553B",
           "#00cc96",
           "#ab63fa",
           "#FFA15A",
           "#19d3f3",
           "#FF6692",
           "#B6E880",
           "#FF97FF",
           "#FECB52"
          ],
          "font": {
           "color": "#2a3f5f"
          },
          "geo": {
           "bgcolor": "white",
           "lakecolor": "white",
           "landcolor": "#E5ECF6",
           "showlakes": true,
           "showland": true,
           "subunitcolor": "white"
          },
          "hoverlabel": {
           "align": "left"
          },
          "hovermode": "closest",
          "mapbox": {
           "style": "light"
          },
          "paper_bgcolor": "white",
          "plot_bgcolor": "#E5ECF6",
          "polar": {
           "angularaxis": {
            "gridcolor": "white",
            "linecolor": "white",
            "ticks": ""
           },
           "bgcolor": "#E5ECF6",
           "radialaxis": {
            "gridcolor": "white",
            "linecolor": "white",
            "ticks": ""
           }
          },
          "scene": {
           "xaxis": {
            "backgroundcolor": "#E5ECF6",
            "gridcolor": "white",
            "gridwidth": 2,
            "linecolor": "white",
            "showbackground": true,
            "ticks": "",
            "zerolinecolor": "white"
           },
           "yaxis": {
            "backgroundcolor": "#E5ECF6",
            "gridcolor": "white",
            "gridwidth": 2,
            "linecolor": "white",
            "showbackground": true,
            "ticks": "",
            "zerolinecolor": "white"
           },
           "zaxis": {
            "backgroundcolor": "#E5ECF6",
            "gridcolor": "white",
            "gridwidth": 2,
            "linecolor": "white",
            "showbackground": true,
            "ticks": "",
            "zerolinecolor": "white"
           }
          },
          "shapedefaults": {
           "line": {
            "color": "#2a3f5f"
           }
          },
          "ternary": {
           "aaxis": {
            "gridcolor": "white",
            "linecolor": "white",
            "ticks": ""
           },
           "baxis": {
            "gridcolor": "white",
            "linecolor": "white",
            "ticks": ""
           },
           "bgcolor": "#E5ECF6",
           "caxis": {
            "gridcolor": "white",
            "linecolor": "white",
            "ticks": ""
           }
          },
          "title": {
           "x": 0.05
          },
          "xaxis": {
           "automargin": true,
           "gridcolor": "white",
           "linecolor": "white",
           "ticks": "",
           "title": {
            "standoff": 15
           },
           "zerolinecolor": "white",
           "zerolinewidth": 2
          },
          "yaxis": {
           "automargin": true,
           "gridcolor": "white",
           "linecolor": "white",
           "ticks": "",
           "title": {
            "standoff": 15
           },
           "zerolinecolor": "white",
           "zerolinewidth": 2
          }
         }
        },
        "title": {
         "text": "Yaşlı başına düşen vaka sayısı yüksek olduğu halde diğer illerimize göre aşılama oranı düşük ilimiz var mı?"
        },
        "width": 1200,
        "xaxis": {
         "anchor": "y",
         "domain": [
          0,
          1
         ],
         "gridcolor": "white",
         "gridwidth": 2,
         "title": {
          "text": "Yaşlı(50 ve üstü yaş) vatandaşımız başına düşen vaka sayısı (8-14 Mayıs)"
         }
        },
        "yaxis": {
         "anchor": "x",
         "domain": [
          0,
          1
         ],
         "gridcolor": "white",
         "gridwidth": 2,
         "title": {
          "text": "2 Doz aşı vurulan kişi oranı -Toplam- (17 Mayıs)"
         }
        }
       }
      },
      "text/html": [
       "<div>\n",
       "        \n",
       "        \n",
       "            <div id=\"9c16149b-f69a-4e63-8e30-2ab41c446653\" class=\"plotly-graph-div\" style=\"height:800px; width:1200px;\"></div>\n",
       "            <script type=\"text/javascript\">\n",
       "                require([\"plotly\"], function(Plotly) {\n",
       "                    window.PLOTLYENV=window.PLOTLYENV || {};\n",
       "                    \n",
       "                if (document.getElementById(\"9c16149b-f69a-4e63-8e30-2ab41c446653\")) {\n",
       "                    Plotly.newPlot(\n",
       "                        '9c16149b-f69a-4e63-8e30-2ab41c446653',\n",
       "                        [{\"hovertemplate\": \"<b>%{hovertext}</b><br><br>YasliBasinaDusenVakaSayisi=%{x}<br>AsiOrani=%{y}<br>ToplamNufus=%{marker.size}<br>text=%{text}<br>NufusStatu=%{marker.color}<extra></extra>\", \"hovertext\": [\"Adana\", \"Ad\\u0131yaman\", \"Afyonkarahisar\", \"A\\u011fr\\u0131\", \"Amasya\", \"Ankara\", \"Antalya\", \"Artvin\", \"Ayd\\u0131n\", \"Bal\\u0131kesir\", \"Bilecik\", \"Bing\\u00f6l\", \"Bitlis\", \"Bolu\", \"Burdur\", \"Bursa\", \"\\u00c7anakkale\", \"\\u00c7ank\\u0131r\\u0131\", \"\\u00c7orum\", \"Denizli\", \"Diyarbak\\u0131r\", \"Edirne\", \"Elaz\\u0131\\u011f\", \"Erzincan\", \"Erzurum\", \"Eski\\u015fehir\", \"Gaziantep\", \"Giresun\", \"G\\u00fcm\\u00fc\\u015fhane\", \"Hakkari\", \"Hatay\", \"Isparta\", \"Mersin\", \"\\u0130stanbul\", \"\\u0130zmir\", \"Kars\", \"Kastamonu\", \"Kayseri\", \"K\\u0131rklareli\", \"K\\u0131r\\u015fehir\", \"Kocaeli\", \"Konya\", \"K\\u00fctahya\", \"Malatya\", \"Manisa\", \"Kahramanmara\\u015f\", \"Mardin\", \"Mu\\u011fla\", \"Mu\\u015f\", \"Nev\\u015fehir\", \"Ni\\u011fde\", \"Ordu\", \"Rize\", \"Sakarya\", \"Samsun\", \"Siirt\", \"Sinop\", \"Sivas\", \"Tekirda\\u011f\", \"Tokat\", \"Trabzon\", \"Tunceli\", \"\\u015eanl\\u0131urfa\", \"U\\u015fak\", \"Van\", \"Yozgat\", \"Zonguldak\", \"Aksaray\", \"Bayburt\", \"Karaman\", \"K\\u0131r\\u0131kkale\", \"Batman\", \"\\u015e\\u0131rnak\", \"Bart\\u0131n\", \"Ardahan\", \"I\\u011fd\\u0131r\", \"Yalova\", \"Karab\\u00fck\", \"Kilis\", \"Osmaniye\", \"D\\u00fczce\"], \"legendgroup\": \"\", \"marker\": {\"color\": [5, 4, 4, 4, 3, 7, 5, 2, 5, 5, 2, 3, 3, 3, 3, 7, 4, 2, 4, 5, 5, 3, 4, 2, 4, 4, 5, 3, 2, 3, 5, 3, 5, 7, 7, 3, 3, 5, 3, 2, 5, 5, 4, 4, 5, 5, 4, 5, 3, 3, 3, 4, 3, 5, 5, 3, 2, 4, 5, 4, 4, 1, 5, 3, 5, 3, 4, 3, 1, 3, 3, 4, 4, 2, 1, 2, 3, 2, 2, 4, 3], \"coloraxis\": \"coloraxis\", \"size\": [2258718, 632459, 736912, 535435, 335494, 5663322, 2548308, 169501, 1119084, 1240285, 218717, 281768, 350994, 314802, 267092, 3101833, 541548, 192428, 530126, 1040915, 1783431, 407763, 587960, 234431, 758279, 888828, 2101157, 448721, 141702, 280514, 1659320, 440304, 1868757, 15462452, 4394694, 284923, 376377, 1421455, 361737, 243042, 1997258, 2250020, 576688, 806156, 1450616, 1168163, 854716, 1000773, 411117, 304962, 362071, 761400, 344359, 1042649, 1356079, 331070, 216460, 635889, 1081065, 597861, 811901, 83443, 2115256, 369433, 1149342, 419095, 591204, 423011, 81910, 254919, 278703, 620278, 537762, 198979, 96161, 201314, 276050, 243614, 142792, 548556, 395679], \"sizemode\": \"area\", \"sizeref\": 2748.8803555555555, \"symbol\": \"circle\"}, \"mode\": \"markers+text\", \"name\": \"\", \"showlegend\": false, \"text\": [\"Adana\", \"Ad\\u0131yaman\", \"Afyonkarahisar\", \"A\\u011fr\\u0131\", \"Amasya\", \"Ankara\", \"Antalya\", \"Artvin\", \"Ayd\\u0131n\", \"Bal\\u0131kesir\", \"Bilecik\", \"Bing\\u00f6l\", \"Bitlis\", \"Bolu\", \"Burdur\", \"Bursa\", \"\\u00c7anakkale\", \"\\u00c7ank\\u0131r\\u0131\", \"\\u00c7orum\", \"Denizli\", \"Diyarbak\\u0131r\", \"Edirne\", \"Elaz\\u0131\\u011f\", \"Erzincan\", \"Erzurum\", \"Eski\\u015fehir\", \"Gaziantep\", \"Giresun\", \"G\\u00fcm\\u00fc\\u015fhane\", \"Hakkari\", \"Hatay\", \"Isparta\", \"Mersin\", \"\\u0130stanbul\", \"\\u0130zmir\", \"Kars\", \"Kastamonu\", \"Kayseri\", \"K\\u0131rklareli\", \"K\\u0131r\\u015fehir\", \"Kocaeli\", \"Konya\", \"K\\u00fctahya\", \"Malatya\", \"Manisa\", \"Kahramanmara\\u015f\", \"Mardin\", \"Mu\\u011fla\", \"Mu\\u015f\", \"Nev\\u015fehir\", \"Ni\\u011fde\", \"Ordu\", \"Rize\", \"Sakarya\", \"Samsun\", \"Siirt\", \"Sinop\", \"Sivas\", \"Tekirda\\u011f\", \"Tokat\", \"Trabzon\", \"Tunceli\", \"\\u015eanl\\u0131urfa\", \"U\\u015fak\", \"Van\", \"Yozgat\", \"Zonguldak\", \"Aksaray\", \"Bayburt\", \"Karaman\", \"K\\u0131r\\u0131kkale\", \"Batman\", \"\\u015e\\u0131rnak\", \"Bart\\u0131n\", \"Ardahan\", \"I\\u011fd\\u0131r\", \"Yalova\", \"Karab\\u00fck\", \"Kilis\", \"Osmaniye\", \"D\\u00fczce\"], \"textposition\": \"top center\", \"type\": \"scatter\", \"x\": [0.0011979321609600817, 0.002441755158682659, 0.0037721992840727874, 0.013921325227877082, 0.00369895231578113, 0.005983725549764532, 0.0024163661758666672, 0.0021229220420410835, 0.0014329697247607203, 0.0031353044038229237, 0.0052876897479901055, 0.0034830711603605676, 0.006649610572635531, 0.004951837909672464, 0.002883964707025976, 0.0042254192745785225, 0.003369838793653407, 0.004268196371212779, 0.0038519109735068195, 0.0032089159651038164, 0.0045861132782842075, 0.0022387372920091415, 0.003545709427396393, 0.005431587017806374, 0.008820173988687577, 0.0048409553544696915, 0.004757118456732234, 0.00357381135507118, 0.003557756171238379, 0.007135443524794864, 0.0014776110734067472, 0.0044235162561792815, 0.001796352976949485, 0.008418112152520894, 0.003146787793557601, 0.006945759510249607, 0.0038347279789886918, 0.005294541485444679, 0.004392072923310675, 0.0037590330081651354, 0.007006649481365734, 0.004889289552419772, 0.0047175075461650595, 0.004051083900641319, 0.0025219081734978487, 0.0020341017505833255, 0.003300941593955805, 0.002259581905559308, 0.0034443913365690727, 0.004282904836651935, 0.0046116570993447095, 0.004401200248636168, 0.00515476852509777, 0.004097440053311595, 0.003172687325698674, 0.0037416859380052666, 0.0024512628335317597, 0.004677279022403258, 0.005316096385296852, 0.004302911348322722, 0.004027961114018395, 0.003849124914877868, 0.0041978038283552385, 0.0029664884430318284, 0.003931397568867024, 0.003991812406380777, 0.004400503207984676, 0.003978963996615428, 0.003628547843885194, 0.004822721625677487, 0.004375705420513644, 0.004487671113653699, 0.002863249436160759, 0.003630516252495154, 0.0042605128213460425, 0.004378307529444367, 0.002596287537986648, 0.004131800313356835, 0.003602503262995368, 0.0015229773516927858, 0.004710692323160854], \"xaxis\": \"x\", \"y\": [0.11824406588161958, 0.09482037570814868, 0.14759971339861477, 0.04372893068252916, 0.20866841135758016, 0.15967253848536248, 0.14676836551939562, 0.20958578415466575, 0.20527770926936673, 0.23190879515595206, 0.17464120301576924, 0.07751767411487465, 0.046579143803027974, 0.1907580002668344, 0.20024935228310844, 0.13294300499091988, 0.2378902701145605, 0.18795081796827903, 0.18031750942228827, 0.16054913225383435, 0.0556735864746099, 0.2351169674541339, 0.13015341179672085, 0.15642982370079042, 0.10973137855591411, 0.18833227576088962, 0.07237060343420315, 0.2214605512111089, 0.12939125770984178, 0.02969548756924788, 0.09340392449919244, 0.19537410516370507, 0.14392026357627022, 0.11487654092636795, 0.1758081450039525, 0.10033588022027004, 0.21446847177165448, 0.13445026399006652, 0.21141879321164272, 0.17487923897927107, 0.1227007226908091, 0.1327081537053004, 0.16994978220458895, 0.1427081110851994, 0.1481929056345718, 0.09780313192593842, 0.04424744593525803, 0.21131165608984256, 0.051902499775003226, 0.1424964421796814, 0.12696957226621297, 0.18998161281849224, 0.17502083581378736, 0.1395819686203123, 0.16886700553581319, 0.04006705530552451, 0.2268040284579137, 0.1538224438541947, 0.14230134173245826, 0.18293717101466728, 0.18260231235089008, 0.1993935980249991, 0.0379069956544267, 0.16543730527592285, 0.051341550208728125, 0.15401281332394803, 0.18510023612830764, 0.11256917668807667, 0.1173483091197656, 0.15012219567784277, 0.1598439916326699, 0.05521556463392221, 0.028269011198262427, 0.19155790309530152, 0.14310375308077078, 0.0715350149517669, 0.18660387610940046, 0.17816299555854753, 0.0915877640203933, 0.13613195371119813, 0.14310337419979327], \"yaxis\": \"y\"}],\n",
       "                        {\"annotations\": [{\"font\": {\"color\": \"rgb(150,150,150)\", \"family\": \"Arial\", \"size\": 12}, \"showarrow\": false, \"text\": \"Haz\\u0131rlayan: Selim Sava\\u015f  Kaynak: T\\u00dc\\u0130K, T.C. Sa\\u011fl\\u0131k Bakanl\\u0131\\u011f\\u0131\", \"x\": -0.05, \"xref\": \"paper\", \"y\": -0.1, \"yref\": \"paper\"}], \"coloraxis\": {\"colorbar\": {\"title\": {\"text\": \"NufusStatu\"}}, \"colorscale\": [[0.0, \"rgb(224, 253, 74)\"], [0.09090909090909091, \"rgb(222, 222, 59)\"], [0.18181818181818182, \"rgb(217, 192, 44)\"], [0.2727272727272727, \"rgb(209, 164, 32)\"], [0.36363636363636365, \"rgb(199, 137, 22)\"], [0.45454545454545453, \"rgb(188, 111, 19)\"], [0.5454545454545454, \"rgb(174, 88, 20)\"], [0.6363636363636364, \"rgb(157, 66, 25)\"], [0.7272727272727273, \"rgb(135, 47, 32)\"], [0.8181818181818182, \"rgb(108, 36, 36)\"], [0.9090909090909091, \"rgb(79, 28, 33)\"], [1.0, \"rgb(51, 19, 23)\"]]}, \"height\": 800, \"legend\": {\"itemsizing\": \"constant\", \"tracegroupgap\": 0}, \"margin\": {\"t\": 60}, \"paper_bgcolor\": \"rgb(243, 243, 243)\", \"plot_bgcolor\": \"rgb(243, 243, 243)\", \"template\": {\"data\": {\"bar\": [{\"error_x\": {\"color\": \"#2a3f5f\"}, \"error_y\": {\"color\": \"#2a3f5f\"}, \"marker\": {\"line\": {\"color\": \"#E5ECF6\", \"width\": 0.5}}, \"type\": \"bar\"}], \"barpolar\": [{\"marker\": {\"line\": {\"color\": \"#E5ECF6\", \"width\": 0.5}}, \"type\": \"barpolar\"}], \"carpet\": [{\"aaxis\": {\"endlinecolor\": \"#2a3f5f\", \"gridcolor\": \"white\", \"linecolor\": \"white\", \"minorgridcolor\": \"white\", \"startlinecolor\": \"#2a3f5f\"}, \"baxis\": {\"endlinecolor\": \"#2a3f5f\", \"gridcolor\": \"white\", \"linecolor\": \"white\", \"minorgridcolor\": \"white\", \"startlinecolor\": \"#2a3f5f\"}, \"type\": \"carpet\"}], \"choropleth\": [{\"colorbar\": {\"outlinewidth\": 0, \"ticks\": \"\"}, \"type\": \"choropleth\"}], \"contour\": [{\"colorbar\": {\"outlinewidth\": 0, \"ticks\": \"\"}, \"colorscale\": [[0.0, \"#0d0887\"], [0.1111111111111111, \"#46039f\"], [0.2222222222222222, \"#7201a8\"], [0.3333333333333333, \"#9c179e\"], [0.4444444444444444, \"#bd3786\"], [0.5555555555555556, \"#d8576b\"], [0.6666666666666666, \"#ed7953\"], [0.7777777777777778, \"#fb9f3a\"], [0.8888888888888888, \"#fdca26\"], [1.0, \"#f0f921\"]], \"type\": \"contour\"}], \"contourcarpet\": [{\"colorbar\": {\"outlinewidth\": 0, \"ticks\": \"\"}, \"type\": \"contourcarpet\"}], \"heatmap\": [{\"colorbar\": {\"outlinewidth\": 0, \"ticks\": \"\"}, \"colorscale\": [[0.0, \"#0d0887\"], [0.1111111111111111, \"#46039f\"], [0.2222222222222222, \"#7201a8\"], [0.3333333333333333, \"#9c179e\"], [0.4444444444444444, \"#bd3786\"], [0.5555555555555556, \"#d8576b\"], [0.6666666666666666, \"#ed7953\"], [0.7777777777777778, \"#fb9f3a\"], [0.8888888888888888, \"#fdca26\"], [1.0, \"#f0f921\"]], \"type\": \"heatmap\"}], \"heatmapgl\": [{\"colorbar\": {\"outlinewidth\": 0, \"ticks\": \"\"}, \"colorscale\": [[0.0, \"#0d0887\"], [0.1111111111111111, \"#46039f\"], [0.2222222222222222, \"#7201a8\"], [0.3333333333333333, \"#9c179e\"], [0.4444444444444444, \"#bd3786\"], [0.5555555555555556, \"#d8576b\"], [0.6666666666666666, \"#ed7953\"], [0.7777777777777778, \"#fb9f3a\"], [0.8888888888888888, \"#fdca26\"], [1.0, \"#f0f921\"]], \"type\": \"heatmapgl\"}], \"histogram\": [{\"marker\": {\"colorbar\": {\"outlinewidth\": 0, \"ticks\": \"\"}}, \"type\": \"histogram\"}], \"histogram2d\": [{\"colorbar\": {\"outlinewidth\": 0, \"ticks\": \"\"}, \"colorscale\": [[0.0, \"#0d0887\"], [0.1111111111111111, \"#46039f\"], [0.2222222222222222, \"#7201a8\"], [0.3333333333333333, \"#9c179e\"], [0.4444444444444444, \"#bd3786\"], [0.5555555555555556, \"#d8576b\"], [0.6666666666666666, \"#ed7953\"], [0.7777777777777778, \"#fb9f3a\"], [0.8888888888888888, \"#fdca26\"], [1.0, \"#f0f921\"]], \"type\": \"histogram2d\"}], \"histogram2dcontour\": [{\"colorbar\": {\"outlinewidth\": 0, \"ticks\": \"\"}, \"colorscale\": [[0.0, \"#0d0887\"], [0.1111111111111111, \"#46039f\"], [0.2222222222222222, \"#7201a8\"], [0.3333333333333333, \"#9c179e\"], [0.4444444444444444, \"#bd3786\"], [0.5555555555555556, \"#d8576b\"], [0.6666666666666666, \"#ed7953\"], [0.7777777777777778, \"#fb9f3a\"], [0.8888888888888888, \"#fdca26\"], [1.0, \"#f0f921\"]], \"type\": \"histogram2dcontour\"}], \"mesh3d\": [{\"colorbar\": {\"outlinewidth\": 0, \"ticks\": \"\"}, \"type\": \"mesh3d\"}], \"parcoords\": [{\"line\": {\"colorbar\": {\"outlinewidth\": 0, \"ticks\": \"\"}}, \"type\": \"parcoords\"}], \"pie\": [{\"automargin\": true, \"type\": \"pie\"}], \"scatter\": [{\"marker\": {\"colorbar\": {\"outlinewidth\": 0, \"ticks\": \"\"}}, \"type\": \"scatter\"}], \"scatter3d\": [{\"line\": {\"colorbar\": {\"outlinewidth\": 0, \"ticks\": \"\"}}, \"marker\": {\"colorbar\": {\"outlinewidth\": 0, \"ticks\": \"\"}}, \"type\": \"scatter3d\"}], \"scattercarpet\": [{\"marker\": {\"colorbar\": {\"outlinewidth\": 0, \"ticks\": \"\"}}, \"type\": \"scattercarpet\"}], \"scattergeo\": [{\"marker\": {\"colorbar\": {\"outlinewidth\": 0, \"ticks\": \"\"}}, \"type\": \"scattergeo\"}], \"scattergl\": [{\"marker\": {\"colorbar\": {\"outlinewidth\": 0, \"ticks\": \"\"}}, \"type\": \"scattergl\"}], \"scattermapbox\": [{\"marker\": {\"colorbar\": {\"outlinewidth\": 0, \"ticks\": \"\"}}, \"type\": \"scattermapbox\"}], \"scatterpolar\": [{\"marker\": {\"colorbar\": {\"outlinewidth\": 0, \"ticks\": \"\"}}, \"type\": \"scatterpolar\"}], \"scatterpolargl\": [{\"marker\": {\"colorbar\": {\"outlinewidth\": 0, \"ticks\": \"\"}}, \"type\": \"scatterpolargl\"}], \"scatterternary\": [{\"marker\": {\"colorbar\": {\"outlinewidth\": 0, \"ticks\": \"\"}}, \"type\": \"scatterternary\"}], \"surface\": [{\"colorbar\": {\"outlinewidth\": 0, \"ticks\": \"\"}, \"colorscale\": [[0.0, \"#0d0887\"], [0.1111111111111111, \"#46039f\"], [0.2222222222222222, \"#7201a8\"], [0.3333333333333333, \"#9c179e\"], [0.4444444444444444, \"#bd3786\"], [0.5555555555555556, \"#d8576b\"], [0.6666666666666666, \"#ed7953\"], [0.7777777777777778, \"#fb9f3a\"], [0.8888888888888888, \"#fdca26\"], [1.0, \"#f0f921\"]], \"type\": \"surface\"}], \"table\": [{\"cells\": {\"fill\": {\"color\": \"#EBF0F8\"}, \"line\": {\"color\": \"white\"}}, \"header\": {\"fill\": {\"color\": \"#C8D4E3\"}, \"line\": {\"color\": \"white\"}}, \"type\": \"table\"}]}, \"layout\": {\"annotationdefaults\": {\"arrowcolor\": \"#2a3f5f\", \"arrowhead\": 0, \"arrowwidth\": 1}, \"coloraxis\": {\"colorbar\": {\"outlinewidth\": 0, \"ticks\": \"\"}}, \"colorscale\": {\"diverging\": [[0, \"#8e0152\"], [0.1, \"#c51b7d\"], [0.2, \"#de77ae\"], [0.3, \"#f1b6da\"], [0.4, \"#fde0ef\"], [0.5, \"#f7f7f7\"], [0.6, \"#e6f5d0\"], [0.7, \"#b8e186\"], [0.8, \"#7fbc41\"], [0.9, \"#4d9221\"], [1, \"#276419\"]], \"sequential\": [[0.0, \"#0d0887\"], [0.1111111111111111, \"#46039f\"], [0.2222222222222222, \"#7201a8\"], [0.3333333333333333, \"#9c179e\"], [0.4444444444444444, \"#bd3786\"], [0.5555555555555556, \"#d8576b\"], [0.6666666666666666, \"#ed7953\"], [0.7777777777777778, \"#fb9f3a\"], [0.8888888888888888, \"#fdca26\"], [1.0, \"#f0f921\"]], \"sequentialminus\": [[0.0, \"#0d0887\"], [0.1111111111111111, \"#46039f\"], [0.2222222222222222, \"#7201a8\"], [0.3333333333333333, \"#9c179e\"], [0.4444444444444444, \"#bd3786\"], [0.5555555555555556, \"#d8576b\"], [0.6666666666666666, \"#ed7953\"], [0.7777777777777778, \"#fb9f3a\"], [0.8888888888888888, \"#fdca26\"], [1.0, \"#f0f921\"]]}, \"colorway\": [\"#636efa\", \"#EF553B\", \"#00cc96\", \"#ab63fa\", \"#FFA15A\", \"#19d3f3\", \"#FF6692\", \"#B6E880\", \"#FF97FF\", \"#FECB52\"], \"font\": {\"color\": \"#2a3f5f\"}, \"geo\": {\"bgcolor\": \"white\", \"lakecolor\": \"white\", \"landcolor\": \"#E5ECF6\", \"showlakes\": true, \"showland\": true, \"subunitcolor\": \"white\"}, \"hoverlabel\": {\"align\": \"left\"}, \"hovermode\": \"closest\", \"mapbox\": {\"style\": \"light\"}, \"paper_bgcolor\": \"white\", \"plot_bgcolor\": \"#E5ECF6\", \"polar\": {\"angularaxis\": {\"gridcolor\": \"white\", \"linecolor\": \"white\", \"ticks\": \"\"}, \"bgcolor\": \"#E5ECF6\", \"radialaxis\": {\"gridcolor\": \"white\", \"linecolor\": \"white\", \"ticks\": \"\"}}, \"scene\": {\"xaxis\": {\"backgroundcolor\": \"#E5ECF6\", \"gridcolor\": \"white\", \"gridwidth\": 2, \"linecolor\": \"white\", \"showbackground\": true, \"ticks\": \"\", \"zerolinecolor\": \"white\"}, \"yaxis\": {\"backgroundcolor\": \"#E5ECF6\", \"gridcolor\": \"white\", \"gridwidth\": 2, \"linecolor\": \"white\", \"showbackground\": true, \"ticks\": \"\", \"zerolinecolor\": \"white\"}, \"zaxis\": {\"backgroundcolor\": \"#E5ECF6\", \"gridcolor\": \"white\", \"gridwidth\": 2, \"linecolor\": \"white\", \"showbackground\": true, \"ticks\": \"\", \"zerolinecolor\": \"white\"}}, \"shapedefaults\": {\"line\": {\"color\": \"#2a3f5f\"}}, \"ternary\": {\"aaxis\": {\"gridcolor\": \"white\", \"linecolor\": \"white\", \"ticks\": \"\"}, \"baxis\": {\"gridcolor\": \"white\", \"linecolor\": \"white\", \"ticks\": \"\"}, \"bgcolor\": \"#E5ECF6\", \"caxis\": {\"gridcolor\": \"white\", \"linecolor\": \"white\", \"ticks\": \"\"}}, \"title\": {\"x\": 0.05}, \"xaxis\": {\"automargin\": true, \"gridcolor\": \"white\", \"linecolor\": \"white\", \"ticks\": \"\", \"title\": {\"standoff\": 15}, \"zerolinecolor\": \"white\", \"zerolinewidth\": 2}, \"yaxis\": {\"automargin\": true, \"gridcolor\": \"white\", \"linecolor\": \"white\", \"ticks\": \"\", \"title\": {\"standoff\": 15}, \"zerolinecolor\": \"white\", \"zerolinewidth\": 2}}}, \"title\": {\"text\": \"Ya\\u015fl\\u0131 ba\\u015f\\u0131na d\\u00fc\\u015fen vaka say\\u0131s\\u0131 y\\u00fcksek oldu\\u011fu halde di\\u011fer illerimize g\\u00f6re a\\u015f\\u0131lama oran\\u0131 d\\u00fc\\u015f\\u00fck ilimiz var m\\u0131?\"}, \"width\": 1200, \"xaxis\": {\"anchor\": \"y\", \"domain\": [0.0, 1.0], \"gridcolor\": \"white\", \"gridwidth\": 2, \"title\": {\"text\": \"Ya\\u015fl\\u0131(50 ve \\u00fcst\\u00fc ya\\u015f) vatanda\\u015f\\u0131m\\u0131z ba\\u015f\\u0131na d\\u00fc\\u015fen vaka say\\u0131s\\u0131 (8-14 May\\u0131s)\"}}, \"yaxis\": {\"anchor\": \"x\", \"domain\": [0.0, 1.0], \"gridcolor\": \"white\", \"gridwidth\": 2, \"title\": {\"text\": \"2 Doz a\\u015f\\u0131 vurulan ki\\u015fi oran\\u0131 -Toplam- (17 May\\u0131s)\"}}},\n",
       "                        {\"responsive\": true}\n",
       "                    ).then(function(){\n",
       "                            \n",
       "var gd = document.getElementById('9c16149b-f69a-4e63-8e30-2ab41c446653');\n",
       "var x = new MutationObserver(function (mutations, observer) {{\n",
       "        var display = window.getComputedStyle(gd).display;\n",
       "        if (!display || display === 'none') {{\n",
       "            console.log([gd, 'removed!']);\n",
       "            Plotly.purge(gd);\n",
       "            observer.disconnect();\n",
       "        }}\n",
       "}});\n",
       "\n",
       "// Listen for the removal of the full notebook cells\n",
       "var notebookContainer = gd.closest('#notebook-container');\n",
       "if (notebookContainer) {{\n",
       "    x.observe(notebookContainer, {childList: true});\n",
       "}}\n",
       "\n",
       "// Listen for the clearing of the current output cell\n",
       "var outputEl = gd.closest('.output');\n",
       "if (outputEl) {{\n",
       "    x.observe(outputEl, {childList: true});\n",
       "}}\n",
       "\n",
       "                        })\n",
       "                };\n",
       "                });\n",
       "            </script>\n",
       "        </div>"
      ]
     },
     "metadata": {},
     "output_type": "display_data"
    }
   ],
   "source": [
    "veri_paleti = veri_paleti[0:81]\n",
    "\n",
    "\n",
    "fig = px.scatter(veri_paleti, x=\"YasliBasinaDusenVakaSayisi\", y=\"AsiOrani\",\n",
    "           size=\"ToplamNufus\", color=veri_paleti['NufusStatu'],\n",
    "                 hover_name=veri_paleti.index, size_max=75,\n",
    "                 color_continuous_scale='Solar_r', text=veri_paleti.index\n",
    "                 )\n",
    "\n",
    "fig.update_traces(textposition='top center')\n",
    "\n",
    "fig.update_layout(\n",
    "    height=800,\n",
    "    width=1200,\n",
    "    title='Yaşlı başına düşen vaka sayısı yüksek olduğu halde diğer illerimize göre aşılama oranı düşük ilimiz var mı?',\n",
    "    xaxis=dict(\n",
    "        title='Yaşlı(50 ve üstü yaş) vatandaşımız başına düşen vaka sayısı (8-14 Mayıs)',\n",
    "        gridcolor='white',\n",
    "        gridwidth=2,\n",
    "    ),\n",
    "    yaxis=dict(\n",
    "        title='2 Doz aşı vurulan kişi oranı -Toplam- (17 Mayıs)',\n",
    "        gridcolor='white',\n",
    "        gridwidth=2,\n",
    "    ),\n",
    "    paper_bgcolor='rgb(243, 243, 243)',\n",
    "    plot_bgcolor='rgb(243, 243, 243)',\n",
    ")\n",
    "fig.add_annotation(text=\"Hazırlayan: Selim Savaş  \"+ \"Kaynak: TÜİK, T.C. Sağlık Bakanlığı\",\n",
    "                  xref=\"paper\", yref=\"paper\",\n",
    "                  x=-0.050, y=-0.100, showarrow=False,\n",
    "                  font=dict(family='Arial', size=12, color='rgb(150,150,150)'))\n",
    "\n",
    "fig.show()"
   ]
  },
  {
   "cell_type": "markdown",
   "metadata": {},
   "source": [
    "## 5. Sonuç - 18.05.2021"
   ]
  },
  {
   "cell_type": "markdown",
   "metadata": {},
   "source": [
    "Yaşlı başına düşen vaka sayısı yüksek olduğu halde diğer illerimize göre aşılama oranı düşük ilimiz var mı?\n",
    "\n",
    "- Türkiye'nin geneli ortak şekilde aşılama çalışması yürütmektedir ama bazı illerimiz bu genelden farklılaşmaktadır.\n",
    "- Türkiye geneline uygun bir ili incelemek istersek bu Bursa olabilir. Aşılama oranı %13 olmasına karşın 1000 adet yaşlı vatandaşımız başına 4 adet covid19 vakası düşmektedir.\n",
    "- Sırasıyla en az aşılama oranına sahip 15 illerimiz: Şırnak, Hakkari, Şanlıurfa, Siirt, Ağrı, Mardin, Bitlis, Van, Muş, Batman, Diyarbakır, Iğdır, Gaziantep, Bingöl ve Kilis'dır. Buna rağmen bazı illerin yaşlı başına düşen vaka oranları da düşüktür.\n",
    "- Sırasıyla yaşlı başına düşen vaka sayısı da yüksek olan illerimiz: Ağrı, Erzurum, İstanbul, Hakkari, Kocaeli, Kars, Bitlis, Ankara, Erzurum, Tekirdağ, Kayseri, Bilecik, Rize, Bolu ve Konya'dır. Ağrı, İstanbul ve Erzurum gibi illere dikkat etmemiz gerekmektedir.\n",
    "- Türkiye'nin genelinden en ayrılmış şehrimiz Ağrıdır. Aşılama oranı %4 olan ilimizde 1000 adet yaşlı vatandaşın başına düşen covid-19 vakalı vatandaş sayısı 13'tür. Bu vaka sayısı, Türkiye genelinin yaklaşık 2–3 kat üstündeyken, aşılama oranı da 3 kat düşüktür. Ağrı ilinin aşılama çalışmaları sadece analizlerimiz çerçevesinden bakıldığında hız kazanması gerektiği görülmektedir.\n",
    "- Ağrı ili kadar Türkiye genelinin dışına çıkmamış ama yine de genelden uzaklaşmış illerimiz olduğunu görüyoruz. Bu iller Erzurum, İstanbul, Hakkari ve Bitlis ilimizdir.\n",
    "- İstanbul ilimizi incelemek istersek aşılma oranımız %14'tür ve 1000 adet yaşlı vatandaşımıza 8 adet vaka tekabül etmektedir.\n",
    "\n",
    "Bu analizler şehirlerin nüfuslarının yoğunluğu göz önüne alınmayarak düzenlenmiştir ve covid19 tehdidini etkileyen birçok daha faktör vardır. Çalışmalarımı sadece Yaşlı nüfus oranı ile Aşılama oranı üzerinden yürütülmüştür."
   ]
  },
  {
   "cell_type": "code",
   "execution_count": null,
   "metadata": {},
   "outputs": [],
   "source": []
  }
 ],
 "metadata": {
  "kernelspec": {
   "display_name": "Python 3",
   "language": "python",
   "name": "python3"
  },
  "language_info": {
   "codemirror_mode": {
    "name": "ipython",
    "version": 3
   },
   "file_extension": ".py",
   "mimetype": "text/x-python",
   "name": "python",
   "nbconvert_exporter": "python",
   "pygments_lexer": "ipython3",
   "version": "3.7.2"
  }
 },
 "nbformat": 4,
 "nbformat_minor": 2
}
