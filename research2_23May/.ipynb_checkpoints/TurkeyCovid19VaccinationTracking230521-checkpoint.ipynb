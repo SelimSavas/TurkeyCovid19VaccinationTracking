{
 "cells": [
  {
   "cell_type": "markdown",
   "metadata": {},
   "source": [
    "# Türkiye'nin Covid-19 Aşılamalarına Python ile Farklı Bir Bakış - 23.05.21"
   ]
  },
  {
   "cell_type": "markdown",
   "metadata": {},
   "source": [
    "### İçeriğin yayınlandığı platformlar\n",
    "\n",
    "Medium: https://medium.com/@16savasselim\n",
    "\n",
    "GitHub: https://github.com/SelimSavas/TurkeyCovid19VaccinationTracking"
   ]
  },
  {
   "cell_type": "markdown",
   "metadata": {},
   "source": [
    "### İçerik\n",
    "\n",
    "1. Araştırma Hakkında\n",
    "2. Verilerin Kaynakları\n",
    "3. Verilerin İşlenmesi\n",
    "4. Görselleştirme\n",
    "5. Çıkarım"
   ]
  },
  {
   "cell_type": "markdown",
   "metadata": {},
   "source": [
    "## 1. Araştırma Hakkında"
   ]
  },
  {
   "cell_type": "markdown",
   "metadata": {},
   "source": [
    "Araştırma sorumuz: \"Yaşlı başına düşen vaka sayısı yüksek olduğu halde diğer illerimize göre aşılama oranı düşük ilimiz var mı?\" \n",
    "Araştırmanın yapıldığı tarih: 18.05.2021\n",
    "Türkiye'de COVID-19 aşılaması, Sağlık Bakanlığı tarafından CoronoVac aşısına acil kullanım onayı verilmesinin ardından 14 Ocak 2021'de başladı. Sürecin devamında Türkiye Biontech aşılarını da envanterine kattı ve iki çeşit aşı ile vatandaşlarına aşılama imkanı sundu.\n",
    "\n",
    "\n",
    "Süreç devam ederken, Sağlık Bakanlığının yayınladığı verileri analiz ederek, daha performanslı bir aşılama çalışması sürdürülebilmesi için \"Yaşlı başına düşen vaka sayısı yüksek olduğu halde diğer illerimize göre aşılama oranı düşük ilimiz var mı?\" sorusuna cevap aradım.\n",
    "Araştırma sürecinde veri paletimi 2 ana konuda çıkarım yapabilecek şekilde düzenledim. Bu ana konular; Aşılama Oranı ve Yaşlı Başına Düşen Vaka Sayısı. Bu iki ana konu ile birlikte aşılama oranı artmasının gerektiği şehirleri tespit ediyor olacağım.\n",
    "Yaşlı olarak tanımladığımız kişiler 50 yaş ve üstüdür.\n",
    "\n",
    "Bu süreçte belirtilen kaynaklardan verileri Excel yardımı ile elde ettim. Elde edilen verileri Python ve Python kütüphaneleri sayesinde kolayca düzenleyip görselleştirmiş oldum."
   ]
  },
  {
   "cell_type": "markdown",
   "metadata": {},
   "source": [
    "## 2. Verilerin kaynakları\n",
    "\n",
    "\n",
    "### Aşılama hakkında veri\n",
    "\n",
    "23.05.2021\n",
    "\n",
    "https://covid19asi.saglik.gov.tr/\n",
    "\n",
    "\n",
    "### Nüfus hakkında veri\n",
    "\n",
    "\n",
    "https://data.tuik.gov.tr/Bulten/Index?p=Adrese-Dayali-Nufus-Kayit-Sistemi-Sonuclari-2020-37210\n",
    "\n",
    "\n",
    "### Covid19 vaka sayıları hakkında veri\n",
    "\n",
    "15-21.05.2021\n",
    "\n",
    "https://covid19.saglik.gov.tr/\n"
   ]
  },
  {
   "cell_type": "markdown",
   "metadata": {},
   "source": [
    "## 3. Verilerin İşlenmesi"
   ]
  },
  {
   "cell_type": "code",
   "execution_count": 43,
   "metadata": {},
   "outputs": [],
   "source": [
    "# Python Kütüphaneleri"
   ]
  },
  {
   "cell_type": "code",
   "execution_count": 44,
   "metadata": {},
   "outputs": [],
   "source": [
    "import numpy as np\n",
    "import pandas as pd"
   ]
  },
  {
   "cell_type": "code",
   "execution_count": 45,
   "metadata": {},
   "outputs": [],
   "source": [
    "# Aşı verilerini barındıran DataFrame'miz: asi_veri"
   ]
  },
  {
   "cell_type": "code",
   "execution_count": 46,
   "metadata": {},
   "outputs": [],
   "source": [
    "asi_veri = pd.read_excel('data/illerinAsiMiktari230521.xlsx', index_col=0)  "
   ]
  },
  {
   "cell_type": "code",
   "execution_count": 47,
   "metadata": {},
   "outputs": [
    {
     "data": {
      "text/html": [
       "<div>\n",
       "<style scoped>\n",
       "    .dataframe tbody tr th:only-of-type {\n",
       "        vertical-align: middle;\n",
       "    }\n",
       "\n",
       "    .dataframe tbody tr th {\n",
       "        vertical-align: top;\n",
       "    }\n",
       "\n",
       "    .dataframe thead th {\n",
       "        text-align: right;\n",
       "    }\n",
       "</style>\n",
       "<table border=\"1\" class=\"dataframe\">\n",
       "  <thead>\n",
       "    <tr style=\"text-align: right;\">\n",
       "      <th></th>\n",
       "      <th>1. Doz Aşı</th>\n",
       "      <th>2. Doz Aşı</th>\n",
       "      <th>Toplam Aşı</th>\n",
       "    </tr>\n",
       "    <tr>\n",
       "      <th>İl</th>\n",
       "      <th></th>\n",
       "      <th></th>\n",
       "      <th></th>\n",
       "    </tr>\n",
       "  </thead>\n",
       "  <tbody>\n",
       "    <tr>\n",
       "      <th>Adana</th>\n",
       "      <td>381805</td>\n",
       "      <td>286779</td>\n",
       "      <td>668584</td>\n",
       "    </tr>\n",
       "    <tr>\n",
       "      <th>Adıyaman</th>\n",
       "      <td>85463</td>\n",
       "      <td>63453</td>\n",
       "      <td>148916</td>\n",
       "    </tr>\n",
       "    <tr>\n",
       "      <th>Afyonkarahisar</th>\n",
       "      <td>147088</td>\n",
       "      <td>114081</td>\n",
       "      <td>261169</td>\n",
       "    </tr>\n",
       "    <tr>\n",
       "      <th>Ağrı</th>\n",
       "      <td>50188</td>\n",
       "      <td>26977</td>\n",
       "      <td>77165</td>\n",
       "    </tr>\n",
       "    <tr>\n",
       "      <th>Amasya</th>\n",
       "      <td>91956</td>\n",
       "      <td>73750</td>\n",
       "      <td>165706</td>\n",
       "    </tr>\n",
       "    <tr>\n",
       "      <th>...</th>\n",
       "      <td>...</td>\n",
       "      <td>...</td>\n",
       "      <td>...</td>\n",
       "    </tr>\n",
       "    <tr>\n",
       "      <th>Karabük</th>\n",
       "      <td>60900</td>\n",
       "      <td>46577</td>\n",
       "      <td>107477</td>\n",
       "    </tr>\n",
       "    <tr>\n",
       "      <th>Kilis</th>\n",
       "      <td>20103</td>\n",
       "      <td>14173</td>\n",
       "      <td>34276</td>\n",
       "    </tr>\n",
       "    <tr>\n",
       "      <th>Osmaniye</th>\n",
       "      <td>102143</td>\n",
       "      <td>79233</td>\n",
       "      <td>181376</td>\n",
       "    </tr>\n",
       "    <tr>\n",
       "      <th>Düzce</th>\n",
       "      <td>77721</td>\n",
       "      <td>60396</td>\n",
       "      <td>138117</td>\n",
       "    </tr>\n",
       "    <tr>\n",
       "      <th>Türkiye</th>\n",
       "      <td>15892514</td>\n",
       "      <td>11882010</td>\n",
       "      <td>27774524</td>\n",
       "    </tr>\n",
       "  </tbody>\n",
       "</table>\n",
       "<p>82 rows × 3 columns</p>\n",
       "</div>"
      ],
      "text/plain": [
       "                1. Doz Aşı  2. Doz Aşı  Toplam Aşı\n",
       "İl                                                \n",
       "Adana               381805      286779      668584\n",
       "Adıyaman             85463       63453      148916\n",
       "Afyonkarahisar      147088      114081      261169\n",
       "Ağrı                 50188       26977       77165\n",
       "Amasya               91956       73750      165706\n",
       "...                    ...         ...         ...\n",
       "Karabük              60900       46577      107477\n",
       "Kilis                20103       14173       34276\n",
       "Osmaniye            102143       79233      181376\n",
       "Düzce                77721       60396      138117\n",
       "Türkiye           15892514    11882010    27774524\n",
       "\n",
       "[82 rows x 3 columns]"
      ]
     },
     "execution_count": 47,
     "metadata": {},
     "output_type": "execute_result"
    }
   ],
   "source": [
    "asi_veri"
   ]
  },
  {
   "cell_type": "code",
   "execution_count": 48,
   "metadata": {},
   "outputs": [],
   "source": [
    "# Nufus verilerini barındıran DataFrame'miz: nufus_veri"
   ]
  },
  {
   "cell_type": "code",
   "execution_count": 49,
   "metadata": {},
   "outputs": [],
   "source": [
    "nufus_veri = pd.read_excel('data/yasaGoreilNufusu.xlsx', index_col=0)  "
   ]
  },
  {
   "cell_type": "code",
   "execution_count": 50,
   "metadata": {},
   "outputs": [
    {
     "data": {
      "text/html": [
       "<div>\n",
       "<style scoped>\n",
       "    .dataframe tbody tr th:only-of-type {\n",
       "        vertical-align: middle;\n",
       "    }\n",
       "\n",
       "    .dataframe tbody tr th {\n",
       "        vertical-align: top;\n",
       "    }\n",
       "\n",
       "    .dataframe thead th {\n",
       "        text-align: right;\n",
       "    }\n",
       "</style>\n",
       "<table border=\"1\" class=\"dataframe\">\n",
       "  <thead>\n",
       "    <tr style=\"text-align: right;\">\n",
       "      <th></th>\n",
       "      <th>ToplamNufus</th>\n",
       "      <th>0</th>\n",
       "      <th>1</th>\n",
       "      <th>2</th>\n",
       "      <th>3</th>\n",
       "      <th>4</th>\n",
       "      <th>5</th>\n",
       "      <th>6</th>\n",
       "      <th>7</th>\n",
       "      <th>8</th>\n",
       "      <th>...</th>\n",
       "      <th>66</th>\n",
       "      <th>67</th>\n",
       "      <th>68</th>\n",
       "      <th>69</th>\n",
       "      <th>70</th>\n",
       "      <th>71</th>\n",
       "      <th>72</th>\n",
       "      <th>73</th>\n",
       "      <th>74</th>\n",
       "      <th>75+</th>\n",
       "    </tr>\n",
       "    <tr>\n",
       "      <th>İl</th>\n",
       "      <th></th>\n",
       "      <th></th>\n",
       "      <th></th>\n",
       "      <th></th>\n",
       "      <th></th>\n",
       "      <th></th>\n",
       "      <th></th>\n",
       "      <th></th>\n",
       "      <th></th>\n",
       "      <th></th>\n",
       "      <th></th>\n",
       "      <th></th>\n",
       "      <th></th>\n",
       "      <th></th>\n",
       "      <th></th>\n",
       "      <th></th>\n",
       "      <th></th>\n",
       "      <th></th>\n",
       "      <th></th>\n",
       "      <th></th>\n",
       "      <th></th>\n",
       "    </tr>\n",
       "  </thead>\n",
       "  <tbody>\n",
       "    <tr>\n",
       "      <th>Adana</th>\n",
       "      <td>2258718</td>\n",
       "      <td>29877</td>\n",
       "      <td>32998</td>\n",
       "      <td>35137</td>\n",
       "      <td>37131</td>\n",
       "      <td>37846</td>\n",
       "      <td>39282</td>\n",
       "      <td>39636</td>\n",
       "      <td>38391</td>\n",
       "      <td>38154</td>\n",
       "      <td>...</td>\n",
       "      <td>17968</td>\n",
       "      <td>15338</td>\n",
       "      <td>13958</td>\n",
       "      <td>11633</td>\n",
       "      <td>13000</td>\n",
       "      <td>13200</td>\n",
       "      <td>10619</td>\n",
       "      <td>9273</td>\n",
       "      <td>7907</td>\n",
       "      <td>62987</td>\n",
       "    </tr>\n",
       "    <tr>\n",
       "      <th>Adıyaman</th>\n",
       "      <td>632459</td>\n",
       "      <td>10385</td>\n",
       "      <td>11446</td>\n",
       "      <td>12169</td>\n",
       "      <td>12478</td>\n",
       "      <td>12564</td>\n",
       "      <td>12828</td>\n",
       "      <td>12923</td>\n",
       "      <td>12269</td>\n",
       "      <td>12225</td>\n",
       "      <td>...</td>\n",
       "      <td>3792</td>\n",
       "      <td>3419</td>\n",
       "      <td>3274</td>\n",
       "      <td>2765</td>\n",
       "      <td>3419</td>\n",
       "      <td>3294</td>\n",
       "      <td>2726</td>\n",
       "      <td>2417</td>\n",
       "      <td>2016</td>\n",
       "      <td>19184</td>\n",
       "    </tr>\n",
       "    <tr>\n",
       "      <th>Afyonkarahisar</th>\n",
       "      <td>736912</td>\n",
       "      <td>9041</td>\n",
       "      <td>9657</td>\n",
       "      <td>10026</td>\n",
       "      <td>10554</td>\n",
       "      <td>10780</td>\n",
       "      <td>11076</td>\n",
       "      <td>11274</td>\n",
       "      <td>10740</td>\n",
       "      <td>11004</td>\n",
       "      <td>...</td>\n",
       "      <td>6890</td>\n",
       "      <td>6102</td>\n",
       "      <td>5453</td>\n",
       "      <td>4209</td>\n",
       "      <td>5674</td>\n",
       "      <td>5461</td>\n",
       "      <td>4396</td>\n",
       "      <td>3720</td>\n",
       "      <td>3395</td>\n",
       "      <td>31379</td>\n",
       "    </tr>\n",
       "    <tr>\n",
       "      <th>Ağrı</th>\n",
       "      <td>535435</td>\n",
       "      <td>11359</td>\n",
       "      <td>12389</td>\n",
       "      <td>12347</td>\n",
       "      <td>13099</td>\n",
       "      <td>13012</td>\n",
       "      <td>12947</td>\n",
       "      <td>13056</td>\n",
       "      <td>12520</td>\n",
       "      <td>12534</td>\n",
       "      <td>...</td>\n",
       "      <td>2629</td>\n",
       "      <td>2150</td>\n",
       "      <td>1664</td>\n",
       "      <td>1209</td>\n",
       "      <td>1632</td>\n",
       "      <td>1773</td>\n",
       "      <td>1289</td>\n",
       "      <td>1287</td>\n",
       "      <td>1086</td>\n",
       "      <td>8990</td>\n",
       "    </tr>\n",
       "    <tr>\n",
       "      <th>Amasya</th>\n",
       "      <td>335494</td>\n",
       "      <td>3162</td>\n",
       "      <td>3563</td>\n",
       "      <td>3736</td>\n",
       "      <td>3895</td>\n",
       "      <td>3936</td>\n",
       "      <td>4151</td>\n",
       "      <td>4235</td>\n",
       "      <td>4262</td>\n",
       "      <td>4252</td>\n",
       "      <td>...</td>\n",
       "      <td>3706</td>\n",
       "      <td>3102</td>\n",
       "      <td>3111</td>\n",
       "      <td>2387</td>\n",
       "      <td>3484</td>\n",
       "      <td>3078</td>\n",
       "      <td>2700</td>\n",
       "      <td>2680</td>\n",
       "      <td>2149</td>\n",
       "      <td>20254</td>\n",
       "    </tr>\n",
       "    <tr>\n",
       "      <th>...</th>\n",
       "      <td>...</td>\n",
       "      <td>...</td>\n",
       "      <td>...</td>\n",
       "      <td>...</td>\n",
       "      <td>...</td>\n",
       "      <td>...</td>\n",
       "      <td>...</td>\n",
       "      <td>...</td>\n",
       "      <td>...</td>\n",
       "      <td>...</td>\n",
       "      <td>...</td>\n",
       "      <td>...</td>\n",
       "      <td>...</td>\n",
       "      <td>...</td>\n",
       "      <td>...</td>\n",
       "      <td>...</td>\n",
       "      <td>...</td>\n",
       "      <td>...</td>\n",
       "      <td>...</td>\n",
       "      <td>...</td>\n",
       "      <td>...</td>\n",
       "    </tr>\n",
       "    <tr>\n",
       "      <th>Karabük</th>\n",
       "      <td>243614</td>\n",
       "      <td>2183</td>\n",
       "      <td>2375</td>\n",
       "      <td>2546</td>\n",
       "      <td>2576</td>\n",
       "      <td>2530</td>\n",
       "      <td>2705</td>\n",
       "      <td>2640</td>\n",
       "      <td>2713</td>\n",
       "      <td>2632</td>\n",
       "      <td>...</td>\n",
       "      <td>2587</td>\n",
       "      <td>2264</td>\n",
       "      <td>2250</td>\n",
       "      <td>1662</td>\n",
       "      <td>2333</td>\n",
       "      <td>2140</td>\n",
       "      <td>1770</td>\n",
       "      <td>1432</td>\n",
       "      <td>1386</td>\n",
       "      <td>13146</td>\n",
       "    </tr>\n",
       "    <tr>\n",
       "      <th>Kilis</th>\n",
       "      <td>142792</td>\n",
       "      <td>2525</td>\n",
       "      <td>2627</td>\n",
       "      <td>2826</td>\n",
       "      <td>2899</td>\n",
       "      <td>2951</td>\n",
       "      <td>3026</td>\n",
       "      <td>2943</td>\n",
       "      <td>2713</td>\n",
       "      <td>2586</td>\n",
       "      <td>...</td>\n",
       "      <td>915</td>\n",
       "      <td>753</td>\n",
       "      <td>680</td>\n",
       "      <td>558</td>\n",
       "      <td>790</td>\n",
       "      <td>809</td>\n",
       "      <td>661</td>\n",
       "      <td>563</td>\n",
       "      <td>445</td>\n",
       "      <td>4574</td>\n",
       "    </tr>\n",
       "    <tr>\n",
       "      <th>Osmaniye</th>\n",
       "      <td>548556</td>\n",
       "      <td>7446</td>\n",
       "      <td>8203</td>\n",
       "      <td>8654</td>\n",
       "      <td>9180</td>\n",
       "      <td>9391</td>\n",
       "      <td>9584</td>\n",
       "      <td>10042</td>\n",
       "      <td>9822</td>\n",
       "      <td>9773</td>\n",
       "      <td>...</td>\n",
       "      <td>4378</td>\n",
       "      <td>3608</td>\n",
       "      <td>3305</td>\n",
       "      <td>2773</td>\n",
       "      <td>3344</td>\n",
       "      <td>3106</td>\n",
       "      <td>2574</td>\n",
       "      <td>2256</td>\n",
       "      <td>1990</td>\n",
       "      <td>16022</td>\n",
       "    </tr>\n",
       "    <tr>\n",
       "      <th>Düzce</th>\n",
       "      <td>395679</td>\n",
       "      <td>4726</td>\n",
       "      <td>5160</td>\n",
       "      <td>5308</td>\n",
       "      <td>5543</td>\n",
       "      <td>5620</td>\n",
       "      <td>5460</td>\n",
       "      <td>5643</td>\n",
       "      <td>5539</td>\n",
       "      <td>5260</td>\n",
       "      <td>...</td>\n",
       "      <td>3408</td>\n",
       "      <td>2760</td>\n",
       "      <td>2554</td>\n",
       "      <td>1840</td>\n",
       "      <td>3059</td>\n",
       "      <td>2761</td>\n",
       "      <td>2307</td>\n",
       "      <td>1825</td>\n",
       "      <td>1533</td>\n",
       "      <td>14769</td>\n",
       "    </tr>\n",
       "    <tr>\n",
       "      <th>Türkiye</th>\n",
       "      <td>83614362</td>\n",
       "      <td>1081967</td>\n",
       "      <td>1179294</td>\n",
       "      <td>1250730</td>\n",
       "      <td>1294378</td>\n",
       "      <td>1315338</td>\n",
       "      <td>1333047</td>\n",
       "      <td>1349141</td>\n",
       "      <td>1296952</td>\n",
       "      <td>1295131</td>\n",
       "      <td>...</td>\n",
       "      <td>647429</td>\n",
       "      <td>554197</td>\n",
       "      <td>513530</td>\n",
       "      <td>421810</td>\n",
       "      <td>528810</td>\n",
       "      <td>499685</td>\n",
       "      <td>416183</td>\n",
       "      <td>370612</td>\n",
       "      <td>316415</td>\n",
       "      <td>2883135</td>\n",
       "    </tr>\n",
       "  </tbody>\n",
       "</table>\n",
       "<p>82 rows × 77 columns</p>\n",
       "</div>"
      ],
      "text/plain": [
       "                ToplamNufus        0        1        2        3        4  \\\n",
       "İl                                                                         \n",
       "Adana               2258718    29877    32998    35137    37131    37846   \n",
       "Adıyaman             632459    10385    11446    12169    12478    12564   \n",
       "Afyonkarahisar       736912     9041     9657    10026    10554    10780   \n",
       "Ağrı                 535435    11359    12389    12347    13099    13012   \n",
       "Amasya               335494     3162     3563     3736     3895     3936   \n",
       "...                     ...      ...      ...      ...      ...      ...   \n",
       "Karabük              243614     2183     2375     2546     2576     2530   \n",
       "Kilis                142792     2525     2627     2826     2899     2951   \n",
       "Osmaniye             548556     7446     8203     8654     9180     9391   \n",
       "Düzce                395679     4726     5160     5308     5543     5620   \n",
       "Türkiye            83614362  1081967  1179294  1250730  1294378  1315338   \n",
       "\n",
       "                      5        6        7        8  ...      66      67  \\\n",
       "İl                                                  ...                   \n",
       "Adana             39282    39636    38391    38154  ...   17968   15338   \n",
       "Adıyaman          12828    12923    12269    12225  ...    3792    3419   \n",
       "Afyonkarahisar    11076    11274    10740    11004  ...    6890    6102   \n",
       "Ağrı              12947    13056    12520    12534  ...    2629    2150   \n",
       "Amasya             4151     4235     4262     4252  ...    3706    3102   \n",
       "...                 ...      ...      ...      ...  ...     ...     ...   \n",
       "Karabük            2705     2640     2713     2632  ...    2587    2264   \n",
       "Kilis              3026     2943     2713     2586  ...     915     753   \n",
       "Osmaniye           9584    10042     9822     9773  ...    4378    3608   \n",
       "Düzce              5460     5643     5539     5260  ...    3408    2760   \n",
       "Türkiye         1333047  1349141  1296952  1295131  ...  647429  554197   \n",
       "\n",
       "                    68      69      70      71      72      73      74  \\\n",
       "İl                                                                       \n",
       "Adana            13958   11633   13000   13200   10619    9273    7907   \n",
       "Adıyaman          3274    2765    3419    3294    2726    2417    2016   \n",
       "Afyonkarahisar    5453    4209    5674    5461    4396    3720    3395   \n",
       "Ağrı              1664    1209    1632    1773    1289    1287    1086   \n",
       "Amasya            3111    2387    3484    3078    2700    2680    2149   \n",
       "...                ...     ...     ...     ...     ...     ...     ...   \n",
       "Karabük           2250    1662    2333    2140    1770    1432    1386   \n",
       "Kilis              680     558     790     809     661     563     445   \n",
       "Osmaniye          3305    2773    3344    3106    2574    2256    1990   \n",
       "Düzce             2554    1840    3059    2761    2307    1825    1533   \n",
       "Türkiye         513530  421810  528810  499685  416183  370612  316415   \n",
       "\n",
       "                    75+  \n",
       "İl                       \n",
       "Adana             62987  \n",
       "Adıyaman          19184  \n",
       "Afyonkarahisar    31379  \n",
       "Ağrı               8990  \n",
       "Amasya            20254  \n",
       "...                 ...  \n",
       "Karabük           13146  \n",
       "Kilis              4574  \n",
       "Osmaniye          16022  \n",
       "Düzce             14769  \n",
       "Türkiye         2883135  \n",
       "\n",
       "[82 rows x 77 columns]"
      ]
     },
     "execution_count": 50,
     "metadata": {},
     "output_type": "execute_result"
    }
   ],
   "source": [
    "nufus_veri"
   ]
  },
  {
   "cell_type": "code",
   "execution_count": 51,
   "metadata": {},
   "outputs": [],
   "source": [
    "# Vaka verilerini barındıran DataFrame'miz: vaka_veri"
   ]
  },
  {
   "cell_type": "code",
   "execution_count": 52,
   "metadata": {},
   "outputs": [],
   "source": [
    "vaka_veri = pd.read_excel('data/vakaSayilari15-210521.xlsx', index_col=0)  # 100.000'de "
   ]
  },
  {
   "cell_type": "code",
   "execution_count": 53,
   "metadata": {},
   "outputs": [
    {
     "data": {
      "text/html": [
       "<div>\n",
       "<style scoped>\n",
       "    .dataframe tbody tr th:only-of-type {\n",
       "        vertical-align: middle;\n",
       "    }\n",
       "\n",
       "    .dataframe tbody tr th {\n",
       "        vertical-align: top;\n",
       "    }\n",
       "\n",
       "    .dataframe thead th {\n",
       "        text-align: right;\n",
       "    }\n",
       "</style>\n",
       "<table border=\"1\" class=\"dataframe\">\n",
       "  <thead>\n",
       "    <tr style=\"text-align: right;\">\n",
       "      <th></th>\n",
       "      <th>VakaSayisi1_7Mayıs</th>\n",
       "      <th>VakaSayisi8_14Mayis</th>\n",
       "      <th>VakaSayisi15_21Mayis</th>\n",
       "    </tr>\n",
       "    <tr>\n",
       "      <th>İl</th>\n",
       "      <th></th>\n",
       "      <th></th>\n",
       "      <th></th>\n",
       "    </tr>\n",
       "  </thead>\n",
       "  <tbody>\n",
       "    <tr>\n",
       "      <th>Adana</th>\n",
       "      <td>61.41</td>\n",
       "      <td>28.69</td>\n",
       "      <td>18.90</td>\n",
       "    </tr>\n",
       "    <tr>\n",
       "      <th>Adıyaman</th>\n",
       "      <td>94.55</td>\n",
       "      <td>48.38</td>\n",
       "      <td>40.32</td>\n",
       "    </tr>\n",
       "    <tr>\n",
       "      <th>Afyonkarahisar</th>\n",
       "      <td>212.64</td>\n",
       "      <td>106.25</td>\n",
       "      <td>82.64</td>\n",
       "    </tr>\n",
       "    <tr>\n",
       "      <th>Ağrı</th>\n",
       "      <td>264.27</td>\n",
       "      <td>182.84</td>\n",
       "      <td>122.52</td>\n",
       "    </tr>\n",
       "    <tr>\n",
       "      <th>Amasya</th>\n",
       "      <td>216.70</td>\n",
       "      <td>125.19</td>\n",
       "      <td>79.29</td>\n",
       "    </tr>\n",
       "    <tr>\n",
       "      <th>...</th>\n",
       "      <td>...</td>\n",
       "      <td>...</td>\n",
       "      <td>...</td>\n",
       "    </tr>\n",
       "    <tr>\n",
       "      <th>Karabük</th>\n",
       "      <td>222.48</td>\n",
       "      <td>134.23</td>\n",
       "      <td>73.48</td>\n",
       "    </tr>\n",
       "    <tr>\n",
       "      <th>Kilis</th>\n",
       "      <td>132.36</td>\n",
       "      <td>73.53</td>\n",
       "      <td>50.42</td>\n",
       "    </tr>\n",
       "    <tr>\n",
       "      <th>Osmaniye</th>\n",
       "      <td>79.12</td>\n",
       "      <td>35.91</td>\n",
       "      <td>15.68</td>\n",
       "    </tr>\n",
       "    <tr>\n",
       "      <th>Düzce</th>\n",
       "      <td>222.66</td>\n",
       "      <td>127.88</td>\n",
       "      <td>118.02</td>\n",
       "    </tr>\n",
       "    <tr>\n",
       "      <th>Türkiye</th>\n",
       "      <td>15288.60</td>\n",
       "      <td>8601.32</td>\n",
       "      <td>6668.27</td>\n",
       "    </tr>\n",
       "  </tbody>\n",
       "</table>\n",
       "<p>82 rows × 3 columns</p>\n",
       "</div>"
      ],
      "text/plain": [
       "                VakaSayisi1_7Mayıs  VakaSayisi8_14Mayis  VakaSayisi15_21Mayis\n",
       "İl                                                                           \n",
       "Adana                        61.41                28.69                 18.90\n",
       "Adıyaman                     94.55                48.38                 40.32\n",
       "Afyonkarahisar              212.64               106.25                 82.64\n",
       "Ağrı                        264.27               182.84                122.52\n",
       "Amasya                      216.70               125.19                 79.29\n",
       "...                            ...                  ...                   ...\n",
       "Karabük                     222.48               134.23                 73.48\n",
       "Kilis                       132.36                73.53                 50.42\n",
       "Osmaniye                     79.12                35.91                 15.68\n",
       "Düzce                       222.66               127.88                118.02\n",
       "Türkiye                   15288.60              8601.32               6668.27\n",
       "\n",
       "[82 rows x 3 columns]"
      ]
     },
     "execution_count": 53,
     "metadata": {},
     "output_type": "execute_result"
    }
   ],
   "source": [
    "vaka_veri"
   ]
  },
  {
   "cell_type": "markdown",
   "metadata": {},
   "source": [
    "### Yaşlı nüfus tespiti"
   ]
  },
  {
   "cell_type": "code",
   "execution_count": 54,
   "metadata": {},
   "outputs": [
    {
     "data": {
      "text/html": [
       "<div>\n",
       "<style scoped>\n",
       "    .dataframe tbody tr th:only-of-type {\n",
       "        vertical-align: middle;\n",
       "    }\n",
       "\n",
       "    .dataframe tbody tr th {\n",
       "        vertical-align: top;\n",
       "    }\n",
       "\n",
       "    .dataframe thead th {\n",
       "        text-align: right;\n",
       "    }\n",
       "</style>\n",
       "<table border=\"1\" class=\"dataframe\">\n",
       "  <thead>\n",
       "    <tr style=\"text-align: right;\">\n",
       "      <th></th>\n",
       "      <th>50</th>\n",
       "      <th>51</th>\n",
       "      <th>52</th>\n",
       "      <th>53</th>\n",
       "      <th>54</th>\n",
       "      <th>55</th>\n",
       "      <th>56</th>\n",
       "      <th>57</th>\n",
       "      <th>58</th>\n",
       "      <th>59</th>\n",
       "      <th>...</th>\n",
       "      <th>66</th>\n",
       "      <th>67</th>\n",
       "      <th>68</th>\n",
       "      <th>69</th>\n",
       "      <th>70</th>\n",
       "      <th>71</th>\n",
       "      <th>72</th>\n",
       "      <th>73</th>\n",
       "      <th>74</th>\n",
       "      <th>75+</th>\n",
       "    </tr>\n",
       "    <tr>\n",
       "      <th>İl</th>\n",
       "      <th></th>\n",
       "      <th></th>\n",
       "      <th></th>\n",
       "      <th></th>\n",
       "      <th></th>\n",
       "      <th></th>\n",
       "      <th></th>\n",
       "      <th></th>\n",
       "      <th></th>\n",
       "      <th></th>\n",
       "      <th></th>\n",
       "      <th></th>\n",
       "      <th></th>\n",
       "      <th></th>\n",
       "      <th></th>\n",
       "      <th></th>\n",
       "      <th></th>\n",
       "      <th></th>\n",
       "      <th></th>\n",
       "      <th></th>\n",
       "      <th></th>\n",
       "    </tr>\n",
       "  </thead>\n",
       "  <tbody>\n",
       "    <tr>\n",
       "      <th>Adana</th>\n",
       "      <td>27256</td>\n",
       "      <td>26477</td>\n",
       "      <td>23963</td>\n",
       "      <td>21435</td>\n",
       "      <td>23002</td>\n",
       "      <td>30353</td>\n",
       "      <td>27787</td>\n",
       "      <td>24011</td>\n",
       "      <td>22772</td>\n",
       "      <td>19912</td>\n",
       "      <td>...</td>\n",
       "      <td>17968</td>\n",
       "      <td>15338</td>\n",
       "      <td>13958</td>\n",
       "      <td>11633</td>\n",
       "      <td>13000</td>\n",
       "      <td>13200</td>\n",
       "      <td>10619</td>\n",
       "      <td>9273</td>\n",
       "      <td>7907</td>\n",
       "      <td>62987</td>\n",
       "    </tr>\n",
       "    <tr>\n",
       "      <th>Adıyaman</th>\n",
       "      <td>6480</td>\n",
       "      <td>6135</td>\n",
       "      <td>5184</td>\n",
       "      <td>4824</td>\n",
       "      <td>4632</td>\n",
       "      <td>7193</td>\n",
       "      <td>6034</td>\n",
       "      <td>5330</td>\n",
       "      <td>4872</td>\n",
       "      <td>4082</td>\n",
       "      <td>...</td>\n",
       "      <td>3792</td>\n",
       "      <td>3419</td>\n",
       "      <td>3274</td>\n",
       "      <td>2765</td>\n",
       "      <td>3419</td>\n",
       "      <td>3294</td>\n",
       "      <td>2726</td>\n",
       "      <td>2417</td>\n",
       "      <td>2016</td>\n",
       "      <td>19184</td>\n",
       "    </tr>\n",
       "    <tr>\n",
       "      <th>Afyonkarahisar</th>\n",
       "      <td>9086</td>\n",
       "      <td>9264</td>\n",
       "      <td>8764</td>\n",
       "      <td>7517</td>\n",
       "      <td>7993</td>\n",
       "      <td>9568</td>\n",
       "      <td>9243</td>\n",
       "      <td>8615</td>\n",
       "      <td>8720</td>\n",
       "      <td>7599</td>\n",
       "      <td>...</td>\n",
       "      <td>6890</td>\n",
       "      <td>6102</td>\n",
       "      <td>5453</td>\n",
       "      <td>4209</td>\n",
       "      <td>5674</td>\n",
       "      <td>5461</td>\n",
       "      <td>4396</td>\n",
       "      <td>3720</td>\n",
       "      <td>3395</td>\n",
       "      <td>31379</td>\n",
       "    </tr>\n",
       "    <tr>\n",
       "      <th>Ağrı</th>\n",
       "      <td>3366</td>\n",
       "      <td>3033</td>\n",
       "      <td>2691</td>\n",
       "      <td>2144</td>\n",
       "      <td>2765</td>\n",
       "      <td>4534</td>\n",
       "      <td>4491</td>\n",
       "      <td>3253</td>\n",
       "      <td>3504</td>\n",
       "      <td>2538</td>\n",
       "      <td>...</td>\n",
       "      <td>2629</td>\n",
       "      <td>2150</td>\n",
       "      <td>1664</td>\n",
       "      <td>1209</td>\n",
       "      <td>1632</td>\n",
       "      <td>1773</td>\n",
       "      <td>1289</td>\n",
       "      <td>1287</td>\n",
       "      <td>1086</td>\n",
       "      <td>8990</td>\n",
       "    </tr>\n",
       "    <tr>\n",
       "      <th>Amasya</th>\n",
       "      <td>4205</td>\n",
       "      <td>4195</td>\n",
       "      <td>4103</td>\n",
       "      <td>3495</td>\n",
       "      <td>4362</td>\n",
       "      <td>5134</td>\n",
       "      <td>4926</td>\n",
       "      <td>4411</td>\n",
       "      <td>4433</td>\n",
       "      <td>3969</td>\n",
       "      <td>...</td>\n",
       "      <td>3706</td>\n",
       "      <td>3102</td>\n",
       "      <td>3111</td>\n",
       "      <td>2387</td>\n",
       "      <td>3484</td>\n",
       "      <td>3078</td>\n",
       "      <td>2700</td>\n",
       "      <td>2680</td>\n",
       "      <td>2149</td>\n",
       "      <td>20254</td>\n",
       "    </tr>\n",
       "    <tr>\n",
       "      <th>...</th>\n",
       "      <td>...</td>\n",
       "      <td>...</td>\n",
       "      <td>...</td>\n",
       "      <td>...</td>\n",
       "      <td>...</td>\n",
       "      <td>...</td>\n",
       "      <td>...</td>\n",
       "      <td>...</td>\n",
       "      <td>...</td>\n",
       "      <td>...</td>\n",
       "      <td>...</td>\n",
       "      <td>...</td>\n",
       "      <td>...</td>\n",
       "      <td>...</td>\n",
       "      <td>...</td>\n",
       "      <td>...</td>\n",
       "      <td>...</td>\n",
       "      <td>...</td>\n",
       "      <td>...</td>\n",
       "      <td>...</td>\n",
       "      <td>...</td>\n",
       "    </tr>\n",
       "    <tr>\n",
       "      <th>Karabük</th>\n",
       "      <td>3115</td>\n",
       "      <td>3438</td>\n",
       "      <td>3134</td>\n",
       "      <td>2864</td>\n",
       "      <td>2969</td>\n",
       "      <td>3533</td>\n",
       "      <td>3252</td>\n",
       "      <td>3054</td>\n",
       "      <td>3117</td>\n",
       "      <td>2829</td>\n",
       "      <td>...</td>\n",
       "      <td>2587</td>\n",
       "      <td>2264</td>\n",
       "      <td>2250</td>\n",
       "      <td>1662</td>\n",
       "      <td>2333</td>\n",
       "      <td>2140</td>\n",
       "      <td>1770</td>\n",
       "      <td>1432</td>\n",
       "      <td>1386</td>\n",
       "      <td>13146</td>\n",
       "    </tr>\n",
       "    <tr>\n",
       "      <th>Kilis</th>\n",
       "      <td>1432</td>\n",
       "      <td>1328</td>\n",
       "      <td>1252</td>\n",
       "      <td>1060</td>\n",
       "      <td>1103</td>\n",
       "      <td>1856</td>\n",
       "      <td>1412</td>\n",
       "      <td>1309</td>\n",
       "      <td>1215</td>\n",
       "      <td>1023</td>\n",
       "      <td>...</td>\n",
       "      <td>915</td>\n",
       "      <td>753</td>\n",
       "      <td>680</td>\n",
       "      <td>558</td>\n",
       "      <td>790</td>\n",
       "      <td>809</td>\n",
       "      <td>661</td>\n",
       "      <td>563</td>\n",
       "      <td>445</td>\n",
       "      <td>4574</td>\n",
       "    </tr>\n",
       "    <tr>\n",
       "      <th>Osmaniye</th>\n",
       "      <td>6533</td>\n",
       "      <td>6473</td>\n",
       "      <td>5649</td>\n",
       "      <td>4904</td>\n",
       "      <td>4985</td>\n",
       "      <td>7813</td>\n",
       "      <td>6655</td>\n",
       "      <td>5879</td>\n",
       "      <td>5222</td>\n",
       "      <td>4467</td>\n",
       "      <td>...</td>\n",
       "      <td>4378</td>\n",
       "      <td>3608</td>\n",
       "      <td>3305</td>\n",
       "      <td>2773</td>\n",
       "      <td>3344</td>\n",
       "      <td>3106</td>\n",
       "      <td>2574</td>\n",
       "      <td>2256</td>\n",
       "      <td>1990</td>\n",
       "      <td>16022</td>\n",
       "    </tr>\n",
       "    <tr>\n",
       "      <th>Düzce</th>\n",
       "      <td>5095</td>\n",
       "      <td>4856</td>\n",
       "      <td>4350</td>\n",
       "      <td>3497</td>\n",
       "      <td>4596</td>\n",
       "      <td>5871</td>\n",
       "      <td>5107</td>\n",
       "      <td>4579</td>\n",
       "      <td>4250</td>\n",
       "      <td>3865</td>\n",
       "      <td>...</td>\n",
       "      <td>3408</td>\n",
       "      <td>2760</td>\n",
       "      <td>2554</td>\n",
       "      <td>1840</td>\n",
       "      <td>3059</td>\n",
       "      <td>2761</td>\n",
       "      <td>2307</td>\n",
       "      <td>1825</td>\n",
       "      <td>1533</td>\n",
       "      <td>14769</td>\n",
       "    </tr>\n",
       "    <tr>\n",
       "      <th>Türkiye</th>\n",
       "      <td>1015452</td>\n",
       "      <td>983070</td>\n",
       "      <td>909924</td>\n",
       "      <td>793081</td>\n",
       "      <td>883105</td>\n",
       "      <td>1084782</td>\n",
       "      <td>1011765</td>\n",
       "      <td>877959</td>\n",
       "      <td>856312</td>\n",
       "      <td>746769</td>\n",
       "      <td>...</td>\n",
       "      <td>647429</td>\n",
       "      <td>554197</td>\n",
       "      <td>513530</td>\n",
       "      <td>421810</td>\n",
       "      <td>528810</td>\n",
       "      <td>499685</td>\n",
       "      <td>416183</td>\n",
       "      <td>370612</td>\n",
       "      <td>316415</td>\n",
       "      <td>2883135</td>\n",
       "    </tr>\n",
       "  </tbody>\n",
       "</table>\n",
       "<p>82 rows × 26 columns</p>\n",
       "</div>"
      ],
      "text/plain": [
       "                     50      51      52      53      54       55       56  \\\n",
       "İl                                                                          \n",
       "Adana             27256   26477   23963   21435   23002    30353    27787   \n",
       "Adıyaman           6480    6135    5184    4824    4632     7193     6034   \n",
       "Afyonkarahisar     9086    9264    8764    7517    7993     9568     9243   \n",
       "Ağrı               3366    3033    2691    2144    2765     4534     4491   \n",
       "Amasya             4205    4195    4103    3495    4362     5134     4926   \n",
       "...                 ...     ...     ...     ...     ...      ...      ...   \n",
       "Karabük            3115    3438    3134    2864    2969     3533     3252   \n",
       "Kilis              1432    1328    1252    1060    1103     1856     1412   \n",
       "Osmaniye           6533    6473    5649    4904    4985     7813     6655   \n",
       "Düzce              5095    4856    4350    3497    4596     5871     5107   \n",
       "Türkiye         1015452  983070  909924  793081  883105  1084782  1011765   \n",
       "\n",
       "                    57      58      59  ...      66      67      68      69  \\\n",
       "İl                                      ...                                   \n",
       "Adana            24011   22772   19912  ...   17968   15338   13958   11633   \n",
       "Adıyaman          5330    4872    4082  ...    3792    3419    3274    2765   \n",
       "Afyonkarahisar    8615    8720    7599  ...    6890    6102    5453    4209   \n",
       "Ağrı              3253    3504    2538  ...    2629    2150    1664    1209   \n",
       "Amasya            4411    4433    3969  ...    3706    3102    3111    2387   \n",
       "...                ...     ...     ...  ...     ...     ...     ...     ...   \n",
       "Karabük           3054    3117    2829  ...    2587    2264    2250    1662   \n",
       "Kilis             1309    1215    1023  ...     915     753     680     558   \n",
       "Osmaniye          5879    5222    4467  ...    4378    3608    3305    2773   \n",
       "Düzce             4579    4250    3865  ...    3408    2760    2554    1840   \n",
       "Türkiye         877959  856312  746769  ...  647429  554197  513530  421810   \n",
       "\n",
       "                    70      71      72      73      74      75+  \n",
       "İl                                                               \n",
       "Adana            13000   13200   10619    9273    7907    62987  \n",
       "Adıyaman          3419    3294    2726    2417    2016    19184  \n",
       "Afyonkarahisar    5674    5461    4396    3720    3395    31379  \n",
       "Ağrı              1632    1773    1289    1287    1086     8990  \n",
       "Amasya            3484    3078    2700    2680    2149    20254  \n",
       "...                ...     ...     ...     ...     ...      ...  \n",
       "Karabük           2333    2140    1770    1432    1386    13146  \n",
       "Kilis              790     809     661     563     445     4574  \n",
       "Osmaniye          3344    3106    2574    2256    1990    16022  \n",
       "Düzce             3059    2761    2307    1825    1533    14769  \n",
       "Türkiye         528810  499685  416183  370612  316415  2883135  \n",
       "\n",
       "[82 rows x 26 columns]"
      ]
     },
     "execution_count": 54,
     "metadata": {},
     "output_type": "execute_result"
    }
   ],
   "source": [
    "# Analizime 50 yaş üstü ile devam edeceğim. 50 yaş kişileri bul.\n",
    "\n",
    "nufus_veri_V2 = nufus_veri.T.iloc[51:77].T\n",
    "nufus_veri_V2"
   ]
  },
  {
   "cell_type": "code",
   "execution_count": 55,
   "metadata": {},
   "outputs": [
    {
     "data": {
      "text/plain": [
       "İl\n",
       "Adana               540954\n",
       "Adıyaman            125313\n",
       "Afyonkarahisar      207563\n",
       "Ağrı                 70323\n",
       "Amasya              113547\n",
       "                    ...   \n",
       "Karabük              79143\n",
       "Kilis                29145\n",
       "Osmaniye            129343\n",
       "Düzce               107414\n",
       "Türkiye           20690168\n",
       "Length: 82, dtype: int64"
      ]
     },
     "execution_count": 55,
     "metadata": {},
     "output_type": "execute_result"
    }
   ],
   "source": [
    "yaslinufus = nufus_veri_V2.sum(axis=1)\n",
    "yaslinufus"
   ]
  },
  {
   "cell_type": "code",
   "execution_count": 56,
   "metadata": {},
   "outputs": [],
   "source": [
    "yasliNufusOrani = yaslinufus/nufus_veri['ToplamNufus']"
   ]
  },
  {
   "cell_type": "markdown",
   "metadata": {},
   "source": [
    "### Analiz yapacağımız veri paletimizi hazırlama"
   ]
  },
  {
   "cell_type": "code",
   "execution_count": 57,
   "metadata": {},
   "outputs": [],
   "source": [
    "veri_paleti = pd.DataFrame({'AsiDoz2': asi_veri['2. Doz Aşı'],\n",
    "                       'ToplamNufus': nufus_veri['ToplamNufus'],\n",
    "                           'YasliNufus': yaslinufus,\n",
    "                           'YasliNufusOrani': yasliNufusOrani})"
   ]
  },
  {
   "cell_type": "code",
   "execution_count": 58,
   "metadata": {},
   "outputs": [
    {
     "data": {
      "text/html": [
       "<div>\n",
       "<style scoped>\n",
       "    .dataframe tbody tr th:only-of-type {\n",
       "        vertical-align: middle;\n",
       "    }\n",
       "\n",
       "    .dataframe tbody tr th {\n",
       "        vertical-align: top;\n",
       "    }\n",
       "\n",
       "    .dataframe thead th {\n",
       "        text-align: right;\n",
       "    }\n",
       "</style>\n",
       "<table border=\"1\" class=\"dataframe\">\n",
       "  <thead>\n",
       "    <tr style=\"text-align: right;\">\n",
       "      <th></th>\n",
       "      <th>AsiDoz2</th>\n",
       "      <th>ToplamNufus</th>\n",
       "      <th>YasliNufus</th>\n",
       "      <th>YasliNufusOrani</th>\n",
       "    </tr>\n",
       "    <tr>\n",
       "      <th>İl</th>\n",
       "      <th></th>\n",
       "      <th></th>\n",
       "      <th></th>\n",
       "      <th></th>\n",
       "    </tr>\n",
       "  </thead>\n",
       "  <tbody>\n",
       "    <tr>\n",
       "      <th>Adana</th>\n",
       "      <td>286779</td>\n",
       "      <td>2258718</td>\n",
       "      <td>540954</td>\n",
       "      <td>0.239496</td>\n",
       "    </tr>\n",
       "    <tr>\n",
       "      <th>Adıyaman</th>\n",
       "      <td>63453</td>\n",
       "      <td>632459</td>\n",
       "      <td>125313</td>\n",
       "      <td>0.198136</td>\n",
       "    </tr>\n",
       "    <tr>\n",
       "      <th>Afyonkarahisar</th>\n",
       "      <td>114081</td>\n",
       "      <td>736912</td>\n",
       "      <td>207563</td>\n",
       "      <td>0.281666</td>\n",
       "    </tr>\n",
       "    <tr>\n",
       "      <th>Ağrı</th>\n",
       "      <td>26977</td>\n",
       "      <td>535435</td>\n",
       "      <td>70323</td>\n",
       "      <td>0.131338</td>\n",
       "    </tr>\n",
       "    <tr>\n",
       "      <th>Amasya</th>\n",
       "      <td>73750</td>\n",
       "      <td>335494</td>\n",
       "      <td>113547</td>\n",
       "      <td>0.338447</td>\n",
       "    </tr>\n",
       "    <tr>\n",
       "      <th>...</th>\n",
       "      <td>...</td>\n",
       "      <td>...</td>\n",
       "      <td>...</td>\n",
       "      <td>...</td>\n",
       "    </tr>\n",
       "    <tr>\n",
       "      <th>Karabük</th>\n",
       "      <td>46577</td>\n",
       "      <td>243614</td>\n",
       "      <td>79143</td>\n",
       "      <td>0.324870</td>\n",
       "    </tr>\n",
       "    <tr>\n",
       "      <th>Kilis</th>\n",
       "      <td>14173</td>\n",
       "      <td>142792</td>\n",
       "      <td>29145</td>\n",
       "      <td>0.204108</td>\n",
       "    </tr>\n",
       "    <tr>\n",
       "      <th>Osmaniye</th>\n",
       "      <td>79233</td>\n",
       "      <td>548556</td>\n",
       "      <td>129343</td>\n",
       "      <td>0.235788</td>\n",
       "    </tr>\n",
       "    <tr>\n",
       "      <th>Düzce</th>\n",
       "      <td>60396</td>\n",
       "      <td>395679</td>\n",
       "      <td>107414</td>\n",
       "      <td>0.271468</td>\n",
       "    </tr>\n",
       "    <tr>\n",
       "      <th>Türkiye</th>\n",
       "      <td>11882010</td>\n",
       "      <td>83614362</td>\n",
       "      <td>20690168</td>\n",
       "      <td>0.247448</td>\n",
       "    </tr>\n",
       "  </tbody>\n",
       "</table>\n",
       "<p>82 rows × 4 columns</p>\n",
       "</div>"
      ],
      "text/plain": [
       "                 AsiDoz2  ToplamNufus  YasliNufus  YasliNufusOrani\n",
       "İl                                                                \n",
       "Adana             286779      2258718      540954         0.239496\n",
       "Adıyaman           63453       632459      125313         0.198136\n",
       "Afyonkarahisar    114081       736912      207563         0.281666\n",
       "Ağrı               26977       535435       70323         0.131338\n",
       "Amasya             73750       335494      113547         0.338447\n",
       "...                  ...          ...         ...              ...\n",
       "Karabük            46577       243614       79143         0.324870\n",
       "Kilis              14173       142792       29145         0.204108\n",
       "Osmaniye           79233       548556      129343         0.235788\n",
       "Düzce              60396       395679      107414         0.271468\n",
       "Türkiye         11882010     83614362    20690168         0.247448\n",
       "\n",
       "[82 rows x 4 columns]"
      ]
     },
     "execution_count": 58,
     "metadata": {},
     "output_type": "execute_result"
    }
   ],
   "source": [
    "veri_paleti"
   ]
  },
  {
   "cell_type": "markdown",
   "metadata": {},
   "source": [
    "### Aşılanma Oranı Tespiti"
   ]
  },
  {
   "cell_type": "code",
   "execution_count": 59,
   "metadata": {
    "scrolled": false
   },
   "outputs": [
    {
     "data": {
      "text/html": [
       "<div>\n",
       "<style scoped>\n",
       "    .dataframe tbody tr th:only-of-type {\n",
       "        vertical-align: middle;\n",
       "    }\n",
       "\n",
       "    .dataframe tbody tr th {\n",
       "        vertical-align: top;\n",
       "    }\n",
       "\n",
       "    .dataframe thead th {\n",
       "        text-align: right;\n",
       "    }\n",
       "</style>\n",
       "<table border=\"1\" class=\"dataframe\">\n",
       "  <thead>\n",
       "    <tr style=\"text-align: right;\">\n",
       "      <th></th>\n",
       "      <th>AsiDoz2</th>\n",
       "      <th>ToplamNufus</th>\n",
       "      <th>YasliNufus</th>\n",
       "      <th>YasliNufusOrani</th>\n",
       "      <th>AsiOrani</th>\n",
       "    </tr>\n",
       "    <tr>\n",
       "      <th>İl</th>\n",
       "      <th></th>\n",
       "      <th></th>\n",
       "      <th></th>\n",
       "      <th></th>\n",
       "      <th></th>\n",
       "    </tr>\n",
       "  </thead>\n",
       "  <tbody>\n",
       "    <tr>\n",
       "      <th>Adana</th>\n",
       "      <td>286779</td>\n",
       "      <td>2258718</td>\n",
       "      <td>540954</td>\n",
       "      <td>0.239496</td>\n",
       "      <td>0.126965</td>\n",
       "    </tr>\n",
       "    <tr>\n",
       "      <th>Adıyaman</th>\n",
       "      <td>63453</td>\n",
       "      <td>632459</td>\n",
       "      <td>125313</td>\n",
       "      <td>0.198136</td>\n",
       "      <td>0.100327</td>\n",
       "    </tr>\n",
       "    <tr>\n",
       "      <th>Afyonkarahisar</th>\n",
       "      <td>114081</td>\n",
       "      <td>736912</td>\n",
       "      <td>207563</td>\n",
       "      <td>0.281666</td>\n",
       "      <td>0.154810</td>\n",
       "    </tr>\n",
       "    <tr>\n",
       "      <th>Ağrı</th>\n",
       "      <td>26977</td>\n",
       "      <td>535435</td>\n",
       "      <td>70323</td>\n",
       "      <td>0.131338</td>\n",
       "      <td>0.050383</td>\n",
       "    </tr>\n",
       "    <tr>\n",
       "      <th>Amasya</th>\n",
       "      <td>73750</td>\n",
       "      <td>335494</td>\n",
       "      <td>113547</td>\n",
       "      <td>0.338447</td>\n",
       "      <td>0.219825</td>\n",
       "    </tr>\n",
       "    <tr>\n",
       "      <th>...</th>\n",
       "      <td>...</td>\n",
       "      <td>...</td>\n",
       "      <td>...</td>\n",
       "      <td>...</td>\n",
       "      <td>...</td>\n",
       "    </tr>\n",
       "    <tr>\n",
       "      <th>Karabük</th>\n",
       "      <td>46577</td>\n",
       "      <td>243614</td>\n",
       "      <td>79143</td>\n",
       "      <td>0.324870</td>\n",
       "      <td>0.191192</td>\n",
       "    </tr>\n",
       "    <tr>\n",
       "      <th>Kilis</th>\n",
       "      <td>14173</td>\n",
       "      <td>142792</td>\n",
       "      <td>29145</td>\n",
       "      <td>0.204108</td>\n",
       "      <td>0.099256</td>\n",
       "    </tr>\n",
       "    <tr>\n",
       "      <th>Osmaniye</th>\n",
       "      <td>79233</td>\n",
       "      <td>548556</td>\n",
       "      <td>129343</td>\n",
       "      <td>0.235788</td>\n",
       "      <td>0.144439</td>\n",
       "    </tr>\n",
       "    <tr>\n",
       "      <th>Düzce</th>\n",
       "      <td>60396</td>\n",
       "      <td>395679</td>\n",
       "      <td>107414</td>\n",
       "      <td>0.271468</td>\n",
       "      <td>0.152639</td>\n",
       "    </tr>\n",
       "    <tr>\n",
       "      <th>Türkiye</th>\n",
       "      <td>11882010</td>\n",
       "      <td>83614362</td>\n",
       "      <td>20690168</td>\n",
       "      <td>0.247448</td>\n",
       "      <td>0.142105</td>\n",
       "    </tr>\n",
       "  </tbody>\n",
       "</table>\n",
       "<p>82 rows × 5 columns</p>\n",
       "</div>"
      ],
      "text/plain": [
       "                 AsiDoz2  ToplamNufus  YasliNufus  YasliNufusOrani  AsiOrani\n",
       "İl                                                                          \n",
       "Adana             286779      2258718      540954         0.239496  0.126965\n",
       "Adıyaman           63453       632459      125313         0.198136  0.100327\n",
       "Afyonkarahisar    114081       736912      207563         0.281666  0.154810\n",
       "Ağrı               26977       535435       70323         0.131338  0.050383\n",
       "Amasya             73750       335494      113547         0.338447  0.219825\n",
       "...                  ...          ...         ...              ...       ...\n",
       "Karabük            46577       243614       79143         0.324870  0.191192\n",
       "Kilis              14173       142792       29145         0.204108  0.099256\n",
       "Osmaniye           79233       548556      129343         0.235788  0.144439\n",
       "Düzce              60396       395679      107414         0.271468  0.152639\n",
       "Türkiye         11882010     83614362    20690168         0.247448  0.142105\n",
       "\n",
       "[82 rows x 5 columns]"
      ]
     },
     "execution_count": 59,
     "metadata": {},
     "output_type": "execute_result"
    }
   ],
   "source": [
    "veri_paleti['AsiOrani'] = veri_paleti['AsiDoz2'] / nufus_veri['ToplamNufus']\n",
    "veri_paleti"
   ]
  },
  {
   "cell_type": "markdown",
   "metadata": {},
   "source": [
    "### Vaka Sayisi ve Oranı Tespiti"
   ]
  },
  {
   "cell_type": "code",
   "execution_count": 60,
   "metadata": {},
   "outputs": [],
   "source": [
    "veri_paleti['VakaSayisi'] = vaka_veri['VakaSayisi15_21Mayis']"
   ]
  },
  {
   "cell_type": "code",
   "execution_count": 61,
   "metadata": {},
   "outputs": [
    {
     "data": {
      "text/html": [
       "<div>\n",
       "<style scoped>\n",
       "    .dataframe tbody tr th:only-of-type {\n",
       "        vertical-align: middle;\n",
       "    }\n",
       "\n",
       "    .dataframe tbody tr th {\n",
       "        vertical-align: top;\n",
       "    }\n",
       "\n",
       "    .dataframe thead th {\n",
       "        text-align: right;\n",
       "    }\n",
       "</style>\n",
       "<table border=\"1\" class=\"dataframe\">\n",
       "  <thead>\n",
       "    <tr style=\"text-align: right;\">\n",
       "      <th></th>\n",
       "      <th>AsiDoz2</th>\n",
       "      <th>ToplamNufus</th>\n",
       "      <th>YasliNufus</th>\n",
       "      <th>YasliNufusOrani</th>\n",
       "      <th>AsiOrani</th>\n",
       "      <th>VakaSayisi</th>\n",
       "      <th>ToplamVakaSayisi</th>\n",
       "    </tr>\n",
       "    <tr>\n",
       "      <th>İl</th>\n",
       "      <th></th>\n",
       "      <th></th>\n",
       "      <th></th>\n",
       "      <th></th>\n",
       "      <th></th>\n",
       "      <th></th>\n",
       "      <th></th>\n",
       "    </tr>\n",
       "  </thead>\n",
       "  <tbody>\n",
       "    <tr>\n",
       "      <th>Adana</th>\n",
       "      <td>286779</td>\n",
       "      <td>2258718</td>\n",
       "      <td>540954</td>\n",
       "      <td>0.239496</td>\n",
       "      <td>0.126965</td>\n",
       "      <td>18.90</td>\n",
       "      <td>4.268977e+02</td>\n",
       "    </tr>\n",
       "    <tr>\n",
       "      <th>Adıyaman</th>\n",
       "      <td>63453</td>\n",
       "      <td>632459</td>\n",
       "      <td>125313</td>\n",
       "      <td>0.198136</td>\n",
       "      <td>0.100327</td>\n",
       "      <td>40.32</td>\n",
       "      <td>2.550075e+02</td>\n",
       "    </tr>\n",
       "    <tr>\n",
       "      <th>Afyonkarahisar</th>\n",
       "      <td>114081</td>\n",
       "      <td>736912</td>\n",
       "      <td>207563</td>\n",
       "      <td>0.281666</td>\n",
       "      <td>0.154810</td>\n",
       "      <td>82.64</td>\n",
       "      <td>6.089841e+02</td>\n",
       "    </tr>\n",
       "    <tr>\n",
       "      <th>Ağrı</th>\n",
       "      <td>26977</td>\n",
       "      <td>535435</td>\n",
       "      <td>70323</td>\n",
       "      <td>0.131338</td>\n",
       "      <td>0.050383</td>\n",
       "      <td>122.52</td>\n",
       "      <td>6.560150e+02</td>\n",
       "    </tr>\n",
       "    <tr>\n",
       "      <th>Amasya</th>\n",
       "      <td>73750</td>\n",
       "      <td>335494</td>\n",
       "      <td>113547</td>\n",
       "      <td>0.338447</td>\n",
       "      <td>0.219825</td>\n",
       "      <td>79.29</td>\n",
       "      <td>2.660132e+02</td>\n",
       "    </tr>\n",
       "    <tr>\n",
       "      <th>...</th>\n",
       "      <td>...</td>\n",
       "      <td>...</td>\n",
       "      <td>...</td>\n",
       "      <td>...</td>\n",
       "      <td>...</td>\n",
       "      <td>...</td>\n",
       "      <td>...</td>\n",
       "    </tr>\n",
       "    <tr>\n",
       "      <th>Karabük</th>\n",
       "      <td>46577</td>\n",
       "      <td>243614</td>\n",
       "      <td>79143</td>\n",
       "      <td>0.324870</td>\n",
       "      <td>0.191192</td>\n",
       "      <td>73.48</td>\n",
       "      <td>1.790076e+02</td>\n",
       "    </tr>\n",
       "    <tr>\n",
       "      <th>Kilis</th>\n",
       "      <td>14173</td>\n",
       "      <td>142792</td>\n",
       "      <td>29145</td>\n",
       "      <td>0.204108</td>\n",
       "      <td>0.099256</td>\n",
       "      <td>50.42</td>\n",
       "      <td>7.199573e+01</td>\n",
       "    </tr>\n",
       "    <tr>\n",
       "      <th>Osmaniye</th>\n",
       "      <td>79233</td>\n",
       "      <td>548556</td>\n",
       "      <td>129343</td>\n",
       "      <td>0.235788</td>\n",
       "      <td>0.144439</td>\n",
       "      <td>15.68</td>\n",
       "      <td>8.601358e+01</td>\n",
       "    </tr>\n",
       "    <tr>\n",
       "      <th>Düzce</th>\n",
       "      <td>60396</td>\n",
       "      <td>395679</td>\n",
       "      <td>107414</td>\n",
       "      <td>0.271468</td>\n",
       "      <td>0.152639</td>\n",
       "      <td>118.02</td>\n",
       "      <td>4.669804e+02</td>\n",
       "    </tr>\n",
       "    <tr>\n",
       "      <th>Türkiye</th>\n",
       "      <td>11882010</td>\n",
       "      <td>83614362</td>\n",
       "      <td>20690168</td>\n",
       "      <td>0.247448</td>\n",
       "      <td>0.142105</td>\n",
       "      <td>6668.27</td>\n",
       "      <td>5.575631e+06</td>\n",
       "    </tr>\n",
       "  </tbody>\n",
       "</table>\n",
       "<p>82 rows × 7 columns</p>\n",
       "</div>"
      ],
      "text/plain": [
       "                 AsiDoz2  ToplamNufus  YasliNufus  YasliNufusOrani  AsiOrani  \\\n",
       "İl                                                                             \n",
       "Adana             286779      2258718      540954         0.239496  0.126965   \n",
       "Adıyaman           63453       632459      125313         0.198136  0.100327   \n",
       "Afyonkarahisar    114081       736912      207563         0.281666  0.154810   \n",
       "Ağrı               26977       535435       70323         0.131338  0.050383   \n",
       "Amasya             73750       335494      113547         0.338447  0.219825   \n",
       "...                  ...          ...         ...              ...       ...   \n",
       "Karabük            46577       243614       79143         0.324870  0.191192   \n",
       "Kilis              14173       142792       29145         0.204108  0.099256   \n",
       "Osmaniye           79233       548556      129343         0.235788  0.144439   \n",
       "Düzce              60396       395679      107414         0.271468  0.152639   \n",
       "Türkiye         11882010     83614362    20690168         0.247448  0.142105   \n",
       "\n",
       "                VakaSayisi  ToplamVakaSayisi  \n",
       "İl                                            \n",
       "Adana                18.90      4.268977e+02  \n",
       "Adıyaman             40.32      2.550075e+02  \n",
       "Afyonkarahisar       82.64      6.089841e+02  \n",
       "Ağrı                122.52      6.560150e+02  \n",
       "Amasya               79.29      2.660132e+02  \n",
       "...                    ...               ...  \n",
       "Karabük              73.48      1.790076e+02  \n",
       "Kilis                50.42      7.199573e+01  \n",
       "Osmaniye             15.68      8.601358e+01  \n",
       "Düzce               118.02      4.669804e+02  \n",
       "Türkiye            6668.27      5.575631e+06  \n",
       "\n",
       "[82 rows x 7 columns]"
      ]
     },
     "execution_count": 61,
     "metadata": {},
     "output_type": "execute_result"
    }
   ],
   "source": [
    "veri_paleti['ToplamVakaSayisi'] = veri_paleti['VakaSayisi'] * (veri_paleti['ToplamNufus'] / 100000)\n",
    "veri_paleti"
   ]
  },
  {
   "cell_type": "code",
   "execution_count": 62,
   "metadata": {},
   "outputs": [],
   "source": [
    "veri_paleti['YasliBasinaDusenVakaSayisi'] = veri_paleti['ToplamVakaSayisi'] / veri_paleti['YasliNufus']"
   ]
  },
  {
   "cell_type": "code",
   "execution_count": 63,
   "metadata": {},
   "outputs": [
    {
     "data": {
      "text/html": [
       "<div>\n",
       "<style scoped>\n",
       "    .dataframe tbody tr th:only-of-type {\n",
       "        vertical-align: middle;\n",
       "    }\n",
       "\n",
       "    .dataframe tbody tr th {\n",
       "        vertical-align: top;\n",
       "    }\n",
       "\n",
       "    .dataframe thead th {\n",
       "        text-align: right;\n",
       "    }\n",
       "</style>\n",
       "<table border=\"1\" class=\"dataframe\">\n",
       "  <thead>\n",
       "    <tr style=\"text-align: right;\">\n",
       "      <th></th>\n",
       "      <th>AsiDoz2</th>\n",
       "      <th>ToplamNufus</th>\n",
       "      <th>YasliNufus</th>\n",
       "      <th>YasliNufusOrani</th>\n",
       "      <th>AsiOrani</th>\n",
       "      <th>VakaSayisi</th>\n",
       "      <th>ToplamVakaSayisi</th>\n",
       "      <th>YasliBasinaDusenVakaSayisi</th>\n",
       "    </tr>\n",
       "    <tr>\n",
       "      <th>İl</th>\n",
       "      <th></th>\n",
       "      <th></th>\n",
       "      <th></th>\n",
       "      <th></th>\n",
       "      <th></th>\n",
       "      <th></th>\n",
       "      <th></th>\n",
       "      <th></th>\n",
       "    </tr>\n",
       "  </thead>\n",
       "  <tbody>\n",
       "    <tr>\n",
       "      <th>Osmaniye</th>\n",
       "      <td>79233</td>\n",
       "      <td>548556</td>\n",
       "      <td>129343</td>\n",
       "      <td>0.235788</td>\n",
       "      <td>0.144439</td>\n",
       "      <td>15.68</td>\n",
       "      <td>8.601358e+01</td>\n",
       "      <td>0.000665</td>\n",
       "    </tr>\n",
       "    <tr>\n",
       "      <th>Hatay</th>\n",
       "      <td>170327</td>\n",
       "      <td>1659320</td>\n",
       "      <td>365416</td>\n",
       "      <td>0.220220</td>\n",
       "      <td>0.102649</td>\n",
       "      <td>16.69</td>\n",
       "      <td>2.769405e+02</td>\n",
       "      <td>0.000758</td>\n",
       "    </tr>\n",
       "    <tr>\n",
       "      <th>Adana</th>\n",
       "      <td>286779</td>\n",
       "      <td>2258718</td>\n",
       "      <td>540954</td>\n",
       "      <td>0.239496</td>\n",
       "      <td>0.126965</td>\n",
       "      <td>18.90</td>\n",
       "      <td>4.268977e+02</td>\n",
       "      <td>0.000789</td>\n",
       "    </tr>\n",
       "    <tr>\n",
       "      <th>Aydın</th>\n",
       "      <td>241746</td>\n",
       "      <td>1119084</td>\n",
       "      <td>369860</td>\n",
       "      <td>0.330502</td>\n",
       "      <td>0.216021</td>\n",
       "      <td>31.10</td>\n",
       "      <td>3.480351e+02</td>\n",
       "      <td>0.000941</td>\n",
       "    </tr>\n",
       "    <tr>\n",
       "      <th>Mersin</th>\n",
       "      <td>284547</td>\n",
       "      <td>1868757</td>\n",
       "      <td>489360</td>\n",
       "      <td>0.261864</td>\n",
       "      <td>0.152265</td>\n",
       "      <td>33.55</td>\n",
       "      <td>6.269680e+02</td>\n",
       "      <td>0.001281</td>\n",
       "    </tr>\n",
       "    <tr>\n",
       "      <th>...</th>\n",
       "      <td>...</td>\n",
       "      <td>...</td>\n",
       "      <td>...</td>\n",
       "      <td>...</td>\n",
       "      <td>...</td>\n",
       "      <td>...</td>\n",
       "      <td>...</td>\n",
       "      <td>...</td>\n",
       "    </tr>\n",
       "    <tr>\n",
       "      <th>Kars</th>\n",
       "      <td>30078</td>\n",
       "      <td>284923</td>\n",
       "      <td>59173</td>\n",
       "      <td>0.207681</td>\n",
       "      <td>0.105565</td>\n",
       "      <td>134.77</td>\n",
       "      <td>3.839907e+02</td>\n",
       "      <td>0.006489</td>\n",
       "    </tr>\n",
       "    <tr>\n",
       "      <th>Bitlis</th>\n",
       "      <td>17706</td>\n",
       "      <td>350994</td>\n",
       "      <td>51132</td>\n",
       "      <td>0.145678</td>\n",
       "      <td>0.050445</td>\n",
       "      <td>96.58</td>\n",
       "      <td>3.389900e+02</td>\n",
       "      <td>0.006630</td>\n",
       "    </tr>\n",
       "    <tr>\n",
       "      <th>Erzurum</th>\n",
       "      <td>86509</td>\n",
       "      <td>758279</td>\n",
       "      <td>165305</td>\n",
       "      <td>0.218000</td>\n",
       "      <td>0.114086</td>\n",
       "      <td>151.40</td>\n",
       "      <td>1.148034e+03</td>\n",
       "      <td>0.006945</td>\n",
       "    </tr>\n",
       "    <tr>\n",
       "      <th>Ağrı</th>\n",
       "      <td>26977</td>\n",
       "      <td>535435</td>\n",
       "      <td>70323</td>\n",
       "      <td>0.131338</td>\n",
       "      <td>0.050383</td>\n",
       "      <td>122.52</td>\n",
       "      <td>6.560150e+02</td>\n",
       "      <td>0.009329</td>\n",
       "    </tr>\n",
       "    <tr>\n",
       "      <th>Türkiye</th>\n",
       "      <td>11882010</td>\n",
       "      <td>83614362</td>\n",
       "      <td>20690168</td>\n",
       "      <td>0.247448</td>\n",
       "      <td>0.142105</td>\n",
       "      <td>6668.27</td>\n",
       "      <td>5.575631e+06</td>\n",
       "      <td>0.269482</td>\n",
       "    </tr>\n",
       "  </tbody>\n",
       "</table>\n",
       "<p>82 rows × 8 columns</p>\n",
       "</div>"
      ],
      "text/plain": [
       "           AsiDoz2  ToplamNufus  YasliNufus  YasliNufusOrani  AsiOrani  \\\n",
       "İl                                                                       \n",
       "Osmaniye     79233       548556      129343         0.235788  0.144439   \n",
       "Hatay       170327      1659320      365416         0.220220  0.102649   \n",
       "Adana       286779      2258718      540954         0.239496  0.126965   \n",
       "Aydın       241746      1119084      369860         0.330502  0.216021   \n",
       "Mersin      284547      1868757      489360         0.261864  0.152265   \n",
       "...            ...          ...         ...              ...       ...   \n",
       "Kars         30078       284923       59173         0.207681  0.105565   \n",
       "Bitlis       17706       350994       51132         0.145678  0.050445   \n",
       "Erzurum      86509       758279      165305         0.218000  0.114086   \n",
       "Ağrı         26977       535435       70323         0.131338  0.050383   \n",
       "Türkiye   11882010     83614362    20690168         0.247448  0.142105   \n",
       "\n",
       "          VakaSayisi  ToplamVakaSayisi  YasliBasinaDusenVakaSayisi  \n",
       "İl                                                                  \n",
       "Osmaniye       15.68      8.601358e+01                    0.000665  \n",
       "Hatay          16.69      2.769405e+02                    0.000758  \n",
       "Adana          18.90      4.268977e+02                    0.000789  \n",
       "Aydın          31.10      3.480351e+02                    0.000941  \n",
       "Mersin         33.55      6.269680e+02                    0.001281  \n",
       "...              ...               ...                         ...  \n",
       "Kars          134.77      3.839907e+02                    0.006489  \n",
       "Bitlis         96.58      3.389900e+02                    0.006630  \n",
       "Erzurum       151.40      1.148034e+03                    0.006945  \n",
       "Ağrı          122.52      6.560150e+02                    0.009329  \n",
       "Türkiye      6668.27      5.575631e+06                    0.269482  \n",
       "\n",
       "[82 rows x 8 columns]"
      ]
     },
     "execution_count": 63,
     "metadata": {},
     "output_type": "execute_result"
    }
   ],
   "source": [
    "veri_paleti.sort_values('YasliBasinaDusenVakaSayisi')"
   ]
  },
  {
   "cell_type": "markdown",
   "metadata": {},
   "source": [
    "##  4. Görselleştirme"
   ]
  },
  {
   "cell_type": "code",
   "execution_count": 64,
   "metadata": {},
   "outputs": [
    {
     "data": {
      "text/html": [
       "        <script type=\"text/javascript\">\n",
       "        window.PlotlyConfig = {MathJaxConfig: 'local'};\n",
       "        if (window.MathJax) {MathJax.Hub.Config({SVG: {font: \"STIX-Web\"}});}\n",
       "        if (typeof require !== 'undefined') {\n",
       "        require.undef(\"plotly\");\n",
       "        requirejs.config({\n",
       "            paths: {\n",
       "                'plotly': ['https://cdn.plot.ly/plotly-latest.min']\n",
       "            }\n",
       "        });\n",
       "        require(['plotly'], function(Plotly) {\n",
       "            window._Plotly = Plotly;\n",
       "        });\n",
       "        }\n",
       "        </script>\n",
       "        "
      ]
     },
     "metadata": {},
     "output_type": "display_data"
    }
   ],
   "source": [
    "import matplotlib.pyplot as plt\n",
    "import seaborn as sns\n",
    "import plotly as p\n",
    "\n",
    "\n",
    "import plotly.figure_factory as ff \n",
    "from plotly.offline import init_notebook_mode, iplot, plot\n",
    "init_notebook_mode(connected=True)\n",
    "import plotly.graph_objs as go\n",
    "import plotly.express as px"
   ]
  },
  {
   "cell_type": "markdown",
   "metadata": {},
   "source": [
    "### Aşı oranı hakkında görselleştirme"
   ]
  },
  {
   "cell_type": "code",
   "execution_count": 65,
   "metadata": {},
   "outputs": [
    {
     "data": {
      "application/vnd.plotly.v1+json": {
       "config": {
        "plotlyServerURL": "https://plot.ly"
       },
       "data": [
        {
         "mode": "markers",
         "type": "scatter",
         "uid": "91316ba8-3035-435a-8334-2381c53bcc2f",
         "x": [
          "Şırnak",
          "Hakkari",
          "Şanlıurfa",
          "Siirt",
          "Mardin",
          "Ağrı",
          "Bitlis",
          "Muş",
          "Van",
          "Diyarbakır"
         ],
         "y": [
          0.031499064641979165,
          0.03275772332218713,
          0.040041016311973585,
          0.0443682604887184,
          0.04804519863908011,
          0.05038333317769664,
          0.050445306757380466,
          0.05559244691900359,
          0.055611819632450564,
          0.0588152835741893
         ]
        }
       ],
       "layout": {
        "template": {
         "data": {
          "bar": [
           {
            "error_x": {
             "color": "#2a3f5f"
            },
            "error_y": {
             "color": "#2a3f5f"
            },
            "marker": {
             "line": {
              "color": "#E5ECF6",
              "width": 0.5
             }
            },
            "type": "bar"
           }
          ],
          "barpolar": [
           {
            "marker": {
             "line": {
              "color": "#E5ECF6",
              "width": 0.5
             }
            },
            "type": "barpolar"
           }
          ],
          "carpet": [
           {
            "aaxis": {
             "endlinecolor": "#2a3f5f",
             "gridcolor": "white",
             "linecolor": "white",
             "minorgridcolor": "white",
             "startlinecolor": "#2a3f5f"
            },
            "baxis": {
             "endlinecolor": "#2a3f5f",
             "gridcolor": "white",
             "linecolor": "white",
             "minorgridcolor": "white",
             "startlinecolor": "#2a3f5f"
            },
            "type": "carpet"
           }
          ],
          "choropleth": [
           {
            "colorbar": {
             "outlinewidth": 0,
             "ticks": ""
            },
            "type": "choropleth"
           }
          ],
          "contour": [
           {
            "colorbar": {
             "outlinewidth": 0,
             "ticks": ""
            },
            "colorscale": [
             [
              0,
              "#0d0887"
             ],
             [
              0.1111111111111111,
              "#46039f"
             ],
             [
              0.2222222222222222,
              "#7201a8"
             ],
             [
              0.3333333333333333,
              "#9c179e"
             ],
             [
              0.4444444444444444,
              "#bd3786"
             ],
             [
              0.5555555555555556,
              "#d8576b"
             ],
             [
              0.6666666666666666,
              "#ed7953"
             ],
             [
              0.7777777777777778,
              "#fb9f3a"
             ],
             [
              0.8888888888888888,
              "#fdca26"
             ],
             [
              1,
              "#f0f921"
             ]
            ],
            "type": "contour"
           }
          ],
          "contourcarpet": [
           {
            "colorbar": {
             "outlinewidth": 0,
             "ticks": ""
            },
            "type": "contourcarpet"
           }
          ],
          "heatmap": [
           {
            "colorbar": {
             "outlinewidth": 0,
             "ticks": ""
            },
            "colorscale": [
             [
              0,
              "#0d0887"
             ],
             [
              0.1111111111111111,
              "#46039f"
             ],
             [
              0.2222222222222222,
              "#7201a8"
             ],
             [
              0.3333333333333333,
              "#9c179e"
             ],
             [
              0.4444444444444444,
              "#bd3786"
             ],
             [
              0.5555555555555556,
              "#d8576b"
             ],
             [
              0.6666666666666666,
              "#ed7953"
             ],
             [
              0.7777777777777778,
              "#fb9f3a"
             ],
             [
              0.8888888888888888,
              "#fdca26"
             ],
             [
              1,
              "#f0f921"
             ]
            ],
            "type": "heatmap"
           }
          ],
          "heatmapgl": [
           {
            "colorbar": {
             "outlinewidth": 0,
             "ticks": ""
            },
            "colorscale": [
             [
              0,
              "#0d0887"
             ],
             [
              0.1111111111111111,
              "#46039f"
             ],
             [
              0.2222222222222222,
              "#7201a8"
             ],
             [
              0.3333333333333333,
              "#9c179e"
             ],
             [
              0.4444444444444444,
              "#bd3786"
             ],
             [
              0.5555555555555556,
              "#d8576b"
             ],
             [
              0.6666666666666666,
              "#ed7953"
             ],
             [
              0.7777777777777778,
              "#fb9f3a"
             ],
             [
              0.8888888888888888,
              "#fdca26"
             ],
             [
              1,
              "#f0f921"
             ]
            ],
            "type": "heatmapgl"
           }
          ],
          "histogram": [
           {
            "marker": {
             "colorbar": {
              "outlinewidth": 0,
              "ticks": ""
             }
            },
            "type": "histogram"
           }
          ],
          "histogram2d": [
           {
            "colorbar": {
             "outlinewidth": 0,
             "ticks": ""
            },
            "colorscale": [
             [
              0,
              "#0d0887"
             ],
             [
              0.1111111111111111,
              "#46039f"
             ],
             [
              0.2222222222222222,
              "#7201a8"
             ],
             [
              0.3333333333333333,
              "#9c179e"
             ],
             [
              0.4444444444444444,
              "#bd3786"
             ],
             [
              0.5555555555555556,
              "#d8576b"
             ],
             [
              0.6666666666666666,
              "#ed7953"
             ],
             [
              0.7777777777777778,
              "#fb9f3a"
             ],
             [
              0.8888888888888888,
              "#fdca26"
             ],
             [
              1,
              "#f0f921"
             ]
            ],
            "type": "histogram2d"
           }
          ],
          "histogram2dcontour": [
           {
            "colorbar": {
             "outlinewidth": 0,
             "ticks": ""
            },
            "colorscale": [
             [
              0,
              "#0d0887"
             ],
             [
              0.1111111111111111,
              "#46039f"
             ],
             [
              0.2222222222222222,
              "#7201a8"
             ],
             [
              0.3333333333333333,
              "#9c179e"
             ],
             [
              0.4444444444444444,
              "#bd3786"
             ],
             [
              0.5555555555555556,
              "#d8576b"
             ],
             [
              0.6666666666666666,
              "#ed7953"
             ],
             [
              0.7777777777777778,
              "#fb9f3a"
             ],
             [
              0.8888888888888888,
              "#fdca26"
             ],
             [
              1,
              "#f0f921"
             ]
            ],
            "type": "histogram2dcontour"
           }
          ],
          "mesh3d": [
           {
            "colorbar": {
             "outlinewidth": 0,
             "ticks": ""
            },
            "type": "mesh3d"
           }
          ],
          "parcoords": [
           {
            "line": {
             "colorbar": {
              "outlinewidth": 0,
              "ticks": ""
             }
            },
            "type": "parcoords"
           }
          ],
          "pie": [
           {
            "automargin": true,
            "type": "pie"
           }
          ],
          "scatter": [
           {
            "marker": {
             "colorbar": {
              "outlinewidth": 0,
              "ticks": ""
             }
            },
            "type": "scatter"
           }
          ],
          "scatter3d": [
           {
            "line": {
             "colorbar": {
              "outlinewidth": 0,
              "ticks": ""
             }
            },
            "marker": {
             "colorbar": {
              "outlinewidth": 0,
              "ticks": ""
             }
            },
            "type": "scatter3d"
           }
          ],
          "scattercarpet": [
           {
            "marker": {
             "colorbar": {
              "outlinewidth": 0,
              "ticks": ""
             }
            },
            "type": "scattercarpet"
           }
          ],
          "scattergeo": [
           {
            "marker": {
             "colorbar": {
              "outlinewidth": 0,
              "ticks": ""
             }
            },
            "type": "scattergeo"
           }
          ],
          "scattergl": [
           {
            "marker": {
             "colorbar": {
              "outlinewidth": 0,
              "ticks": ""
             }
            },
            "type": "scattergl"
           }
          ],
          "scattermapbox": [
           {
            "marker": {
             "colorbar": {
              "outlinewidth": 0,
              "ticks": ""
             }
            },
            "type": "scattermapbox"
           }
          ],
          "scatterpolar": [
           {
            "marker": {
             "colorbar": {
              "outlinewidth": 0,
              "ticks": ""
             }
            },
            "type": "scatterpolar"
           }
          ],
          "scatterpolargl": [
           {
            "marker": {
             "colorbar": {
              "outlinewidth": 0,
              "ticks": ""
             }
            },
            "type": "scatterpolargl"
           }
          ],
          "scatterternary": [
           {
            "marker": {
             "colorbar": {
              "outlinewidth": 0,
              "ticks": ""
             }
            },
            "type": "scatterternary"
           }
          ],
          "surface": [
           {
            "colorbar": {
             "outlinewidth": 0,
             "ticks": ""
            },
            "colorscale": [
             [
              0,
              "#0d0887"
             ],
             [
              0.1111111111111111,
              "#46039f"
             ],
             [
              0.2222222222222222,
              "#7201a8"
             ],
             [
              0.3333333333333333,
              "#9c179e"
             ],
             [
              0.4444444444444444,
              "#bd3786"
             ],
             [
              0.5555555555555556,
              "#d8576b"
             ],
             [
              0.6666666666666666,
              "#ed7953"
             ],
             [
              0.7777777777777778,
              "#fb9f3a"
             ],
             [
              0.8888888888888888,
              "#fdca26"
             ],
             [
              1,
              "#f0f921"
             ]
            ],
            "type": "surface"
           }
          ],
          "table": [
           {
            "cells": {
             "fill": {
              "color": "#EBF0F8"
             },
             "line": {
              "color": "white"
             }
            },
            "header": {
             "fill": {
              "color": "#C8D4E3"
             },
             "line": {
              "color": "white"
             }
            },
            "type": "table"
           }
          ]
         },
         "layout": {
          "annotationdefaults": {
           "arrowcolor": "#2a3f5f",
           "arrowhead": 0,
           "arrowwidth": 1
          },
          "coloraxis": {
           "colorbar": {
            "outlinewidth": 0,
            "ticks": ""
           }
          },
          "colorscale": {
           "diverging": [
            [
             0,
             "#8e0152"
            ],
            [
             0.1,
             "#c51b7d"
            ],
            [
             0.2,
             "#de77ae"
            ],
            [
             0.3,
             "#f1b6da"
            ],
            [
             0.4,
             "#fde0ef"
            ],
            [
             0.5,
             "#f7f7f7"
            ],
            [
             0.6,
             "#e6f5d0"
            ],
            [
             0.7,
             "#b8e186"
            ],
            [
             0.8,
             "#7fbc41"
            ],
            [
             0.9,
             "#4d9221"
            ],
            [
             1,
             "#276419"
            ]
           ],
           "sequential": [
            [
             0,
             "#0d0887"
            ],
            [
             0.1111111111111111,
             "#46039f"
            ],
            [
             0.2222222222222222,
             "#7201a8"
            ],
            [
             0.3333333333333333,
             "#9c179e"
            ],
            [
             0.4444444444444444,
             "#bd3786"
            ],
            [
             0.5555555555555556,
             "#d8576b"
            ],
            [
             0.6666666666666666,
             "#ed7953"
            ],
            [
             0.7777777777777778,
             "#fb9f3a"
            ],
            [
             0.8888888888888888,
             "#fdca26"
            ],
            [
             1,
             "#f0f921"
            ]
           ],
           "sequentialminus": [
            [
             0,
             "#0d0887"
            ],
            [
             0.1111111111111111,
             "#46039f"
            ],
            [
             0.2222222222222222,
             "#7201a8"
            ],
            [
             0.3333333333333333,
             "#9c179e"
            ],
            [
             0.4444444444444444,
             "#bd3786"
            ],
            [
             0.5555555555555556,
             "#d8576b"
            ],
            [
             0.6666666666666666,
             "#ed7953"
            ],
            [
             0.7777777777777778,
             "#fb9f3a"
            ],
            [
             0.8888888888888888,
             "#fdca26"
            ],
            [
             1,
             "#f0f921"
            ]
           ]
          },
          "colorway": [
           "#636efa",
           "#EF553B",
           "#00cc96",
           "#ab63fa",
           "#FFA15A",
           "#19d3f3",
           "#FF6692",
           "#B6E880",
           "#FF97FF",
           "#FECB52"
          ],
          "font": {
           "color": "#2a3f5f"
          },
          "geo": {
           "bgcolor": "white",
           "lakecolor": "white",
           "landcolor": "#E5ECF6",
           "showlakes": true,
           "showland": true,
           "subunitcolor": "white"
          },
          "hoverlabel": {
           "align": "left"
          },
          "hovermode": "closest",
          "mapbox": {
           "style": "light"
          },
          "paper_bgcolor": "white",
          "plot_bgcolor": "#E5ECF6",
          "polar": {
           "angularaxis": {
            "gridcolor": "white",
            "linecolor": "white",
            "ticks": ""
           },
           "bgcolor": "#E5ECF6",
           "radialaxis": {
            "gridcolor": "white",
            "linecolor": "white",
            "ticks": ""
           }
          },
          "scene": {
           "xaxis": {
            "backgroundcolor": "#E5ECF6",
            "gridcolor": "white",
            "gridwidth": 2,
            "linecolor": "white",
            "showbackground": true,
            "ticks": "",
            "zerolinecolor": "white"
           },
           "yaxis": {
            "backgroundcolor": "#E5ECF6",
            "gridcolor": "white",
            "gridwidth": 2,
            "linecolor": "white",
            "showbackground": true,
            "ticks": "",
            "zerolinecolor": "white"
           },
           "zaxis": {
            "backgroundcolor": "#E5ECF6",
            "gridcolor": "white",
            "gridwidth": 2,
            "linecolor": "white",
            "showbackground": true,
            "ticks": "",
            "zerolinecolor": "white"
           }
          },
          "shapedefaults": {
           "line": {
            "color": "#2a3f5f"
           }
          },
          "ternary": {
           "aaxis": {
            "gridcolor": "white",
            "linecolor": "white",
            "ticks": ""
           },
           "baxis": {
            "gridcolor": "white",
            "linecolor": "white",
            "ticks": ""
           },
           "bgcolor": "#E5ECF6",
           "caxis": {
            "gridcolor": "white",
            "linecolor": "white",
            "ticks": ""
           }
          },
          "title": {
           "x": 0.05
          },
          "xaxis": {
           "automargin": true,
           "gridcolor": "white",
           "linecolor": "white",
           "ticks": "",
           "title": {
            "standoff": 15
           },
           "zerolinecolor": "white",
           "zerolinewidth": 2
          },
          "yaxis": {
           "automargin": true,
           "gridcolor": "white",
           "linecolor": "white",
           "ticks": "",
           "title": {
            "standoff": 15
           },
           "zerolinecolor": "white",
           "zerolinewidth": 2
          }
         }
        },
        "title": {
         "text": "Aşı Orani En düşük 10 İlimiz"
        },
        "yaxis": {
         "gridcolor": "white",
         "gridwidth": 2,
         "title": {
          "text": "2 Doz aşı vurulan kişi oranı (17 Mayıs)"
         }
        }
       }
      },
      "text/html": [
       "<div>\n",
       "        \n",
       "        \n",
       "            <div id=\"63e31072-e57c-4238-9b17-193c43b931c6\" class=\"plotly-graph-div\" style=\"height:525px; width:100%;\"></div>\n",
       "            <script type=\"text/javascript\">\n",
       "                require([\"plotly\"], function(Plotly) {\n",
       "                    window.PLOTLYENV=window.PLOTLYENV || {};\n",
       "                    \n",
       "                if (document.getElementById(\"63e31072-e57c-4238-9b17-193c43b931c6\")) {\n",
       "                    Plotly.newPlot(\n",
       "                        '63e31072-e57c-4238-9b17-193c43b931c6',\n",
       "                        [{\"mode\": \"markers\", \"type\": \"scatter\", \"uid\": \"91316ba8-3035-435a-8334-2381c53bcc2f\", \"x\": [\"\\u015e\\u0131rnak\", \"Hakkari\", \"\\u015eanl\\u0131urfa\", \"Siirt\", \"Mardin\", \"A\\u011fr\\u0131\", \"Bitlis\", \"Mu\\u015f\", \"Van\", \"Diyarbak\\u0131r\"], \"y\": [0.031499064641979165, 0.03275772332218713, 0.040041016311973585, 0.0443682604887184, 0.04804519863908011, 0.05038333317769664, 0.050445306757380466, 0.05559244691900359, 0.055611819632450564, 0.0588152835741893]}],\n",
       "                        {\"template\": {\"data\": {\"bar\": [{\"error_x\": {\"color\": \"#2a3f5f\"}, \"error_y\": {\"color\": \"#2a3f5f\"}, \"marker\": {\"line\": {\"color\": \"#E5ECF6\", \"width\": 0.5}}, \"type\": \"bar\"}], \"barpolar\": [{\"marker\": {\"line\": {\"color\": \"#E5ECF6\", \"width\": 0.5}}, \"type\": \"barpolar\"}], \"carpet\": [{\"aaxis\": {\"endlinecolor\": \"#2a3f5f\", \"gridcolor\": \"white\", \"linecolor\": \"white\", \"minorgridcolor\": \"white\", \"startlinecolor\": \"#2a3f5f\"}, \"baxis\": {\"endlinecolor\": \"#2a3f5f\", \"gridcolor\": \"white\", \"linecolor\": \"white\", \"minorgridcolor\": \"white\", \"startlinecolor\": \"#2a3f5f\"}, \"type\": \"carpet\"}], \"choropleth\": [{\"colorbar\": {\"outlinewidth\": 0, \"ticks\": \"\"}, \"type\": \"choropleth\"}], \"contour\": [{\"colorbar\": {\"outlinewidth\": 0, \"ticks\": \"\"}, \"colorscale\": [[0.0, \"#0d0887\"], [0.1111111111111111, \"#46039f\"], [0.2222222222222222, \"#7201a8\"], [0.3333333333333333, \"#9c179e\"], [0.4444444444444444, \"#bd3786\"], [0.5555555555555556, \"#d8576b\"], [0.6666666666666666, \"#ed7953\"], [0.7777777777777778, \"#fb9f3a\"], [0.8888888888888888, \"#fdca26\"], [1.0, \"#f0f921\"]], \"type\": \"contour\"}], \"contourcarpet\": [{\"colorbar\": {\"outlinewidth\": 0, \"ticks\": \"\"}, \"type\": \"contourcarpet\"}], \"heatmap\": [{\"colorbar\": {\"outlinewidth\": 0, \"ticks\": \"\"}, \"colorscale\": [[0.0, \"#0d0887\"], [0.1111111111111111, \"#46039f\"], [0.2222222222222222, \"#7201a8\"], [0.3333333333333333, \"#9c179e\"], [0.4444444444444444, \"#bd3786\"], [0.5555555555555556, \"#d8576b\"], [0.6666666666666666, \"#ed7953\"], [0.7777777777777778, \"#fb9f3a\"], [0.8888888888888888, \"#fdca26\"], [1.0, \"#f0f921\"]], \"type\": \"heatmap\"}], \"heatmapgl\": [{\"colorbar\": {\"outlinewidth\": 0, \"ticks\": \"\"}, \"colorscale\": [[0.0, \"#0d0887\"], [0.1111111111111111, \"#46039f\"], [0.2222222222222222, \"#7201a8\"], [0.3333333333333333, \"#9c179e\"], [0.4444444444444444, \"#bd3786\"], [0.5555555555555556, \"#d8576b\"], [0.6666666666666666, \"#ed7953\"], [0.7777777777777778, \"#fb9f3a\"], [0.8888888888888888, \"#fdca26\"], [1.0, \"#f0f921\"]], \"type\": \"heatmapgl\"}], \"histogram\": [{\"marker\": {\"colorbar\": {\"outlinewidth\": 0, \"ticks\": \"\"}}, \"type\": \"histogram\"}], \"histogram2d\": [{\"colorbar\": {\"outlinewidth\": 0, \"ticks\": \"\"}, \"colorscale\": [[0.0, \"#0d0887\"], [0.1111111111111111, \"#46039f\"], [0.2222222222222222, \"#7201a8\"], [0.3333333333333333, \"#9c179e\"], [0.4444444444444444, \"#bd3786\"], [0.5555555555555556, \"#d8576b\"], [0.6666666666666666, \"#ed7953\"], [0.7777777777777778, \"#fb9f3a\"], [0.8888888888888888, \"#fdca26\"], [1.0, \"#f0f921\"]], \"type\": \"histogram2d\"}], \"histogram2dcontour\": [{\"colorbar\": {\"outlinewidth\": 0, \"ticks\": \"\"}, \"colorscale\": [[0.0, \"#0d0887\"], [0.1111111111111111, \"#46039f\"], [0.2222222222222222, \"#7201a8\"], [0.3333333333333333, \"#9c179e\"], [0.4444444444444444, \"#bd3786\"], [0.5555555555555556, \"#d8576b\"], [0.6666666666666666, \"#ed7953\"], [0.7777777777777778, \"#fb9f3a\"], [0.8888888888888888, \"#fdca26\"], [1.0, \"#f0f921\"]], \"type\": \"histogram2dcontour\"}], \"mesh3d\": [{\"colorbar\": {\"outlinewidth\": 0, \"ticks\": \"\"}, \"type\": \"mesh3d\"}], \"parcoords\": [{\"line\": {\"colorbar\": {\"outlinewidth\": 0, \"ticks\": \"\"}}, \"type\": \"parcoords\"}], \"pie\": [{\"automargin\": true, \"type\": \"pie\"}], \"scatter\": [{\"marker\": {\"colorbar\": {\"outlinewidth\": 0, \"ticks\": \"\"}}, \"type\": \"scatter\"}], \"scatter3d\": [{\"line\": {\"colorbar\": {\"outlinewidth\": 0, \"ticks\": \"\"}}, \"marker\": {\"colorbar\": {\"outlinewidth\": 0, \"ticks\": \"\"}}, \"type\": \"scatter3d\"}], \"scattercarpet\": [{\"marker\": {\"colorbar\": {\"outlinewidth\": 0, \"ticks\": \"\"}}, \"type\": \"scattercarpet\"}], \"scattergeo\": [{\"marker\": {\"colorbar\": {\"outlinewidth\": 0, \"ticks\": \"\"}}, \"type\": \"scattergeo\"}], \"scattergl\": [{\"marker\": {\"colorbar\": {\"outlinewidth\": 0, \"ticks\": \"\"}}, \"type\": \"scattergl\"}], \"scattermapbox\": [{\"marker\": {\"colorbar\": {\"outlinewidth\": 0, \"ticks\": \"\"}}, \"type\": \"scattermapbox\"}], \"scatterpolar\": [{\"marker\": {\"colorbar\": {\"outlinewidth\": 0, \"ticks\": \"\"}}, \"type\": \"scatterpolar\"}], \"scatterpolargl\": [{\"marker\": {\"colorbar\": {\"outlinewidth\": 0, \"ticks\": \"\"}}, \"type\": \"scatterpolargl\"}], \"scatterternary\": [{\"marker\": {\"colorbar\": {\"outlinewidth\": 0, \"ticks\": \"\"}}, \"type\": \"scatterternary\"}], \"surface\": [{\"colorbar\": {\"outlinewidth\": 0, \"ticks\": \"\"}, \"colorscale\": [[0.0, \"#0d0887\"], [0.1111111111111111, \"#46039f\"], [0.2222222222222222, \"#7201a8\"], [0.3333333333333333, \"#9c179e\"], [0.4444444444444444, \"#bd3786\"], [0.5555555555555556, \"#d8576b\"], [0.6666666666666666, \"#ed7953\"], [0.7777777777777778, \"#fb9f3a\"], [0.8888888888888888, \"#fdca26\"], [1.0, \"#f0f921\"]], \"type\": \"surface\"}], \"table\": [{\"cells\": {\"fill\": {\"color\": \"#EBF0F8\"}, \"line\": {\"color\": \"white\"}}, \"header\": {\"fill\": {\"color\": \"#C8D4E3\"}, \"line\": {\"color\": \"white\"}}, \"type\": \"table\"}]}, \"layout\": {\"annotationdefaults\": {\"arrowcolor\": \"#2a3f5f\", \"arrowhead\": 0, \"arrowwidth\": 1}, \"coloraxis\": {\"colorbar\": {\"outlinewidth\": 0, \"ticks\": \"\"}}, \"colorscale\": {\"diverging\": [[0, \"#8e0152\"], [0.1, \"#c51b7d\"], [0.2, \"#de77ae\"], [0.3, \"#f1b6da\"], [0.4, \"#fde0ef\"], [0.5, \"#f7f7f7\"], [0.6, \"#e6f5d0\"], [0.7, \"#b8e186\"], [0.8, \"#7fbc41\"], [0.9, \"#4d9221\"], [1, \"#276419\"]], \"sequential\": [[0.0, \"#0d0887\"], [0.1111111111111111, \"#46039f\"], [0.2222222222222222, \"#7201a8\"], [0.3333333333333333, \"#9c179e\"], [0.4444444444444444, \"#bd3786\"], [0.5555555555555556, \"#d8576b\"], [0.6666666666666666, \"#ed7953\"], [0.7777777777777778, \"#fb9f3a\"], [0.8888888888888888, \"#fdca26\"], [1.0, \"#f0f921\"]], \"sequentialminus\": [[0.0, \"#0d0887\"], [0.1111111111111111, \"#46039f\"], [0.2222222222222222, \"#7201a8\"], [0.3333333333333333, \"#9c179e\"], [0.4444444444444444, \"#bd3786\"], [0.5555555555555556, \"#d8576b\"], [0.6666666666666666, \"#ed7953\"], [0.7777777777777778, \"#fb9f3a\"], [0.8888888888888888, \"#fdca26\"], [1.0, \"#f0f921\"]]}, \"colorway\": [\"#636efa\", \"#EF553B\", \"#00cc96\", \"#ab63fa\", \"#FFA15A\", \"#19d3f3\", \"#FF6692\", \"#B6E880\", \"#FF97FF\", \"#FECB52\"], \"font\": {\"color\": \"#2a3f5f\"}, \"geo\": {\"bgcolor\": \"white\", \"lakecolor\": \"white\", \"landcolor\": \"#E5ECF6\", \"showlakes\": true, \"showland\": true, \"subunitcolor\": \"white\"}, \"hoverlabel\": {\"align\": \"left\"}, \"hovermode\": \"closest\", \"mapbox\": {\"style\": \"light\"}, \"paper_bgcolor\": \"white\", \"plot_bgcolor\": \"#E5ECF6\", \"polar\": {\"angularaxis\": {\"gridcolor\": \"white\", \"linecolor\": \"white\", \"ticks\": \"\"}, \"bgcolor\": \"#E5ECF6\", \"radialaxis\": {\"gridcolor\": \"white\", \"linecolor\": \"white\", \"ticks\": \"\"}}, \"scene\": {\"xaxis\": {\"backgroundcolor\": \"#E5ECF6\", \"gridcolor\": \"white\", \"gridwidth\": 2, \"linecolor\": \"white\", \"showbackground\": true, \"ticks\": \"\", \"zerolinecolor\": \"white\"}, \"yaxis\": {\"backgroundcolor\": \"#E5ECF6\", \"gridcolor\": \"white\", \"gridwidth\": 2, \"linecolor\": \"white\", \"showbackground\": true, \"ticks\": \"\", \"zerolinecolor\": \"white\"}, \"zaxis\": {\"backgroundcolor\": \"#E5ECF6\", \"gridcolor\": \"white\", \"gridwidth\": 2, \"linecolor\": \"white\", \"showbackground\": true, \"ticks\": \"\", \"zerolinecolor\": \"white\"}}, \"shapedefaults\": {\"line\": {\"color\": \"#2a3f5f\"}}, \"ternary\": {\"aaxis\": {\"gridcolor\": \"white\", \"linecolor\": \"white\", \"ticks\": \"\"}, \"baxis\": {\"gridcolor\": \"white\", \"linecolor\": \"white\", \"ticks\": \"\"}, \"bgcolor\": \"#E5ECF6\", \"caxis\": {\"gridcolor\": \"white\", \"linecolor\": \"white\", \"ticks\": \"\"}}, \"title\": {\"x\": 0.05}, \"xaxis\": {\"automargin\": true, \"gridcolor\": \"white\", \"linecolor\": \"white\", \"ticks\": \"\", \"title\": {\"standoff\": 15}, \"zerolinecolor\": \"white\", \"zerolinewidth\": 2}, \"yaxis\": {\"automargin\": true, \"gridcolor\": \"white\", \"linecolor\": \"white\", \"ticks\": \"\", \"title\": {\"standoff\": 15}, \"zerolinecolor\": \"white\", \"zerolinewidth\": 2}}}, \"title\": {\"text\": \"A\\u015f\\u0131 Orani En d\\u00fc\\u015f\\u00fck 10 \\u0130limiz\"}, \"yaxis\": {\"gridcolor\": \"white\", \"gridwidth\": 2, \"title\": {\"text\": \"2 Doz a\\u015f\\u0131 vurulan ki\\u015fi oran\\u0131 (17 May\\u0131s)\"}}},\n",
       "                        {\"responsive\": true}\n",
       "                    ).then(function(){\n",
       "                            \n",
       "var gd = document.getElementById('63e31072-e57c-4238-9b17-193c43b931c6');\n",
       "var x = new MutationObserver(function (mutations, observer) {{\n",
       "        var display = window.getComputedStyle(gd).display;\n",
       "        if (!display || display === 'none') {{\n",
       "            console.log([gd, 'removed!']);\n",
       "            Plotly.purge(gd);\n",
       "            observer.disconnect();\n",
       "        }}\n",
       "}});\n",
       "\n",
       "// Listen for the removal of the full notebook cells\n",
       "var notebookContainer = gd.closest('#notebook-container');\n",
       "if (notebookContainer) {{\n",
       "    x.observe(notebookContainer, {childList: true});\n",
       "}}\n",
       "\n",
       "// Listen for the clearing of the current output cell\n",
       "var outputEl = gd.closest('.output');\n",
       "if (outputEl) {{\n",
       "    x.observe(outputEl, {childList: true});\n",
       "}}\n",
       "\n",
       "                        })\n",
       "                };\n",
       "                });\n",
       "            </script>\n",
       "        </div>"
      ]
     },
     "metadata": {},
     "output_type": "display_data"
    }
   ],
   "source": [
    "veri_paleti_v4 = veri_paleti.sort_values('AsiOrani')\n",
    "veri_paleti_v4 = veri_paleti_v4[0:10]\n",
    "\n",
    "fig = go.FigureWidget([go.Scatter(x=veri_paleti_v4.index, y=veri_paleti_v4['AsiOrani'], mode='markers')])\n",
    "\n",
    "fig.update_layout(\n",
    "    title='Aşı Orani En düşük 10 İlimiz',\n",
    "    yaxis=dict(\n",
    "        title='2 Doz aşı vurulan kişi oranı (17 Mayıs)',\n",
    "        gridcolor='white',\n",
    "        gridwidth=2,\n",
    "    ) \n",
    ")\n",
    "\n",
    "fig.show()"
   ]
  },
  {
   "cell_type": "markdown",
   "metadata": {},
   "source": [
    "### Yaşlı Nüfusu Başına Düşen Vaka Sayısı hakkında görselleştirme"
   ]
  },
  {
   "cell_type": "code",
   "execution_count": 88,
   "metadata": {},
   "outputs": [
    {
     "data": {
      "application/vnd.plotly.v1+json": {
       "config": {
        "plotlyServerURL": "https://plot.ly"
       },
       "data": [
        {
         "mode": "markers",
         "type": "scatter",
         "uid": "c66ee3ec-ec63-4cc8-8ab1-ba850f268030",
         "x": [
          "Kayseri",
          "Batman",
          "Hakkari",
          "Gümüşhane",
          "İstanbul",
          "Kocaeli",
          "Kars",
          "Bitlis",
          "Erzurum",
          "Ağrı"
         ],
         "y": [
          0.004943402634767694,
          0.0050593740757691325,
          0.005156661213634742,
          0.005325249957534718,
          0.005643661291559089,
          0.0059302038501809025,
          0.006489289491829044,
          0.006629703614175076,
          0.006944946650131575,
          0.00932859750010665
         ]
        }
       ],
       "layout": {
        "template": {
         "data": {
          "bar": [
           {
            "error_x": {
             "color": "#2a3f5f"
            },
            "error_y": {
             "color": "#2a3f5f"
            },
            "marker": {
             "line": {
              "color": "#E5ECF6",
              "width": 0.5
             }
            },
            "type": "bar"
           }
          ],
          "barpolar": [
           {
            "marker": {
             "line": {
              "color": "#E5ECF6",
              "width": 0.5
             }
            },
            "type": "barpolar"
           }
          ],
          "carpet": [
           {
            "aaxis": {
             "endlinecolor": "#2a3f5f",
             "gridcolor": "white",
             "linecolor": "white",
             "minorgridcolor": "white",
             "startlinecolor": "#2a3f5f"
            },
            "baxis": {
             "endlinecolor": "#2a3f5f",
             "gridcolor": "white",
             "linecolor": "white",
             "minorgridcolor": "white",
             "startlinecolor": "#2a3f5f"
            },
            "type": "carpet"
           }
          ],
          "choropleth": [
           {
            "colorbar": {
             "outlinewidth": 0,
             "ticks": ""
            },
            "type": "choropleth"
           }
          ],
          "contour": [
           {
            "colorbar": {
             "outlinewidth": 0,
             "ticks": ""
            },
            "colorscale": [
             [
              0,
              "#0d0887"
             ],
             [
              0.1111111111111111,
              "#46039f"
             ],
             [
              0.2222222222222222,
              "#7201a8"
             ],
             [
              0.3333333333333333,
              "#9c179e"
             ],
             [
              0.4444444444444444,
              "#bd3786"
             ],
             [
              0.5555555555555556,
              "#d8576b"
             ],
             [
              0.6666666666666666,
              "#ed7953"
             ],
             [
              0.7777777777777778,
              "#fb9f3a"
             ],
             [
              0.8888888888888888,
              "#fdca26"
             ],
             [
              1,
              "#f0f921"
             ]
            ],
            "type": "contour"
           }
          ],
          "contourcarpet": [
           {
            "colorbar": {
             "outlinewidth": 0,
             "ticks": ""
            },
            "type": "contourcarpet"
           }
          ],
          "heatmap": [
           {
            "colorbar": {
             "outlinewidth": 0,
             "ticks": ""
            },
            "colorscale": [
             [
              0,
              "#0d0887"
             ],
             [
              0.1111111111111111,
              "#46039f"
             ],
             [
              0.2222222222222222,
              "#7201a8"
             ],
             [
              0.3333333333333333,
              "#9c179e"
             ],
             [
              0.4444444444444444,
              "#bd3786"
             ],
             [
              0.5555555555555556,
              "#d8576b"
             ],
             [
              0.6666666666666666,
              "#ed7953"
             ],
             [
              0.7777777777777778,
              "#fb9f3a"
             ],
             [
              0.8888888888888888,
              "#fdca26"
             ],
             [
              1,
              "#f0f921"
             ]
            ],
            "type": "heatmap"
           }
          ],
          "heatmapgl": [
           {
            "colorbar": {
             "outlinewidth": 0,
             "ticks": ""
            },
            "colorscale": [
             [
              0,
              "#0d0887"
             ],
             [
              0.1111111111111111,
              "#46039f"
             ],
             [
              0.2222222222222222,
              "#7201a8"
             ],
             [
              0.3333333333333333,
              "#9c179e"
             ],
             [
              0.4444444444444444,
              "#bd3786"
             ],
             [
              0.5555555555555556,
              "#d8576b"
             ],
             [
              0.6666666666666666,
              "#ed7953"
             ],
             [
              0.7777777777777778,
              "#fb9f3a"
             ],
             [
              0.8888888888888888,
              "#fdca26"
             ],
             [
              1,
              "#f0f921"
             ]
            ],
            "type": "heatmapgl"
           }
          ],
          "histogram": [
           {
            "marker": {
             "colorbar": {
              "outlinewidth": 0,
              "ticks": ""
             }
            },
            "type": "histogram"
           }
          ],
          "histogram2d": [
           {
            "colorbar": {
             "outlinewidth": 0,
             "ticks": ""
            },
            "colorscale": [
             [
              0,
              "#0d0887"
             ],
             [
              0.1111111111111111,
              "#46039f"
             ],
             [
              0.2222222222222222,
              "#7201a8"
             ],
             [
              0.3333333333333333,
              "#9c179e"
             ],
             [
              0.4444444444444444,
              "#bd3786"
             ],
             [
              0.5555555555555556,
              "#d8576b"
             ],
             [
              0.6666666666666666,
              "#ed7953"
             ],
             [
              0.7777777777777778,
              "#fb9f3a"
             ],
             [
              0.8888888888888888,
              "#fdca26"
             ],
             [
              1,
              "#f0f921"
             ]
            ],
            "type": "histogram2d"
           }
          ],
          "histogram2dcontour": [
           {
            "colorbar": {
             "outlinewidth": 0,
             "ticks": ""
            },
            "colorscale": [
             [
              0,
              "#0d0887"
             ],
             [
              0.1111111111111111,
              "#46039f"
             ],
             [
              0.2222222222222222,
              "#7201a8"
             ],
             [
              0.3333333333333333,
              "#9c179e"
             ],
             [
              0.4444444444444444,
              "#bd3786"
             ],
             [
              0.5555555555555556,
              "#d8576b"
             ],
             [
              0.6666666666666666,
              "#ed7953"
             ],
             [
              0.7777777777777778,
              "#fb9f3a"
             ],
             [
              0.8888888888888888,
              "#fdca26"
             ],
             [
              1,
              "#f0f921"
             ]
            ],
            "type": "histogram2dcontour"
           }
          ],
          "mesh3d": [
           {
            "colorbar": {
             "outlinewidth": 0,
             "ticks": ""
            },
            "type": "mesh3d"
           }
          ],
          "parcoords": [
           {
            "line": {
             "colorbar": {
              "outlinewidth": 0,
              "ticks": ""
             }
            },
            "type": "parcoords"
           }
          ],
          "pie": [
           {
            "automargin": true,
            "type": "pie"
           }
          ],
          "scatter": [
           {
            "marker": {
             "colorbar": {
              "outlinewidth": 0,
              "ticks": ""
             }
            },
            "type": "scatter"
           }
          ],
          "scatter3d": [
           {
            "line": {
             "colorbar": {
              "outlinewidth": 0,
              "ticks": ""
             }
            },
            "marker": {
             "colorbar": {
              "outlinewidth": 0,
              "ticks": ""
             }
            },
            "type": "scatter3d"
           }
          ],
          "scattercarpet": [
           {
            "marker": {
             "colorbar": {
              "outlinewidth": 0,
              "ticks": ""
             }
            },
            "type": "scattercarpet"
           }
          ],
          "scattergeo": [
           {
            "marker": {
             "colorbar": {
              "outlinewidth": 0,
              "ticks": ""
             }
            },
            "type": "scattergeo"
           }
          ],
          "scattergl": [
           {
            "marker": {
             "colorbar": {
              "outlinewidth": 0,
              "ticks": ""
             }
            },
            "type": "scattergl"
           }
          ],
          "scattermapbox": [
           {
            "marker": {
             "colorbar": {
              "outlinewidth": 0,
              "ticks": ""
             }
            },
            "type": "scattermapbox"
           }
          ],
          "scatterpolar": [
           {
            "marker": {
             "colorbar": {
              "outlinewidth": 0,
              "ticks": ""
             }
            },
            "type": "scatterpolar"
           }
          ],
          "scatterpolargl": [
           {
            "marker": {
             "colorbar": {
              "outlinewidth": 0,
              "ticks": ""
             }
            },
            "type": "scatterpolargl"
           }
          ],
          "scatterternary": [
           {
            "marker": {
             "colorbar": {
              "outlinewidth": 0,
              "ticks": ""
             }
            },
            "type": "scatterternary"
           }
          ],
          "surface": [
           {
            "colorbar": {
             "outlinewidth": 0,
             "ticks": ""
            },
            "colorscale": [
             [
              0,
              "#0d0887"
             ],
             [
              0.1111111111111111,
              "#46039f"
             ],
             [
              0.2222222222222222,
              "#7201a8"
             ],
             [
              0.3333333333333333,
              "#9c179e"
             ],
             [
              0.4444444444444444,
              "#bd3786"
             ],
             [
              0.5555555555555556,
              "#d8576b"
             ],
             [
              0.6666666666666666,
              "#ed7953"
             ],
             [
              0.7777777777777778,
              "#fb9f3a"
             ],
             [
              0.8888888888888888,
              "#fdca26"
             ],
             [
              1,
              "#f0f921"
             ]
            ],
            "type": "surface"
           }
          ],
          "table": [
           {
            "cells": {
             "fill": {
              "color": "#EBF0F8"
             },
             "line": {
              "color": "white"
             }
            },
            "header": {
             "fill": {
              "color": "#C8D4E3"
             },
             "line": {
              "color": "white"
             }
            },
            "type": "table"
           }
          ]
         },
         "layout": {
          "annotationdefaults": {
           "arrowcolor": "#2a3f5f",
           "arrowhead": 0,
           "arrowwidth": 1
          },
          "coloraxis": {
           "colorbar": {
            "outlinewidth": 0,
            "ticks": ""
           }
          },
          "colorscale": {
           "diverging": [
            [
             0,
             "#8e0152"
            ],
            [
             0.1,
             "#c51b7d"
            ],
            [
             0.2,
             "#de77ae"
            ],
            [
             0.3,
             "#f1b6da"
            ],
            [
             0.4,
             "#fde0ef"
            ],
            [
             0.5,
             "#f7f7f7"
            ],
            [
             0.6,
             "#e6f5d0"
            ],
            [
             0.7,
             "#b8e186"
            ],
            [
             0.8,
             "#7fbc41"
            ],
            [
             0.9,
             "#4d9221"
            ],
            [
             1,
             "#276419"
            ]
           ],
           "sequential": [
            [
             0,
             "#0d0887"
            ],
            [
             0.1111111111111111,
             "#46039f"
            ],
            [
             0.2222222222222222,
             "#7201a8"
            ],
            [
             0.3333333333333333,
             "#9c179e"
            ],
            [
             0.4444444444444444,
             "#bd3786"
            ],
            [
             0.5555555555555556,
             "#d8576b"
            ],
            [
             0.6666666666666666,
             "#ed7953"
            ],
            [
             0.7777777777777778,
             "#fb9f3a"
            ],
            [
             0.8888888888888888,
             "#fdca26"
            ],
            [
             1,
             "#f0f921"
            ]
           ],
           "sequentialminus": [
            [
             0,
             "#0d0887"
            ],
            [
             0.1111111111111111,
             "#46039f"
            ],
            [
             0.2222222222222222,
             "#7201a8"
            ],
            [
             0.3333333333333333,
             "#9c179e"
            ],
            [
             0.4444444444444444,
             "#bd3786"
            ],
            [
             0.5555555555555556,
             "#d8576b"
            ],
            [
             0.6666666666666666,
             "#ed7953"
            ],
            [
             0.7777777777777778,
             "#fb9f3a"
            ],
            [
             0.8888888888888888,
             "#fdca26"
            ],
            [
             1,
             "#f0f921"
            ]
           ]
          },
          "colorway": [
           "#636efa",
           "#EF553B",
           "#00cc96",
           "#ab63fa",
           "#FFA15A",
           "#19d3f3",
           "#FF6692",
           "#B6E880",
           "#FF97FF",
           "#FECB52"
          ],
          "font": {
           "color": "#2a3f5f"
          },
          "geo": {
           "bgcolor": "white",
           "lakecolor": "white",
           "landcolor": "#E5ECF6",
           "showlakes": true,
           "showland": true,
           "subunitcolor": "white"
          },
          "hoverlabel": {
           "align": "left"
          },
          "hovermode": "closest",
          "mapbox": {
           "style": "light"
          },
          "paper_bgcolor": "white",
          "plot_bgcolor": "#E5ECF6",
          "polar": {
           "angularaxis": {
            "gridcolor": "white",
            "linecolor": "white",
            "ticks": ""
           },
           "bgcolor": "#E5ECF6",
           "radialaxis": {
            "gridcolor": "white",
            "linecolor": "white",
            "ticks": ""
           }
          },
          "scene": {
           "xaxis": {
            "backgroundcolor": "#E5ECF6",
            "gridcolor": "white",
            "gridwidth": 2,
            "linecolor": "white",
            "showbackground": true,
            "ticks": "",
            "zerolinecolor": "white"
           },
           "yaxis": {
            "backgroundcolor": "#E5ECF6",
            "gridcolor": "white",
            "gridwidth": 2,
            "linecolor": "white",
            "showbackground": true,
            "ticks": "",
            "zerolinecolor": "white"
           },
           "zaxis": {
            "backgroundcolor": "#E5ECF6",
            "gridcolor": "white",
            "gridwidth": 2,
            "linecolor": "white",
            "showbackground": true,
            "ticks": "",
            "zerolinecolor": "white"
           }
          },
          "shapedefaults": {
           "line": {
            "color": "#2a3f5f"
           }
          },
          "ternary": {
           "aaxis": {
            "gridcolor": "white",
            "linecolor": "white",
            "ticks": ""
           },
           "baxis": {
            "gridcolor": "white",
            "linecolor": "white",
            "ticks": ""
           },
           "bgcolor": "#E5ECF6",
           "caxis": {
            "gridcolor": "white",
            "linecolor": "white",
            "ticks": ""
           }
          },
          "title": {
           "x": 0.05
          },
          "xaxis": {
           "automargin": true,
           "gridcolor": "white",
           "linecolor": "white",
           "ticks": "",
           "title": {
            "standoff": 15
           },
           "zerolinecolor": "white",
           "zerolinewidth": 2
          },
          "yaxis": {
           "automargin": true,
           "gridcolor": "white",
           "linecolor": "white",
           "ticks": "",
           "title": {
            "standoff": 15
           },
           "zerolinecolor": "white",
           "zerolinewidth": 2
          }
         }
        },
        "title": {
         "text": "Yaşlı Nüfus Başına Düşen Vaka Sayısının En Yüksek Olduğu 10 İlimiz"
        },
        "yaxis": {
         "gridcolor": "white",
         "gridwidth": 2,
         "title": {
          "text": "Yaşlı başına düşen vaka sayısı (8-14 Mayıs)"
         }
        }
       }
      },
      "text/html": [
       "<div>\n",
       "        \n",
       "        \n",
       "            <div id=\"7742e1e7-8991-427d-87f5-3d4ece1d0987\" class=\"plotly-graph-div\" style=\"height:525px; width:100%;\"></div>\n",
       "            <script type=\"text/javascript\">\n",
       "                require([\"plotly\"], function(Plotly) {\n",
       "                    window.PLOTLYENV=window.PLOTLYENV || {};\n",
       "                    \n",
       "                if (document.getElementById(\"7742e1e7-8991-427d-87f5-3d4ece1d0987\")) {\n",
       "                    Plotly.newPlot(\n",
       "                        '7742e1e7-8991-427d-87f5-3d4ece1d0987',\n",
       "                        [{\"mode\": \"markers\", \"type\": \"scatter\", \"uid\": \"c66ee3ec-ec63-4cc8-8ab1-ba850f268030\", \"x\": [\"Kayseri\", \"Batman\", \"Hakkari\", \"G\\u00fcm\\u00fc\\u015fhane\", \"\\u0130stanbul\", \"Kocaeli\", \"Kars\", \"Bitlis\", \"Erzurum\", \"A\\u011fr\\u0131\"], \"y\": [0.004943402634767694, 0.0050593740757691325, 0.005156661213634742, 0.005325249957534718, 0.005643661291559089, 0.0059302038501809025, 0.006489289491829044, 0.006629703614175076, 0.006944946650131575, 0.00932859750010665]}],\n",
       "                        {\"template\": {\"data\": {\"bar\": [{\"error_x\": {\"color\": \"#2a3f5f\"}, \"error_y\": {\"color\": \"#2a3f5f\"}, \"marker\": {\"line\": {\"color\": \"#E5ECF6\", \"width\": 0.5}}, \"type\": \"bar\"}], \"barpolar\": [{\"marker\": {\"line\": {\"color\": \"#E5ECF6\", \"width\": 0.5}}, \"type\": \"barpolar\"}], \"carpet\": [{\"aaxis\": {\"endlinecolor\": \"#2a3f5f\", \"gridcolor\": \"white\", \"linecolor\": \"white\", \"minorgridcolor\": \"white\", \"startlinecolor\": \"#2a3f5f\"}, \"baxis\": {\"endlinecolor\": \"#2a3f5f\", \"gridcolor\": \"white\", \"linecolor\": \"white\", \"minorgridcolor\": \"white\", \"startlinecolor\": \"#2a3f5f\"}, \"type\": \"carpet\"}], \"choropleth\": [{\"colorbar\": {\"outlinewidth\": 0, \"ticks\": \"\"}, \"type\": \"choropleth\"}], \"contour\": [{\"colorbar\": {\"outlinewidth\": 0, \"ticks\": \"\"}, \"colorscale\": [[0.0, \"#0d0887\"], [0.1111111111111111, \"#46039f\"], [0.2222222222222222, \"#7201a8\"], [0.3333333333333333, \"#9c179e\"], [0.4444444444444444, \"#bd3786\"], [0.5555555555555556, \"#d8576b\"], [0.6666666666666666, \"#ed7953\"], [0.7777777777777778, \"#fb9f3a\"], [0.8888888888888888, \"#fdca26\"], [1.0, \"#f0f921\"]], \"type\": \"contour\"}], \"contourcarpet\": [{\"colorbar\": {\"outlinewidth\": 0, \"ticks\": \"\"}, \"type\": \"contourcarpet\"}], \"heatmap\": [{\"colorbar\": {\"outlinewidth\": 0, \"ticks\": \"\"}, \"colorscale\": [[0.0, \"#0d0887\"], [0.1111111111111111, \"#46039f\"], [0.2222222222222222, \"#7201a8\"], [0.3333333333333333, \"#9c179e\"], [0.4444444444444444, \"#bd3786\"], [0.5555555555555556, \"#d8576b\"], [0.6666666666666666, \"#ed7953\"], [0.7777777777777778, \"#fb9f3a\"], [0.8888888888888888, \"#fdca26\"], [1.0, \"#f0f921\"]], \"type\": \"heatmap\"}], \"heatmapgl\": [{\"colorbar\": {\"outlinewidth\": 0, \"ticks\": \"\"}, \"colorscale\": [[0.0, \"#0d0887\"], [0.1111111111111111, \"#46039f\"], [0.2222222222222222, \"#7201a8\"], [0.3333333333333333, \"#9c179e\"], [0.4444444444444444, \"#bd3786\"], [0.5555555555555556, \"#d8576b\"], [0.6666666666666666, \"#ed7953\"], [0.7777777777777778, \"#fb9f3a\"], [0.8888888888888888, \"#fdca26\"], [1.0, \"#f0f921\"]], \"type\": \"heatmapgl\"}], \"histogram\": [{\"marker\": {\"colorbar\": {\"outlinewidth\": 0, \"ticks\": \"\"}}, \"type\": \"histogram\"}], \"histogram2d\": [{\"colorbar\": {\"outlinewidth\": 0, \"ticks\": \"\"}, \"colorscale\": [[0.0, \"#0d0887\"], [0.1111111111111111, \"#46039f\"], [0.2222222222222222, \"#7201a8\"], [0.3333333333333333, \"#9c179e\"], [0.4444444444444444, \"#bd3786\"], [0.5555555555555556, \"#d8576b\"], [0.6666666666666666, \"#ed7953\"], [0.7777777777777778, \"#fb9f3a\"], [0.8888888888888888, \"#fdca26\"], [1.0, \"#f0f921\"]], \"type\": \"histogram2d\"}], \"histogram2dcontour\": [{\"colorbar\": {\"outlinewidth\": 0, \"ticks\": \"\"}, \"colorscale\": [[0.0, \"#0d0887\"], [0.1111111111111111, \"#46039f\"], [0.2222222222222222, \"#7201a8\"], [0.3333333333333333, \"#9c179e\"], [0.4444444444444444, \"#bd3786\"], [0.5555555555555556, \"#d8576b\"], [0.6666666666666666, \"#ed7953\"], [0.7777777777777778, \"#fb9f3a\"], [0.8888888888888888, \"#fdca26\"], [1.0, \"#f0f921\"]], \"type\": \"histogram2dcontour\"}], \"mesh3d\": [{\"colorbar\": {\"outlinewidth\": 0, \"ticks\": \"\"}, \"type\": \"mesh3d\"}], \"parcoords\": [{\"line\": {\"colorbar\": {\"outlinewidth\": 0, \"ticks\": \"\"}}, \"type\": \"parcoords\"}], \"pie\": [{\"automargin\": true, \"type\": \"pie\"}], \"scatter\": [{\"marker\": {\"colorbar\": {\"outlinewidth\": 0, \"ticks\": \"\"}}, \"type\": \"scatter\"}], \"scatter3d\": [{\"line\": {\"colorbar\": {\"outlinewidth\": 0, \"ticks\": \"\"}}, \"marker\": {\"colorbar\": {\"outlinewidth\": 0, \"ticks\": \"\"}}, \"type\": \"scatter3d\"}], \"scattercarpet\": [{\"marker\": {\"colorbar\": {\"outlinewidth\": 0, \"ticks\": \"\"}}, \"type\": \"scattercarpet\"}], \"scattergeo\": [{\"marker\": {\"colorbar\": {\"outlinewidth\": 0, \"ticks\": \"\"}}, \"type\": \"scattergeo\"}], \"scattergl\": [{\"marker\": {\"colorbar\": {\"outlinewidth\": 0, \"ticks\": \"\"}}, \"type\": \"scattergl\"}], \"scattermapbox\": [{\"marker\": {\"colorbar\": {\"outlinewidth\": 0, \"ticks\": \"\"}}, \"type\": \"scattermapbox\"}], \"scatterpolar\": [{\"marker\": {\"colorbar\": {\"outlinewidth\": 0, \"ticks\": \"\"}}, \"type\": \"scatterpolar\"}], \"scatterpolargl\": [{\"marker\": {\"colorbar\": {\"outlinewidth\": 0, \"ticks\": \"\"}}, \"type\": \"scatterpolargl\"}], \"scatterternary\": [{\"marker\": {\"colorbar\": {\"outlinewidth\": 0, \"ticks\": \"\"}}, \"type\": \"scatterternary\"}], \"surface\": [{\"colorbar\": {\"outlinewidth\": 0, \"ticks\": \"\"}, \"colorscale\": [[0.0, \"#0d0887\"], [0.1111111111111111, \"#46039f\"], [0.2222222222222222, \"#7201a8\"], [0.3333333333333333, \"#9c179e\"], [0.4444444444444444, \"#bd3786\"], [0.5555555555555556, \"#d8576b\"], [0.6666666666666666, \"#ed7953\"], [0.7777777777777778, \"#fb9f3a\"], [0.8888888888888888, \"#fdca26\"], [1.0, \"#f0f921\"]], \"type\": \"surface\"}], \"table\": [{\"cells\": {\"fill\": {\"color\": \"#EBF0F8\"}, \"line\": {\"color\": \"white\"}}, \"header\": {\"fill\": {\"color\": \"#C8D4E3\"}, \"line\": {\"color\": \"white\"}}, \"type\": \"table\"}]}, \"layout\": {\"annotationdefaults\": {\"arrowcolor\": \"#2a3f5f\", \"arrowhead\": 0, \"arrowwidth\": 1}, \"coloraxis\": {\"colorbar\": {\"outlinewidth\": 0, \"ticks\": \"\"}}, \"colorscale\": {\"diverging\": [[0, \"#8e0152\"], [0.1, \"#c51b7d\"], [0.2, \"#de77ae\"], [0.3, \"#f1b6da\"], [0.4, \"#fde0ef\"], [0.5, \"#f7f7f7\"], [0.6, \"#e6f5d0\"], [0.7, \"#b8e186\"], [0.8, \"#7fbc41\"], [0.9, \"#4d9221\"], [1, \"#276419\"]], \"sequential\": [[0.0, \"#0d0887\"], [0.1111111111111111, \"#46039f\"], [0.2222222222222222, \"#7201a8\"], [0.3333333333333333, \"#9c179e\"], [0.4444444444444444, \"#bd3786\"], [0.5555555555555556, \"#d8576b\"], [0.6666666666666666, \"#ed7953\"], [0.7777777777777778, \"#fb9f3a\"], [0.8888888888888888, \"#fdca26\"], [1.0, \"#f0f921\"]], \"sequentialminus\": [[0.0, \"#0d0887\"], [0.1111111111111111, \"#46039f\"], [0.2222222222222222, \"#7201a8\"], [0.3333333333333333, \"#9c179e\"], [0.4444444444444444, \"#bd3786\"], [0.5555555555555556, \"#d8576b\"], [0.6666666666666666, \"#ed7953\"], [0.7777777777777778, \"#fb9f3a\"], [0.8888888888888888, \"#fdca26\"], [1.0, \"#f0f921\"]]}, \"colorway\": [\"#636efa\", \"#EF553B\", \"#00cc96\", \"#ab63fa\", \"#FFA15A\", \"#19d3f3\", \"#FF6692\", \"#B6E880\", \"#FF97FF\", \"#FECB52\"], \"font\": {\"color\": \"#2a3f5f\"}, \"geo\": {\"bgcolor\": \"white\", \"lakecolor\": \"white\", \"landcolor\": \"#E5ECF6\", \"showlakes\": true, \"showland\": true, \"subunitcolor\": \"white\"}, \"hoverlabel\": {\"align\": \"left\"}, \"hovermode\": \"closest\", \"mapbox\": {\"style\": \"light\"}, \"paper_bgcolor\": \"white\", \"plot_bgcolor\": \"#E5ECF6\", \"polar\": {\"angularaxis\": {\"gridcolor\": \"white\", \"linecolor\": \"white\", \"ticks\": \"\"}, \"bgcolor\": \"#E5ECF6\", \"radialaxis\": {\"gridcolor\": \"white\", \"linecolor\": \"white\", \"ticks\": \"\"}}, \"scene\": {\"xaxis\": {\"backgroundcolor\": \"#E5ECF6\", \"gridcolor\": \"white\", \"gridwidth\": 2, \"linecolor\": \"white\", \"showbackground\": true, \"ticks\": \"\", \"zerolinecolor\": \"white\"}, \"yaxis\": {\"backgroundcolor\": \"#E5ECF6\", \"gridcolor\": \"white\", \"gridwidth\": 2, \"linecolor\": \"white\", \"showbackground\": true, \"ticks\": \"\", \"zerolinecolor\": \"white\"}, \"zaxis\": {\"backgroundcolor\": \"#E5ECF6\", \"gridcolor\": \"white\", \"gridwidth\": 2, \"linecolor\": \"white\", \"showbackground\": true, \"ticks\": \"\", \"zerolinecolor\": \"white\"}}, \"shapedefaults\": {\"line\": {\"color\": \"#2a3f5f\"}}, \"ternary\": {\"aaxis\": {\"gridcolor\": \"white\", \"linecolor\": \"white\", \"ticks\": \"\"}, \"baxis\": {\"gridcolor\": \"white\", \"linecolor\": \"white\", \"ticks\": \"\"}, \"bgcolor\": \"#E5ECF6\", \"caxis\": {\"gridcolor\": \"white\", \"linecolor\": \"white\", \"ticks\": \"\"}}, \"title\": {\"x\": 0.05}, \"xaxis\": {\"automargin\": true, \"gridcolor\": \"white\", \"linecolor\": \"white\", \"ticks\": \"\", \"title\": {\"standoff\": 15}, \"zerolinecolor\": \"white\", \"zerolinewidth\": 2}, \"yaxis\": {\"automargin\": true, \"gridcolor\": \"white\", \"linecolor\": \"white\", \"ticks\": \"\", \"title\": {\"standoff\": 15}, \"zerolinecolor\": \"white\", \"zerolinewidth\": 2}}}, \"title\": {\"text\": \"Ya\\u015fl\\u0131 N\\u00fcfus Ba\\u015f\\u0131na D\\u00fc\\u015fen Vaka Say\\u0131s\\u0131n\\u0131n En Y\\u00fcksek Oldu\\u011fu 10 \\u0130limiz\"}, \"yaxis\": {\"gridcolor\": \"white\", \"gridwidth\": 2, \"title\": {\"text\": \"Ya\\u015fl\\u0131 ba\\u015f\\u0131na d\\u00fc\\u015fen vaka say\\u0131s\\u0131 (8-14 May\\u0131s)\"}}},\n",
       "                        {\"responsive\": true}\n",
       "                    ).then(function(){\n",
       "                            \n",
       "var gd = document.getElementById('7742e1e7-8991-427d-87f5-3d4ece1d0987');\n",
       "var x = new MutationObserver(function (mutations, observer) {{\n",
       "        var display = window.getComputedStyle(gd).display;\n",
       "        if (!display || display === 'none') {{\n",
       "            console.log([gd, 'removed!']);\n",
       "            Plotly.purge(gd);\n",
       "            observer.disconnect();\n",
       "        }}\n",
       "}});\n",
       "\n",
       "// Listen for the removal of the full notebook cells\n",
       "var notebookContainer = gd.closest('#notebook-container');\n",
       "if (notebookContainer) {{\n",
       "    x.observe(notebookContainer, {childList: true});\n",
       "}}\n",
       "\n",
       "// Listen for the clearing of the current output cell\n",
       "var outputEl = gd.closest('.output');\n",
       "if (outputEl) {{\n",
       "    x.observe(outputEl, {childList: true});\n",
       "}}\n",
       "\n",
       "                        })\n",
       "                };\n",
       "                });\n",
       "            </script>\n",
       "        </div>"
      ]
     },
     "metadata": {},
     "output_type": "display_data"
    }
   ],
   "source": [
    "import plotly.graph_objects as go\n",
    "\n",
    "veri_paleti_v3 = veri_paleti.sort_values('YasliBasinaDusenVakaSayisi')\n",
    "veri_paleti_v3 = veri_paleti_v3[71:81]\n",
    "\n",
    "fig = go.FigureWidget([go.Scatter(x=veri_paleti_v3.index, y=veri_paleti_v3['YasliBasinaDusenVakaSayisi'], mode='markers')])\n",
    "\n",
    "fig.update_layout(\n",
    "    title='Yaşlı Nüfus Başına Düşen Vaka Sayısının En Yüksek Olduğu 10 İlimiz',\n",
    "    yaxis=dict(\n",
    "        title='Yaşlı başına düşen vaka sayısı (8-14 Mayıs)',\n",
    "        gridcolor='white',\n",
    "        gridwidth=2,\n",
    "    ) \n",
    ")\n",
    "\n",
    "fig.show()"
   ]
  },
  {
   "cell_type": "markdown",
   "metadata": {},
   "source": [
    "### Ortak Görselleştirme"
   ]
  },
  {
   "cell_type": "code",
   "execution_count": 72,
   "metadata": {},
   "outputs": [
    {
     "data": {
      "text/html": [
       "<div>\n",
       "<style scoped>\n",
       "    .dataframe tbody tr th:only-of-type {\n",
       "        vertical-align: middle;\n",
       "    }\n",
       "\n",
       "    .dataframe tbody tr th {\n",
       "        vertical-align: top;\n",
       "    }\n",
       "\n",
       "    .dataframe thead th {\n",
       "        text-align: right;\n",
       "    }\n",
       "</style>\n",
       "<table border=\"1\" class=\"dataframe\">\n",
       "  <thead>\n",
       "    <tr style=\"text-align: right;\">\n",
       "      <th></th>\n",
       "      <th>AsiDoz2_x</th>\n",
       "      <th>ToplamNufus_x</th>\n",
       "      <th>YasliNufus_x</th>\n",
       "      <th>YasliNufusOrani_x</th>\n",
       "      <th>AsiOrani_x</th>\n",
       "      <th>VakaSayisi_x</th>\n",
       "      <th>ToplamVakaSayisi_x</th>\n",
       "      <th>YasliBasinaDusenVakaSayisi_x</th>\n",
       "    </tr>\n",
       "    <tr>\n",
       "      <th>İl</th>\n",
       "      <th></th>\n",
       "      <th></th>\n",
       "      <th></th>\n",
       "      <th></th>\n",
       "      <th></th>\n",
       "      <th></th>\n",
       "      <th></th>\n",
       "      <th></th>\n",
       "    </tr>\n",
       "  </thead>\n",
       "  <tbody>\n",
       "    <tr>\n",
       "      <th>Şırnak</th>\n",
       "      <td>16939.0</td>\n",
       "      <td>537762.0</td>\n",
       "      <td>50635.0</td>\n",
       "      <td>0.094159</td>\n",
       "      <td>0.031499</td>\n",
       "      <td>35.15</td>\n",
       "      <td>189.023343</td>\n",
       "      <td>0.003733</td>\n",
       "    </tr>\n",
       "    <tr>\n",
       "      <th>Hakkari</th>\n",
       "      <td>9189.0</td>\n",
       "      <td>280514.0</td>\n",
       "      <td>30833.0</td>\n",
       "      <td>0.109916</td>\n",
       "      <td>0.032758</td>\n",
       "      <td>56.68</td>\n",
       "      <td>158.995335</td>\n",
       "      <td>0.005157</td>\n",
       "    </tr>\n",
       "    <tr>\n",
       "      <th>Şanlıurfa</th>\n",
       "      <td>84697.0</td>\n",
       "      <td>2115256.0</td>\n",
       "      <td>248723.0</td>\n",
       "      <td>0.117585</td>\n",
       "      <td>0.040041</td>\n",
       "      <td>50.68</td>\n",
       "      <td>1072.011741</td>\n",
       "      <td>0.004310</td>\n",
       "    </tr>\n",
       "    <tr>\n",
       "      <th>Mardin</th>\n",
       "      <td>41065.0</td>\n",
       "      <td>854716.0</td>\n",
       "      <td>119652.0</td>\n",
       "      <td>0.139990</td>\n",
       "      <td>0.048045</td>\n",
       "      <td>49.84</td>\n",
       "      <td>425.990454</td>\n",
       "      <td>0.003560</td>\n",
       "    </tr>\n",
       "    <tr>\n",
       "      <th>Ağrı</th>\n",
       "      <td>26977.0</td>\n",
       "      <td>535435.0</td>\n",
       "      <td>70323.0</td>\n",
       "      <td>0.131338</td>\n",
       "      <td>0.050383</td>\n",
       "      <td>122.52</td>\n",
       "      <td>656.014962</td>\n",
       "      <td>0.009329</td>\n",
       "    </tr>\n",
       "    <tr>\n",
       "      <th>Bitlis</th>\n",
       "      <td>17706.0</td>\n",
       "      <td>350994.0</td>\n",
       "      <td>51132.0</td>\n",
       "      <td>0.145678</td>\n",
       "      <td>0.050445</td>\n",
       "      <td>96.58</td>\n",
       "      <td>338.990005</td>\n",
       "      <td>0.006630</td>\n",
       "    </tr>\n",
       "    <tr>\n",
       "      <th>Van</th>\n",
       "      <td>63917.0</td>\n",
       "      <td>1149342.0</td>\n",
       "      <td>143719.0</td>\n",
       "      <td>0.125045</td>\n",
       "      <td>0.055612</td>\n",
       "      <td>50.72</td>\n",
       "      <td>582.946262</td>\n",
       "      <td>0.004056</td>\n",
       "    </tr>\n",
       "    <tr>\n",
       "      <th>Diyarbakır</th>\n",
       "      <td>104893.0</td>\n",
       "      <td>1783431.0</td>\n",
       "      <td>248142.0</td>\n",
       "      <td>0.139137</td>\n",
       "      <td>0.058815</td>\n",
       "      <td>62.74</td>\n",
       "      <td>1118.924609</td>\n",
       "      <td>0.004509</td>\n",
       "    </tr>\n",
       "    <tr>\n",
       "      <th>Batman</th>\n",
       "      <td>36637.0</td>\n",
       "      <td>620278.0</td>\n",
       "      <td>78660.0</td>\n",
       "      <td>0.126814</td>\n",
       "      <td>0.059065</td>\n",
       "      <td>64.16</td>\n",
       "      <td>397.970365</td>\n",
       "      <td>0.005059</td>\n",
       "    </tr>\n",
       "    <tr>\n",
       "      <th>Gaziantep</th>\n",
       "      <td>161558.0</td>\n",
       "      <td>2101157.0</td>\n",
       "      <td>338023.0</td>\n",
       "      <td>0.160875</td>\n",
       "      <td>0.076890</td>\n",
       "      <td>67.06</td>\n",
       "      <td>1409.035884</td>\n",
       "      <td>0.004168</td>\n",
       "    </tr>\n",
       "    <tr>\n",
       "      <th>Bingöl</th>\n",
       "      <td>23930.0</td>\n",
       "      <td>281768.0</td>\n",
       "      <td>52251.0</td>\n",
       "      <td>0.185440</td>\n",
       "      <td>0.084928</td>\n",
       "      <td>65.66</td>\n",
       "      <td>185.008869</td>\n",
       "      <td>0.003541</td>\n",
       "    </tr>\n",
       "    <tr>\n",
       "      <th>Kars</th>\n",
       "      <td>30078.0</td>\n",
       "      <td>284923.0</td>\n",
       "      <td>59173.0</td>\n",
       "      <td>0.207681</td>\n",
       "      <td>0.105565</td>\n",
       "      <td>134.77</td>\n",
       "      <td>383.990727</td>\n",
       "      <td>0.006489</td>\n",
       "    </tr>\n",
       "    <tr>\n",
       "      <th>Erzurum</th>\n",
       "      <td>86509.0</td>\n",
       "      <td>758279.0</td>\n",
       "      <td>165305.0</td>\n",
       "      <td>0.218000</td>\n",
       "      <td>0.114086</td>\n",
       "      <td>151.40</td>\n",
       "      <td>1148.034406</td>\n",
       "      <td>0.006945</td>\n",
       "    </tr>\n",
       "    <tr>\n",
       "      <th>İstanbul</th>\n",
       "      <td>1885549.0</td>\n",
       "      <td>15462452.0</td>\n",
       "      <td>3394053.0</td>\n",
       "      <td>0.219503</td>\n",
       "      <td>0.121944</td>\n",
       "      <td>123.88</td>\n",
       "      <td>19154.885538</td>\n",
       "      <td>0.005644</td>\n",
       "    </tr>\n",
       "    <tr>\n",
       "      <th>Kocaeli</th>\n",
       "      <td>257712.0</td>\n",
       "      <td>1997258.0</td>\n",
       "      <td>440291.0</td>\n",
       "      <td>0.220448</td>\n",
       "      <td>0.129033</td>\n",
       "      <td>130.73</td>\n",
       "      <td>2611.015383</td>\n",
       "      <td>0.005930</td>\n",
       "    </tr>\n",
       "    <tr>\n",
       "      <th>Niğde</th>\n",
       "      <td>48599.0</td>\n",
       "      <td>362071.0</td>\n",
       "      <td>93241.0</td>\n",
       "      <td>0.257521</td>\n",
       "      <td>0.134225</td>\n",
       "      <td>106.61</td>\n",
       "      <td>386.003893</td>\n",
       "      <td>0.004140</td>\n",
       "    </tr>\n",
       "    <tr>\n",
       "      <th>Gümüşhane</th>\n",
       "      <td>19401.0</td>\n",
       "      <td>141702.0</td>\n",
       "      <td>43565.0</td>\n",
       "      <td>0.307441</td>\n",
       "      <td>0.136914</td>\n",
       "      <td>163.72</td>\n",
       "      <td>231.994514</td>\n",
       "      <td>0.005325</td>\n",
       "    </tr>\n",
       "    <tr>\n",
       "      <th>Konya</th>\n",
       "      <td>311843.0</td>\n",
       "      <td>2250020.0</td>\n",
       "      <td>560838.0</td>\n",
       "      <td>0.249259</td>\n",
       "      <td>0.138596</td>\n",
       "      <td>94.31</td>\n",
       "      <td>2121.993862</td>\n",
       "      <td>0.003784</td>\n",
       "    </tr>\n",
       "  </tbody>\n",
       "</table>\n",
       "</div>"
      ],
      "text/plain": [
       "            AsiDoz2_x  ToplamNufus_x  YasliNufus_x  YasliNufusOrani_x  \\\n",
       "İl                                                                      \n",
       "Şırnak        16939.0       537762.0       50635.0           0.094159   \n",
       "Hakkari        9189.0       280514.0       30833.0           0.109916   \n",
       "Şanlıurfa     84697.0      2115256.0      248723.0           0.117585   \n",
       "Mardin        41065.0       854716.0      119652.0           0.139990   \n",
       "Ağrı          26977.0       535435.0       70323.0           0.131338   \n",
       "Bitlis        17706.0       350994.0       51132.0           0.145678   \n",
       "Van           63917.0      1149342.0      143719.0           0.125045   \n",
       "Diyarbakır   104893.0      1783431.0      248142.0           0.139137   \n",
       "Batman        36637.0       620278.0       78660.0           0.126814   \n",
       "Gaziantep    161558.0      2101157.0      338023.0           0.160875   \n",
       "Bingöl        23930.0       281768.0       52251.0           0.185440   \n",
       "Kars          30078.0       284923.0       59173.0           0.207681   \n",
       "Erzurum       86509.0       758279.0      165305.0           0.218000   \n",
       "İstanbul    1885549.0     15462452.0     3394053.0           0.219503   \n",
       "Kocaeli      257712.0      1997258.0      440291.0           0.220448   \n",
       "Niğde         48599.0       362071.0       93241.0           0.257521   \n",
       "Gümüşhane     19401.0       141702.0       43565.0           0.307441   \n",
       "Konya        311843.0      2250020.0      560838.0           0.249259   \n",
       "\n",
       "            AsiOrani_x  VakaSayisi_x  ToplamVakaSayisi_x  \\\n",
       "İl                                                         \n",
       "Şırnak        0.031499         35.15          189.023343   \n",
       "Hakkari       0.032758         56.68          158.995335   \n",
       "Şanlıurfa     0.040041         50.68         1072.011741   \n",
       "Mardin        0.048045         49.84          425.990454   \n",
       "Ağrı          0.050383        122.52          656.014962   \n",
       "Bitlis        0.050445         96.58          338.990005   \n",
       "Van           0.055612         50.72          582.946262   \n",
       "Diyarbakır    0.058815         62.74         1118.924609   \n",
       "Batman        0.059065         64.16          397.970365   \n",
       "Gaziantep     0.076890         67.06         1409.035884   \n",
       "Bingöl        0.084928         65.66          185.008869   \n",
       "Kars          0.105565        134.77          383.990727   \n",
       "Erzurum       0.114086        151.40         1148.034406   \n",
       "İstanbul      0.121944        123.88        19154.885538   \n",
       "Kocaeli       0.129033        130.73         2611.015383   \n",
       "Niğde         0.134225        106.61          386.003893   \n",
       "Gümüşhane     0.136914        163.72          231.994514   \n",
       "Konya         0.138596         94.31         2121.993862   \n",
       "\n",
       "            YasliBasinaDusenVakaSayisi_x  \n",
       "İl                                        \n",
       "Şırnak                          0.003733  \n",
       "Hakkari                         0.005157  \n",
       "Şanlıurfa                       0.004310  \n",
       "Mardin                          0.003560  \n",
       "Ağrı                            0.009329  \n",
       "Bitlis                          0.006630  \n",
       "Van                             0.004056  \n",
       "Diyarbakır                      0.004509  \n",
       "Batman                          0.005059  \n",
       "Gaziantep                       0.004168  \n",
       "Bingöl                          0.003541  \n",
       "Kars                            0.006489  \n",
       "Erzurum                         0.006945  \n",
       "İstanbul                        0.005644  \n",
       "Kocaeli                         0.005930  \n",
       "Niğde                           0.004140  \n",
       "Gümüşhane                       0.005325  \n",
       "Konya                           0.003784  "
      ]
     },
     "execution_count": 72,
     "metadata": {},
     "output_type": "execute_result"
    }
   ],
   "source": [
    "veri_paleti_v3 = veri_paleti.sort_values('YasliBasinaDusenVakaSayisi')[51:81]\n",
    "veri_paleti_v4 = veri_paleti.sort_values('AsiOrani')[0:30]\n",
    "\n",
    "veri_paleti_v5 = veri_paleti_v4.merge(veri_paleti_v3, how='inner', left_index=True, right_index=True).T.iloc[0:8].T\n",
    "veri_paleti_v5"
   ]
  },
  {
   "cell_type": "code",
   "execution_count": 77,
   "metadata": {},
   "outputs": [
    {
     "data": {
      "application/vnd.plotly.v1+json": {
       "config": {
        "plotlyServerURL": "https://plot.ly"
       },
       "data": [
        {
         "marker": {
          "color": "rgba(50, 171, 96, 0.6)",
          "line": {
           "color": "rgba(50, 171, 96, 1.0)",
           "width": 1
          }
         },
         "name": "2 Doz aşı vurulan kişi oranı -Toplam- (23 Mayıs)",
         "orientation": "h",
         "type": "bar",
         "x": [
          0.031499064641979165,
          0.03275772332218713,
          0.040041016311973585,
          0.04804519863908011,
          0.05038333317769664,
          0.050445306757380466,
          0.055611819632450564,
          0.0588152835741893,
          0.05906545129764396,
          0.0768900182137746,
          0.084928025893643,
          0.10556536327358619,
          0.11408597626994814,
          0.12194372535481436,
          0.12903290411153692,
          0.1342250553068321,
          0.13691408730998858,
          0.13859565692749398
         ],
         "xaxis": "x",
         "y": [
          "Şırnak",
          "Hakkari",
          "Şanlıurfa",
          "Mardin",
          "Ağrı",
          "Bitlis",
          "Van",
          "Diyarbakır",
          "Batman",
          "Gaziantep",
          "Bingöl",
          "Kars",
          "Erzurum",
          "İstanbul",
          "Kocaeli",
          "Niğde",
          "Gümüşhane",
          "Konya"
         ],
         "yaxis": "y"
        },
        {
         "line": {
          "color": "rgb(128, 0, 128)"
         },
         "mode": "lines+markers",
         "name": "Yaşlı(50 ve üstü yaş) vatandaşımız başına düşen vaka sayısı (15-21 Mayıs)",
         "type": "scatter",
         "x": [
          0.00373305703564728,
          0.005156661213634742,
          0.004310062763797478,
          0.0035602451643098323,
          0.00932859750010665,
          0.006629703614175076,
          0.004056153065356703,
          0.004509210892956452,
          0.0050593740757691325,
          0.004168461566816459,
          0.003540771828290368,
          0.006489289491829044,
          0.006944946650131575,
          0.005643661291559089,
          0.0059302038501809025,
          0.004139851493441726,
          0.005325249957534718,
          0.0037836128472036484
         ],
         "xaxis": "x2",
         "y": [
          "Şırnak",
          "Hakkari",
          "Şanlıurfa",
          "Mardin",
          "Ağrı",
          "Bitlis",
          "Van",
          "Diyarbakır",
          "Batman",
          "Gaziantep",
          "Bingöl",
          "Kars",
          "Erzurum",
          "İstanbul",
          "Kocaeli",
          "Niğde",
          "Gümüşhane",
          "Konya"
         ],
         "yaxis": "y2"
        }
       ],
       "layout": {
        "annotations": [
         {
          "font": {
           "color": "rgb(128, 0, 128)",
           "family": "Arial",
           "size": 12
          },
          "showarrow": false,
          "text": "0.004",
          "x": 0.004,
          "xref": "x2",
          "y": "Şırnak",
          "yref": "y2"
         },
         {
          "font": {
           "color": "rgb(50, 171, 96)",
           "family": "Arial",
           "size": 12
          },
          "showarrow": false,
          "text": "0.03%",
          "x": 0.03,
          "xref": "x",
          "y": "Şırnak",
          "yref": "y"
         },
         {
          "font": {
           "color": "rgb(128, 0, 128)",
           "family": "Arial",
           "size": 12
          },
          "showarrow": false,
          "text": "0.005",
          "x": 0.005,
          "xref": "x2",
          "y": "Hakkari",
          "yref": "y2"
         },
         {
          "font": {
           "color": "rgb(50, 171, 96)",
           "family": "Arial",
           "size": 12
          },
          "showarrow": false,
          "text": "0.03%",
          "x": 0.03,
          "xref": "x",
          "y": "Hakkari",
          "yref": "y"
         },
         {
          "font": {
           "color": "rgb(128, 0, 128)",
           "family": "Arial",
           "size": 12
          },
          "showarrow": false,
          "text": "0.004",
          "x": 0.004,
          "xref": "x2",
          "y": "Şanlıurfa",
          "yref": "y2"
         },
         {
          "font": {
           "color": "rgb(50, 171, 96)",
           "family": "Arial",
           "size": 12
          },
          "showarrow": false,
          "text": "0.04%",
          "x": 0.04,
          "xref": "x",
          "y": "Şanlıurfa",
          "yref": "y"
         },
         {
          "font": {
           "color": "rgb(128, 0, 128)",
           "family": "Arial",
           "size": 12
          },
          "showarrow": false,
          "text": "0.004",
          "x": 0.004,
          "xref": "x2",
          "y": "Mardin",
          "yref": "y2"
         },
         {
          "font": {
           "color": "rgb(50, 171, 96)",
           "family": "Arial",
           "size": 12
          },
          "showarrow": false,
          "text": "0.05%",
          "x": 0.05,
          "xref": "x",
          "y": "Mardin",
          "yref": "y"
         },
         {
          "font": {
           "color": "rgb(128, 0, 128)",
           "family": "Arial",
           "size": 12
          },
          "showarrow": false,
          "text": "0.009",
          "x": 0.009,
          "xref": "x2",
          "y": "Ağrı",
          "yref": "y2"
         },
         {
          "font": {
           "color": "rgb(50, 171, 96)",
           "family": "Arial",
           "size": 12
          },
          "showarrow": false,
          "text": "0.05%",
          "x": 0.05,
          "xref": "x",
          "y": "Ağrı",
          "yref": "y"
         },
         {
          "font": {
           "color": "rgb(128, 0, 128)",
           "family": "Arial",
           "size": 12
          },
          "showarrow": false,
          "text": "0.007",
          "x": 0.007,
          "xref": "x2",
          "y": "Bitlis",
          "yref": "y2"
         },
         {
          "font": {
           "color": "rgb(50, 171, 96)",
           "family": "Arial",
           "size": 12
          },
          "showarrow": false,
          "text": "0.05%",
          "x": 0.05,
          "xref": "x",
          "y": "Bitlis",
          "yref": "y"
         },
         {
          "font": {
           "color": "rgb(128, 0, 128)",
           "family": "Arial",
           "size": 12
          },
          "showarrow": false,
          "text": "0.004",
          "x": 0.004,
          "xref": "x2",
          "y": "Van",
          "yref": "y2"
         },
         {
          "font": {
           "color": "rgb(50, 171, 96)",
           "family": "Arial",
           "size": 12
          },
          "showarrow": false,
          "text": "0.06%",
          "x": 0.06,
          "xref": "x",
          "y": "Van",
          "yref": "y"
         },
         {
          "font": {
           "color": "rgb(128, 0, 128)",
           "family": "Arial",
           "size": 12
          },
          "showarrow": false,
          "text": "0.005",
          "x": 0.005,
          "xref": "x2",
          "y": "Diyarbakır",
          "yref": "y2"
         },
         {
          "font": {
           "color": "rgb(50, 171, 96)",
           "family": "Arial",
           "size": 12
          },
          "showarrow": false,
          "text": "0.06%",
          "x": 0.06,
          "xref": "x",
          "y": "Diyarbakır",
          "yref": "y"
         },
         {
          "font": {
           "color": "rgb(128, 0, 128)",
           "family": "Arial",
           "size": 12
          },
          "showarrow": false,
          "text": "0.005",
          "x": 0.005,
          "xref": "x2",
          "y": "Batman",
          "yref": "y2"
         },
         {
          "font": {
           "color": "rgb(50, 171, 96)",
           "family": "Arial",
           "size": 12
          },
          "showarrow": false,
          "text": "0.06%",
          "x": 0.06,
          "xref": "x",
          "y": "Batman",
          "yref": "y"
         },
         {
          "font": {
           "color": "rgb(128, 0, 128)",
           "family": "Arial",
           "size": 12
          },
          "showarrow": false,
          "text": "0.004",
          "x": 0.004,
          "xref": "x2",
          "y": "Gaziantep",
          "yref": "y2"
         },
         {
          "font": {
           "color": "rgb(50, 171, 96)",
           "family": "Arial",
           "size": 12
          },
          "showarrow": false,
          "text": "0.08%",
          "x": 0.08,
          "xref": "x",
          "y": "Gaziantep",
          "yref": "y"
         },
         {
          "font": {
           "color": "rgb(128, 0, 128)",
           "family": "Arial",
           "size": 12
          },
          "showarrow": false,
          "text": "0.004",
          "x": 0.004,
          "xref": "x2",
          "y": "Bingöl",
          "yref": "y2"
         },
         {
          "font": {
           "color": "rgb(50, 171, 96)",
           "family": "Arial",
           "size": 12
          },
          "showarrow": false,
          "text": "0.08%",
          "x": 0.08,
          "xref": "x",
          "y": "Bingöl",
          "yref": "y"
         },
         {
          "font": {
           "color": "rgb(128, 0, 128)",
           "family": "Arial",
           "size": 12
          },
          "showarrow": false,
          "text": "0.006",
          "x": 0.006,
          "xref": "x2",
          "y": "Kars",
          "yref": "y2"
         },
         {
          "font": {
           "color": "rgb(50, 171, 96)",
           "family": "Arial",
           "size": 12
          },
          "showarrow": false,
          "text": "0.11%",
          "x": 0.11,
          "xref": "x",
          "y": "Kars",
          "yref": "y"
         },
         {
          "font": {
           "color": "rgb(128, 0, 128)",
           "family": "Arial",
           "size": 12
          },
          "showarrow": false,
          "text": "0.007",
          "x": 0.007,
          "xref": "x2",
          "y": "Erzurum",
          "yref": "y2"
         },
         {
          "font": {
           "color": "rgb(50, 171, 96)",
           "family": "Arial",
           "size": 12
          },
          "showarrow": false,
          "text": "0.11%",
          "x": 0.11,
          "xref": "x",
          "y": "Erzurum",
          "yref": "y"
         },
         {
          "font": {
           "color": "rgb(128, 0, 128)",
           "family": "Arial",
           "size": 12
          },
          "showarrow": false,
          "text": "0.006",
          "x": 0.006,
          "xref": "x2",
          "y": "İstanbul",
          "yref": "y2"
         },
         {
          "font": {
           "color": "rgb(50, 171, 96)",
           "family": "Arial",
           "size": 12
          },
          "showarrow": false,
          "text": "0.12%",
          "x": 0.12,
          "xref": "x",
          "y": "İstanbul",
          "yref": "y"
         },
         {
          "font": {
           "color": "rgb(128, 0, 128)",
           "family": "Arial",
           "size": 12
          },
          "showarrow": false,
          "text": "0.006",
          "x": 0.006,
          "xref": "x2",
          "y": "Kocaeli",
          "yref": "y2"
         },
         {
          "font": {
           "color": "rgb(50, 171, 96)",
           "family": "Arial",
           "size": 12
          },
          "showarrow": false,
          "text": "0.13%",
          "x": 0.13,
          "xref": "x",
          "y": "Kocaeli",
          "yref": "y"
         },
         {
          "font": {
           "color": "rgb(128, 0, 128)",
           "family": "Arial",
           "size": 12
          },
          "showarrow": false,
          "text": "0.004",
          "x": 0.004,
          "xref": "x2",
          "y": "Niğde",
          "yref": "y2"
         },
         {
          "font": {
           "color": "rgb(50, 171, 96)",
           "family": "Arial",
           "size": 12
          },
          "showarrow": false,
          "text": "0.13%",
          "x": 0.13,
          "xref": "x",
          "y": "Niğde",
          "yref": "y"
         },
         {
          "font": {
           "color": "rgb(128, 0, 128)",
           "family": "Arial",
           "size": 12
          },
          "showarrow": false,
          "text": "0.005",
          "x": 0.005,
          "xref": "x2",
          "y": "Gümüşhane",
          "yref": "y2"
         },
         {
          "font": {
           "color": "rgb(50, 171, 96)",
           "family": "Arial",
           "size": 12
          },
          "showarrow": false,
          "text": "0.14%",
          "x": 0.14,
          "xref": "x",
          "y": "Gümüşhane",
          "yref": "y"
         },
         {
          "font": {
           "color": "rgb(128, 0, 128)",
           "family": "Arial",
           "size": 12
          },
          "showarrow": false,
          "text": "0.004",
          "x": 0.004,
          "xref": "x2",
          "y": "Konya",
          "yref": "y2"
         },
         {
          "font": {
           "color": "rgb(50, 171, 96)",
           "family": "Arial",
           "size": 12
          },
          "showarrow": false,
          "text": "0.14%",
          "x": 0.14,
          "xref": "x",
          "y": "Konya",
          "yref": "y"
         },
         {
          "font": {
           "color": "rgb(150,150,150)",
           "family": "Arial",
           "size": 10
          },
          "showarrow": false,
          "text": "Hazırlayan: Selim Savaş Kaynak: TÜİK, T.C. Sağlık Bakanlığı",
          "x": 0,
          "xref": "paper",
          "y": -0.109,
          "yref": "paper"
         }
        ],
        "legend": {
         "font": {
          "size": 10
         },
         "x": 0.029,
         "y": 1.038
        },
        "margin": {
         "b": 70,
         "l": 100,
         "r": 20,
         "t": 70
        },
        "paper_bgcolor": "rgb(248, 248, 255)",
        "plot_bgcolor": "rgb(248, 248, 255)",
        "template": {
         "data": {
          "bar": [
           {
            "error_x": {
             "color": "#2a3f5f"
            },
            "error_y": {
             "color": "#2a3f5f"
            },
            "marker": {
             "line": {
              "color": "#E5ECF6",
              "width": 0.5
             }
            },
            "type": "bar"
           }
          ],
          "barpolar": [
           {
            "marker": {
             "line": {
              "color": "#E5ECF6",
              "width": 0.5
             }
            },
            "type": "barpolar"
           }
          ],
          "carpet": [
           {
            "aaxis": {
             "endlinecolor": "#2a3f5f",
             "gridcolor": "white",
             "linecolor": "white",
             "minorgridcolor": "white",
             "startlinecolor": "#2a3f5f"
            },
            "baxis": {
             "endlinecolor": "#2a3f5f",
             "gridcolor": "white",
             "linecolor": "white",
             "minorgridcolor": "white",
             "startlinecolor": "#2a3f5f"
            },
            "type": "carpet"
           }
          ],
          "choropleth": [
           {
            "colorbar": {
             "outlinewidth": 0,
             "ticks": ""
            },
            "type": "choropleth"
           }
          ],
          "contour": [
           {
            "colorbar": {
             "outlinewidth": 0,
             "ticks": ""
            },
            "colorscale": [
             [
              0,
              "#0d0887"
             ],
             [
              0.1111111111111111,
              "#46039f"
             ],
             [
              0.2222222222222222,
              "#7201a8"
             ],
             [
              0.3333333333333333,
              "#9c179e"
             ],
             [
              0.4444444444444444,
              "#bd3786"
             ],
             [
              0.5555555555555556,
              "#d8576b"
             ],
             [
              0.6666666666666666,
              "#ed7953"
             ],
             [
              0.7777777777777778,
              "#fb9f3a"
             ],
             [
              0.8888888888888888,
              "#fdca26"
             ],
             [
              1,
              "#f0f921"
             ]
            ],
            "type": "contour"
           }
          ],
          "contourcarpet": [
           {
            "colorbar": {
             "outlinewidth": 0,
             "ticks": ""
            },
            "type": "contourcarpet"
           }
          ],
          "heatmap": [
           {
            "colorbar": {
             "outlinewidth": 0,
             "ticks": ""
            },
            "colorscale": [
             [
              0,
              "#0d0887"
             ],
             [
              0.1111111111111111,
              "#46039f"
             ],
             [
              0.2222222222222222,
              "#7201a8"
             ],
             [
              0.3333333333333333,
              "#9c179e"
             ],
             [
              0.4444444444444444,
              "#bd3786"
             ],
             [
              0.5555555555555556,
              "#d8576b"
             ],
             [
              0.6666666666666666,
              "#ed7953"
             ],
             [
              0.7777777777777778,
              "#fb9f3a"
             ],
             [
              0.8888888888888888,
              "#fdca26"
             ],
             [
              1,
              "#f0f921"
             ]
            ],
            "type": "heatmap"
           }
          ],
          "heatmapgl": [
           {
            "colorbar": {
             "outlinewidth": 0,
             "ticks": ""
            },
            "colorscale": [
             [
              0,
              "#0d0887"
             ],
             [
              0.1111111111111111,
              "#46039f"
             ],
             [
              0.2222222222222222,
              "#7201a8"
             ],
             [
              0.3333333333333333,
              "#9c179e"
             ],
             [
              0.4444444444444444,
              "#bd3786"
             ],
             [
              0.5555555555555556,
              "#d8576b"
             ],
             [
              0.6666666666666666,
              "#ed7953"
             ],
             [
              0.7777777777777778,
              "#fb9f3a"
             ],
             [
              0.8888888888888888,
              "#fdca26"
             ],
             [
              1,
              "#f0f921"
             ]
            ],
            "type": "heatmapgl"
           }
          ],
          "histogram": [
           {
            "marker": {
             "colorbar": {
              "outlinewidth": 0,
              "ticks": ""
             }
            },
            "type": "histogram"
           }
          ],
          "histogram2d": [
           {
            "colorbar": {
             "outlinewidth": 0,
             "ticks": ""
            },
            "colorscale": [
             [
              0,
              "#0d0887"
             ],
             [
              0.1111111111111111,
              "#46039f"
             ],
             [
              0.2222222222222222,
              "#7201a8"
             ],
             [
              0.3333333333333333,
              "#9c179e"
             ],
             [
              0.4444444444444444,
              "#bd3786"
             ],
             [
              0.5555555555555556,
              "#d8576b"
             ],
             [
              0.6666666666666666,
              "#ed7953"
             ],
             [
              0.7777777777777778,
              "#fb9f3a"
             ],
             [
              0.8888888888888888,
              "#fdca26"
             ],
             [
              1,
              "#f0f921"
             ]
            ],
            "type": "histogram2d"
           }
          ],
          "histogram2dcontour": [
           {
            "colorbar": {
             "outlinewidth": 0,
             "ticks": ""
            },
            "colorscale": [
             [
              0,
              "#0d0887"
             ],
             [
              0.1111111111111111,
              "#46039f"
             ],
             [
              0.2222222222222222,
              "#7201a8"
             ],
             [
              0.3333333333333333,
              "#9c179e"
             ],
             [
              0.4444444444444444,
              "#bd3786"
             ],
             [
              0.5555555555555556,
              "#d8576b"
             ],
             [
              0.6666666666666666,
              "#ed7953"
             ],
             [
              0.7777777777777778,
              "#fb9f3a"
             ],
             [
              0.8888888888888888,
              "#fdca26"
             ],
             [
              1,
              "#f0f921"
             ]
            ],
            "type": "histogram2dcontour"
           }
          ],
          "mesh3d": [
           {
            "colorbar": {
             "outlinewidth": 0,
             "ticks": ""
            },
            "type": "mesh3d"
           }
          ],
          "parcoords": [
           {
            "line": {
             "colorbar": {
              "outlinewidth": 0,
              "ticks": ""
             }
            },
            "type": "parcoords"
           }
          ],
          "pie": [
           {
            "automargin": true,
            "type": "pie"
           }
          ],
          "scatter": [
           {
            "marker": {
             "colorbar": {
              "outlinewidth": 0,
              "ticks": ""
             }
            },
            "type": "scatter"
           }
          ],
          "scatter3d": [
           {
            "line": {
             "colorbar": {
              "outlinewidth": 0,
              "ticks": ""
             }
            },
            "marker": {
             "colorbar": {
              "outlinewidth": 0,
              "ticks": ""
             }
            },
            "type": "scatter3d"
           }
          ],
          "scattercarpet": [
           {
            "marker": {
             "colorbar": {
              "outlinewidth": 0,
              "ticks": ""
             }
            },
            "type": "scattercarpet"
           }
          ],
          "scattergeo": [
           {
            "marker": {
             "colorbar": {
              "outlinewidth": 0,
              "ticks": ""
             }
            },
            "type": "scattergeo"
           }
          ],
          "scattergl": [
           {
            "marker": {
             "colorbar": {
              "outlinewidth": 0,
              "ticks": ""
             }
            },
            "type": "scattergl"
           }
          ],
          "scattermapbox": [
           {
            "marker": {
             "colorbar": {
              "outlinewidth": 0,
              "ticks": ""
             }
            },
            "type": "scattermapbox"
           }
          ],
          "scatterpolar": [
           {
            "marker": {
             "colorbar": {
              "outlinewidth": 0,
              "ticks": ""
             }
            },
            "type": "scatterpolar"
           }
          ],
          "scatterpolargl": [
           {
            "marker": {
             "colorbar": {
              "outlinewidth": 0,
              "ticks": ""
             }
            },
            "type": "scatterpolargl"
           }
          ],
          "scatterternary": [
           {
            "marker": {
             "colorbar": {
              "outlinewidth": 0,
              "ticks": ""
             }
            },
            "type": "scatterternary"
           }
          ],
          "surface": [
           {
            "colorbar": {
             "outlinewidth": 0,
             "ticks": ""
            },
            "colorscale": [
             [
              0,
              "#0d0887"
             ],
             [
              0.1111111111111111,
              "#46039f"
             ],
             [
              0.2222222222222222,
              "#7201a8"
             ],
             [
              0.3333333333333333,
              "#9c179e"
             ],
             [
              0.4444444444444444,
              "#bd3786"
             ],
             [
              0.5555555555555556,
              "#d8576b"
             ],
             [
              0.6666666666666666,
              "#ed7953"
             ],
             [
              0.7777777777777778,
              "#fb9f3a"
             ],
             [
              0.8888888888888888,
              "#fdca26"
             ],
             [
              1,
              "#f0f921"
             ]
            ],
            "type": "surface"
           }
          ],
          "table": [
           {
            "cells": {
             "fill": {
              "color": "#EBF0F8"
             },
             "line": {
              "color": "white"
             }
            },
            "header": {
             "fill": {
              "color": "#C8D4E3"
             },
             "line": {
              "color": "white"
             }
            },
            "type": "table"
           }
          ]
         },
         "layout": {
          "annotationdefaults": {
           "arrowcolor": "#2a3f5f",
           "arrowhead": 0,
           "arrowwidth": 1
          },
          "coloraxis": {
           "colorbar": {
            "outlinewidth": 0,
            "ticks": ""
           }
          },
          "colorscale": {
           "diverging": [
            [
             0,
             "#8e0152"
            ],
            [
             0.1,
             "#c51b7d"
            ],
            [
             0.2,
             "#de77ae"
            ],
            [
             0.3,
             "#f1b6da"
            ],
            [
             0.4,
             "#fde0ef"
            ],
            [
             0.5,
             "#f7f7f7"
            ],
            [
             0.6,
             "#e6f5d0"
            ],
            [
             0.7,
             "#b8e186"
            ],
            [
             0.8,
             "#7fbc41"
            ],
            [
             0.9,
             "#4d9221"
            ],
            [
             1,
             "#276419"
            ]
           ],
           "sequential": [
            [
             0,
             "#0d0887"
            ],
            [
             0.1111111111111111,
             "#46039f"
            ],
            [
             0.2222222222222222,
             "#7201a8"
            ],
            [
             0.3333333333333333,
             "#9c179e"
            ],
            [
             0.4444444444444444,
             "#bd3786"
            ],
            [
             0.5555555555555556,
             "#d8576b"
            ],
            [
             0.6666666666666666,
             "#ed7953"
            ],
            [
             0.7777777777777778,
             "#fb9f3a"
            ],
            [
             0.8888888888888888,
             "#fdca26"
            ],
            [
             1,
             "#f0f921"
            ]
           ],
           "sequentialminus": [
            [
             0,
             "#0d0887"
            ],
            [
             0.1111111111111111,
             "#46039f"
            ],
            [
             0.2222222222222222,
             "#7201a8"
            ],
            [
             0.3333333333333333,
             "#9c179e"
            ],
            [
             0.4444444444444444,
             "#bd3786"
            ],
            [
             0.5555555555555556,
             "#d8576b"
            ],
            [
             0.6666666666666666,
             "#ed7953"
            ],
            [
             0.7777777777777778,
             "#fb9f3a"
            ],
            [
             0.8888888888888888,
             "#fdca26"
            ],
            [
             1,
             "#f0f921"
            ]
           ]
          },
          "colorway": [
           "#636efa",
           "#EF553B",
           "#00cc96",
           "#ab63fa",
           "#FFA15A",
           "#19d3f3",
           "#FF6692",
           "#B6E880",
           "#FF97FF",
           "#FECB52"
          ],
          "font": {
           "color": "#2a3f5f"
          },
          "geo": {
           "bgcolor": "white",
           "lakecolor": "white",
           "landcolor": "#E5ECF6",
           "showlakes": true,
           "showland": true,
           "subunitcolor": "white"
          },
          "hoverlabel": {
           "align": "left"
          },
          "hovermode": "closest",
          "mapbox": {
           "style": "light"
          },
          "paper_bgcolor": "white",
          "plot_bgcolor": "#E5ECF6",
          "polar": {
           "angularaxis": {
            "gridcolor": "white",
            "linecolor": "white",
            "ticks": ""
           },
           "bgcolor": "#E5ECF6",
           "radialaxis": {
            "gridcolor": "white",
            "linecolor": "white",
            "ticks": ""
           }
          },
          "scene": {
           "xaxis": {
            "backgroundcolor": "#E5ECF6",
            "gridcolor": "white",
            "gridwidth": 2,
            "linecolor": "white",
            "showbackground": true,
            "ticks": "",
            "zerolinecolor": "white"
           },
           "yaxis": {
            "backgroundcolor": "#E5ECF6",
            "gridcolor": "white",
            "gridwidth": 2,
            "linecolor": "white",
            "showbackground": true,
            "ticks": "",
            "zerolinecolor": "white"
           },
           "zaxis": {
            "backgroundcolor": "#E5ECF6",
            "gridcolor": "white",
            "gridwidth": 2,
            "linecolor": "white",
            "showbackground": true,
            "ticks": "",
            "zerolinecolor": "white"
           }
          },
          "shapedefaults": {
           "line": {
            "color": "#2a3f5f"
           }
          },
          "ternary": {
           "aaxis": {
            "gridcolor": "white",
            "linecolor": "white",
            "ticks": ""
           },
           "baxis": {
            "gridcolor": "white",
            "linecolor": "white",
            "ticks": ""
           },
           "bgcolor": "#E5ECF6",
           "caxis": {
            "gridcolor": "white",
            "linecolor": "white",
            "ticks": ""
           }
          },
          "title": {
           "x": 0.05
          },
          "xaxis": {
           "automargin": true,
           "gridcolor": "white",
           "linecolor": "white",
           "ticks": "",
           "title": {
            "standoff": 15
           },
           "zerolinecolor": "white",
           "zerolinewidth": 2
          },
          "yaxis": {
           "automargin": true,
           "gridcolor": "white",
           "linecolor": "white",
           "ticks": "",
           "title": {
            "standoff": 15
           },
           "zerolinecolor": "white",
           "zerolinewidth": 2
          }
         }
        },
        "title": {
         "text": "Yaşlı başına düşen vaka sayısı yüksek olduğu halde diğer illerimize göre aşılama oranı düşük ilimiz var mı?"
        },
        "xaxis": {
         "anchor": "y",
         "domain": [
          0,
          0.42
         ],
         "showgrid": true,
         "showline": false,
         "showticklabels": true,
         "zeroline": false
        },
        "xaxis2": {
         "anchor": "y2",
         "domain": [
          0.47,
          1
         ],
         "dtick": 25000,
         "showgrid": true,
         "showline": false,
         "showticklabels": true,
         "side": "top",
         "zeroline": false
        },
        "yaxis": {
         "anchor": "x",
         "domain": [
          0,
          0.85
         ],
         "showgrid": false,
         "showline": false,
         "showticklabels": true
        },
        "yaxis2": {
         "anchor": "x2",
         "domain": [
          0,
          0.85
         ],
         "linecolor": "rgba(102, 102, 102, 0.8)",
         "linewidth": 2,
         "showgrid": false,
         "showline": true,
         "showticklabels": false
        }
       }
      },
      "text/html": [
       "<div>\n",
       "        \n",
       "        \n",
       "            <div id=\"a6ae4293-88a2-4b1e-a270-6a128e71ec57\" class=\"plotly-graph-div\" style=\"height:525px; width:100%;\"></div>\n",
       "            <script type=\"text/javascript\">\n",
       "                require([\"plotly\"], function(Plotly) {\n",
       "                    window.PLOTLYENV=window.PLOTLYENV || {};\n",
       "                    \n",
       "                if (document.getElementById(\"a6ae4293-88a2-4b1e-a270-6a128e71ec57\")) {\n",
       "                    Plotly.newPlot(\n",
       "                        'a6ae4293-88a2-4b1e-a270-6a128e71ec57',\n",
       "                        [{\"marker\": {\"color\": \"rgba(50, 171, 96, 0.6)\", \"line\": {\"color\": \"rgba(50, 171, 96, 1.0)\", \"width\": 1}}, \"name\": \"2 Doz a\\u015f\\u0131 vurulan ki\\u015fi oran\\u0131 -Toplam- (23 May\\u0131s)\", \"orientation\": \"h\", \"type\": \"bar\", \"x\": [0.031499064641979165, 0.03275772332218713, 0.040041016311973585, 0.04804519863908011, 0.05038333317769664, 0.050445306757380466, 0.055611819632450564, 0.0588152835741893, 0.05906545129764396, 0.0768900182137746, 0.084928025893643, 0.10556536327358619, 0.11408597626994814, 0.12194372535481436, 0.12903290411153692, 0.1342250553068321, 0.13691408730998858, 0.13859565692749398], \"xaxis\": \"x\", \"y\": [\"\\u015e\\u0131rnak\", \"Hakkari\", \"\\u015eanl\\u0131urfa\", \"Mardin\", \"A\\u011fr\\u0131\", \"Bitlis\", \"Van\", \"Diyarbak\\u0131r\", \"Batman\", \"Gaziantep\", \"Bing\\u00f6l\", \"Kars\", \"Erzurum\", \"\\u0130stanbul\", \"Kocaeli\", \"Ni\\u011fde\", \"G\\u00fcm\\u00fc\\u015fhane\", \"Konya\"], \"yaxis\": \"y\"}, {\"line\": {\"color\": \"rgb(128, 0, 128)\"}, \"mode\": \"lines+markers\", \"name\": \"Ya\\u015fl\\u0131(50 ve \\u00fcst\\u00fc ya\\u015f) vatanda\\u015f\\u0131m\\u0131z ba\\u015f\\u0131na d\\u00fc\\u015fen vaka say\\u0131s\\u0131 (15-21 May\\u0131s)\", \"type\": \"scatter\", \"x\": [0.00373305703564728, 0.005156661213634742, 0.004310062763797478, 0.0035602451643098323, 0.00932859750010665, 0.006629703614175076, 0.004056153065356703, 0.004509210892956452, 0.0050593740757691325, 0.004168461566816459, 0.003540771828290368, 0.006489289491829044, 0.006944946650131575, 0.005643661291559089, 0.0059302038501809025, 0.004139851493441726, 0.005325249957534718, 0.0037836128472036484], \"xaxis\": \"x2\", \"y\": [\"\\u015e\\u0131rnak\", \"Hakkari\", \"\\u015eanl\\u0131urfa\", \"Mardin\", \"A\\u011fr\\u0131\", \"Bitlis\", \"Van\", \"Diyarbak\\u0131r\", \"Batman\", \"Gaziantep\", \"Bing\\u00f6l\", \"Kars\", \"Erzurum\", \"\\u0130stanbul\", \"Kocaeli\", \"Ni\\u011fde\", \"G\\u00fcm\\u00fc\\u015fhane\", \"Konya\"], \"yaxis\": \"y2\"}],\n",
       "                        {\"annotations\": [{\"font\": {\"color\": \"rgb(128, 0, 128)\", \"family\": \"Arial\", \"size\": 12}, \"showarrow\": false, \"text\": \"0.004\", \"x\": 0.004, \"xref\": \"x2\", \"y\": \"\\u015e\\u0131rnak\", \"yref\": \"y2\"}, {\"font\": {\"color\": \"rgb(50, 171, 96)\", \"family\": \"Arial\", \"size\": 12}, \"showarrow\": false, \"text\": \"0.03%\", \"x\": 0.03, \"xref\": \"x\", \"y\": \"\\u015e\\u0131rnak\", \"yref\": \"y\"}, {\"font\": {\"color\": \"rgb(128, 0, 128)\", \"family\": \"Arial\", \"size\": 12}, \"showarrow\": false, \"text\": \"0.005\", \"x\": 0.005, \"xref\": \"x2\", \"y\": \"Hakkari\", \"yref\": \"y2\"}, {\"font\": {\"color\": \"rgb(50, 171, 96)\", \"family\": \"Arial\", \"size\": 12}, \"showarrow\": false, \"text\": \"0.03%\", \"x\": 0.03, \"xref\": \"x\", \"y\": \"Hakkari\", \"yref\": \"y\"}, {\"font\": {\"color\": \"rgb(128, 0, 128)\", \"family\": \"Arial\", \"size\": 12}, \"showarrow\": false, \"text\": \"0.004\", \"x\": 0.004, \"xref\": \"x2\", \"y\": \"\\u015eanl\\u0131urfa\", \"yref\": \"y2\"}, {\"font\": {\"color\": \"rgb(50, 171, 96)\", \"family\": \"Arial\", \"size\": 12}, \"showarrow\": false, \"text\": \"0.04%\", \"x\": 0.04, \"xref\": \"x\", \"y\": \"\\u015eanl\\u0131urfa\", \"yref\": \"y\"}, {\"font\": {\"color\": \"rgb(128, 0, 128)\", \"family\": \"Arial\", \"size\": 12}, \"showarrow\": false, \"text\": \"0.004\", \"x\": 0.004, \"xref\": \"x2\", \"y\": \"Mardin\", \"yref\": \"y2\"}, {\"font\": {\"color\": \"rgb(50, 171, 96)\", \"family\": \"Arial\", \"size\": 12}, \"showarrow\": false, \"text\": \"0.05%\", \"x\": 0.05, \"xref\": \"x\", \"y\": \"Mardin\", \"yref\": \"y\"}, {\"font\": {\"color\": \"rgb(128, 0, 128)\", \"family\": \"Arial\", \"size\": 12}, \"showarrow\": false, \"text\": \"0.009\", \"x\": 0.009, \"xref\": \"x2\", \"y\": \"A\\u011fr\\u0131\", \"yref\": \"y2\"}, {\"font\": {\"color\": \"rgb(50, 171, 96)\", \"family\": \"Arial\", \"size\": 12}, \"showarrow\": false, \"text\": \"0.05%\", \"x\": 0.05, \"xref\": \"x\", \"y\": \"A\\u011fr\\u0131\", \"yref\": \"y\"}, {\"font\": {\"color\": \"rgb(128, 0, 128)\", \"family\": \"Arial\", \"size\": 12}, \"showarrow\": false, \"text\": \"0.007\", \"x\": 0.007, \"xref\": \"x2\", \"y\": \"Bitlis\", \"yref\": \"y2\"}, {\"font\": {\"color\": \"rgb(50, 171, 96)\", \"family\": \"Arial\", \"size\": 12}, \"showarrow\": false, \"text\": \"0.05%\", \"x\": 0.05, \"xref\": \"x\", \"y\": \"Bitlis\", \"yref\": \"y\"}, {\"font\": {\"color\": \"rgb(128, 0, 128)\", \"family\": \"Arial\", \"size\": 12}, \"showarrow\": false, \"text\": \"0.004\", \"x\": 0.004, \"xref\": \"x2\", \"y\": \"Van\", \"yref\": \"y2\"}, {\"font\": {\"color\": \"rgb(50, 171, 96)\", \"family\": \"Arial\", \"size\": 12}, \"showarrow\": false, \"text\": \"0.06%\", \"x\": 0.06, \"xref\": \"x\", \"y\": \"Van\", \"yref\": \"y\"}, {\"font\": {\"color\": \"rgb(128, 0, 128)\", \"family\": \"Arial\", \"size\": 12}, \"showarrow\": false, \"text\": \"0.005\", \"x\": 0.005, \"xref\": \"x2\", \"y\": \"Diyarbak\\u0131r\", \"yref\": \"y2\"}, {\"font\": {\"color\": \"rgb(50, 171, 96)\", \"family\": \"Arial\", \"size\": 12}, \"showarrow\": false, \"text\": \"0.06%\", \"x\": 0.06, \"xref\": \"x\", \"y\": \"Diyarbak\\u0131r\", \"yref\": \"y\"}, {\"font\": {\"color\": \"rgb(128, 0, 128)\", \"family\": \"Arial\", \"size\": 12}, \"showarrow\": false, \"text\": \"0.005\", \"x\": 0.005, \"xref\": \"x2\", \"y\": \"Batman\", \"yref\": \"y2\"}, {\"font\": {\"color\": \"rgb(50, 171, 96)\", \"family\": \"Arial\", \"size\": 12}, \"showarrow\": false, \"text\": \"0.06%\", \"x\": 0.06, \"xref\": \"x\", \"y\": \"Batman\", \"yref\": \"y\"}, {\"font\": {\"color\": \"rgb(128, 0, 128)\", \"family\": \"Arial\", \"size\": 12}, \"showarrow\": false, \"text\": \"0.004\", \"x\": 0.004, \"xref\": \"x2\", \"y\": \"Gaziantep\", \"yref\": \"y2\"}, {\"font\": {\"color\": \"rgb(50, 171, 96)\", \"family\": \"Arial\", \"size\": 12}, \"showarrow\": false, \"text\": \"0.08%\", \"x\": 0.08, \"xref\": \"x\", \"y\": \"Gaziantep\", \"yref\": \"y\"}, {\"font\": {\"color\": \"rgb(128, 0, 128)\", \"family\": \"Arial\", \"size\": 12}, \"showarrow\": false, \"text\": \"0.004\", \"x\": 0.004, \"xref\": \"x2\", \"y\": \"Bing\\u00f6l\", \"yref\": \"y2\"}, {\"font\": {\"color\": \"rgb(50, 171, 96)\", \"family\": \"Arial\", \"size\": 12}, \"showarrow\": false, \"text\": \"0.08%\", \"x\": 0.08, \"xref\": \"x\", \"y\": \"Bing\\u00f6l\", \"yref\": \"y\"}, {\"font\": {\"color\": \"rgb(128, 0, 128)\", \"family\": \"Arial\", \"size\": 12}, \"showarrow\": false, \"text\": \"0.006\", \"x\": 0.006, \"xref\": \"x2\", \"y\": \"Kars\", \"yref\": \"y2\"}, {\"font\": {\"color\": \"rgb(50, 171, 96)\", \"family\": \"Arial\", \"size\": 12}, \"showarrow\": false, \"text\": \"0.11%\", \"x\": 0.11, \"xref\": \"x\", \"y\": \"Kars\", \"yref\": \"y\"}, {\"font\": {\"color\": \"rgb(128, 0, 128)\", \"family\": \"Arial\", \"size\": 12}, \"showarrow\": false, \"text\": \"0.007\", \"x\": 0.007, \"xref\": \"x2\", \"y\": \"Erzurum\", \"yref\": \"y2\"}, {\"font\": {\"color\": \"rgb(50, 171, 96)\", \"family\": \"Arial\", \"size\": 12}, \"showarrow\": false, \"text\": \"0.11%\", \"x\": 0.11, \"xref\": \"x\", \"y\": \"Erzurum\", \"yref\": \"y\"}, {\"font\": {\"color\": \"rgb(128, 0, 128)\", \"family\": \"Arial\", \"size\": 12}, \"showarrow\": false, \"text\": \"0.006\", \"x\": 0.006, \"xref\": \"x2\", \"y\": \"\\u0130stanbul\", \"yref\": \"y2\"}, {\"font\": {\"color\": \"rgb(50, 171, 96)\", \"family\": \"Arial\", \"size\": 12}, \"showarrow\": false, \"text\": \"0.12%\", \"x\": 0.12, \"xref\": \"x\", \"y\": \"\\u0130stanbul\", \"yref\": \"y\"}, {\"font\": {\"color\": \"rgb(128, 0, 128)\", \"family\": \"Arial\", \"size\": 12}, \"showarrow\": false, \"text\": \"0.006\", \"x\": 0.006, \"xref\": \"x2\", \"y\": \"Kocaeli\", \"yref\": \"y2\"}, {\"font\": {\"color\": \"rgb(50, 171, 96)\", \"family\": \"Arial\", \"size\": 12}, \"showarrow\": false, \"text\": \"0.13%\", \"x\": 0.13, \"xref\": \"x\", \"y\": \"Kocaeli\", \"yref\": \"y\"}, {\"font\": {\"color\": \"rgb(128, 0, 128)\", \"family\": \"Arial\", \"size\": 12}, \"showarrow\": false, \"text\": \"0.004\", \"x\": 0.004, \"xref\": \"x2\", \"y\": \"Ni\\u011fde\", \"yref\": \"y2\"}, {\"font\": {\"color\": \"rgb(50, 171, 96)\", \"family\": \"Arial\", \"size\": 12}, \"showarrow\": false, \"text\": \"0.13%\", \"x\": 0.13, \"xref\": \"x\", \"y\": \"Ni\\u011fde\", \"yref\": \"y\"}, {\"font\": {\"color\": \"rgb(128, 0, 128)\", \"family\": \"Arial\", \"size\": 12}, \"showarrow\": false, \"text\": \"0.005\", \"x\": 0.005, \"xref\": \"x2\", \"y\": \"G\\u00fcm\\u00fc\\u015fhane\", \"yref\": \"y2\"}, {\"font\": {\"color\": \"rgb(50, 171, 96)\", \"family\": \"Arial\", \"size\": 12}, \"showarrow\": false, \"text\": \"0.14%\", \"x\": 0.14, \"xref\": \"x\", \"y\": \"G\\u00fcm\\u00fc\\u015fhane\", \"yref\": \"y\"}, {\"font\": {\"color\": \"rgb(128, 0, 128)\", \"family\": \"Arial\", \"size\": 12}, \"showarrow\": false, \"text\": \"0.004\", \"x\": 0.004, \"xref\": \"x2\", \"y\": \"Konya\", \"yref\": \"y2\"}, {\"font\": {\"color\": \"rgb(50, 171, 96)\", \"family\": \"Arial\", \"size\": 12}, \"showarrow\": false, \"text\": \"0.14%\", \"x\": 0.14, \"xref\": \"x\", \"y\": \"Konya\", \"yref\": \"y\"}, {\"font\": {\"color\": \"rgb(150,150,150)\", \"family\": \"Arial\", \"size\": 10}, \"showarrow\": false, \"text\": \"Haz\\u0131rlayan: Selim Sava\\u015f Kaynak: T\\u00dc\\u0130K, T.C. Sa\\u011fl\\u0131k Bakanl\\u0131\\u011f\\u0131\", \"x\": 0, \"xref\": \"paper\", \"y\": -0.109, \"yref\": \"paper\"}], \"legend\": {\"font\": {\"size\": 10}, \"x\": 0.029, \"y\": 1.038}, \"margin\": {\"b\": 70, \"l\": 100, \"r\": 20, \"t\": 70}, \"paper_bgcolor\": \"rgb(248, 248, 255)\", \"plot_bgcolor\": \"rgb(248, 248, 255)\", \"template\": {\"data\": {\"bar\": [{\"error_x\": {\"color\": \"#2a3f5f\"}, \"error_y\": {\"color\": \"#2a3f5f\"}, \"marker\": {\"line\": {\"color\": \"#E5ECF6\", \"width\": 0.5}}, \"type\": \"bar\"}], \"barpolar\": [{\"marker\": {\"line\": {\"color\": \"#E5ECF6\", \"width\": 0.5}}, \"type\": \"barpolar\"}], \"carpet\": [{\"aaxis\": {\"endlinecolor\": \"#2a3f5f\", \"gridcolor\": \"white\", \"linecolor\": \"white\", \"minorgridcolor\": \"white\", \"startlinecolor\": \"#2a3f5f\"}, \"baxis\": {\"endlinecolor\": \"#2a3f5f\", \"gridcolor\": \"white\", \"linecolor\": \"white\", \"minorgridcolor\": \"white\", \"startlinecolor\": \"#2a3f5f\"}, \"type\": \"carpet\"}], \"choropleth\": [{\"colorbar\": {\"outlinewidth\": 0, \"ticks\": \"\"}, \"type\": \"choropleth\"}], \"contour\": [{\"colorbar\": {\"outlinewidth\": 0, \"ticks\": \"\"}, \"colorscale\": [[0.0, \"#0d0887\"], [0.1111111111111111, \"#46039f\"], [0.2222222222222222, \"#7201a8\"], [0.3333333333333333, \"#9c179e\"], [0.4444444444444444, \"#bd3786\"], [0.5555555555555556, \"#d8576b\"], [0.6666666666666666, \"#ed7953\"], [0.7777777777777778, \"#fb9f3a\"], [0.8888888888888888, \"#fdca26\"], [1.0, \"#f0f921\"]], \"type\": \"contour\"}], \"contourcarpet\": [{\"colorbar\": {\"outlinewidth\": 0, \"ticks\": \"\"}, \"type\": \"contourcarpet\"}], \"heatmap\": [{\"colorbar\": {\"outlinewidth\": 0, \"ticks\": \"\"}, \"colorscale\": [[0.0, \"#0d0887\"], [0.1111111111111111, \"#46039f\"], [0.2222222222222222, \"#7201a8\"], [0.3333333333333333, \"#9c179e\"], [0.4444444444444444, \"#bd3786\"], [0.5555555555555556, \"#d8576b\"], [0.6666666666666666, \"#ed7953\"], [0.7777777777777778, \"#fb9f3a\"], [0.8888888888888888, \"#fdca26\"], [1.0, \"#f0f921\"]], \"type\": \"heatmap\"}], \"heatmapgl\": [{\"colorbar\": {\"outlinewidth\": 0, \"ticks\": \"\"}, \"colorscale\": [[0.0, \"#0d0887\"], [0.1111111111111111, \"#46039f\"], [0.2222222222222222, \"#7201a8\"], [0.3333333333333333, \"#9c179e\"], [0.4444444444444444, \"#bd3786\"], [0.5555555555555556, \"#d8576b\"], [0.6666666666666666, \"#ed7953\"], [0.7777777777777778, \"#fb9f3a\"], [0.8888888888888888, \"#fdca26\"], [1.0, \"#f0f921\"]], \"type\": \"heatmapgl\"}], \"histogram\": [{\"marker\": {\"colorbar\": {\"outlinewidth\": 0, \"ticks\": \"\"}}, \"type\": \"histogram\"}], \"histogram2d\": [{\"colorbar\": {\"outlinewidth\": 0, \"ticks\": \"\"}, \"colorscale\": [[0.0, \"#0d0887\"], [0.1111111111111111, \"#46039f\"], [0.2222222222222222, \"#7201a8\"], [0.3333333333333333, \"#9c179e\"], [0.4444444444444444, \"#bd3786\"], [0.5555555555555556, \"#d8576b\"], [0.6666666666666666, \"#ed7953\"], [0.7777777777777778, \"#fb9f3a\"], [0.8888888888888888, \"#fdca26\"], [1.0, \"#f0f921\"]], \"type\": \"histogram2d\"}], \"histogram2dcontour\": [{\"colorbar\": {\"outlinewidth\": 0, \"ticks\": \"\"}, \"colorscale\": [[0.0, \"#0d0887\"], [0.1111111111111111, \"#46039f\"], [0.2222222222222222, \"#7201a8\"], [0.3333333333333333, \"#9c179e\"], [0.4444444444444444, \"#bd3786\"], [0.5555555555555556, \"#d8576b\"], [0.6666666666666666, \"#ed7953\"], [0.7777777777777778, \"#fb9f3a\"], [0.8888888888888888, \"#fdca26\"], [1.0, \"#f0f921\"]], \"type\": \"histogram2dcontour\"}], \"mesh3d\": [{\"colorbar\": {\"outlinewidth\": 0, \"ticks\": \"\"}, \"type\": \"mesh3d\"}], \"parcoords\": [{\"line\": {\"colorbar\": {\"outlinewidth\": 0, \"ticks\": \"\"}}, \"type\": \"parcoords\"}], \"pie\": [{\"automargin\": true, \"type\": \"pie\"}], \"scatter\": [{\"marker\": {\"colorbar\": {\"outlinewidth\": 0, \"ticks\": \"\"}}, \"type\": \"scatter\"}], \"scatter3d\": [{\"line\": {\"colorbar\": {\"outlinewidth\": 0, \"ticks\": \"\"}}, \"marker\": {\"colorbar\": {\"outlinewidth\": 0, \"ticks\": \"\"}}, \"type\": \"scatter3d\"}], \"scattercarpet\": [{\"marker\": {\"colorbar\": {\"outlinewidth\": 0, \"ticks\": \"\"}}, \"type\": \"scattercarpet\"}], \"scattergeo\": [{\"marker\": {\"colorbar\": {\"outlinewidth\": 0, \"ticks\": \"\"}}, \"type\": \"scattergeo\"}], \"scattergl\": [{\"marker\": {\"colorbar\": {\"outlinewidth\": 0, \"ticks\": \"\"}}, \"type\": \"scattergl\"}], \"scattermapbox\": [{\"marker\": {\"colorbar\": {\"outlinewidth\": 0, \"ticks\": \"\"}}, \"type\": \"scattermapbox\"}], \"scatterpolar\": [{\"marker\": {\"colorbar\": {\"outlinewidth\": 0, \"ticks\": \"\"}}, \"type\": \"scatterpolar\"}], \"scatterpolargl\": [{\"marker\": {\"colorbar\": {\"outlinewidth\": 0, \"ticks\": \"\"}}, \"type\": \"scatterpolargl\"}], \"scatterternary\": [{\"marker\": {\"colorbar\": {\"outlinewidth\": 0, \"ticks\": \"\"}}, \"type\": \"scatterternary\"}], \"surface\": [{\"colorbar\": {\"outlinewidth\": 0, \"ticks\": \"\"}, \"colorscale\": [[0.0, \"#0d0887\"], [0.1111111111111111, \"#46039f\"], [0.2222222222222222, \"#7201a8\"], [0.3333333333333333, \"#9c179e\"], [0.4444444444444444, \"#bd3786\"], [0.5555555555555556, \"#d8576b\"], [0.6666666666666666, \"#ed7953\"], [0.7777777777777778, \"#fb9f3a\"], [0.8888888888888888, \"#fdca26\"], [1.0, \"#f0f921\"]], \"type\": \"surface\"}], \"table\": [{\"cells\": {\"fill\": {\"color\": \"#EBF0F8\"}, \"line\": {\"color\": \"white\"}}, \"header\": {\"fill\": {\"color\": \"#C8D4E3\"}, \"line\": {\"color\": \"white\"}}, \"type\": \"table\"}]}, \"layout\": {\"annotationdefaults\": {\"arrowcolor\": \"#2a3f5f\", \"arrowhead\": 0, \"arrowwidth\": 1}, \"coloraxis\": {\"colorbar\": {\"outlinewidth\": 0, \"ticks\": \"\"}}, \"colorscale\": {\"diverging\": [[0, \"#8e0152\"], [0.1, \"#c51b7d\"], [0.2, \"#de77ae\"], [0.3, \"#f1b6da\"], [0.4, \"#fde0ef\"], [0.5, \"#f7f7f7\"], [0.6, \"#e6f5d0\"], [0.7, \"#b8e186\"], [0.8, \"#7fbc41\"], [0.9, \"#4d9221\"], [1, \"#276419\"]], \"sequential\": [[0.0, \"#0d0887\"], [0.1111111111111111, \"#46039f\"], [0.2222222222222222, \"#7201a8\"], [0.3333333333333333, \"#9c179e\"], [0.4444444444444444, \"#bd3786\"], [0.5555555555555556, \"#d8576b\"], [0.6666666666666666, \"#ed7953\"], [0.7777777777777778, \"#fb9f3a\"], [0.8888888888888888, \"#fdca26\"], [1.0, \"#f0f921\"]], \"sequentialminus\": [[0.0, \"#0d0887\"], [0.1111111111111111, \"#46039f\"], [0.2222222222222222, \"#7201a8\"], [0.3333333333333333, \"#9c179e\"], [0.4444444444444444, \"#bd3786\"], [0.5555555555555556, \"#d8576b\"], [0.6666666666666666, \"#ed7953\"], [0.7777777777777778, \"#fb9f3a\"], [0.8888888888888888, \"#fdca26\"], [1.0, \"#f0f921\"]]}, \"colorway\": [\"#636efa\", \"#EF553B\", \"#00cc96\", \"#ab63fa\", \"#FFA15A\", \"#19d3f3\", \"#FF6692\", \"#B6E880\", \"#FF97FF\", \"#FECB52\"], \"font\": {\"color\": \"#2a3f5f\"}, \"geo\": {\"bgcolor\": \"white\", \"lakecolor\": \"white\", \"landcolor\": \"#E5ECF6\", \"showlakes\": true, \"showland\": true, \"subunitcolor\": \"white\"}, \"hoverlabel\": {\"align\": \"left\"}, \"hovermode\": \"closest\", \"mapbox\": {\"style\": \"light\"}, \"paper_bgcolor\": \"white\", \"plot_bgcolor\": \"#E5ECF6\", \"polar\": {\"angularaxis\": {\"gridcolor\": \"white\", \"linecolor\": \"white\", \"ticks\": \"\"}, \"bgcolor\": \"#E5ECF6\", \"radialaxis\": {\"gridcolor\": \"white\", \"linecolor\": \"white\", \"ticks\": \"\"}}, \"scene\": {\"xaxis\": {\"backgroundcolor\": \"#E5ECF6\", \"gridcolor\": \"white\", \"gridwidth\": 2, \"linecolor\": \"white\", \"showbackground\": true, \"ticks\": \"\", \"zerolinecolor\": \"white\"}, \"yaxis\": {\"backgroundcolor\": \"#E5ECF6\", \"gridcolor\": \"white\", \"gridwidth\": 2, \"linecolor\": \"white\", \"showbackground\": true, \"ticks\": \"\", \"zerolinecolor\": \"white\"}, \"zaxis\": {\"backgroundcolor\": \"#E5ECF6\", \"gridcolor\": \"white\", \"gridwidth\": 2, \"linecolor\": \"white\", \"showbackground\": true, \"ticks\": \"\", \"zerolinecolor\": \"white\"}}, \"shapedefaults\": {\"line\": {\"color\": \"#2a3f5f\"}}, \"ternary\": {\"aaxis\": {\"gridcolor\": \"white\", \"linecolor\": \"white\", \"ticks\": \"\"}, \"baxis\": {\"gridcolor\": \"white\", \"linecolor\": \"white\", \"ticks\": \"\"}, \"bgcolor\": \"#E5ECF6\", \"caxis\": {\"gridcolor\": \"white\", \"linecolor\": \"white\", \"ticks\": \"\"}}, \"title\": {\"x\": 0.05}, \"xaxis\": {\"automargin\": true, \"gridcolor\": \"white\", \"linecolor\": \"white\", \"ticks\": \"\", \"title\": {\"standoff\": 15}, \"zerolinecolor\": \"white\", \"zerolinewidth\": 2}, \"yaxis\": {\"automargin\": true, \"gridcolor\": \"white\", \"linecolor\": \"white\", \"ticks\": \"\", \"title\": {\"standoff\": 15}, \"zerolinecolor\": \"white\", \"zerolinewidth\": 2}}}, \"title\": {\"text\": \"Ya\\u015fl\\u0131 ba\\u015f\\u0131na d\\u00fc\\u015fen vaka say\\u0131s\\u0131 y\\u00fcksek oldu\\u011fu halde di\\u011fer illerimize g\\u00f6re a\\u015f\\u0131lama oran\\u0131 d\\u00fc\\u015f\\u00fck ilimiz var m\\u0131?\"}, \"xaxis\": {\"anchor\": \"y\", \"domain\": [0, 0.42], \"showgrid\": true, \"showline\": false, \"showticklabels\": true, \"zeroline\": false}, \"xaxis2\": {\"anchor\": \"y2\", \"domain\": [0.47, 1], \"dtick\": 25000, \"showgrid\": true, \"showline\": false, \"showticklabels\": true, \"side\": \"top\", \"zeroline\": false}, \"yaxis\": {\"anchor\": \"x\", \"domain\": [0, 0.85], \"showgrid\": false, \"showline\": false, \"showticklabels\": true}, \"yaxis2\": {\"anchor\": \"x2\", \"domain\": [0, 0.85], \"linecolor\": \"rgba(102, 102, 102, 0.8)\", \"linewidth\": 2, \"showgrid\": false, \"showline\": true, \"showticklabels\": false}},\n",
       "                        {\"responsive\": true}\n",
       "                    ).then(function(){\n",
       "                            \n",
       "var gd = document.getElementById('a6ae4293-88a2-4b1e-a270-6a128e71ec57');\n",
       "var x = new MutationObserver(function (mutations, observer) {{\n",
       "        var display = window.getComputedStyle(gd).display;\n",
       "        if (!display || display === 'none') {{\n",
       "            console.log([gd, 'removed!']);\n",
       "            Plotly.purge(gd);\n",
       "            observer.disconnect();\n",
       "        }}\n",
       "}});\n",
       "\n",
       "// Listen for the removal of the full notebook cells\n",
       "var notebookContainer = gd.closest('#notebook-container');\n",
       "if (notebookContainer) {{\n",
       "    x.observe(notebookContainer, {childList: true});\n",
       "}}\n",
       "\n",
       "// Listen for the clearing of the current output cell\n",
       "var outputEl = gd.closest('.output');\n",
       "if (outputEl) {{\n",
       "    x.observe(outputEl, {childList: true});\n",
       "}}\n",
       "\n",
       "                        })\n",
       "                };\n",
       "                });\n",
       "            </script>\n",
       "        </div>"
      ]
     },
     "metadata": {},
     "output_type": "display_data"
    }
   ],
   "source": [
    "import plotly.graph_objects as go\n",
    "from plotly.subplots import make_subplots\n",
    "\n",
    "import numpy as np\n",
    "\n",
    "y_saving = veri_paleti_v5['AsiOrani_x']\n",
    "y_net_worth = veri_paleti_v5['YasliBasinaDusenVakaSayisi_x']\n",
    "x = veri_paleti_v5.index\n",
    "\n",
    "\n",
    "# Creating two subplots\n",
    "fig = make_subplots(rows=1, cols=2, specs=[[{}, {}]], shared_xaxes=True,\n",
    "                    shared_yaxes=False, vertical_spacing=0.001)\n",
    "\n",
    "fig.append_trace(go.Bar(\n",
    "    x=y_saving,\n",
    "    y=x,\n",
    "    marker=dict(\n",
    "        color='rgba(50, 171, 96, 0.6)',\n",
    "        line=dict(\n",
    "            color='rgba(50, 171, 96, 1.0)',\n",
    "            width=1),\n",
    "    ),\n",
    "    name='2 Doz aşı vurulan kişi oranı -Toplam- (23 Mayıs)',\n",
    "    orientation='h',\n",
    "), 1, 1)\n",
    "\n",
    "fig.append_trace(go.Scatter(\n",
    "    x=y_net_worth, y=x,\n",
    "    mode='lines+markers',\n",
    "    line_color='rgb(128, 0, 128)',\n",
    "    name='Yaşlı(50 ve üstü yaş) vatandaşımız başına düşen vaka sayısı (15-21 Mayıs)',\n",
    "), 1, 2)\n",
    "\n",
    "fig.update_layout(\n",
    "    title='Yaşlı başına düşen vaka sayısı yüksek olduğu halde diğer illerimize göre aşılama oranı düşük ilimiz var mı?',\n",
    "    yaxis=dict(\n",
    "        showgrid=False,\n",
    "        showline=False,\n",
    "        showticklabels=True,\n",
    "        domain=[0, 0.85],\n",
    "    ),\n",
    "    yaxis2=dict(\n",
    "        showgrid=False,\n",
    "        showline=True,\n",
    "        showticklabels=False,\n",
    "        linecolor='rgba(102, 102, 102, 0.8)',\n",
    "        linewidth=2,\n",
    "        domain=[0, 0.85],\n",
    "    ),\n",
    "    xaxis=dict(\n",
    "        zeroline=False,\n",
    "        showline=False,\n",
    "        showticklabels=True,\n",
    "        showgrid=True,\n",
    "        domain=[0, 0.42],\n",
    "    ),\n",
    "    xaxis2=dict(\n",
    "        zeroline=False,\n",
    "        showline=False,\n",
    "        showticklabels=True,\n",
    "        showgrid=True,\n",
    "        domain=[0.47, 1],\n",
    "        side='top',\n",
    "        dtick=25000,\n",
    "    ),\n",
    "    legend=dict(x=0.029, y=1.038, font_size=10),\n",
    "    margin=dict(l=100, r=20, t=70, b=70),\n",
    "    paper_bgcolor='rgb(248, 248, 255)',\n",
    "    plot_bgcolor='rgb(248, 248, 255)',\n",
    ")\n",
    "\n",
    "annotations = []\n",
    "\n",
    "y_s = np.round(y_saving, decimals=2)\n",
    "y_nw = np.round(y_net_worth, decimals=3)\n",
    "\n",
    "# Adding labels\n",
    "for ydn, yd, xd in zip(y_nw, y_s, x):\n",
    "    # labeling the scatter savings\n",
    "    annotations.append(dict(xref='x2', yref='y2',\n",
    "                            y=xd, x=ydn,\n",
    "                            text=ydn,\n",
    "                            font=dict(family='Arial', size=12,\n",
    "                                      color='rgb(128, 0, 128)'),\n",
    "                            showarrow=False))\n",
    "    # labeling the bar net worth\n",
    "    annotations.append(dict(xref='x1', yref='y1',\n",
    "                            y=xd, x=yd,\n",
    "                            text=str(yd) + '%',\n",
    "                            font=dict(family='Arial', size=12,\n",
    "                                      color='rgb(50, 171, 96)'),\n",
    "                            showarrow=False))\n",
    "# Source\n",
    "annotations.append(dict(xref='paper', yref='paper',\n",
    "                        x=0, y=-0.109,\n",
    "                        text='Hazırlayan: Selim Savaş'+ ' Kaynak: TÜİK, T.C. Sağlık Bakanlığı',\n",
    "                        font=dict(family='Arial', size=10, color='rgb(150,150,150)'),\n",
    "                        showarrow=False))\n",
    "\n",
    "fig.update_layout(annotations=annotations)\n",
    "\n",
    "fig.show()"
   ]
  },
  {
   "cell_type": "markdown",
   "metadata": {},
   "source": [
    "### Ana Görselleştirme"
   ]
  },
  {
   "cell_type": "code",
   "execution_count": 78,
   "metadata": {},
   "outputs": [
    {
     "data": {
      "application/vnd.plotly.v1+json": {
       "config": {
        "plotlyServerURL": "https://plot.ly"
       },
       "data": [
        {
         "hovertemplate": "<b>%{hovertext}</b><br><br>YasliBasinaDusenVakaSayisi=%{x}<br>AsiOrani=%{y}<br>ToplamNufus=%{marker.color}<br>text=%{text}<extra></extra>",
         "hovertext": [
          "Adana",
          "Adıyaman",
          "Afyonkarahisar",
          "Ağrı",
          "Amasya",
          "Ankara",
          "Antalya",
          "Artvin",
          "Aydın",
          "Balıkesir",
          "Bilecik",
          "Bingöl",
          "Bitlis",
          "Bolu",
          "Burdur",
          "Bursa",
          "Çanakkale",
          "Çankırı",
          "Çorum",
          "Denizli",
          "Diyarbakır",
          "Edirne",
          "Elazığ",
          "Erzincan",
          "Erzurum",
          "Eskişehir",
          "Gaziantep",
          "Giresun",
          "Gümüşhane",
          "Hakkari",
          "Hatay",
          "Isparta",
          "Mersin",
          "İstanbul",
          "İzmir",
          "Kars",
          "Kastamonu",
          "Kayseri",
          "Kırklareli",
          "Kırşehir",
          "Kocaeli",
          "Konya",
          "Kütahya",
          "Malatya",
          "Manisa",
          "Kahramanmaraş",
          "Mardin",
          "Muğla",
          "Muş",
          "Nevşehir",
          "Niğde",
          "Ordu",
          "Rize",
          "Sakarya",
          "Samsun",
          "Siirt",
          "Sinop",
          "Sivas",
          "Tekirdağ",
          "Tokat",
          "Trabzon",
          "Tunceli",
          "Şanlıurfa",
          "Uşak",
          "Van",
          "Yozgat",
          "Zonguldak",
          "Aksaray",
          "Bayburt",
          "Karaman",
          "Kırıkkale",
          "Batman",
          "Şırnak",
          "Bartın",
          "Ardahan",
          "Iğdır",
          "Yalova",
          "Karabük",
          "Kilis",
          "Osmaniye",
          "Düzce"
         ],
         "legendgroup": "",
         "marker": {
          "color": [
           2258718,
           632459,
           736912,
           535435,
           335494,
           5663322,
           2548308,
           169501,
           1119084,
           1240285,
           218717,
           281768,
           350994,
           314802,
           267092,
           3101833,
           541548,
           192428,
           530126,
           1040915,
           1783431,
           407763,
           587960,
           234431,
           758279,
           888828,
           2101157,
           448721,
           141702,
           280514,
           1659320,
           440304,
           1868757,
           15462452,
           4394694,
           284923,
           376377,
           1421455,
           361737,
           243042,
           1997258,
           2250020,
           576688,
           806156,
           1450616,
           1168163,
           854716,
           1000773,
           411117,
           304962,
           362071,
           761400,
           344359,
           1042649,
           1356079,
           331070,
           216460,
           635889,
           1081065,
           597861,
           811901,
           83443,
           2115256,
           369433,
           1149342,
           419095,
           591204,
           423011,
           81910,
           254919,
           278703,
           620278,
           537762,
           198979,
           96161,
           201314,
           276050,
           243614,
           142792,
           548556,
           395679
          ],
          "coloraxis": "coloraxis",
          "size": [
           2258718,
           632459,
           736912,
           535435,
           335494,
           5663322,
           2548308,
           169501,
           1119084,
           1240285,
           218717,
           281768,
           350994,
           314802,
           267092,
           3101833,
           541548,
           192428,
           530126,
           1040915,
           1783431,
           407763,
           587960,
           234431,
           758279,
           888828,
           2101157,
           448721,
           141702,
           280514,
           1659320,
           440304,
           1868757,
           15462452,
           4394694,
           284923,
           376377,
           1421455,
           361737,
           243042,
           1997258,
           2250020,
           576688,
           806156,
           1450616,
           1168163,
           854716,
           1000773,
           411117,
           304962,
           362071,
           761400,
           344359,
           1042649,
           1356079,
           331070,
           216460,
           635889,
           1081065,
           597861,
           811901,
           83443,
           2115256,
           369433,
           1149342,
           419095,
           591204,
           423011,
           81910,
           254919,
           278703,
           620278,
           537762,
           198979,
           96161,
           201314,
           276050,
           243614,
           142792,
           548556,
           395679
          ],
          "sizemode": "area",
          "sizeref": 4295.125555555555,
          "symbol": "circle"
         },
         "mode": "markers+text",
         "name": "",
         "showlegend": false,
         "text": [
          "Adana",
          "Adıyaman",
          "Afyonkarahisar",
          "Ağrı",
          "Amasya",
          "Ankara",
          "Antalya",
          "Artvin",
          "Aydın",
          "Balıkesir",
          "Bilecik",
          "Bingöl",
          "Bitlis",
          "Bolu",
          "Burdur",
          "Bursa",
          "Çanakkale",
          "Çankırı",
          "Çorum",
          "Denizli",
          "Diyarbakır",
          "Edirne",
          "Elazığ",
          "Erzincan",
          "Erzurum",
          "Eskişehir",
          "Gaziantep",
          "Giresun",
          "Gümüşhane",
          "Hakkari",
          "Hatay",
          "Isparta",
          "Mersin",
          "İstanbul",
          "İzmir",
          "Kars",
          "Kastamonu",
          "Kayseri",
          "Kırklareli",
          "Kırşehir",
          "Kocaeli",
          "Konya",
          "Kütahya",
          "Malatya",
          "Manisa",
          "Kahramanmaraş",
          "Mardin",
          "Muğla",
          "Muş",
          "Nevşehir",
          "Niğde",
          "Ordu",
          "Rize",
          "Sakarya",
          "Samsun",
          "Siirt",
          "Sinop",
          "Sivas",
          "Tekirdağ",
          "Tokat",
          "Trabzon",
          "Tunceli",
          "Şanlıurfa",
          "Uşak",
          "Van",
          "Yozgat",
          "Zonguldak",
          "Aksaray",
          "Bayburt",
          "Karaman",
          "Kırıkkale",
          "Batman",
          "Şırnak",
          "Bartın",
          "Ardahan",
          "Iğdır",
          "Yalova",
          "Karabük",
          "Kilis",
          "Osmaniye",
          "Düzce"
         ],
         "textposition": "top center",
         "type": "scatter",
         "x": [
          0.0007891571224170631,
          0.002034964200043092,
          0.0029339722243367076,
          0.00932859750010665,
          0.0023427584401173084,
          0.004822891418017642,
          0.0018425526995538041,
          0.00202715112285126,
          0.0009409915211160979,
          0.0023781933878259786,
          0.004174491906307978,
          0.003540771828290368,
          0.006629703614175076,
          0.004426589956645207,
          0.0027974198023437923,
          0.0030740068814061054,
          0.002026918331858498,
          0.0027056968255346242,
          0.002939241360042998,
          0.002528446164107635,
          0.004509210892956452,
          0.0017041215949641154,
          0.002399069624591374,
          0.0032468851354182254,
          0.006944946650131575,
          0.0039956251223272335,
          0.004168461566816459,
          0.0022447977724614565,
          0.005325249957534718,
          0.005156661213634742,
          0.0007578773452722378,
          0.0033980911435790395,
          0.0012811998804561058,
          0.005643661291559089,
          0.002439045514397139,
          0.006489289491829044,
          0.002605385593841898,
          0.004943402634767694,
          0.0031099185451898045,
          0.0027756393219973588,
          0.0059302038501809025,
          0.0037836128472036484,
          0.004184895732858549,
          0.003492969038695617,
          0.0020411757444861694,
          0.0016982340439728417,
          0.0035602451643098323,
          0.0017524686794426062,
          0.0029923864933980486,
          0.0025970473322094135,
          0.004139851493441726,
          0.003447587263959724,
          0.0036869522708357573,
          0.0035457241691254446,
          0.003226467313850101,
          0.0026099272647480023,
          0.001295616966640988,
          0.003480085947046843,
          0.0036355807847652335,
          0.0034824278940905756,
          0.0030169473806692035,
          0.0024795109067357515,
          0.004310062763797478,
          0.0021099740228667286,
          0.004056153065356703,
          0.002856980523341106,
          0.0038712269180360926,
          0.0025080511976952676,
          0.002512130204214542,
          0.002695301566233463,
          0.0030128069497582996,
          0.0050593740757691325,
          0.00373305703564728,
          0.002401252346168311,
          0.003827205022385904,
          0.002826820113620618,
          0.001603152233734536,
          0.0022618243837104987,
          0.002470259955395437,
          0.0006650037559048421,
          0.0043474812948032845
         ],
         "xaxis": "x",
         "y": [
          0.1269653847890706,
          0.10032745205618071,
          0.15480952949605922,
          0.05038333317769664,
          0.219825093742362,
          0.17634914631377133,
          0.15913814185726372,
          0.215768638533106,
          0.21602131743461617,
          0.24428417662069604,
          0.1843295217107038,
          0.084928025893643,
          0.050445306757380466,
          0.19818806742015616,
          0.20908525901187605,
          0.1400172091792176,
          0.24978025955224653,
          0.1959122373043424,
          0.18864005915574789,
          0.16747188771417454,
          0.0588152835741893,
          0.24561816545395243,
          0.1381896727668549,
          0.16423595855496925,
          0.11408597626994814,
          0.19593779673907663,
          0.0768900182137746,
          0.23010066388691414,
          0.13691408730998858,
          0.03275772332218713,
          0.10264867536099125,
          0.20580780551618882,
          0.15226538281863292,
          0.12194372535481436,
          0.18759599644480365,
          0.10556536327358619,
          0.22361355768285524,
          0.14203333907862015,
          0.22118002858430297,
          0.18411221105817102,
          0.12903290411153692,
          0.13859565692749398,
          0.17724835613017784,
          0.14994368335657118,
          0.16054007400993786,
          0.10305582354517306,
          0.04804519863908011,
          0.2234912412704979,
          0.05559244691900359,
          0.1543995645359094,
          0.1342250553068321,
          0.1986327817178881,
          0.18458933845202247,
          0.1455379518898498,
          0.17685547818379313,
          0.0443682604887184,
          0.23658412639748683,
          0.1612781476012323,
          0.15047661333962342,
          0.18999901314854123,
          0.19087425683673256,
          0.2180650264252244,
          0.040041016311973585,
          0.17347665205869536,
          0.055611819632450564,
          0.16154809768668202,
          0.19355924520131798,
          0.11834207621078412,
          0.12247588816994262,
          0.15870139142237338,
          0.16897198810202976,
          0.05906545129764396,
          0.031499064641979165,
          0.20230778122314416,
          0.15175590936034358,
          0.0764874772743078,
          0.19657670711827568,
          0.19119180342673245,
          0.09925626085494986,
          0.14443921860302322,
          0.1526388815175938
         ],
         "yaxis": "y"
        }
       ],
       "layout": {
        "annotations": [
         {
          "font": {
           "color": "rgb(150,150,150)",
           "family": "Arial",
           "size": 12
          },
          "showarrow": false,
          "text": "Hazırlayan: Selim Savaş  Kaynak: TÜİK, T.C. Sağlık Bakanlığı",
          "x": -0.05,
          "xref": "paper",
          "y": -0.1,
          "yref": "paper"
         }
        ],
        "coloraxis": {
         "colorbar": {
          "title": {
           "text": "ToplamNufus"
          }
         },
         "colorscale": [
          [
           0,
           "rgb(224, 253, 74)"
          ],
          [
           0.09090909090909091,
           "rgb(222, 222, 59)"
          ],
          [
           0.18181818181818182,
           "rgb(217, 192, 44)"
          ],
          [
           0.2727272727272727,
           "rgb(209, 164, 32)"
          ],
          [
           0.36363636363636365,
           "rgb(199, 137, 22)"
          ],
          [
           0.45454545454545453,
           "rgb(188, 111, 19)"
          ],
          [
           0.5454545454545454,
           "rgb(174, 88, 20)"
          ],
          [
           0.6363636363636364,
           "rgb(157, 66, 25)"
          ],
          [
           0.7272727272727273,
           "rgb(135, 47, 32)"
          ],
          [
           0.8181818181818182,
           "rgb(108, 36, 36)"
          ],
          [
           0.9090909090909091,
           "rgb(79, 28, 33)"
          ],
          [
           1,
           "rgb(51, 19, 23)"
          ]
         ]
        },
        "height": 800,
        "legend": {
         "itemsizing": "constant",
         "tracegroupgap": 0
        },
        "margin": {
         "t": 60
        },
        "paper_bgcolor": "rgb(243, 243, 243)",
        "plot_bgcolor": "rgb(243, 243, 243)",
        "template": {
         "data": {
          "bar": [
           {
            "error_x": {
             "color": "#2a3f5f"
            },
            "error_y": {
             "color": "#2a3f5f"
            },
            "marker": {
             "line": {
              "color": "#E5ECF6",
              "width": 0.5
             }
            },
            "type": "bar"
           }
          ],
          "barpolar": [
           {
            "marker": {
             "line": {
              "color": "#E5ECF6",
              "width": 0.5
             }
            },
            "type": "barpolar"
           }
          ],
          "carpet": [
           {
            "aaxis": {
             "endlinecolor": "#2a3f5f",
             "gridcolor": "white",
             "linecolor": "white",
             "minorgridcolor": "white",
             "startlinecolor": "#2a3f5f"
            },
            "baxis": {
             "endlinecolor": "#2a3f5f",
             "gridcolor": "white",
             "linecolor": "white",
             "minorgridcolor": "white",
             "startlinecolor": "#2a3f5f"
            },
            "type": "carpet"
           }
          ],
          "choropleth": [
           {
            "colorbar": {
             "outlinewidth": 0,
             "ticks": ""
            },
            "type": "choropleth"
           }
          ],
          "contour": [
           {
            "colorbar": {
             "outlinewidth": 0,
             "ticks": ""
            },
            "colorscale": [
             [
              0,
              "#0d0887"
             ],
             [
              0.1111111111111111,
              "#46039f"
             ],
             [
              0.2222222222222222,
              "#7201a8"
             ],
             [
              0.3333333333333333,
              "#9c179e"
             ],
             [
              0.4444444444444444,
              "#bd3786"
             ],
             [
              0.5555555555555556,
              "#d8576b"
             ],
             [
              0.6666666666666666,
              "#ed7953"
             ],
             [
              0.7777777777777778,
              "#fb9f3a"
             ],
             [
              0.8888888888888888,
              "#fdca26"
             ],
             [
              1,
              "#f0f921"
             ]
            ],
            "type": "contour"
           }
          ],
          "contourcarpet": [
           {
            "colorbar": {
             "outlinewidth": 0,
             "ticks": ""
            },
            "type": "contourcarpet"
           }
          ],
          "heatmap": [
           {
            "colorbar": {
             "outlinewidth": 0,
             "ticks": ""
            },
            "colorscale": [
             [
              0,
              "#0d0887"
             ],
             [
              0.1111111111111111,
              "#46039f"
             ],
             [
              0.2222222222222222,
              "#7201a8"
             ],
             [
              0.3333333333333333,
              "#9c179e"
             ],
             [
              0.4444444444444444,
              "#bd3786"
             ],
             [
              0.5555555555555556,
              "#d8576b"
             ],
             [
              0.6666666666666666,
              "#ed7953"
             ],
             [
              0.7777777777777778,
              "#fb9f3a"
             ],
             [
              0.8888888888888888,
              "#fdca26"
             ],
             [
              1,
              "#f0f921"
             ]
            ],
            "type": "heatmap"
           }
          ],
          "heatmapgl": [
           {
            "colorbar": {
             "outlinewidth": 0,
             "ticks": ""
            },
            "colorscale": [
             [
              0,
              "#0d0887"
             ],
             [
              0.1111111111111111,
              "#46039f"
             ],
             [
              0.2222222222222222,
              "#7201a8"
             ],
             [
              0.3333333333333333,
              "#9c179e"
             ],
             [
              0.4444444444444444,
              "#bd3786"
             ],
             [
              0.5555555555555556,
              "#d8576b"
             ],
             [
              0.6666666666666666,
              "#ed7953"
             ],
             [
              0.7777777777777778,
              "#fb9f3a"
             ],
             [
              0.8888888888888888,
              "#fdca26"
             ],
             [
              1,
              "#f0f921"
             ]
            ],
            "type": "heatmapgl"
           }
          ],
          "histogram": [
           {
            "marker": {
             "colorbar": {
              "outlinewidth": 0,
              "ticks": ""
             }
            },
            "type": "histogram"
           }
          ],
          "histogram2d": [
           {
            "colorbar": {
             "outlinewidth": 0,
             "ticks": ""
            },
            "colorscale": [
             [
              0,
              "#0d0887"
             ],
             [
              0.1111111111111111,
              "#46039f"
             ],
             [
              0.2222222222222222,
              "#7201a8"
             ],
             [
              0.3333333333333333,
              "#9c179e"
             ],
             [
              0.4444444444444444,
              "#bd3786"
             ],
             [
              0.5555555555555556,
              "#d8576b"
             ],
             [
              0.6666666666666666,
              "#ed7953"
             ],
             [
              0.7777777777777778,
              "#fb9f3a"
             ],
             [
              0.8888888888888888,
              "#fdca26"
             ],
             [
              1,
              "#f0f921"
             ]
            ],
            "type": "histogram2d"
           }
          ],
          "histogram2dcontour": [
           {
            "colorbar": {
             "outlinewidth": 0,
             "ticks": ""
            },
            "colorscale": [
             [
              0,
              "#0d0887"
             ],
             [
              0.1111111111111111,
              "#46039f"
             ],
             [
              0.2222222222222222,
              "#7201a8"
             ],
             [
              0.3333333333333333,
              "#9c179e"
             ],
             [
              0.4444444444444444,
              "#bd3786"
             ],
             [
              0.5555555555555556,
              "#d8576b"
             ],
             [
              0.6666666666666666,
              "#ed7953"
             ],
             [
              0.7777777777777778,
              "#fb9f3a"
             ],
             [
              0.8888888888888888,
              "#fdca26"
             ],
             [
              1,
              "#f0f921"
             ]
            ],
            "type": "histogram2dcontour"
           }
          ],
          "mesh3d": [
           {
            "colorbar": {
             "outlinewidth": 0,
             "ticks": ""
            },
            "type": "mesh3d"
           }
          ],
          "parcoords": [
           {
            "line": {
             "colorbar": {
              "outlinewidth": 0,
              "ticks": ""
             }
            },
            "type": "parcoords"
           }
          ],
          "pie": [
           {
            "automargin": true,
            "type": "pie"
           }
          ],
          "scatter": [
           {
            "marker": {
             "colorbar": {
              "outlinewidth": 0,
              "ticks": ""
             }
            },
            "type": "scatter"
           }
          ],
          "scatter3d": [
           {
            "line": {
             "colorbar": {
              "outlinewidth": 0,
              "ticks": ""
             }
            },
            "marker": {
             "colorbar": {
              "outlinewidth": 0,
              "ticks": ""
             }
            },
            "type": "scatter3d"
           }
          ],
          "scattercarpet": [
           {
            "marker": {
             "colorbar": {
              "outlinewidth": 0,
              "ticks": ""
             }
            },
            "type": "scattercarpet"
           }
          ],
          "scattergeo": [
           {
            "marker": {
             "colorbar": {
              "outlinewidth": 0,
              "ticks": ""
             }
            },
            "type": "scattergeo"
           }
          ],
          "scattergl": [
           {
            "marker": {
             "colorbar": {
              "outlinewidth": 0,
              "ticks": ""
             }
            },
            "type": "scattergl"
           }
          ],
          "scattermapbox": [
           {
            "marker": {
             "colorbar": {
              "outlinewidth": 0,
              "ticks": ""
             }
            },
            "type": "scattermapbox"
           }
          ],
          "scatterpolar": [
           {
            "marker": {
             "colorbar": {
              "outlinewidth": 0,
              "ticks": ""
             }
            },
            "type": "scatterpolar"
           }
          ],
          "scatterpolargl": [
           {
            "marker": {
             "colorbar": {
              "outlinewidth": 0,
              "ticks": ""
             }
            },
            "type": "scatterpolargl"
           }
          ],
          "scatterternary": [
           {
            "marker": {
             "colorbar": {
              "outlinewidth": 0,
              "ticks": ""
             }
            },
            "type": "scatterternary"
           }
          ],
          "surface": [
           {
            "colorbar": {
             "outlinewidth": 0,
             "ticks": ""
            },
            "colorscale": [
             [
              0,
              "#0d0887"
             ],
             [
              0.1111111111111111,
              "#46039f"
             ],
             [
              0.2222222222222222,
              "#7201a8"
             ],
             [
              0.3333333333333333,
              "#9c179e"
             ],
             [
              0.4444444444444444,
              "#bd3786"
             ],
             [
              0.5555555555555556,
              "#d8576b"
             ],
             [
              0.6666666666666666,
              "#ed7953"
             ],
             [
              0.7777777777777778,
              "#fb9f3a"
             ],
             [
              0.8888888888888888,
              "#fdca26"
             ],
             [
              1,
              "#f0f921"
             ]
            ],
            "type": "surface"
           }
          ],
          "table": [
           {
            "cells": {
             "fill": {
              "color": "#EBF0F8"
             },
             "line": {
              "color": "white"
             }
            },
            "header": {
             "fill": {
              "color": "#C8D4E3"
             },
             "line": {
              "color": "white"
             }
            },
            "type": "table"
           }
          ]
         },
         "layout": {
          "annotationdefaults": {
           "arrowcolor": "#2a3f5f",
           "arrowhead": 0,
           "arrowwidth": 1
          },
          "coloraxis": {
           "colorbar": {
            "outlinewidth": 0,
            "ticks": ""
           }
          },
          "colorscale": {
           "diverging": [
            [
             0,
             "#8e0152"
            ],
            [
             0.1,
             "#c51b7d"
            ],
            [
             0.2,
             "#de77ae"
            ],
            [
             0.3,
             "#f1b6da"
            ],
            [
             0.4,
             "#fde0ef"
            ],
            [
             0.5,
             "#f7f7f7"
            ],
            [
             0.6,
             "#e6f5d0"
            ],
            [
             0.7,
             "#b8e186"
            ],
            [
             0.8,
             "#7fbc41"
            ],
            [
             0.9,
             "#4d9221"
            ],
            [
             1,
             "#276419"
            ]
           ],
           "sequential": [
            [
             0,
             "#0d0887"
            ],
            [
             0.1111111111111111,
             "#46039f"
            ],
            [
             0.2222222222222222,
             "#7201a8"
            ],
            [
             0.3333333333333333,
             "#9c179e"
            ],
            [
             0.4444444444444444,
             "#bd3786"
            ],
            [
             0.5555555555555556,
             "#d8576b"
            ],
            [
             0.6666666666666666,
             "#ed7953"
            ],
            [
             0.7777777777777778,
             "#fb9f3a"
            ],
            [
             0.8888888888888888,
             "#fdca26"
            ],
            [
             1,
             "#f0f921"
            ]
           ],
           "sequentialminus": [
            [
             0,
             "#0d0887"
            ],
            [
             0.1111111111111111,
             "#46039f"
            ],
            [
             0.2222222222222222,
             "#7201a8"
            ],
            [
             0.3333333333333333,
             "#9c179e"
            ],
            [
             0.4444444444444444,
             "#bd3786"
            ],
            [
             0.5555555555555556,
             "#d8576b"
            ],
            [
             0.6666666666666666,
             "#ed7953"
            ],
            [
             0.7777777777777778,
             "#fb9f3a"
            ],
            [
             0.8888888888888888,
             "#fdca26"
            ],
            [
             1,
             "#f0f921"
            ]
           ]
          },
          "colorway": [
           "#636efa",
           "#EF553B",
           "#00cc96",
           "#ab63fa",
           "#FFA15A",
           "#19d3f3",
           "#FF6692",
           "#B6E880",
           "#FF97FF",
           "#FECB52"
          ],
          "font": {
           "color": "#2a3f5f"
          },
          "geo": {
           "bgcolor": "white",
           "lakecolor": "white",
           "landcolor": "#E5ECF6",
           "showlakes": true,
           "showland": true,
           "subunitcolor": "white"
          },
          "hoverlabel": {
           "align": "left"
          },
          "hovermode": "closest",
          "mapbox": {
           "style": "light"
          },
          "paper_bgcolor": "white",
          "plot_bgcolor": "#E5ECF6",
          "polar": {
           "angularaxis": {
            "gridcolor": "white",
            "linecolor": "white",
            "ticks": ""
           },
           "bgcolor": "#E5ECF6",
           "radialaxis": {
            "gridcolor": "white",
            "linecolor": "white",
            "ticks": ""
           }
          },
          "scene": {
           "xaxis": {
            "backgroundcolor": "#E5ECF6",
            "gridcolor": "white",
            "gridwidth": 2,
            "linecolor": "white",
            "showbackground": true,
            "ticks": "",
            "zerolinecolor": "white"
           },
           "yaxis": {
            "backgroundcolor": "#E5ECF6",
            "gridcolor": "white",
            "gridwidth": 2,
            "linecolor": "white",
            "showbackground": true,
            "ticks": "",
            "zerolinecolor": "white"
           },
           "zaxis": {
            "backgroundcolor": "#E5ECF6",
            "gridcolor": "white",
            "gridwidth": 2,
            "linecolor": "white",
            "showbackground": true,
            "ticks": "",
            "zerolinecolor": "white"
           }
          },
          "shapedefaults": {
           "line": {
            "color": "#2a3f5f"
           }
          },
          "ternary": {
           "aaxis": {
            "gridcolor": "white",
            "linecolor": "white",
            "ticks": ""
           },
           "baxis": {
            "gridcolor": "white",
            "linecolor": "white",
            "ticks": ""
           },
           "bgcolor": "#E5ECF6",
           "caxis": {
            "gridcolor": "white",
            "linecolor": "white",
            "ticks": ""
           }
          },
          "title": {
           "x": 0.05
          },
          "xaxis": {
           "automargin": true,
           "gridcolor": "white",
           "linecolor": "white",
           "ticks": "",
           "title": {
            "standoff": 15
           },
           "zerolinecolor": "white",
           "zerolinewidth": 2
          },
          "yaxis": {
           "automargin": true,
           "gridcolor": "white",
           "linecolor": "white",
           "ticks": "",
           "title": {
            "standoff": 15
           },
           "zerolinecolor": "white",
           "zerolinewidth": 2
          }
         }
        },
        "title": {
         "text": "Yaşlı başına düşen vaka sayısı yüksek olduğu halde diğer illerimize göre aşılama oranı düşük ilimiz var mı?"
        },
        "width": 1200,
        "xaxis": {
         "anchor": "y",
         "domain": [
          0,
          1
         ],
         "gridcolor": "white",
         "gridwidth": 2,
         "title": {
          "text": "Yaşlı(50 ve üstü yaş) vatandaşımız başına düşen vaka sayısı (15-21 Mayıs)"
         }
        },
        "yaxis": {
         "anchor": "x",
         "domain": [
          0,
          1
         ],
         "gridcolor": "white",
         "gridwidth": 2,
         "title": {
          "text": "2 Doz aşı vurulan kişi oranı -Toplam- (23 Mayıs)"
         }
        }
       }
      },
      "text/html": [
       "<div>\n",
       "        \n",
       "        \n",
       "            <div id=\"4f07fdd8-8f24-45f3-88ef-2f4b60229eaa\" class=\"plotly-graph-div\" style=\"height:800px; width:1200px;\"></div>\n",
       "            <script type=\"text/javascript\">\n",
       "                require([\"plotly\"], function(Plotly) {\n",
       "                    window.PLOTLYENV=window.PLOTLYENV || {};\n",
       "                    \n",
       "                if (document.getElementById(\"4f07fdd8-8f24-45f3-88ef-2f4b60229eaa\")) {\n",
       "                    Plotly.newPlot(\n",
       "                        '4f07fdd8-8f24-45f3-88ef-2f4b60229eaa',\n",
       "                        [{\"hovertemplate\": \"<b>%{hovertext}</b><br><br>YasliBasinaDusenVakaSayisi=%{x}<br>AsiOrani=%{y}<br>ToplamNufus=%{marker.color}<br>text=%{text}<extra></extra>\", \"hovertext\": [\"Adana\", \"Ad\\u0131yaman\", \"Afyonkarahisar\", \"A\\u011fr\\u0131\", \"Amasya\", \"Ankara\", \"Antalya\", \"Artvin\", \"Ayd\\u0131n\", \"Bal\\u0131kesir\", \"Bilecik\", \"Bing\\u00f6l\", \"Bitlis\", \"Bolu\", \"Burdur\", \"Bursa\", \"\\u00c7anakkale\", \"\\u00c7ank\\u0131r\\u0131\", \"\\u00c7orum\", \"Denizli\", \"Diyarbak\\u0131r\", \"Edirne\", \"Elaz\\u0131\\u011f\", \"Erzincan\", \"Erzurum\", \"Eski\\u015fehir\", \"Gaziantep\", \"Giresun\", \"G\\u00fcm\\u00fc\\u015fhane\", \"Hakkari\", \"Hatay\", \"Isparta\", \"Mersin\", \"\\u0130stanbul\", \"\\u0130zmir\", \"Kars\", \"Kastamonu\", \"Kayseri\", \"K\\u0131rklareli\", \"K\\u0131r\\u015fehir\", \"Kocaeli\", \"Konya\", \"K\\u00fctahya\", \"Malatya\", \"Manisa\", \"Kahramanmara\\u015f\", \"Mardin\", \"Mu\\u011fla\", \"Mu\\u015f\", \"Nev\\u015fehir\", \"Ni\\u011fde\", \"Ordu\", \"Rize\", \"Sakarya\", \"Samsun\", \"Siirt\", \"Sinop\", \"Sivas\", \"Tekirda\\u011f\", \"Tokat\", \"Trabzon\", \"Tunceli\", \"\\u015eanl\\u0131urfa\", \"U\\u015fak\", \"Van\", \"Yozgat\", \"Zonguldak\", \"Aksaray\", \"Bayburt\", \"Karaman\", \"K\\u0131r\\u0131kkale\", \"Batman\", \"\\u015e\\u0131rnak\", \"Bart\\u0131n\", \"Ardahan\", \"I\\u011fd\\u0131r\", \"Yalova\", \"Karab\\u00fck\", \"Kilis\", \"Osmaniye\", \"D\\u00fczce\"], \"legendgroup\": \"\", \"marker\": {\"color\": [2258718, 632459, 736912, 535435, 335494, 5663322, 2548308, 169501, 1119084, 1240285, 218717, 281768, 350994, 314802, 267092, 3101833, 541548, 192428, 530126, 1040915, 1783431, 407763, 587960, 234431, 758279, 888828, 2101157, 448721, 141702, 280514, 1659320, 440304, 1868757, 15462452, 4394694, 284923, 376377, 1421455, 361737, 243042, 1997258, 2250020, 576688, 806156, 1450616, 1168163, 854716, 1000773, 411117, 304962, 362071, 761400, 344359, 1042649, 1356079, 331070, 216460, 635889, 1081065, 597861, 811901, 83443, 2115256, 369433, 1149342, 419095, 591204, 423011, 81910, 254919, 278703, 620278, 537762, 198979, 96161, 201314, 276050, 243614, 142792, 548556, 395679], \"coloraxis\": \"coloraxis\", \"size\": [2258718, 632459, 736912, 535435, 335494, 5663322, 2548308, 169501, 1119084, 1240285, 218717, 281768, 350994, 314802, 267092, 3101833, 541548, 192428, 530126, 1040915, 1783431, 407763, 587960, 234431, 758279, 888828, 2101157, 448721, 141702, 280514, 1659320, 440304, 1868757, 15462452, 4394694, 284923, 376377, 1421455, 361737, 243042, 1997258, 2250020, 576688, 806156, 1450616, 1168163, 854716, 1000773, 411117, 304962, 362071, 761400, 344359, 1042649, 1356079, 331070, 216460, 635889, 1081065, 597861, 811901, 83443, 2115256, 369433, 1149342, 419095, 591204, 423011, 81910, 254919, 278703, 620278, 537762, 198979, 96161, 201314, 276050, 243614, 142792, 548556, 395679], \"sizemode\": \"area\", \"sizeref\": 4295.125555555555, \"symbol\": \"circle\"}, \"mode\": \"markers+text\", \"name\": \"\", \"showlegend\": false, \"text\": [\"Adana\", \"Ad\\u0131yaman\", \"Afyonkarahisar\", \"A\\u011fr\\u0131\", \"Amasya\", \"Ankara\", \"Antalya\", \"Artvin\", \"Ayd\\u0131n\", \"Bal\\u0131kesir\", \"Bilecik\", \"Bing\\u00f6l\", \"Bitlis\", \"Bolu\", \"Burdur\", \"Bursa\", \"\\u00c7anakkale\", \"\\u00c7ank\\u0131r\\u0131\", \"\\u00c7orum\", \"Denizli\", \"Diyarbak\\u0131r\", \"Edirne\", \"Elaz\\u0131\\u011f\", \"Erzincan\", \"Erzurum\", \"Eski\\u015fehir\", \"Gaziantep\", \"Giresun\", \"G\\u00fcm\\u00fc\\u015fhane\", \"Hakkari\", \"Hatay\", \"Isparta\", \"Mersin\", \"\\u0130stanbul\", \"\\u0130zmir\", \"Kars\", \"Kastamonu\", \"Kayseri\", \"K\\u0131rklareli\", \"K\\u0131r\\u015fehir\", \"Kocaeli\", \"Konya\", \"K\\u00fctahya\", \"Malatya\", \"Manisa\", \"Kahramanmara\\u015f\", \"Mardin\", \"Mu\\u011fla\", \"Mu\\u015f\", \"Nev\\u015fehir\", \"Ni\\u011fde\", \"Ordu\", \"Rize\", \"Sakarya\", \"Samsun\", \"Siirt\", \"Sinop\", \"Sivas\", \"Tekirda\\u011f\", \"Tokat\", \"Trabzon\", \"Tunceli\", \"\\u015eanl\\u0131urfa\", \"U\\u015fak\", \"Van\", \"Yozgat\", \"Zonguldak\", \"Aksaray\", \"Bayburt\", \"Karaman\", \"K\\u0131r\\u0131kkale\", \"Batman\", \"\\u015e\\u0131rnak\", \"Bart\\u0131n\", \"Ardahan\", \"I\\u011fd\\u0131r\", \"Yalova\", \"Karab\\u00fck\", \"Kilis\", \"Osmaniye\", \"D\\u00fczce\"], \"textposition\": \"top center\", \"type\": \"scatter\", \"x\": [0.0007891571224170631, 0.002034964200043092, 0.0029339722243367076, 0.00932859750010665, 0.0023427584401173084, 0.004822891418017642, 0.0018425526995538041, 0.00202715112285126, 0.0009409915211160979, 0.0023781933878259786, 0.004174491906307978, 0.003540771828290368, 0.006629703614175076, 0.004426589956645207, 0.0027974198023437923, 0.0030740068814061054, 0.002026918331858498, 0.0027056968255346242, 0.002939241360042998, 0.002528446164107635, 0.004509210892956452, 0.0017041215949641154, 0.002399069624591374, 0.0032468851354182254, 0.006944946650131575, 0.0039956251223272335, 0.004168461566816459, 0.0022447977724614565, 0.005325249957534718, 0.005156661213634742, 0.0007578773452722378, 0.0033980911435790395, 0.0012811998804561058, 0.005643661291559089, 0.002439045514397139, 0.006489289491829044, 0.002605385593841898, 0.004943402634767694, 0.0031099185451898045, 0.0027756393219973588, 0.0059302038501809025, 0.0037836128472036484, 0.004184895732858549, 0.003492969038695617, 0.0020411757444861694, 0.0016982340439728417, 0.0035602451643098323, 0.0017524686794426062, 0.0029923864933980486, 0.0025970473322094135, 0.004139851493441726, 0.003447587263959724, 0.0036869522708357573, 0.0035457241691254446, 0.003226467313850101, 0.0026099272647480023, 0.001295616966640988, 0.003480085947046843, 0.0036355807847652335, 0.0034824278940905756, 0.0030169473806692035, 0.0024795109067357515, 0.004310062763797478, 0.0021099740228667286, 0.004056153065356703, 0.002856980523341106, 0.0038712269180360926, 0.0025080511976952676, 0.002512130204214542, 0.002695301566233463, 0.0030128069497582996, 0.0050593740757691325, 0.00373305703564728, 0.002401252346168311, 0.003827205022385904, 0.002826820113620618, 0.001603152233734536, 0.0022618243837104987, 0.002470259955395437, 0.0006650037559048421, 0.0043474812948032845], \"xaxis\": \"x\", \"y\": [0.1269653847890706, 0.10032745205618071, 0.15480952949605922, 0.05038333317769664, 0.219825093742362, 0.17634914631377133, 0.15913814185726372, 0.215768638533106, 0.21602131743461617, 0.24428417662069604, 0.1843295217107038, 0.084928025893643, 0.050445306757380466, 0.19818806742015616, 0.20908525901187605, 0.1400172091792176, 0.24978025955224653, 0.1959122373043424, 0.18864005915574789, 0.16747188771417454, 0.0588152835741893, 0.24561816545395243, 0.1381896727668549, 0.16423595855496925, 0.11408597626994814, 0.19593779673907663, 0.0768900182137746, 0.23010066388691414, 0.13691408730998858, 0.03275772332218713, 0.10264867536099125, 0.20580780551618882, 0.15226538281863292, 0.12194372535481436, 0.18759599644480365, 0.10556536327358619, 0.22361355768285524, 0.14203333907862015, 0.22118002858430297, 0.18411221105817102, 0.12903290411153692, 0.13859565692749398, 0.17724835613017784, 0.14994368335657118, 0.16054007400993786, 0.10305582354517306, 0.04804519863908011, 0.2234912412704979, 0.05559244691900359, 0.1543995645359094, 0.1342250553068321, 0.1986327817178881, 0.18458933845202247, 0.1455379518898498, 0.17685547818379313, 0.0443682604887184, 0.23658412639748683, 0.1612781476012323, 0.15047661333962342, 0.18999901314854123, 0.19087425683673256, 0.2180650264252244, 0.040041016311973585, 0.17347665205869536, 0.055611819632450564, 0.16154809768668202, 0.19355924520131798, 0.11834207621078412, 0.12247588816994262, 0.15870139142237338, 0.16897198810202976, 0.05906545129764396, 0.031499064641979165, 0.20230778122314416, 0.15175590936034358, 0.0764874772743078, 0.19657670711827568, 0.19119180342673245, 0.09925626085494986, 0.14443921860302322, 0.1526388815175938], \"yaxis\": \"y\"}],\n",
       "                        {\"annotations\": [{\"font\": {\"color\": \"rgb(150,150,150)\", \"family\": \"Arial\", \"size\": 12}, \"showarrow\": false, \"text\": \"Haz\\u0131rlayan: Selim Sava\\u015f  Kaynak: T\\u00dc\\u0130K, T.C. Sa\\u011fl\\u0131k Bakanl\\u0131\\u011f\\u0131\", \"x\": -0.05, \"xref\": \"paper\", \"y\": -0.1, \"yref\": \"paper\"}], \"coloraxis\": {\"colorbar\": {\"title\": {\"text\": \"ToplamNufus\"}}, \"colorscale\": [[0.0, \"rgb(224, 253, 74)\"], [0.09090909090909091, \"rgb(222, 222, 59)\"], [0.18181818181818182, \"rgb(217, 192, 44)\"], [0.2727272727272727, \"rgb(209, 164, 32)\"], [0.36363636363636365, \"rgb(199, 137, 22)\"], [0.45454545454545453, \"rgb(188, 111, 19)\"], [0.5454545454545454, \"rgb(174, 88, 20)\"], [0.6363636363636364, \"rgb(157, 66, 25)\"], [0.7272727272727273, \"rgb(135, 47, 32)\"], [0.8181818181818182, \"rgb(108, 36, 36)\"], [0.9090909090909091, \"rgb(79, 28, 33)\"], [1.0, \"rgb(51, 19, 23)\"]]}, \"height\": 800, \"legend\": {\"itemsizing\": \"constant\", \"tracegroupgap\": 0}, \"margin\": {\"t\": 60}, \"paper_bgcolor\": \"rgb(243, 243, 243)\", \"plot_bgcolor\": \"rgb(243, 243, 243)\", \"template\": {\"data\": {\"bar\": [{\"error_x\": {\"color\": \"#2a3f5f\"}, \"error_y\": {\"color\": \"#2a3f5f\"}, \"marker\": {\"line\": {\"color\": \"#E5ECF6\", \"width\": 0.5}}, \"type\": \"bar\"}], \"barpolar\": [{\"marker\": {\"line\": {\"color\": \"#E5ECF6\", \"width\": 0.5}}, \"type\": \"barpolar\"}], \"carpet\": [{\"aaxis\": {\"endlinecolor\": \"#2a3f5f\", \"gridcolor\": \"white\", \"linecolor\": \"white\", \"minorgridcolor\": \"white\", \"startlinecolor\": \"#2a3f5f\"}, \"baxis\": {\"endlinecolor\": \"#2a3f5f\", \"gridcolor\": \"white\", \"linecolor\": \"white\", \"minorgridcolor\": \"white\", \"startlinecolor\": \"#2a3f5f\"}, \"type\": \"carpet\"}], \"choropleth\": [{\"colorbar\": {\"outlinewidth\": 0, \"ticks\": \"\"}, \"type\": \"choropleth\"}], \"contour\": [{\"colorbar\": {\"outlinewidth\": 0, \"ticks\": \"\"}, \"colorscale\": [[0.0, \"#0d0887\"], [0.1111111111111111, \"#46039f\"], [0.2222222222222222, \"#7201a8\"], [0.3333333333333333, \"#9c179e\"], [0.4444444444444444, \"#bd3786\"], [0.5555555555555556, \"#d8576b\"], [0.6666666666666666, \"#ed7953\"], [0.7777777777777778, \"#fb9f3a\"], [0.8888888888888888, \"#fdca26\"], [1.0, \"#f0f921\"]], \"type\": \"contour\"}], \"contourcarpet\": [{\"colorbar\": {\"outlinewidth\": 0, \"ticks\": \"\"}, \"type\": \"contourcarpet\"}], \"heatmap\": [{\"colorbar\": {\"outlinewidth\": 0, \"ticks\": \"\"}, \"colorscale\": [[0.0, \"#0d0887\"], [0.1111111111111111, \"#46039f\"], [0.2222222222222222, \"#7201a8\"], [0.3333333333333333, \"#9c179e\"], [0.4444444444444444, \"#bd3786\"], [0.5555555555555556, \"#d8576b\"], [0.6666666666666666, \"#ed7953\"], [0.7777777777777778, \"#fb9f3a\"], [0.8888888888888888, \"#fdca26\"], [1.0, \"#f0f921\"]], \"type\": \"heatmap\"}], \"heatmapgl\": [{\"colorbar\": {\"outlinewidth\": 0, \"ticks\": \"\"}, \"colorscale\": [[0.0, \"#0d0887\"], [0.1111111111111111, \"#46039f\"], [0.2222222222222222, \"#7201a8\"], [0.3333333333333333, \"#9c179e\"], [0.4444444444444444, \"#bd3786\"], [0.5555555555555556, \"#d8576b\"], [0.6666666666666666, \"#ed7953\"], [0.7777777777777778, \"#fb9f3a\"], [0.8888888888888888, \"#fdca26\"], [1.0, \"#f0f921\"]], \"type\": \"heatmapgl\"}], \"histogram\": [{\"marker\": {\"colorbar\": {\"outlinewidth\": 0, \"ticks\": \"\"}}, \"type\": \"histogram\"}], \"histogram2d\": [{\"colorbar\": {\"outlinewidth\": 0, \"ticks\": \"\"}, \"colorscale\": [[0.0, \"#0d0887\"], [0.1111111111111111, \"#46039f\"], [0.2222222222222222, \"#7201a8\"], [0.3333333333333333, \"#9c179e\"], [0.4444444444444444, \"#bd3786\"], [0.5555555555555556, \"#d8576b\"], [0.6666666666666666, \"#ed7953\"], [0.7777777777777778, \"#fb9f3a\"], [0.8888888888888888, \"#fdca26\"], [1.0, \"#f0f921\"]], \"type\": \"histogram2d\"}], \"histogram2dcontour\": [{\"colorbar\": {\"outlinewidth\": 0, \"ticks\": \"\"}, \"colorscale\": [[0.0, \"#0d0887\"], [0.1111111111111111, \"#46039f\"], [0.2222222222222222, \"#7201a8\"], [0.3333333333333333, \"#9c179e\"], [0.4444444444444444, \"#bd3786\"], [0.5555555555555556, \"#d8576b\"], [0.6666666666666666, \"#ed7953\"], [0.7777777777777778, \"#fb9f3a\"], [0.8888888888888888, \"#fdca26\"], [1.0, \"#f0f921\"]], \"type\": \"histogram2dcontour\"}], \"mesh3d\": [{\"colorbar\": {\"outlinewidth\": 0, \"ticks\": \"\"}, \"type\": \"mesh3d\"}], \"parcoords\": [{\"line\": {\"colorbar\": {\"outlinewidth\": 0, \"ticks\": \"\"}}, \"type\": \"parcoords\"}], \"pie\": [{\"automargin\": true, \"type\": \"pie\"}], \"scatter\": [{\"marker\": {\"colorbar\": {\"outlinewidth\": 0, \"ticks\": \"\"}}, \"type\": \"scatter\"}], \"scatter3d\": [{\"line\": {\"colorbar\": {\"outlinewidth\": 0, \"ticks\": \"\"}}, \"marker\": {\"colorbar\": {\"outlinewidth\": 0, \"ticks\": \"\"}}, \"type\": \"scatter3d\"}], \"scattercarpet\": [{\"marker\": {\"colorbar\": {\"outlinewidth\": 0, \"ticks\": \"\"}}, \"type\": \"scattercarpet\"}], \"scattergeo\": [{\"marker\": {\"colorbar\": {\"outlinewidth\": 0, \"ticks\": \"\"}}, \"type\": \"scattergeo\"}], \"scattergl\": [{\"marker\": {\"colorbar\": {\"outlinewidth\": 0, \"ticks\": \"\"}}, \"type\": \"scattergl\"}], \"scattermapbox\": [{\"marker\": {\"colorbar\": {\"outlinewidth\": 0, \"ticks\": \"\"}}, \"type\": \"scattermapbox\"}], \"scatterpolar\": [{\"marker\": {\"colorbar\": {\"outlinewidth\": 0, \"ticks\": \"\"}}, \"type\": \"scatterpolar\"}], \"scatterpolargl\": [{\"marker\": {\"colorbar\": {\"outlinewidth\": 0, \"ticks\": \"\"}}, \"type\": \"scatterpolargl\"}], \"scatterternary\": [{\"marker\": {\"colorbar\": {\"outlinewidth\": 0, \"ticks\": \"\"}}, \"type\": \"scatterternary\"}], \"surface\": [{\"colorbar\": {\"outlinewidth\": 0, \"ticks\": \"\"}, \"colorscale\": [[0.0, \"#0d0887\"], [0.1111111111111111, \"#46039f\"], [0.2222222222222222, \"#7201a8\"], [0.3333333333333333, \"#9c179e\"], [0.4444444444444444, \"#bd3786\"], [0.5555555555555556, \"#d8576b\"], [0.6666666666666666, \"#ed7953\"], [0.7777777777777778, \"#fb9f3a\"], [0.8888888888888888, \"#fdca26\"], [1.0, \"#f0f921\"]], \"type\": \"surface\"}], \"table\": [{\"cells\": {\"fill\": {\"color\": \"#EBF0F8\"}, \"line\": {\"color\": \"white\"}}, \"header\": {\"fill\": {\"color\": \"#C8D4E3\"}, \"line\": {\"color\": \"white\"}}, \"type\": \"table\"}]}, \"layout\": {\"annotationdefaults\": {\"arrowcolor\": \"#2a3f5f\", \"arrowhead\": 0, \"arrowwidth\": 1}, \"coloraxis\": {\"colorbar\": {\"outlinewidth\": 0, \"ticks\": \"\"}}, \"colorscale\": {\"diverging\": [[0, \"#8e0152\"], [0.1, \"#c51b7d\"], [0.2, \"#de77ae\"], [0.3, \"#f1b6da\"], [0.4, \"#fde0ef\"], [0.5, \"#f7f7f7\"], [0.6, \"#e6f5d0\"], [0.7, \"#b8e186\"], [0.8, \"#7fbc41\"], [0.9, \"#4d9221\"], [1, \"#276419\"]], \"sequential\": [[0.0, \"#0d0887\"], [0.1111111111111111, \"#46039f\"], [0.2222222222222222, \"#7201a8\"], [0.3333333333333333, \"#9c179e\"], [0.4444444444444444, \"#bd3786\"], [0.5555555555555556, \"#d8576b\"], [0.6666666666666666, \"#ed7953\"], [0.7777777777777778, \"#fb9f3a\"], [0.8888888888888888, \"#fdca26\"], [1.0, \"#f0f921\"]], \"sequentialminus\": [[0.0, \"#0d0887\"], [0.1111111111111111, \"#46039f\"], [0.2222222222222222, \"#7201a8\"], [0.3333333333333333, \"#9c179e\"], [0.4444444444444444, \"#bd3786\"], [0.5555555555555556, \"#d8576b\"], [0.6666666666666666, \"#ed7953\"], [0.7777777777777778, \"#fb9f3a\"], [0.8888888888888888, \"#fdca26\"], [1.0, \"#f0f921\"]]}, \"colorway\": [\"#636efa\", \"#EF553B\", \"#00cc96\", \"#ab63fa\", \"#FFA15A\", \"#19d3f3\", \"#FF6692\", \"#B6E880\", \"#FF97FF\", \"#FECB52\"], \"font\": {\"color\": \"#2a3f5f\"}, \"geo\": {\"bgcolor\": \"white\", \"lakecolor\": \"white\", \"landcolor\": \"#E5ECF6\", \"showlakes\": true, \"showland\": true, \"subunitcolor\": \"white\"}, \"hoverlabel\": {\"align\": \"left\"}, \"hovermode\": \"closest\", \"mapbox\": {\"style\": \"light\"}, \"paper_bgcolor\": \"white\", \"plot_bgcolor\": \"#E5ECF6\", \"polar\": {\"angularaxis\": {\"gridcolor\": \"white\", \"linecolor\": \"white\", \"ticks\": \"\"}, \"bgcolor\": \"#E5ECF6\", \"radialaxis\": {\"gridcolor\": \"white\", \"linecolor\": \"white\", \"ticks\": \"\"}}, \"scene\": {\"xaxis\": {\"backgroundcolor\": \"#E5ECF6\", \"gridcolor\": \"white\", \"gridwidth\": 2, \"linecolor\": \"white\", \"showbackground\": true, \"ticks\": \"\", \"zerolinecolor\": \"white\"}, \"yaxis\": {\"backgroundcolor\": \"#E5ECF6\", \"gridcolor\": \"white\", \"gridwidth\": 2, \"linecolor\": \"white\", \"showbackground\": true, \"ticks\": \"\", \"zerolinecolor\": \"white\"}, \"zaxis\": {\"backgroundcolor\": \"#E5ECF6\", \"gridcolor\": \"white\", \"gridwidth\": 2, \"linecolor\": \"white\", \"showbackground\": true, \"ticks\": \"\", \"zerolinecolor\": \"white\"}}, \"shapedefaults\": {\"line\": {\"color\": \"#2a3f5f\"}}, \"ternary\": {\"aaxis\": {\"gridcolor\": \"white\", \"linecolor\": \"white\", \"ticks\": \"\"}, \"baxis\": {\"gridcolor\": \"white\", \"linecolor\": \"white\", \"ticks\": \"\"}, \"bgcolor\": \"#E5ECF6\", \"caxis\": {\"gridcolor\": \"white\", \"linecolor\": \"white\", \"ticks\": \"\"}}, \"title\": {\"x\": 0.05}, \"xaxis\": {\"automargin\": true, \"gridcolor\": \"white\", \"linecolor\": \"white\", \"ticks\": \"\", \"title\": {\"standoff\": 15}, \"zerolinecolor\": \"white\", \"zerolinewidth\": 2}, \"yaxis\": {\"automargin\": true, \"gridcolor\": \"white\", \"linecolor\": \"white\", \"ticks\": \"\", \"title\": {\"standoff\": 15}, \"zerolinecolor\": \"white\", \"zerolinewidth\": 2}}}, \"title\": {\"text\": \"Ya\\u015fl\\u0131 ba\\u015f\\u0131na d\\u00fc\\u015fen vaka say\\u0131s\\u0131 y\\u00fcksek oldu\\u011fu halde di\\u011fer illerimize g\\u00f6re a\\u015f\\u0131lama oran\\u0131 d\\u00fc\\u015f\\u00fck ilimiz var m\\u0131?\"}, \"width\": 1200, \"xaxis\": {\"anchor\": \"y\", \"domain\": [0.0, 1.0], \"gridcolor\": \"white\", \"gridwidth\": 2, \"title\": {\"text\": \"Ya\\u015fl\\u0131(50 ve \\u00fcst\\u00fc ya\\u015f) vatanda\\u015f\\u0131m\\u0131z ba\\u015f\\u0131na d\\u00fc\\u015fen vaka say\\u0131s\\u0131 (15-21 May\\u0131s)\"}}, \"yaxis\": {\"anchor\": \"x\", \"domain\": [0.0, 1.0], \"gridcolor\": \"white\", \"gridwidth\": 2, \"title\": {\"text\": \"2 Doz a\\u015f\\u0131 vurulan ki\\u015fi oran\\u0131 -Toplam- (23 May\\u0131s)\"}}},\n",
       "                        {\"responsive\": true}\n",
       "                    ).then(function(){\n",
       "                            \n",
       "var gd = document.getElementById('4f07fdd8-8f24-45f3-88ef-2f4b60229eaa');\n",
       "var x = new MutationObserver(function (mutations, observer) {{\n",
       "        var display = window.getComputedStyle(gd).display;\n",
       "        if (!display || display === 'none') {{\n",
       "            console.log([gd, 'removed!']);\n",
       "            Plotly.purge(gd);\n",
       "            observer.disconnect();\n",
       "        }}\n",
       "}});\n",
       "\n",
       "// Listen for the removal of the full notebook cells\n",
       "var notebookContainer = gd.closest('#notebook-container');\n",
       "if (notebookContainer) {{\n",
       "    x.observe(notebookContainer, {childList: true});\n",
       "}}\n",
       "\n",
       "// Listen for the clearing of the current output cell\n",
       "var outputEl = gd.closest('.output');\n",
       "if (outputEl) {{\n",
       "    x.observe(outputEl, {childList: true});\n",
       "}}\n",
       "\n",
       "                        })\n",
       "                };\n",
       "                });\n",
       "            </script>\n",
       "        </div>"
      ]
     },
     "metadata": {},
     "output_type": "display_data"
    }
   ],
   "source": [
    "veri_paleti = veri_paleti[0:81]\n",
    "\n",
    "\n",
    "fig = px.scatter(veri_paleti, x=\"YasliBasinaDusenVakaSayisi\", y=\"AsiOrani\",\n",
    "           size=\"ToplamNufus\", color=veri_paleti[\"ToplamNufus\"],\n",
    "                 hover_name=veri_paleti.index,\n",
    "                 color_continuous_scale='Solar_r', size_max=60,text=veri_paleti.index)\n",
    "\n",
    "fig.update_traces(textposition='top center')\n",
    "\n",
    "fig.update_layout(\n",
    "    height=800,\n",
    "    width=1200,\n",
    "    title='Yaşlı başına düşen vaka sayısı yüksek olduğu halde diğer illerimize göre aşılama oranı düşük ilimiz var mı?',\n",
    "    xaxis=dict(\n",
    "        title='Yaşlı(50 ve üstü yaş) vatandaşımız başına düşen vaka sayısı (15-21 Mayıs)',\n",
    "        gridcolor='white',\n",
    "        gridwidth=2,\n",
    "    ),\n",
    "    yaxis=dict(\n",
    "        title='2 Doz aşı vurulan kişi oranı -Toplam- (23 Mayıs)',\n",
    "        gridcolor='white',\n",
    "        gridwidth=2,\n",
    "    ),\n",
    "    paper_bgcolor='rgb(243, 243, 243)',\n",
    "    plot_bgcolor='rgb(243, 243, 243)',\n",
    "\n",
    ")\n",
    "fig.add_annotation(text=\"Hazırlayan: Selim Savaş  \"+ \"Kaynak: TÜİK, T.C. Sağlık Bakanlığı\",\n",
    "                  xref=\"paper\", yref=\"paper\",\n",
    "                  x=-0.050, y=-0.100, showarrow=False,\n",
    "                  font=dict(family='Arial', size=12, color='rgb(150,150,150)'))\n",
    "\n",
    "fig.show()"
   ]
  },
  {
   "cell_type": "markdown",
   "metadata": {},
   "source": [
    "### Şehirleri 7 adet kategoriye alalım ve görselleştirelim."
   ]
  },
  {
   "cell_type": "code",
   "execution_count": 75,
   "metadata": {},
   "outputs": [],
   "source": [
    "veri_paleti = veri_paleti[0:81]\n",
    "veri_paleti['NufusStatu'] = 0\n",
    "\n",
    "\n",
    "# Kategori oluşturma\n",
    "\n",
    "index = 0\n",
    "for i in veri_paleti['ToplamNufus']:\n",
    "    \n",
    "    if(i< 100000):\n",
    "        veri_paleti['NufusStatu'][index] = 1\n",
    "    elif(i< 250000):\n",
    "        veri_paleti['NufusStatu'][index] = 2\n",
    "    elif(i< 500000):\n",
    "        veri_paleti['NufusStatu'][index] = 3\n",
    "    elif(i< 1000000):\n",
    "        veri_paleti['NufusStatu'][index] = 4\n",
    "    elif(i< 3000000):\n",
    "        veri_paleti['NufusStatu'][index] = 5\n",
    "    elif(i< 1000000):\n",
    "        veri_paleti['NufusStatu'][index] = 6\n",
    "    else:\n",
    "        veri_paleti['NufusStatu'][index] = 7\n",
    "    index += 1"
   ]
  },
  {
   "cell_type": "code",
   "execution_count": 79,
   "metadata": {},
   "outputs": [
    {
     "data": {
      "application/vnd.plotly.v1+json": {
       "config": {
        "plotlyServerURL": "https://plot.ly"
       },
       "data": [
        {
         "hovertemplate": "<b>%{hovertext}</b><br><br>YasliBasinaDusenVakaSayisi=%{x}<br>AsiOrani=%{y}<br>ToplamNufus=%{marker.size}<br>text=%{text}<br>NufusStatu=%{marker.color}<extra></extra>",
         "hovertext": [
          "Adana",
          "Adıyaman",
          "Afyonkarahisar",
          "Ağrı",
          "Amasya",
          "Ankara",
          "Antalya",
          "Artvin",
          "Aydın",
          "Balıkesir",
          "Bilecik",
          "Bingöl",
          "Bitlis",
          "Bolu",
          "Burdur",
          "Bursa",
          "Çanakkale",
          "Çankırı",
          "Çorum",
          "Denizli",
          "Diyarbakır",
          "Edirne",
          "Elazığ",
          "Erzincan",
          "Erzurum",
          "Eskişehir",
          "Gaziantep",
          "Giresun",
          "Gümüşhane",
          "Hakkari",
          "Hatay",
          "Isparta",
          "Mersin",
          "İstanbul",
          "İzmir",
          "Kars",
          "Kastamonu",
          "Kayseri",
          "Kırklareli",
          "Kırşehir",
          "Kocaeli",
          "Konya",
          "Kütahya",
          "Malatya",
          "Manisa",
          "Kahramanmaraş",
          "Mardin",
          "Muğla",
          "Muş",
          "Nevşehir",
          "Niğde",
          "Ordu",
          "Rize",
          "Sakarya",
          "Samsun",
          "Siirt",
          "Sinop",
          "Sivas",
          "Tekirdağ",
          "Tokat",
          "Trabzon",
          "Tunceli",
          "Şanlıurfa",
          "Uşak",
          "Van",
          "Yozgat",
          "Zonguldak",
          "Aksaray",
          "Bayburt",
          "Karaman",
          "Kırıkkale",
          "Batman",
          "Şırnak",
          "Bartın",
          "Ardahan",
          "Iğdır",
          "Yalova",
          "Karabük",
          "Kilis",
          "Osmaniye",
          "Düzce"
         ],
         "legendgroup": "",
         "marker": {
          "color": [
           5,
           4,
           4,
           4,
           3,
           7,
           5,
           2,
           5,
           5,
           2,
           3,
           3,
           3,
           3,
           7,
           4,
           2,
           4,
           5,
           5,
           3,
           4,
           2,
           4,
           4,
           5,
           3,
           2,
           3,
           5,
           3,
           5,
           7,
           7,
           3,
           3,
           5,
           3,
           2,
           5,
           5,
           4,
           4,
           5,
           5,
           4,
           5,
           3,
           3,
           3,
           4,
           3,
           5,
           5,
           3,
           2,
           4,
           5,
           4,
           4,
           1,
           5,
           3,
           5,
           3,
           4,
           3,
           1,
           3,
           3,
           4,
           4,
           2,
           1,
           2,
           3,
           2,
           2,
           4,
           3
          ],
          "coloraxis": "coloraxis",
          "size": [
           2258718,
           632459,
           736912,
           535435,
           335494,
           5663322,
           2548308,
           169501,
           1119084,
           1240285,
           218717,
           281768,
           350994,
           314802,
           267092,
           3101833,
           541548,
           192428,
           530126,
           1040915,
           1783431,
           407763,
           587960,
           234431,
           758279,
           888828,
           2101157,
           448721,
           141702,
           280514,
           1659320,
           440304,
           1868757,
           15462452,
           4394694,
           284923,
           376377,
           1421455,
           361737,
           243042,
           1997258,
           2250020,
           576688,
           806156,
           1450616,
           1168163,
           854716,
           1000773,
           411117,
           304962,
           362071,
           761400,
           344359,
           1042649,
           1356079,
           331070,
           216460,
           635889,
           1081065,
           597861,
           811901,
           83443,
           2115256,
           369433,
           1149342,
           419095,
           591204,
           423011,
           81910,
           254919,
           278703,
           620278,
           537762,
           198979,
           96161,
           201314,
           276050,
           243614,
           142792,
           548556,
           395679
          ],
          "sizemode": "area",
          "sizeref": 2748.8803555555555,
          "symbol": "circle"
         },
         "mode": "markers+text",
         "name": "",
         "showlegend": false,
         "text": [
          "Adana",
          "Adıyaman",
          "Afyonkarahisar",
          "Ağrı",
          "Amasya",
          "Ankara",
          "Antalya",
          "Artvin",
          "Aydın",
          "Balıkesir",
          "Bilecik",
          "Bingöl",
          "Bitlis",
          "Bolu",
          "Burdur",
          "Bursa",
          "Çanakkale",
          "Çankırı",
          "Çorum",
          "Denizli",
          "Diyarbakır",
          "Edirne",
          "Elazığ",
          "Erzincan",
          "Erzurum",
          "Eskişehir",
          "Gaziantep",
          "Giresun",
          "Gümüşhane",
          "Hakkari",
          "Hatay",
          "Isparta",
          "Mersin",
          "İstanbul",
          "İzmir",
          "Kars",
          "Kastamonu",
          "Kayseri",
          "Kırklareli",
          "Kırşehir",
          "Kocaeli",
          "Konya",
          "Kütahya",
          "Malatya",
          "Manisa",
          "Kahramanmaraş",
          "Mardin",
          "Muğla",
          "Muş",
          "Nevşehir",
          "Niğde",
          "Ordu",
          "Rize",
          "Sakarya",
          "Samsun",
          "Siirt",
          "Sinop",
          "Sivas",
          "Tekirdağ",
          "Tokat",
          "Trabzon",
          "Tunceli",
          "Şanlıurfa",
          "Uşak",
          "Van",
          "Yozgat",
          "Zonguldak",
          "Aksaray",
          "Bayburt",
          "Karaman",
          "Kırıkkale",
          "Batman",
          "Şırnak",
          "Bartın",
          "Ardahan",
          "Iğdır",
          "Yalova",
          "Karabük",
          "Kilis",
          "Osmaniye",
          "Düzce"
         ],
         "textposition": "top center",
         "type": "scatter",
         "x": [
          0.0007891571224170631,
          0.002034964200043092,
          0.0029339722243367076,
          0.00932859750010665,
          0.0023427584401173084,
          0.004822891418017642,
          0.0018425526995538041,
          0.00202715112285126,
          0.0009409915211160979,
          0.0023781933878259786,
          0.004174491906307978,
          0.003540771828290368,
          0.006629703614175076,
          0.004426589956645207,
          0.0027974198023437923,
          0.0030740068814061054,
          0.002026918331858498,
          0.0027056968255346242,
          0.002939241360042998,
          0.002528446164107635,
          0.004509210892956452,
          0.0017041215949641154,
          0.002399069624591374,
          0.0032468851354182254,
          0.006944946650131575,
          0.0039956251223272335,
          0.004168461566816459,
          0.0022447977724614565,
          0.005325249957534718,
          0.005156661213634742,
          0.0007578773452722378,
          0.0033980911435790395,
          0.0012811998804561058,
          0.005643661291559089,
          0.002439045514397139,
          0.006489289491829044,
          0.002605385593841898,
          0.004943402634767694,
          0.0031099185451898045,
          0.0027756393219973588,
          0.0059302038501809025,
          0.0037836128472036484,
          0.004184895732858549,
          0.003492969038695617,
          0.0020411757444861694,
          0.0016982340439728417,
          0.0035602451643098323,
          0.0017524686794426062,
          0.0029923864933980486,
          0.0025970473322094135,
          0.004139851493441726,
          0.003447587263959724,
          0.0036869522708357573,
          0.0035457241691254446,
          0.003226467313850101,
          0.0026099272647480023,
          0.001295616966640988,
          0.003480085947046843,
          0.0036355807847652335,
          0.0034824278940905756,
          0.0030169473806692035,
          0.0024795109067357515,
          0.004310062763797478,
          0.0021099740228667286,
          0.004056153065356703,
          0.002856980523341106,
          0.0038712269180360926,
          0.0025080511976952676,
          0.002512130204214542,
          0.002695301566233463,
          0.0030128069497582996,
          0.0050593740757691325,
          0.00373305703564728,
          0.002401252346168311,
          0.003827205022385904,
          0.002826820113620618,
          0.001603152233734536,
          0.0022618243837104987,
          0.002470259955395437,
          0.0006650037559048421,
          0.0043474812948032845
         ],
         "xaxis": "x",
         "y": [
          0.1269653847890706,
          0.10032745205618071,
          0.15480952949605922,
          0.05038333317769664,
          0.219825093742362,
          0.17634914631377133,
          0.15913814185726372,
          0.215768638533106,
          0.21602131743461617,
          0.24428417662069604,
          0.1843295217107038,
          0.084928025893643,
          0.050445306757380466,
          0.19818806742015616,
          0.20908525901187605,
          0.1400172091792176,
          0.24978025955224653,
          0.1959122373043424,
          0.18864005915574789,
          0.16747188771417454,
          0.0588152835741893,
          0.24561816545395243,
          0.1381896727668549,
          0.16423595855496925,
          0.11408597626994814,
          0.19593779673907663,
          0.0768900182137746,
          0.23010066388691414,
          0.13691408730998858,
          0.03275772332218713,
          0.10264867536099125,
          0.20580780551618882,
          0.15226538281863292,
          0.12194372535481436,
          0.18759599644480365,
          0.10556536327358619,
          0.22361355768285524,
          0.14203333907862015,
          0.22118002858430297,
          0.18411221105817102,
          0.12903290411153692,
          0.13859565692749398,
          0.17724835613017784,
          0.14994368335657118,
          0.16054007400993786,
          0.10305582354517306,
          0.04804519863908011,
          0.2234912412704979,
          0.05559244691900359,
          0.1543995645359094,
          0.1342250553068321,
          0.1986327817178881,
          0.18458933845202247,
          0.1455379518898498,
          0.17685547818379313,
          0.0443682604887184,
          0.23658412639748683,
          0.1612781476012323,
          0.15047661333962342,
          0.18999901314854123,
          0.19087425683673256,
          0.2180650264252244,
          0.040041016311973585,
          0.17347665205869536,
          0.055611819632450564,
          0.16154809768668202,
          0.19355924520131798,
          0.11834207621078412,
          0.12247588816994262,
          0.15870139142237338,
          0.16897198810202976,
          0.05906545129764396,
          0.031499064641979165,
          0.20230778122314416,
          0.15175590936034358,
          0.0764874772743078,
          0.19657670711827568,
          0.19119180342673245,
          0.09925626085494986,
          0.14443921860302322,
          0.1526388815175938
         ],
         "yaxis": "y"
        }
       ],
       "layout": {
        "annotations": [
         {
          "font": {
           "color": "rgb(150,150,150)",
           "family": "Arial",
           "size": 12
          },
          "showarrow": false,
          "text": "Hazırlayan: Selim Savaş  Kaynak: TÜİK, T.C. Sağlık Bakanlığı",
          "x": -0.05,
          "xref": "paper",
          "y": -0.1,
          "yref": "paper"
         }
        ],
        "coloraxis": {
         "colorbar": {
          "title": {
           "text": "NufusStatu"
          }
         },
         "colorscale": [
          [
           0,
           "rgb(224, 253, 74)"
          ],
          [
           0.09090909090909091,
           "rgb(222, 222, 59)"
          ],
          [
           0.18181818181818182,
           "rgb(217, 192, 44)"
          ],
          [
           0.2727272727272727,
           "rgb(209, 164, 32)"
          ],
          [
           0.36363636363636365,
           "rgb(199, 137, 22)"
          ],
          [
           0.45454545454545453,
           "rgb(188, 111, 19)"
          ],
          [
           0.5454545454545454,
           "rgb(174, 88, 20)"
          ],
          [
           0.6363636363636364,
           "rgb(157, 66, 25)"
          ],
          [
           0.7272727272727273,
           "rgb(135, 47, 32)"
          ],
          [
           0.8181818181818182,
           "rgb(108, 36, 36)"
          ],
          [
           0.9090909090909091,
           "rgb(79, 28, 33)"
          ],
          [
           1,
           "rgb(51, 19, 23)"
          ]
         ]
        },
        "height": 800,
        "legend": {
         "itemsizing": "constant",
         "tracegroupgap": 0
        },
        "margin": {
         "t": 60
        },
        "paper_bgcolor": "rgb(243, 243, 243)",
        "plot_bgcolor": "rgb(243, 243, 243)",
        "template": {
         "data": {
          "bar": [
           {
            "error_x": {
             "color": "#2a3f5f"
            },
            "error_y": {
             "color": "#2a3f5f"
            },
            "marker": {
             "line": {
              "color": "#E5ECF6",
              "width": 0.5
             }
            },
            "type": "bar"
           }
          ],
          "barpolar": [
           {
            "marker": {
             "line": {
              "color": "#E5ECF6",
              "width": 0.5
             }
            },
            "type": "barpolar"
           }
          ],
          "carpet": [
           {
            "aaxis": {
             "endlinecolor": "#2a3f5f",
             "gridcolor": "white",
             "linecolor": "white",
             "minorgridcolor": "white",
             "startlinecolor": "#2a3f5f"
            },
            "baxis": {
             "endlinecolor": "#2a3f5f",
             "gridcolor": "white",
             "linecolor": "white",
             "minorgridcolor": "white",
             "startlinecolor": "#2a3f5f"
            },
            "type": "carpet"
           }
          ],
          "choropleth": [
           {
            "colorbar": {
             "outlinewidth": 0,
             "ticks": ""
            },
            "type": "choropleth"
           }
          ],
          "contour": [
           {
            "colorbar": {
             "outlinewidth": 0,
             "ticks": ""
            },
            "colorscale": [
             [
              0,
              "#0d0887"
             ],
             [
              0.1111111111111111,
              "#46039f"
             ],
             [
              0.2222222222222222,
              "#7201a8"
             ],
             [
              0.3333333333333333,
              "#9c179e"
             ],
             [
              0.4444444444444444,
              "#bd3786"
             ],
             [
              0.5555555555555556,
              "#d8576b"
             ],
             [
              0.6666666666666666,
              "#ed7953"
             ],
             [
              0.7777777777777778,
              "#fb9f3a"
             ],
             [
              0.8888888888888888,
              "#fdca26"
             ],
             [
              1,
              "#f0f921"
             ]
            ],
            "type": "contour"
           }
          ],
          "contourcarpet": [
           {
            "colorbar": {
             "outlinewidth": 0,
             "ticks": ""
            },
            "type": "contourcarpet"
           }
          ],
          "heatmap": [
           {
            "colorbar": {
             "outlinewidth": 0,
             "ticks": ""
            },
            "colorscale": [
             [
              0,
              "#0d0887"
             ],
             [
              0.1111111111111111,
              "#46039f"
             ],
             [
              0.2222222222222222,
              "#7201a8"
             ],
             [
              0.3333333333333333,
              "#9c179e"
             ],
             [
              0.4444444444444444,
              "#bd3786"
             ],
             [
              0.5555555555555556,
              "#d8576b"
             ],
             [
              0.6666666666666666,
              "#ed7953"
             ],
             [
              0.7777777777777778,
              "#fb9f3a"
             ],
             [
              0.8888888888888888,
              "#fdca26"
             ],
             [
              1,
              "#f0f921"
             ]
            ],
            "type": "heatmap"
           }
          ],
          "heatmapgl": [
           {
            "colorbar": {
             "outlinewidth": 0,
             "ticks": ""
            },
            "colorscale": [
             [
              0,
              "#0d0887"
             ],
             [
              0.1111111111111111,
              "#46039f"
             ],
             [
              0.2222222222222222,
              "#7201a8"
             ],
             [
              0.3333333333333333,
              "#9c179e"
             ],
             [
              0.4444444444444444,
              "#bd3786"
             ],
             [
              0.5555555555555556,
              "#d8576b"
             ],
             [
              0.6666666666666666,
              "#ed7953"
             ],
             [
              0.7777777777777778,
              "#fb9f3a"
             ],
             [
              0.8888888888888888,
              "#fdca26"
             ],
             [
              1,
              "#f0f921"
             ]
            ],
            "type": "heatmapgl"
           }
          ],
          "histogram": [
           {
            "marker": {
             "colorbar": {
              "outlinewidth": 0,
              "ticks": ""
             }
            },
            "type": "histogram"
           }
          ],
          "histogram2d": [
           {
            "colorbar": {
             "outlinewidth": 0,
             "ticks": ""
            },
            "colorscale": [
             [
              0,
              "#0d0887"
             ],
             [
              0.1111111111111111,
              "#46039f"
             ],
             [
              0.2222222222222222,
              "#7201a8"
             ],
             [
              0.3333333333333333,
              "#9c179e"
             ],
             [
              0.4444444444444444,
              "#bd3786"
             ],
             [
              0.5555555555555556,
              "#d8576b"
             ],
             [
              0.6666666666666666,
              "#ed7953"
             ],
             [
              0.7777777777777778,
              "#fb9f3a"
             ],
             [
              0.8888888888888888,
              "#fdca26"
             ],
             [
              1,
              "#f0f921"
             ]
            ],
            "type": "histogram2d"
           }
          ],
          "histogram2dcontour": [
           {
            "colorbar": {
             "outlinewidth": 0,
             "ticks": ""
            },
            "colorscale": [
             [
              0,
              "#0d0887"
             ],
             [
              0.1111111111111111,
              "#46039f"
             ],
             [
              0.2222222222222222,
              "#7201a8"
             ],
             [
              0.3333333333333333,
              "#9c179e"
             ],
             [
              0.4444444444444444,
              "#bd3786"
             ],
             [
              0.5555555555555556,
              "#d8576b"
             ],
             [
              0.6666666666666666,
              "#ed7953"
             ],
             [
              0.7777777777777778,
              "#fb9f3a"
             ],
             [
              0.8888888888888888,
              "#fdca26"
             ],
             [
              1,
              "#f0f921"
             ]
            ],
            "type": "histogram2dcontour"
           }
          ],
          "mesh3d": [
           {
            "colorbar": {
             "outlinewidth": 0,
             "ticks": ""
            },
            "type": "mesh3d"
           }
          ],
          "parcoords": [
           {
            "line": {
             "colorbar": {
              "outlinewidth": 0,
              "ticks": ""
             }
            },
            "type": "parcoords"
           }
          ],
          "pie": [
           {
            "automargin": true,
            "type": "pie"
           }
          ],
          "scatter": [
           {
            "marker": {
             "colorbar": {
              "outlinewidth": 0,
              "ticks": ""
             }
            },
            "type": "scatter"
           }
          ],
          "scatter3d": [
           {
            "line": {
             "colorbar": {
              "outlinewidth": 0,
              "ticks": ""
             }
            },
            "marker": {
             "colorbar": {
              "outlinewidth": 0,
              "ticks": ""
             }
            },
            "type": "scatter3d"
           }
          ],
          "scattercarpet": [
           {
            "marker": {
             "colorbar": {
              "outlinewidth": 0,
              "ticks": ""
             }
            },
            "type": "scattercarpet"
           }
          ],
          "scattergeo": [
           {
            "marker": {
             "colorbar": {
              "outlinewidth": 0,
              "ticks": ""
             }
            },
            "type": "scattergeo"
           }
          ],
          "scattergl": [
           {
            "marker": {
             "colorbar": {
              "outlinewidth": 0,
              "ticks": ""
             }
            },
            "type": "scattergl"
           }
          ],
          "scattermapbox": [
           {
            "marker": {
             "colorbar": {
              "outlinewidth": 0,
              "ticks": ""
             }
            },
            "type": "scattermapbox"
           }
          ],
          "scatterpolar": [
           {
            "marker": {
             "colorbar": {
              "outlinewidth": 0,
              "ticks": ""
             }
            },
            "type": "scatterpolar"
           }
          ],
          "scatterpolargl": [
           {
            "marker": {
             "colorbar": {
              "outlinewidth": 0,
              "ticks": ""
             }
            },
            "type": "scatterpolargl"
           }
          ],
          "scatterternary": [
           {
            "marker": {
             "colorbar": {
              "outlinewidth": 0,
              "ticks": ""
             }
            },
            "type": "scatterternary"
           }
          ],
          "surface": [
           {
            "colorbar": {
             "outlinewidth": 0,
             "ticks": ""
            },
            "colorscale": [
             [
              0,
              "#0d0887"
             ],
             [
              0.1111111111111111,
              "#46039f"
             ],
             [
              0.2222222222222222,
              "#7201a8"
             ],
             [
              0.3333333333333333,
              "#9c179e"
             ],
             [
              0.4444444444444444,
              "#bd3786"
             ],
             [
              0.5555555555555556,
              "#d8576b"
             ],
             [
              0.6666666666666666,
              "#ed7953"
             ],
             [
              0.7777777777777778,
              "#fb9f3a"
             ],
             [
              0.8888888888888888,
              "#fdca26"
             ],
             [
              1,
              "#f0f921"
             ]
            ],
            "type": "surface"
           }
          ],
          "table": [
           {
            "cells": {
             "fill": {
              "color": "#EBF0F8"
             },
             "line": {
              "color": "white"
             }
            },
            "header": {
             "fill": {
              "color": "#C8D4E3"
             },
             "line": {
              "color": "white"
             }
            },
            "type": "table"
           }
          ]
         },
         "layout": {
          "annotationdefaults": {
           "arrowcolor": "#2a3f5f",
           "arrowhead": 0,
           "arrowwidth": 1
          },
          "coloraxis": {
           "colorbar": {
            "outlinewidth": 0,
            "ticks": ""
           }
          },
          "colorscale": {
           "diverging": [
            [
             0,
             "#8e0152"
            ],
            [
             0.1,
             "#c51b7d"
            ],
            [
             0.2,
             "#de77ae"
            ],
            [
             0.3,
             "#f1b6da"
            ],
            [
             0.4,
             "#fde0ef"
            ],
            [
             0.5,
             "#f7f7f7"
            ],
            [
             0.6,
             "#e6f5d0"
            ],
            [
             0.7,
             "#b8e186"
            ],
            [
             0.8,
             "#7fbc41"
            ],
            [
             0.9,
             "#4d9221"
            ],
            [
             1,
             "#276419"
            ]
           ],
           "sequential": [
            [
             0,
             "#0d0887"
            ],
            [
             0.1111111111111111,
             "#46039f"
            ],
            [
             0.2222222222222222,
             "#7201a8"
            ],
            [
             0.3333333333333333,
             "#9c179e"
            ],
            [
             0.4444444444444444,
             "#bd3786"
            ],
            [
             0.5555555555555556,
             "#d8576b"
            ],
            [
             0.6666666666666666,
             "#ed7953"
            ],
            [
             0.7777777777777778,
             "#fb9f3a"
            ],
            [
             0.8888888888888888,
             "#fdca26"
            ],
            [
             1,
             "#f0f921"
            ]
           ],
           "sequentialminus": [
            [
             0,
             "#0d0887"
            ],
            [
             0.1111111111111111,
             "#46039f"
            ],
            [
             0.2222222222222222,
             "#7201a8"
            ],
            [
             0.3333333333333333,
             "#9c179e"
            ],
            [
             0.4444444444444444,
             "#bd3786"
            ],
            [
             0.5555555555555556,
             "#d8576b"
            ],
            [
             0.6666666666666666,
             "#ed7953"
            ],
            [
             0.7777777777777778,
             "#fb9f3a"
            ],
            [
             0.8888888888888888,
             "#fdca26"
            ],
            [
             1,
             "#f0f921"
            ]
           ]
          },
          "colorway": [
           "#636efa",
           "#EF553B",
           "#00cc96",
           "#ab63fa",
           "#FFA15A",
           "#19d3f3",
           "#FF6692",
           "#B6E880",
           "#FF97FF",
           "#FECB52"
          ],
          "font": {
           "color": "#2a3f5f"
          },
          "geo": {
           "bgcolor": "white",
           "lakecolor": "white",
           "landcolor": "#E5ECF6",
           "showlakes": true,
           "showland": true,
           "subunitcolor": "white"
          },
          "hoverlabel": {
           "align": "left"
          },
          "hovermode": "closest",
          "mapbox": {
           "style": "light"
          },
          "paper_bgcolor": "white",
          "plot_bgcolor": "#E5ECF6",
          "polar": {
           "angularaxis": {
            "gridcolor": "white",
            "linecolor": "white",
            "ticks": ""
           },
           "bgcolor": "#E5ECF6",
           "radialaxis": {
            "gridcolor": "white",
            "linecolor": "white",
            "ticks": ""
           }
          },
          "scene": {
           "xaxis": {
            "backgroundcolor": "#E5ECF6",
            "gridcolor": "white",
            "gridwidth": 2,
            "linecolor": "white",
            "showbackground": true,
            "ticks": "",
            "zerolinecolor": "white"
           },
           "yaxis": {
            "backgroundcolor": "#E5ECF6",
            "gridcolor": "white",
            "gridwidth": 2,
            "linecolor": "white",
            "showbackground": true,
            "ticks": "",
            "zerolinecolor": "white"
           },
           "zaxis": {
            "backgroundcolor": "#E5ECF6",
            "gridcolor": "white",
            "gridwidth": 2,
            "linecolor": "white",
            "showbackground": true,
            "ticks": "",
            "zerolinecolor": "white"
           }
          },
          "shapedefaults": {
           "line": {
            "color": "#2a3f5f"
           }
          },
          "ternary": {
           "aaxis": {
            "gridcolor": "white",
            "linecolor": "white",
            "ticks": ""
           },
           "baxis": {
            "gridcolor": "white",
            "linecolor": "white",
            "ticks": ""
           },
           "bgcolor": "#E5ECF6",
           "caxis": {
            "gridcolor": "white",
            "linecolor": "white",
            "ticks": ""
           }
          },
          "title": {
           "x": 0.05
          },
          "xaxis": {
           "automargin": true,
           "gridcolor": "white",
           "linecolor": "white",
           "ticks": "",
           "title": {
            "standoff": 15
           },
           "zerolinecolor": "white",
           "zerolinewidth": 2
          },
          "yaxis": {
           "automargin": true,
           "gridcolor": "white",
           "linecolor": "white",
           "ticks": "",
           "title": {
            "standoff": 15
           },
           "zerolinecolor": "white",
           "zerolinewidth": 2
          }
         }
        },
        "title": {
         "text": "Yaşlı başına düşen vaka sayısı yüksek olduğu halde diğer illerimize göre aşılama oranı düşük ilimiz var mı?"
        },
        "width": 1200,
        "xaxis": {
         "anchor": "y",
         "domain": [
          0,
          1
         ],
         "gridcolor": "white",
         "gridwidth": 2,
         "title": {
          "text": "Yaşlı(50 ve üstü yaş) vatandaşımız başına düşen vaka sayısı (15-21 Mayıs)"
         }
        },
        "yaxis": {
         "anchor": "x",
         "domain": [
          0,
          1
         ],
         "gridcolor": "white",
         "gridwidth": 2,
         "title": {
          "text": "2 Doz aşı vurulan kişi oranı -Toplam- (21 Mayıs)"
         }
        }
       }
      },
      "text/html": [
       "<div>\n",
       "        \n",
       "        \n",
       "            <div id=\"c1a6ff99-1a6b-4393-ba7f-f5363526f469\" class=\"plotly-graph-div\" style=\"height:800px; width:1200px;\"></div>\n",
       "            <script type=\"text/javascript\">\n",
       "                require([\"plotly\"], function(Plotly) {\n",
       "                    window.PLOTLYENV=window.PLOTLYENV || {};\n",
       "                    \n",
       "                if (document.getElementById(\"c1a6ff99-1a6b-4393-ba7f-f5363526f469\")) {\n",
       "                    Plotly.newPlot(\n",
       "                        'c1a6ff99-1a6b-4393-ba7f-f5363526f469',\n",
       "                        [{\"hovertemplate\": \"<b>%{hovertext}</b><br><br>YasliBasinaDusenVakaSayisi=%{x}<br>AsiOrani=%{y}<br>ToplamNufus=%{marker.size}<br>text=%{text}<br>NufusStatu=%{marker.color}<extra></extra>\", \"hovertext\": [\"Adana\", \"Ad\\u0131yaman\", \"Afyonkarahisar\", \"A\\u011fr\\u0131\", \"Amasya\", \"Ankara\", \"Antalya\", \"Artvin\", \"Ayd\\u0131n\", \"Bal\\u0131kesir\", \"Bilecik\", \"Bing\\u00f6l\", \"Bitlis\", \"Bolu\", \"Burdur\", \"Bursa\", \"\\u00c7anakkale\", \"\\u00c7ank\\u0131r\\u0131\", \"\\u00c7orum\", \"Denizli\", \"Diyarbak\\u0131r\", \"Edirne\", \"Elaz\\u0131\\u011f\", \"Erzincan\", \"Erzurum\", \"Eski\\u015fehir\", \"Gaziantep\", \"Giresun\", \"G\\u00fcm\\u00fc\\u015fhane\", \"Hakkari\", \"Hatay\", \"Isparta\", \"Mersin\", \"\\u0130stanbul\", \"\\u0130zmir\", \"Kars\", \"Kastamonu\", \"Kayseri\", \"K\\u0131rklareli\", \"K\\u0131r\\u015fehir\", \"Kocaeli\", \"Konya\", \"K\\u00fctahya\", \"Malatya\", \"Manisa\", \"Kahramanmara\\u015f\", \"Mardin\", \"Mu\\u011fla\", \"Mu\\u015f\", \"Nev\\u015fehir\", \"Ni\\u011fde\", \"Ordu\", \"Rize\", \"Sakarya\", \"Samsun\", \"Siirt\", \"Sinop\", \"Sivas\", \"Tekirda\\u011f\", \"Tokat\", \"Trabzon\", \"Tunceli\", \"\\u015eanl\\u0131urfa\", \"U\\u015fak\", \"Van\", \"Yozgat\", \"Zonguldak\", \"Aksaray\", \"Bayburt\", \"Karaman\", \"K\\u0131r\\u0131kkale\", \"Batman\", \"\\u015e\\u0131rnak\", \"Bart\\u0131n\", \"Ardahan\", \"I\\u011fd\\u0131r\", \"Yalova\", \"Karab\\u00fck\", \"Kilis\", \"Osmaniye\", \"D\\u00fczce\"], \"legendgroup\": \"\", \"marker\": {\"color\": [5, 4, 4, 4, 3, 7, 5, 2, 5, 5, 2, 3, 3, 3, 3, 7, 4, 2, 4, 5, 5, 3, 4, 2, 4, 4, 5, 3, 2, 3, 5, 3, 5, 7, 7, 3, 3, 5, 3, 2, 5, 5, 4, 4, 5, 5, 4, 5, 3, 3, 3, 4, 3, 5, 5, 3, 2, 4, 5, 4, 4, 1, 5, 3, 5, 3, 4, 3, 1, 3, 3, 4, 4, 2, 1, 2, 3, 2, 2, 4, 3], \"coloraxis\": \"coloraxis\", \"size\": [2258718, 632459, 736912, 535435, 335494, 5663322, 2548308, 169501, 1119084, 1240285, 218717, 281768, 350994, 314802, 267092, 3101833, 541548, 192428, 530126, 1040915, 1783431, 407763, 587960, 234431, 758279, 888828, 2101157, 448721, 141702, 280514, 1659320, 440304, 1868757, 15462452, 4394694, 284923, 376377, 1421455, 361737, 243042, 1997258, 2250020, 576688, 806156, 1450616, 1168163, 854716, 1000773, 411117, 304962, 362071, 761400, 344359, 1042649, 1356079, 331070, 216460, 635889, 1081065, 597861, 811901, 83443, 2115256, 369433, 1149342, 419095, 591204, 423011, 81910, 254919, 278703, 620278, 537762, 198979, 96161, 201314, 276050, 243614, 142792, 548556, 395679], \"sizemode\": \"area\", \"sizeref\": 2748.8803555555555, \"symbol\": \"circle\"}, \"mode\": \"markers+text\", \"name\": \"\", \"showlegend\": false, \"text\": [\"Adana\", \"Ad\\u0131yaman\", \"Afyonkarahisar\", \"A\\u011fr\\u0131\", \"Amasya\", \"Ankara\", \"Antalya\", \"Artvin\", \"Ayd\\u0131n\", \"Bal\\u0131kesir\", \"Bilecik\", \"Bing\\u00f6l\", \"Bitlis\", \"Bolu\", \"Burdur\", \"Bursa\", \"\\u00c7anakkale\", \"\\u00c7ank\\u0131r\\u0131\", \"\\u00c7orum\", \"Denizli\", \"Diyarbak\\u0131r\", \"Edirne\", \"Elaz\\u0131\\u011f\", \"Erzincan\", \"Erzurum\", \"Eski\\u015fehir\", \"Gaziantep\", \"Giresun\", \"G\\u00fcm\\u00fc\\u015fhane\", \"Hakkari\", \"Hatay\", \"Isparta\", \"Mersin\", \"\\u0130stanbul\", \"\\u0130zmir\", \"Kars\", \"Kastamonu\", \"Kayseri\", \"K\\u0131rklareli\", \"K\\u0131r\\u015fehir\", \"Kocaeli\", \"Konya\", \"K\\u00fctahya\", \"Malatya\", \"Manisa\", \"Kahramanmara\\u015f\", \"Mardin\", \"Mu\\u011fla\", \"Mu\\u015f\", \"Nev\\u015fehir\", \"Ni\\u011fde\", \"Ordu\", \"Rize\", \"Sakarya\", \"Samsun\", \"Siirt\", \"Sinop\", \"Sivas\", \"Tekirda\\u011f\", \"Tokat\", \"Trabzon\", \"Tunceli\", \"\\u015eanl\\u0131urfa\", \"U\\u015fak\", \"Van\", \"Yozgat\", \"Zonguldak\", \"Aksaray\", \"Bayburt\", \"Karaman\", \"K\\u0131r\\u0131kkale\", \"Batman\", \"\\u015e\\u0131rnak\", \"Bart\\u0131n\", \"Ardahan\", \"I\\u011fd\\u0131r\", \"Yalova\", \"Karab\\u00fck\", \"Kilis\", \"Osmaniye\", \"D\\u00fczce\"], \"textposition\": \"top center\", \"type\": \"scatter\", \"x\": [0.0007891571224170631, 0.002034964200043092, 0.0029339722243367076, 0.00932859750010665, 0.0023427584401173084, 0.004822891418017642, 0.0018425526995538041, 0.00202715112285126, 0.0009409915211160979, 0.0023781933878259786, 0.004174491906307978, 0.003540771828290368, 0.006629703614175076, 0.004426589956645207, 0.0027974198023437923, 0.0030740068814061054, 0.002026918331858498, 0.0027056968255346242, 0.002939241360042998, 0.002528446164107635, 0.004509210892956452, 0.0017041215949641154, 0.002399069624591374, 0.0032468851354182254, 0.006944946650131575, 0.0039956251223272335, 0.004168461566816459, 0.0022447977724614565, 0.005325249957534718, 0.005156661213634742, 0.0007578773452722378, 0.0033980911435790395, 0.0012811998804561058, 0.005643661291559089, 0.002439045514397139, 0.006489289491829044, 0.002605385593841898, 0.004943402634767694, 0.0031099185451898045, 0.0027756393219973588, 0.0059302038501809025, 0.0037836128472036484, 0.004184895732858549, 0.003492969038695617, 0.0020411757444861694, 0.0016982340439728417, 0.0035602451643098323, 0.0017524686794426062, 0.0029923864933980486, 0.0025970473322094135, 0.004139851493441726, 0.003447587263959724, 0.0036869522708357573, 0.0035457241691254446, 0.003226467313850101, 0.0026099272647480023, 0.001295616966640988, 0.003480085947046843, 0.0036355807847652335, 0.0034824278940905756, 0.0030169473806692035, 0.0024795109067357515, 0.004310062763797478, 0.0021099740228667286, 0.004056153065356703, 0.002856980523341106, 0.0038712269180360926, 0.0025080511976952676, 0.002512130204214542, 0.002695301566233463, 0.0030128069497582996, 0.0050593740757691325, 0.00373305703564728, 0.002401252346168311, 0.003827205022385904, 0.002826820113620618, 0.001603152233734536, 0.0022618243837104987, 0.002470259955395437, 0.0006650037559048421, 0.0043474812948032845], \"xaxis\": \"x\", \"y\": [0.1269653847890706, 0.10032745205618071, 0.15480952949605922, 0.05038333317769664, 0.219825093742362, 0.17634914631377133, 0.15913814185726372, 0.215768638533106, 0.21602131743461617, 0.24428417662069604, 0.1843295217107038, 0.084928025893643, 0.050445306757380466, 0.19818806742015616, 0.20908525901187605, 0.1400172091792176, 0.24978025955224653, 0.1959122373043424, 0.18864005915574789, 0.16747188771417454, 0.0588152835741893, 0.24561816545395243, 0.1381896727668549, 0.16423595855496925, 0.11408597626994814, 0.19593779673907663, 0.0768900182137746, 0.23010066388691414, 0.13691408730998858, 0.03275772332218713, 0.10264867536099125, 0.20580780551618882, 0.15226538281863292, 0.12194372535481436, 0.18759599644480365, 0.10556536327358619, 0.22361355768285524, 0.14203333907862015, 0.22118002858430297, 0.18411221105817102, 0.12903290411153692, 0.13859565692749398, 0.17724835613017784, 0.14994368335657118, 0.16054007400993786, 0.10305582354517306, 0.04804519863908011, 0.2234912412704979, 0.05559244691900359, 0.1543995645359094, 0.1342250553068321, 0.1986327817178881, 0.18458933845202247, 0.1455379518898498, 0.17685547818379313, 0.0443682604887184, 0.23658412639748683, 0.1612781476012323, 0.15047661333962342, 0.18999901314854123, 0.19087425683673256, 0.2180650264252244, 0.040041016311973585, 0.17347665205869536, 0.055611819632450564, 0.16154809768668202, 0.19355924520131798, 0.11834207621078412, 0.12247588816994262, 0.15870139142237338, 0.16897198810202976, 0.05906545129764396, 0.031499064641979165, 0.20230778122314416, 0.15175590936034358, 0.0764874772743078, 0.19657670711827568, 0.19119180342673245, 0.09925626085494986, 0.14443921860302322, 0.1526388815175938], \"yaxis\": \"y\"}],\n",
       "                        {\"annotations\": [{\"font\": {\"color\": \"rgb(150,150,150)\", \"family\": \"Arial\", \"size\": 12}, \"showarrow\": false, \"text\": \"Haz\\u0131rlayan: Selim Sava\\u015f  Kaynak: T\\u00dc\\u0130K, T.C. Sa\\u011fl\\u0131k Bakanl\\u0131\\u011f\\u0131\", \"x\": -0.05, \"xref\": \"paper\", \"y\": -0.1, \"yref\": \"paper\"}], \"coloraxis\": {\"colorbar\": {\"title\": {\"text\": \"NufusStatu\"}}, \"colorscale\": [[0.0, \"rgb(224, 253, 74)\"], [0.09090909090909091, \"rgb(222, 222, 59)\"], [0.18181818181818182, \"rgb(217, 192, 44)\"], [0.2727272727272727, \"rgb(209, 164, 32)\"], [0.36363636363636365, \"rgb(199, 137, 22)\"], [0.45454545454545453, \"rgb(188, 111, 19)\"], [0.5454545454545454, \"rgb(174, 88, 20)\"], [0.6363636363636364, \"rgb(157, 66, 25)\"], [0.7272727272727273, \"rgb(135, 47, 32)\"], [0.8181818181818182, \"rgb(108, 36, 36)\"], [0.9090909090909091, \"rgb(79, 28, 33)\"], [1.0, \"rgb(51, 19, 23)\"]]}, \"height\": 800, \"legend\": {\"itemsizing\": \"constant\", \"tracegroupgap\": 0}, \"margin\": {\"t\": 60}, \"paper_bgcolor\": \"rgb(243, 243, 243)\", \"plot_bgcolor\": \"rgb(243, 243, 243)\", \"template\": {\"data\": {\"bar\": [{\"error_x\": {\"color\": \"#2a3f5f\"}, \"error_y\": {\"color\": \"#2a3f5f\"}, \"marker\": {\"line\": {\"color\": \"#E5ECF6\", \"width\": 0.5}}, \"type\": \"bar\"}], \"barpolar\": [{\"marker\": {\"line\": {\"color\": \"#E5ECF6\", \"width\": 0.5}}, \"type\": \"barpolar\"}], \"carpet\": [{\"aaxis\": {\"endlinecolor\": \"#2a3f5f\", \"gridcolor\": \"white\", \"linecolor\": \"white\", \"minorgridcolor\": \"white\", \"startlinecolor\": \"#2a3f5f\"}, \"baxis\": {\"endlinecolor\": \"#2a3f5f\", \"gridcolor\": \"white\", \"linecolor\": \"white\", \"minorgridcolor\": \"white\", \"startlinecolor\": \"#2a3f5f\"}, \"type\": \"carpet\"}], \"choropleth\": [{\"colorbar\": {\"outlinewidth\": 0, \"ticks\": \"\"}, \"type\": \"choropleth\"}], \"contour\": [{\"colorbar\": {\"outlinewidth\": 0, \"ticks\": \"\"}, \"colorscale\": [[0.0, \"#0d0887\"], [0.1111111111111111, \"#46039f\"], [0.2222222222222222, \"#7201a8\"], [0.3333333333333333, \"#9c179e\"], [0.4444444444444444, \"#bd3786\"], [0.5555555555555556, \"#d8576b\"], [0.6666666666666666, \"#ed7953\"], [0.7777777777777778, \"#fb9f3a\"], [0.8888888888888888, \"#fdca26\"], [1.0, \"#f0f921\"]], \"type\": \"contour\"}], \"contourcarpet\": [{\"colorbar\": {\"outlinewidth\": 0, \"ticks\": \"\"}, \"type\": \"contourcarpet\"}], \"heatmap\": [{\"colorbar\": {\"outlinewidth\": 0, \"ticks\": \"\"}, \"colorscale\": [[0.0, \"#0d0887\"], [0.1111111111111111, \"#46039f\"], [0.2222222222222222, \"#7201a8\"], [0.3333333333333333, \"#9c179e\"], [0.4444444444444444, \"#bd3786\"], [0.5555555555555556, \"#d8576b\"], [0.6666666666666666, \"#ed7953\"], [0.7777777777777778, \"#fb9f3a\"], [0.8888888888888888, \"#fdca26\"], [1.0, \"#f0f921\"]], \"type\": \"heatmap\"}], \"heatmapgl\": [{\"colorbar\": {\"outlinewidth\": 0, \"ticks\": \"\"}, \"colorscale\": [[0.0, \"#0d0887\"], [0.1111111111111111, \"#46039f\"], [0.2222222222222222, \"#7201a8\"], [0.3333333333333333, \"#9c179e\"], [0.4444444444444444, \"#bd3786\"], [0.5555555555555556, \"#d8576b\"], [0.6666666666666666, \"#ed7953\"], [0.7777777777777778, \"#fb9f3a\"], [0.8888888888888888, \"#fdca26\"], [1.0, \"#f0f921\"]], \"type\": \"heatmapgl\"}], \"histogram\": [{\"marker\": {\"colorbar\": {\"outlinewidth\": 0, \"ticks\": \"\"}}, \"type\": \"histogram\"}], \"histogram2d\": [{\"colorbar\": {\"outlinewidth\": 0, \"ticks\": \"\"}, \"colorscale\": [[0.0, \"#0d0887\"], [0.1111111111111111, \"#46039f\"], [0.2222222222222222, \"#7201a8\"], [0.3333333333333333, \"#9c179e\"], [0.4444444444444444, \"#bd3786\"], [0.5555555555555556, \"#d8576b\"], [0.6666666666666666, \"#ed7953\"], [0.7777777777777778, \"#fb9f3a\"], [0.8888888888888888, \"#fdca26\"], [1.0, \"#f0f921\"]], \"type\": \"histogram2d\"}], \"histogram2dcontour\": [{\"colorbar\": {\"outlinewidth\": 0, \"ticks\": \"\"}, \"colorscale\": [[0.0, \"#0d0887\"], [0.1111111111111111, \"#46039f\"], [0.2222222222222222, \"#7201a8\"], [0.3333333333333333, \"#9c179e\"], [0.4444444444444444, \"#bd3786\"], [0.5555555555555556, \"#d8576b\"], [0.6666666666666666, \"#ed7953\"], [0.7777777777777778, \"#fb9f3a\"], [0.8888888888888888, \"#fdca26\"], [1.0, \"#f0f921\"]], \"type\": \"histogram2dcontour\"}], \"mesh3d\": [{\"colorbar\": {\"outlinewidth\": 0, \"ticks\": \"\"}, \"type\": \"mesh3d\"}], \"parcoords\": [{\"line\": {\"colorbar\": {\"outlinewidth\": 0, \"ticks\": \"\"}}, \"type\": \"parcoords\"}], \"pie\": [{\"automargin\": true, \"type\": \"pie\"}], \"scatter\": [{\"marker\": {\"colorbar\": {\"outlinewidth\": 0, \"ticks\": \"\"}}, \"type\": \"scatter\"}], \"scatter3d\": [{\"line\": {\"colorbar\": {\"outlinewidth\": 0, \"ticks\": \"\"}}, \"marker\": {\"colorbar\": {\"outlinewidth\": 0, \"ticks\": \"\"}}, \"type\": \"scatter3d\"}], \"scattercarpet\": [{\"marker\": {\"colorbar\": {\"outlinewidth\": 0, \"ticks\": \"\"}}, \"type\": \"scattercarpet\"}], \"scattergeo\": [{\"marker\": {\"colorbar\": {\"outlinewidth\": 0, \"ticks\": \"\"}}, \"type\": \"scattergeo\"}], \"scattergl\": [{\"marker\": {\"colorbar\": {\"outlinewidth\": 0, \"ticks\": \"\"}}, \"type\": \"scattergl\"}], \"scattermapbox\": [{\"marker\": {\"colorbar\": {\"outlinewidth\": 0, \"ticks\": \"\"}}, \"type\": \"scattermapbox\"}], \"scatterpolar\": [{\"marker\": {\"colorbar\": {\"outlinewidth\": 0, \"ticks\": \"\"}}, \"type\": \"scatterpolar\"}], \"scatterpolargl\": [{\"marker\": {\"colorbar\": {\"outlinewidth\": 0, \"ticks\": \"\"}}, \"type\": \"scatterpolargl\"}], \"scatterternary\": [{\"marker\": {\"colorbar\": {\"outlinewidth\": 0, \"ticks\": \"\"}}, \"type\": \"scatterternary\"}], \"surface\": [{\"colorbar\": {\"outlinewidth\": 0, \"ticks\": \"\"}, \"colorscale\": [[0.0, \"#0d0887\"], [0.1111111111111111, \"#46039f\"], [0.2222222222222222, \"#7201a8\"], [0.3333333333333333, \"#9c179e\"], [0.4444444444444444, \"#bd3786\"], [0.5555555555555556, \"#d8576b\"], [0.6666666666666666, \"#ed7953\"], [0.7777777777777778, \"#fb9f3a\"], [0.8888888888888888, \"#fdca26\"], [1.0, \"#f0f921\"]], \"type\": \"surface\"}], \"table\": [{\"cells\": {\"fill\": {\"color\": \"#EBF0F8\"}, \"line\": {\"color\": \"white\"}}, \"header\": {\"fill\": {\"color\": \"#C8D4E3\"}, \"line\": {\"color\": \"white\"}}, \"type\": \"table\"}]}, \"layout\": {\"annotationdefaults\": {\"arrowcolor\": \"#2a3f5f\", \"arrowhead\": 0, \"arrowwidth\": 1}, \"coloraxis\": {\"colorbar\": {\"outlinewidth\": 0, \"ticks\": \"\"}}, \"colorscale\": {\"diverging\": [[0, \"#8e0152\"], [0.1, \"#c51b7d\"], [0.2, \"#de77ae\"], [0.3, \"#f1b6da\"], [0.4, \"#fde0ef\"], [0.5, \"#f7f7f7\"], [0.6, \"#e6f5d0\"], [0.7, \"#b8e186\"], [0.8, \"#7fbc41\"], [0.9, \"#4d9221\"], [1, \"#276419\"]], \"sequential\": [[0.0, \"#0d0887\"], [0.1111111111111111, \"#46039f\"], [0.2222222222222222, \"#7201a8\"], [0.3333333333333333, \"#9c179e\"], [0.4444444444444444, \"#bd3786\"], [0.5555555555555556, \"#d8576b\"], [0.6666666666666666, \"#ed7953\"], [0.7777777777777778, \"#fb9f3a\"], [0.8888888888888888, \"#fdca26\"], [1.0, \"#f0f921\"]], \"sequentialminus\": [[0.0, \"#0d0887\"], [0.1111111111111111, \"#46039f\"], [0.2222222222222222, \"#7201a8\"], [0.3333333333333333, \"#9c179e\"], [0.4444444444444444, \"#bd3786\"], [0.5555555555555556, \"#d8576b\"], [0.6666666666666666, \"#ed7953\"], [0.7777777777777778, \"#fb9f3a\"], [0.8888888888888888, \"#fdca26\"], [1.0, \"#f0f921\"]]}, \"colorway\": [\"#636efa\", \"#EF553B\", \"#00cc96\", \"#ab63fa\", \"#FFA15A\", \"#19d3f3\", \"#FF6692\", \"#B6E880\", \"#FF97FF\", \"#FECB52\"], \"font\": {\"color\": \"#2a3f5f\"}, \"geo\": {\"bgcolor\": \"white\", \"lakecolor\": \"white\", \"landcolor\": \"#E5ECF6\", \"showlakes\": true, \"showland\": true, \"subunitcolor\": \"white\"}, \"hoverlabel\": {\"align\": \"left\"}, \"hovermode\": \"closest\", \"mapbox\": {\"style\": \"light\"}, \"paper_bgcolor\": \"white\", \"plot_bgcolor\": \"#E5ECF6\", \"polar\": {\"angularaxis\": {\"gridcolor\": \"white\", \"linecolor\": \"white\", \"ticks\": \"\"}, \"bgcolor\": \"#E5ECF6\", \"radialaxis\": {\"gridcolor\": \"white\", \"linecolor\": \"white\", \"ticks\": \"\"}}, \"scene\": {\"xaxis\": {\"backgroundcolor\": \"#E5ECF6\", \"gridcolor\": \"white\", \"gridwidth\": 2, \"linecolor\": \"white\", \"showbackground\": true, \"ticks\": \"\", \"zerolinecolor\": \"white\"}, \"yaxis\": {\"backgroundcolor\": \"#E5ECF6\", \"gridcolor\": \"white\", \"gridwidth\": 2, \"linecolor\": \"white\", \"showbackground\": true, \"ticks\": \"\", \"zerolinecolor\": \"white\"}, \"zaxis\": {\"backgroundcolor\": \"#E5ECF6\", \"gridcolor\": \"white\", \"gridwidth\": 2, \"linecolor\": \"white\", \"showbackground\": true, \"ticks\": \"\", \"zerolinecolor\": \"white\"}}, \"shapedefaults\": {\"line\": {\"color\": \"#2a3f5f\"}}, \"ternary\": {\"aaxis\": {\"gridcolor\": \"white\", \"linecolor\": \"white\", \"ticks\": \"\"}, \"baxis\": {\"gridcolor\": \"white\", \"linecolor\": \"white\", \"ticks\": \"\"}, \"bgcolor\": \"#E5ECF6\", \"caxis\": {\"gridcolor\": \"white\", \"linecolor\": \"white\", \"ticks\": \"\"}}, \"title\": {\"x\": 0.05}, \"xaxis\": {\"automargin\": true, \"gridcolor\": \"white\", \"linecolor\": \"white\", \"ticks\": \"\", \"title\": {\"standoff\": 15}, \"zerolinecolor\": \"white\", \"zerolinewidth\": 2}, \"yaxis\": {\"automargin\": true, \"gridcolor\": \"white\", \"linecolor\": \"white\", \"ticks\": \"\", \"title\": {\"standoff\": 15}, \"zerolinecolor\": \"white\", \"zerolinewidth\": 2}}}, \"title\": {\"text\": \"Ya\\u015fl\\u0131 ba\\u015f\\u0131na d\\u00fc\\u015fen vaka say\\u0131s\\u0131 y\\u00fcksek oldu\\u011fu halde di\\u011fer illerimize g\\u00f6re a\\u015f\\u0131lama oran\\u0131 d\\u00fc\\u015f\\u00fck ilimiz var m\\u0131?\"}, \"width\": 1200, \"xaxis\": {\"anchor\": \"y\", \"domain\": [0.0, 1.0], \"gridcolor\": \"white\", \"gridwidth\": 2, \"title\": {\"text\": \"Ya\\u015fl\\u0131(50 ve \\u00fcst\\u00fc ya\\u015f) vatanda\\u015f\\u0131m\\u0131z ba\\u015f\\u0131na d\\u00fc\\u015fen vaka say\\u0131s\\u0131 (15-21 May\\u0131s)\"}}, \"yaxis\": {\"anchor\": \"x\", \"domain\": [0.0, 1.0], \"gridcolor\": \"white\", \"gridwidth\": 2, \"title\": {\"text\": \"2 Doz a\\u015f\\u0131 vurulan ki\\u015fi oran\\u0131 -Toplam- (21 May\\u0131s)\"}}},\n",
       "                        {\"responsive\": true}\n",
       "                    ).then(function(){\n",
       "                            \n",
       "var gd = document.getElementById('c1a6ff99-1a6b-4393-ba7f-f5363526f469');\n",
       "var x = new MutationObserver(function (mutations, observer) {{\n",
       "        var display = window.getComputedStyle(gd).display;\n",
       "        if (!display || display === 'none') {{\n",
       "            console.log([gd, 'removed!']);\n",
       "            Plotly.purge(gd);\n",
       "            observer.disconnect();\n",
       "        }}\n",
       "}});\n",
       "\n",
       "// Listen for the removal of the full notebook cells\n",
       "var notebookContainer = gd.closest('#notebook-container');\n",
       "if (notebookContainer) {{\n",
       "    x.observe(notebookContainer, {childList: true});\n",
       "}}\n",
       "\n",
       "// Listen for the clearing of the current output cell\n",
       "var outputEl = gd.closest('.output');\n",
       "if (outputEl) {{\n",
       "    x.observe(outputEl, {childList: true});\n",
       "}}\n",
       "\n",
       "                        })\n",
       "                };\n",
       "                });\n",
       "            </script>\n",
       "        </div>"
      ]
     },
     "metadata": {},
     "output_type": "display_data"
    }
   ],
   "source": [
    "veri_paleti = veri_paleti[0:81]\n",
    "\n",
    "\n",
    "fig = px.scatter(veri_paleti, x=\"YasliBasinaDusenVakaSayisi\", y=\"AsiOrani\",\n",
    "           size=\"ToplamNufus\", color=veri_paleti['NufusStatu'],\n",
    "                 hover_name=veri_paleti.index, size_max=75,\n",
    "                 color_continuous_scale='Solar_r', text=veri_paleti.index\n",
    "                 )\n",
    "\n",
    "fig.update_traces(textposition='top center')\n",
    "\n",
    "fig.update_layout(\n",
    "    height=800,\n",
    "    width=1200,\n",
    "    title='Yaşlı başına düşen vaka sayısı yüksek olduğu halde diğer illerimize göre aşılama oranı düşük ilimiz var mı?',\n",
    "    xaxis=dict(\n",
    "        title='Yaşlı(50 ve üstü yaş) vatandaşımız başına düşen vaka sayısı (15-21 Mayıs)',\n",
    "        gridcolor='white',\n",
    "        gridwidth=2,\n",
    "    ),\n",
    "    yaxis=dict(\n",
    "        title='2 Doz aşı vurulan kişi oranı -Toplam- (21 Mayıs)',\n",
    "        gridcolor='white',\n",
    "        gridwidth=2,\n",
    "    ),\n",
    "    paper_bgcolor='rgb(243, 243, 243)',\n",
    "    plot_bgcolor='rgb(243, 243, 243)',\n",
    ")\n",
    "fig.add_annotation(text=\"Hazırlayan: Selim Savaş  \"+ \"Kaynak: TÜİK, T.C. Sağlık Bakanlığı\",\n",
    "                  xref=\"paper\", yref=\"paper\",\n",
    "                  x=-0.050, y=-0.100, showarrow=False,\n",
    "                  font=dict(family='Arial', size=12, color='rgb(150,150,150)'))\n",
    "\n",
    "fig.show()"
   ]
  },
  {
   "cell_type": "markdown",
   "metadata": {},
   "source": [
    "## 5. Sonuç \n",
    "### 18.05.2021"
   ]
  },
  {
   "cell_type": "markdown",
   "metadata": {},
   "source": [
    "Yaşlı başına düşen vaka sayısı yüksek olduğu halde diğer illerimize göre aşılama oranı düşük ilimiz var mı?\n",
    "\n",
    "- Türkiye'nin geneli ortak şekilde aşılama çalışması yürütmektedir ama bazı illerimiz bu genelden farklılaşmaktadır.\n",
    "- Türkiye geneline uygun bir ili incelemek istersek bu Bursa olabilir. Aşılama oranı %13 olmasına karşın 1000 adet yaşlı vatandaşımız başına 4 adet covid19 vakası düşmektedir.\n",
    "- Sırasıyla en az aşılama oranına sahip 15 illerimiz: Şırnak, Hakkari, Şanlıurfa, Siirt, Ağrı, Mardin, Bitlis, Van, Muş, Batman, Diyarbakır, Iğdır, Gaziantep, Bingöl ve Kilis'dır. Buna rağmen bazı illerin yaşlı başına düşen vaka oranları da düşüktür.\n",
    "- Sırasıyla yaşlı başına düşen vaka sayısı da yüksek olan illerimiz: Ağrı, Erzurum, İstanbul, Hakkari, Kocaeli, Kars, Bitlis, Ankara, Erzurum, Tekirdağ, Kayseri, Bilecik, Rize, Bolu ve Konya'dır. Ağrı, İstanbul ve Erzurum gibi illere dikkat etmemiz gerekmektedir.\n",
    "- Türkiye'nin genelinden en ayrılmış şehrimiz Ağrıdır. Aşılama oranı %4 olan ilimizde 1000 adet yaşlı vatandaşın başına düşen covid-19 vakalı vatandaş sayısı 13'tür. Bu vaka sayısı, Türkiye genelinin yaklaşık 2–3 kat üstündeyken, aşılama oranı da 3 kat düşüktür. Ağrı ilinin aşılama çalışmaları sadece analizlerimiz çerçevesinden bakıldığında hız kazanması gerektiği görülmektedir.\n",
    "- Ağrı ili kadar Türkiye genelinin dışına çıkmamış ama yine de genelden uzaklaşmış illerimiz olduğunu görüyoruz. Bu iller Erzurum, İstanbul, Hakkari ve Bitlis ilimizdir.\n",
    "- İstanbul ilimizi incelemek istersek aşılma oranımız %14'tür ve 1000 adet yaşlı vatandaşımıza 8 adet vaka tekabül etmektedir.\n",
    "\n",
    "Bu analizler şehirlerin nüfuslarının yoğunluğu göz önüne alınmayarak düzenlenmiştir ve covid19 tehdidini etkileyen birçok daha faktör vardır. Çalışmalarımı sadece Yaşlı nüfus oranı ile Aşılama oranı üzerinden yürütülmüştür."
   ]
  },
  {
   "cell_type": "markdown",
   "metadata": {},
   "source": [
    "### 23.05.2021 "
   ]
  },
  {
   "cell_type": "markdown",
   "metadata": {},
   "source": [
    "Yaşlı başına düşen vaka sayısı yüksek olduğu halde diğer illerimize göre aşılama oranı düşük ilimiz var mı?\n",
    "\n",
    "* 18.05.2021 tarihindeki analizimize göre vaka sayılarında iyileşme görünmektedir. Bu iyileşme de doğal olarak illerin Yaşlı(50 ve üstü yaş) vatandaşımız başına düşen vaka sayısını da düşürmektedir.\n",
    "* Türkiye'nin genelinde aşılama çalışması da devam ettiği için aşılanmış nüfus sayısı da artarak illerdeki aşılanma oranları artmıştır. Lakin bu değerler çok büyük artışlar değildir.\n",
    "* Sırasıyla en az aşılama oranına sahip 10 ilimiz: Şırnak, Hakkari, Şanlıurfa, Siirt, Mardin, Ağrı, Bitlis, Muş, Van ve Diyarbakır'dır. Buna rağmen bazı illerin yaşlı başına düşen vaka oranları da düşüktür.\n",
    "* Sırasıyla yaşlı başına düşen vaka sayısı da yüksek olan illerimiz: Ağrı, Erzurum, Bitlis, Kars, Kocaeli, İstanbul, Gümüşhane, Hakkari, Batman ve Kayseri'dir.\n",
    "* Ağrı ilimiz %4 olan aşılama değerini %5'e çıkarmış ve yaşlı başına düşen covid-19 vakalı vatandaş sayısı 13'ten 9'a düşmüştür. Bu vaka sayısı Türkiye'nin genelindeki düşüşü de göze alırsak hala genelden 2-3 kat daha yukarıdadır. Ağrı ilinin verileri iyileşmiş olsada, Türkiye'nin genelinin bulunduğu seviyeden hala uzaktır.\n",
    "* Analizlerimizde iyileşme olarak İstanbulun artık genele daha da yakınlaştığı gözlemlenmektedir. Lakin bu yakınlaşma aşılanma oranından ziyade büyük ölçüde vaka sayısınız azalması sayesinde olmuştur.\n",
    "* Ağrı, Erzurum, Bitlis, Kars, Kocaeli, İstanbul ve Hakkari illerimiz Türkiye geneline göre hala kötü performans göstermektedir. Yaşlı başına düşen vaka sayıları yüksek olduğu halde diğer illerimize göre aşılama oranları düşüktür.\n",
    "\n",
    "Bu analizler şehirlerin nüfuslarının yoğunluğu göz önüne alınmayarak düzenlenmiştir ve covid19 tehdidini etkileyen birçok daha faktör vardır. Çalışmalarımı sadece Yaşlı nüfus oranı ile Aşılama oranı üzerinden yürütülmüştür."
   ]
  },
  {
   "cell_type": "code",
   "execution_count": null,
   "metadata": {},
   "outputs": [],
   "source": []
  }
 ],
 "metadata": {
  "kernelspec": {
   "display_name": "Python 3",
   "language": "python",
   "name": "python3"
  },
  "language_info": {
   "codemirror_mode": {
    "name": "ipython",
    "version": 3
   },
   "file_extension": ".py",
   "mimetype": "text/x-python",
   "name": "python",
   "nbconvert_exporter": "python",
   "pygments_lexer": "ipython3",
   "version": "3.7.2"
  }
 },
 "nbformat": 4,
 "nbformat_minor": 2
}
